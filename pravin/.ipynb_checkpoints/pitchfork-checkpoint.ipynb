{
 "cells": [
  {
   "cell_type": "code",
   "execution_count": 1,
   "metadata": {},
   "outputs": [],
   "source": [
    "import numpy as np\n",
    "import pandas as pd\n",
    "import matplotlib.pyplot as plt\n",
    "%matplotlib inline\n",
    "import seaborn as sns\n",
    "import os\n",
    "import sqlite3"
   ]
  },
  {
   "cell_type": "code",
   "execution_count": 2,
   "metadata": {},
   "outputs": [],
   "source": [
    "os.chdir(r'../Data')"
   ]
  },
  {
   "cell_type": "code",
   "execution_count": 3,
   "metadata": {},
   "outputs": [],
   "source": [
    "conn=sqlite3.connect('./database.sqlite')"
   ]
  },
  {
   "cell_type": "code",
   "execution_count": 4,
   "metadata": {},
   "outputs": [
    {
     "name": "stdout",
     "output_type": "stream",
     "text": [
      "   reviewid          artist\n",
      "0     22703  massive attack\n",
      "1     22721        krallice\n",
      "2     22659    uranium club\n",
      "3     22661         kleenex\n",
      "4     22661         liliput\n",
      "Index(['reviewid', 'artist'], dtype='object')\n"
     ]
    }
   ],
   "source": [
    "print(pd.read_sql_query('select * from artists',conn).head())\n",
    "# print(pd.read_sql_query('select * from artists',conn).columns.values)\n",
    "print(pd.read_sql_query('select * from artists',conn).columns)"
   ]
  },
  {
   "cell_type": "code",
   "execution_count": 5,
   "metadata": {},
   "outputs": [
    {
     "name": "stdout",
     "output_type": "stream",
     "text": [
      "   reviewid                                            content\n",
      "0     22703  “Trip-hop” eventually became a ’90s punchline,...\n",
      "1     22721  Eight years, five albums, and two EPs in, the ...\n",
      "2     22659  Minneapolis’ Uranium Club seem to revel in bei...\n",
      "3     22661  Kleenex began with a crash. It transpired one ...\n",
      "4     22725  It is impossible to consider a given release b...\n"
     ]
    }
   ],
   "source": [
    "print(pd.read_sql_query('select * from content',conn).head())"
   ]
  },
  {
   "cell_type": "code",
   "execution_count": 6,
   "metadata": {},
   "outputs": [
    {
     "data": {
      "text/html": [
       "<div>\n",
       "<style scoped>\n",
       "    .dataframe tbody tr th:only-of-type {\n",
       "        vertical-align: middle;\n",
       "    }\n",
       "\n",
       "    .dataframe tbody tr th {\n",
       "        vertical-align: top;\n",
       "    }\n",
       "\n",
       "    .dataframe thead th {\n",
       "        text-align: right;\n",
       "    }\n",
       "</style>\n",
       "<table border=\"1\" class=\"dataframe\">\n",
       "  <thead>\n",
       "    <tr style=\"text-align: right;\">\n",
       "      <th></th>\n",
       "      <th>reviewid</th>\n",
       "      <th>genre</th>\n",
       "    </tr>\n",
       "  </thead>\n",
       "  <tbody>\n",
       "    <tr>\n",
       "      <th>0</th>\n",
       "      <td>22703</td>\n",
       "      <td>electronic</td>\n",
       "    </tr>\n",
       "    <tr>\n",
       "      <th>1</th>\n",
       "      <td>22721</td>\n",
       "      <td>metal</td>\n",
       "    </tr>\n",
       "    <tr>\n",
       "      <th>2</th>\n",
       "      <td>22659</td>\n",
       "      <td>rock</td>\n",
       "    </tr>\n",
       "    <tr>\n",
       "      <th>3</th>\n",
       "      <td>22661</td>\n",
       "      <td>rock</td>\n",
       "    </tr>\n",
       "    <tr>\n",
       "      <th>4</th>\n",
       "      <td>22725</td>\n",
       "      <td>electronic</td>\n",
       "    </tr>\n",
       "  </tbody>\n",
       "</table>\n",
       "</div>"
      ],
      "text/plain": [
       "   reviewid       genre\n",
       "0     22703  electronic\n",
       "1     22721       metal\n",
       "2     22659        rock\n",
       "3     22661        rock\n",
       "4     22725  electronic"
      ]
     },
     "execution_count": 6,
     "metadata": {},
     "output_type": "execute_result"
    }
   ],
   "source": [
    "pd.read_sql_query('select * from genres',conn).head()"
   ]
  },
  {
   "cell_type": "code",
   "execution_count": 7,
   "metadata": {},
   "outputs": [
    {
     "data": {
      "text/html": [
       "<div>\n",
       "<style scoped>\n",
       "    .dataframe tbody tr th:only-of-type {\n",
       "        vertical-align: middle;\n",
       "    }\n",
       "\n",
       "    .dataframe tbody tr th {\n",
       "        vertical-align: top;\n",
       "    }\n",
       "\n",
       "    .dataframe thead th {\n",
       "        text-align: right;\n",
       "    }\n",
       "</style>\n",
       "<table border=\"1\" class=\"dataframe\">\n",
       "  <thead>\n",
       "    <tr style=\"text-align: right;\">\n",
       "      <th></th>\n",
       "      <th>reviewid</th>\n",
       "      <th>label</th>\n",
       "    </tr>\n",
       "  </thead>\n",
       "  <tbody>\n",
       "    <tr>\n",
       "      <th>0</th>\n",
       "      <td>22703</td>\n",
       "      <td>virgin</td>\n",
       "    </tr>\n",
       "    <tr>\n",
       "      <th>1</th>\n",
       "      <td>22721</td>\n",
       "      <td>hathenter</td>\n",
       "    </tr>\n",
       "    <tr>\n",
       "      <th>2</th>\n",
       "      <td>22659</td>\n",
       "      <td>static shock</td>\n",
       "    </tr>\n",
       "    <tr>\n",
       "      <th>3</th>\n",
       "      <td>22659</td>\n",
       "      <td>fashionable idiots</td>\n",
       "    </tr>\n",
       "    <tr>\n",
       "      <th>4</th>\n",
       "      <td>22661</td>\n",
       "      <td>kill rock stars</td>\n",
       "    </tr>\n",
       "  </tbody>\n",
       "</table>\n",
       "</div>"
      ],
      "text/plain": [
       "   reviewid               label\n",
       "0     22703              virgin\n",
       "1     22721           hathenter\n",
       "2     22659        static shock\n",
       "3     22659  fashionable idiots\n",
       "4     22661     kill rock stars"
      ]
     },
     "execution_count": 7,
     "metadata": {},
     "output_type": "execute_result"
    }
   ],
   "source": [
    "pd.read_sql_query('select * from labels',conn).head()"
   ]
  },
  {
   "cell_type": "code",
   "execution_count": 8,
   "metadata": {},
   "outputs": [
    {
     "data": {
      "text/html": [
       "<div>\n",
       "<style scoped>\n",
       "    .dataframe tbody tr th:only-of-type {\n",
       "        vertical-align: middle;\n",
       "    }\n",
       "\n",
       "    .dataframe tbody tr th {\n",
       "        vertical-align: top;\n",
       "    }\n",
       "\n",
       "    .dataframe thead th {\n",
       "        text-align: right;\n",
       "    }\n",
       "</style>\n",
       "<table border=\"1\" class=\"dataframe\">\n",
       "  <thead>\n",
       "    <tr style=\"text-align: right;\">\n",
       "      <th></th>\n",
       "      <th>reviewid</th>\n",
       "      <th>title</th>\n",
       "      <th>artist</th>\n",
       "      <th>url</th>\n",
       "      <th>score</th>\n",
       "      <th>best_new_music</th>\n",
       "      <th>author</th>\n",
       "      <th>author_type</th>\n",
       "      <th>pub_date</th>\n",
       "      <th>pub_weekday</th>\n",
       "      <th>pub_day</th>\n",
       "      <th>pub_month</th>\n",
       "      <th>pub_year</th>\n",
       "    </tr>\n",
       "  </thead>\n",
       "  <tbody>\n",
       "    <tr>\n",
       "      <th>0</th>\n",
       "      <td>22703</td>\n",
       "      <td>mezzanine</td>\n",
       "      <td>massive attack</td>\n",
       "      <td>http://pitchfork.com/reviews/albums/22703-mezz...</td>\n",
       "      <td>9.3</td>\n",
       "      <td>0</td>\n",
       "      <td>nate patrin</td>\n",
       "      <td>contributor</td>\n",
       "      <td>2017-01-08</td>\n",
       "      <td>6</td>\n",
       "      <td>8</td>\n",
       "      <td>1</td>\n",
       "      <td>2017</td>\n",
       "    </tr>\n",
       "    <tr>\n",
       "      <th>1</th>\n",
       "      <td>22721</td>\n",
       "      <td>prelapsarian</td>\n",
       "      <td>krallice</td>\n",
       "      <td>http://pitchfork.com/reviews/albums/22721-prel...</td>\n",
       "      <td>7.9</td>\n",
       "      <td>0</td>\n",
       "      <td>zoe camp</td>\n",
       "      <td>contributor</td>\n",
       "      <td>2017-01-07</td>\n",
       "      <td>5</td>\n",
       "      <td>7</td>\n",
       "      <td>1</td>\n",
       "      <td>2017</td>\n",
       "    </tr>\n",
       "    <tr>\n",
       "      <th>2</th>\n",
       "      <td>22659</td>\n",
       "      <td>all of them naturals</td>\n",
       "      <td>uranium club</td>\n",
       "      <td>http://pitchfork.com/reviews/albums/22659-all-...</td>\n",
       "      <td>7.3</td>\n",
       "      <td>0</td>\n",
       "      <td>david glickman</td>\n",
       "      <td>contributor</td>\n",
       "      <td>2017-01-07</td>\n",
       "      <td>5</td>\n",
       "      <td>7</td>\n",
       "      <td>1</td>\n",
       "      <td>2017</td>\n",
       "    </tr>\n",
       "    <tr>\n",
       "      <th>3</th>\n",
       "      <td>22661</td>\n",
       "      <td>first songs</td>\n",
       "      <td>kleenex, liliput</td>\n",
       "      <td>http://pitchfork.com/reviews/albums/22661-firs...</td>\n",
       "      <td>9.0</td>\n",
       "      <td>1</td>\n",
       "      <td>jenn pelly</td>\n",
       "      <td>associate reviews editor</td>\n",
       "      <td>2017-01-06</td>\n",
       "      <td>4</td>\n",
       "      <td>6</td>\n",
       "      <td>1</td>\n",
       "      <td>2017</td>\n",
       "    </tr>\n",
       "    <tr>\n",
       "      <th>4</th>\n",
       "      <td>22725</td>\n",
       "      <td>new start</td>\n",
       "      <td>taso</td>\n",
       "      <td>http://pitchfork.com/reviews/albums/22725-new-...</td>\n",
       "      <td>8.1</td>\n",
       "      <td>0</td>\n",
       "      <td>kevin lozano</td>\n",
       "      <td>tracks coordinator</td>\n",
       "      <td>2017-01-06</td>\n",
       "      <td>4</td>\n",
       "      <td>6</td>\n",
       "      <td>1</td>\n",
       "      <td>2017</td>\n",
       "    </tr>\n",
       "  </tbody>\n",
       "</table>\n",
       "</div>"
      ],
      "text/plain": [
       "   reviewid                 title            artist  \\\n",
       "0     22703             mezzanine    massive attack   \n",
       "1     22721          prelapsarian          krallice   \n",
       "2     22659  all of them naturals      uranium club   \n",
       "3     22661           first songs  kleenex, liliput   \n",
       "4     22725             new start              taso   \n",
       "\n",
       "                                                 url  score  best_new_music  \\\n",
       "0  http://pitchfork.com/reviews/albums/22703-mezz...    9.3               0   \n",
       "1  http://pitchfork.com/reviews/albums/22721-prel...    7.9               0   \n",
       "2  http://pitchfork.com/reviews/albums/22659-all-...    7.3               0   \n",
       "3  http://pitchfork.com/reviews/albums/22661-firs...    9.0               1   \n",
       "4  http://pitchfork.com/reviews/albums/22725-new-...    8.1               0   \n",
       "\n",
       "           author               author_type    pub_date  pub_weekday  pub_day  \\\n",
       "0     nate patrin               contributor  2017-01-08            6        8   \n",
       "1        zoe camp               contributor  2017-01-07            5        7   \n",
       "2  david glickman               contributor  2017-01-07            5        7   \n",
       "3      jenn pelly  associate reviews editor  2017-01-06            4        6   \n",
       "4    kevin lozano        tracks coordinator  2017-01-06            4        6   \n",
       "\n",
       "   pub_month  pub_year  \n",
       "0          1      2017  \n",
       "1          1      2017  \n",
       "2          1      2017  \n",
       "3          1      2017  \n",
       "4          1      2017  "
      ]
     },
     "execution_count": 8,
     "metadata": {},
     "output_type": "execute_result"
    }
   ],
   "source": [
    "reviews=pd.read_sql_query('select * from reviews',conn)\n",
    "reviews.head()"
   ]
  },
  {
   "cell_type": "code",
   "execution_count": 9,
   "metadata": {
    "scrolled": true
   },
   "outputs": [
    {
     "name": "stdout",
     "output_type": "stream",
     "text": [
      "<class 'pandas.core.frame.DataFrame'>\n",
      "RangeIndex: 18393 entries, 0 to 18392\n",
      "Data columns (total 13 columns):\n",
      " #   Column          Non-Null Count  Dtype  \n",
      "---  ------          --------------  -----  \n",
      " 0   reviewid        18393 non-null  int64  \n",
      " 1   title           18393 non-null  object \n",
      " 2   artist          18393 non-null  object \n",
      " 3   url             18393 non-null  object \n",
      " 4   score           18393 non-null  float64\n",
      " 5   best_new_music  18393 non-null  int64  \n",
      " 6   author          18393 non-null  object \n",
      " 7   author_type     14487 non-null  object \n",
      " 8   pub_date        18393 non-null  object \n",
      " 9   pub_weekday     18393 non-null  int64  \n",
      " 10  pub_day         18393 non-null  int64  \n",
      " 11  pub_month       18393 non-null  int64  \n",
      " 12  pub_year        18393 non-null  int64  \n",
      "dtypes: float64(1), int64(6), object(6)\n",
      "memory usage: 1.8+ MB\n"
     ]
    }
   ],
   "source": [
    "reviews.info()"
   ]
  },
  {
   "cell_type": "code",
   "execution_count": 10,
   "metadata": {},
   "outputs": [
    {
     "data": {
      "text/plain": [
       "<matplotlib.axes._subplots.AxesSubplot at 0x13541421d08>"
      ]
     },
     "execution_count": 10,
     "metadata": {},
     "output_type": "execute_result"
    },
    {
     "data": {
      "image/png": "[encoded data removed]",
      "text/plain": [
       "<Figure size 1440x720 with 2 Axes>"
      ]
     },
     "metadata": {
      "needs_background": "light"
     },
     "output_type": "display_data"
    }
   ],
   "source": [
    "import missingno\n",
    "missingno.matrix(reviews,figsize=(20,10))"
   ]
  },
  {
   "cell_type": "code",
   "execution_count": 11,
   "metadata": {},
   "outputs": [
    {
     "data": {
      "text/plain": [
       "0    17450\n",
       "1      943\n",
       "Name: best_new_music, dtype: int64"
      ]
     },
     "execution_count": 11,
     "metadata": {},
     "output_type": "execute_result"
    }
   ],
   "source": [
    "reviews['best_new_music'].value_counts()"
   ]
  },
  {
   "cell_type": "code",
   "execution_count": 12,
   "metadata": {},
   "outputs": [
    {
     "data": {
      "text/html": [
       "<div>\n",
       "<style scoped>\n",
       "    .dataframe tbody tr th:only-of-type {\n",
       "        vertical-align: middle;\n",
       "    }\n",
       "\n",
       "    .dataframe tbody tr th {\n",
       "        vertical-align: top;\n",
       "    }\n",
       "\n",
       "    .dataframe thead th {\n",
       "        text-align: right;\n",
       "    }\n",
       "</style>\n",
       "<table border=\"1\" class=\"dataframe\">\n",
       "  <thead>\n",
       "    <tr style=\"text-align: right;\">\n",
       "      <th></th>\n",
       "      <th>reviewid</th>\n",
       "      <th>year</th>\n",
       "    </tr>\n",
       "  </thead>\n",
       "  <tbody>\n",
       "    <tr>\n",
       "      <th>0</th>\n",
       "      <td>22703</td>\n",
       "      <td>1998.0</td>\n",
       "    </tr>\n",
       "    <tr>\n",
       "      <th>1</th>\n",
       "      <td>22721</td>\n",
       "      <td>2016.0</td>\n",
       "    </tr>\n",
       "    <tr>\n",
       "      <th>2</th>\n",
       "      <td>22659</td>\n",
       "      <td>2016.0</td>\n",
       "    </tr>\n",
       "    <tr>\n",
       "      <th>3</th>\n",
       "      <td>22661</td>\n",
       "      <td>2016.0</td>\n",
       "    </tr>\n",
       "    <tr>\n",
       "      <th>4</th>\n",
       "      <td>22725</td>\n",
       "      <td>2016.0</td>\n",
       "    </tr>\n",
       "  </tbody>\n",
       "</table>\n",
       "</div>"
      ],
      "text/plain": [
       "   reviewid    year\n",
       "0     22703  1998.0\n",
       "1     22721  2016.0\n",
       "2     22659  2016.0\n",
       "3     22661  2016.0\n",
       "4     22725  2016.0"
      ]
     },
     "execution_count": 12,
     "metadata": {},
     "output_type": "execute_result"
    }
   ],
   "source": [
    "pd.read_sql_query('select * from years',conn).head()"
   ]
  },
  {
   "cell_type": "code",
   "execution_count": 13,
   "metadata": {},
   "outputs": [
    {
     "data": {
      "text/html": [
       "<div>\n",
       "<style scoped>\n",
       "    .dataframe tbody tr th:only-of-type {\n",
       "        vertical-align: middle;\n",
       "    }\n",
       "\n",
       "    .dataframe tbody tr th {\n",
       "        vertical-align: top;\n",
       "    }\n",
       "\n",
       "    .dataframe thead th {\n",
       "        text-align: right;\n",
       "    }\n",
       "</style>\n",
       "<table border=\"1\" class=\"dataframe\">\n",
       "  <thead>\n",
       "    <tr style=\"text-align: right;\">\n",
       "      <th></th>\n",
       "      <th>reviewid</th>\n",
       "      <th>title</th>\n",
       "      <th>artist</th>\n",
       "      <th>url</th>\n",
       "      <th>score</th>\n",
       "      <th>best_new_music</th>\n",
       "      <th>author</th>\n",
       "      <th>author_type</th>\n",
       "      <th>pub_date</th>\n",
       "      <th>pub_weekday</th>\n",
       "      <th>pub_day</th>\n",
       "      <th>pub_month</th>\n",
       "      <th>pub_year</th>\n",
       "      <th>genre</th>\n",
       "      <th>label</th>\n",
       "    </tr>\n",
       "  </thead>\n",
       "  <tbody>\n",
       "    <tr>\n",
       "      <th>0</th>\n",
       "      <td>22703</td>\n",
       "      <td>mezzanine</td>\n",
       "      <td>massive attack</td>\n",
       "      <td>http://pitchfork.com/reviews/albums/22703-mezz...</td>\n",
       "      <td>9.3</td>\n",
       "      <td>0</td>\n",
       "      <td>nate patrin</td>\n",
       "      <td>contributor</td>\n",
       "      <td>2017-01-08</td>\n",
       "      <td>6</td>\n",
       "      <td>8</td>\n",
       "      <td>1</td>\n",
       "      <td>2017</td>\n",
       "      <td>electronic</td>\n",
       "      <td>virgin</td>\n",
       "    </tr>\n",
       "    <tr>\n",
       "      <th>1</th>\n",
       "      <td>22721</td>\n",
       "      <td>prelapsarian</td>\n",
       "      <td>krallice</td>\n",
       "      <td>http://pitchfork.com/reviews/albums/22721-prel...</td>\n",
       "      <td>7.9</td>\n",
       "      <td>0</td>\n",
       "      <td>zoe camp</td>\n",
       "      <td>contributor</td>\n",
       "      <td>2017-01-07</td>\n",
       "      <td>5</td>\n",
       "      <td>7</td>\n",
       "      <td>1</td>\n",
       "      <td>2017</td>\n",
       "      <td>metal</td>\n",
       "      <td>hathenter</td>\n",
       "    </tr>\n",
       "    <tr>\n",
       "      <th>2</th>\n",
       "      <td>22659</td>\n",
       "      <td>all of them naturals</td>\n",
       "      <td>uranium club</td>\n",
       "      <td>http://pitchfork.com/reviews/albums/22659-all-...</td>\n",
       "      <td>7.3</td>\n",
       "      <td>0</td>\n",
       "      <td>david glickman</td>\n",
       "      <td>contributor</td>\n",
       "      <td>2017-01-07</td>\n",
       "      <td>5</td>\n",
       "      <td>7</td>\n",
       "      <td>1</td>\n",
       "      <td>2017</td>\n",
       "      <td>rock</td>\n",
       "      <td>fashionable idiots</td>\n",
       "    </tr>\n",
       "    <tr>\n",
       "      <th>3</th>\n",
       "      <td>22659</td>\n",
       "      <td>all of them naturals</td>\n",
       "      <td>uranium club</td>\n",
       "      <td>http://pitchfork.com/reviews/albums/22659-all-...</td>\n",
       "      <td>7.3</td>\n",
       "      <td>0</td>\n",
       "      <td>david glickman</td>\n",
       "      <td>contributor</td>\n",
       "      <td>2017-01-07</td>\n",
       "      <td>5</td>\n",
       "      <td>7</td>\n",
       "      <td>1</td>\n",
       "      <td>2017</td>\n",
       "      <td>rock</td>\n",
       "      <td>static shock</td>\n",
       "    </tr>\n",
       "    <tr>\n",
       "      <th>4</th>\n",
       "      <td>22661</td>\n",
       "      <td>first songs</td>\n",
       "      <td>kleenex, liliput</td>\n",
       "      <td>http://pitchfork.com/reviews/albums/22661-firs...</td>\n",
       "      <td>9.0</td>\n",
       "      <td>1</td>\n",
       "      <td>jenn pelly</td>\n",
       "      <td>associate reviews editor</td>\n",
       "      <td>2017-01-06</td>\n",
       "      <td>4</td>\n",
       "      <td>6</td>\n",
       "      <td>1</td>\n",
       "      <td>2017</td>\n",
       "      <td>rock</td>\n",
       "      <td>kill rock stars</td>\n",
       "    </tr>\n",
       "  </tbody>\n",
       "</table>\n",
       "</div>"
      ],
      "text/plain": [
       "   reviewid                 title            artist  \\\n",
       "0     22703             mezzanine    massive attack   \n",
       "1     22721          prelapsarian          krallice   \n",
       "2     22659  all of them naturals      uranium club   \n",
       "3     22659  all of them naturals      uranium club   \n",
       "4     22661           first songs  kleenex, liliput   \n",
       "\n",
       "                                                 url  score  best_new_music  \\\n",
       "0  http://pitchfork.com/reviews/albums/22703-mezz...    9.3               0   \n",
       "1  http://pitchfork.com/reviews/albums/22721-prel...    7.9               0   \n",
       "2  http://pitchfork.com/reviews/albums/22659-all-...    7.3               0   \n",
       "3  http://pitchfork.com/reviews/albums/22659-all-...    7.3               0   \n",
       "4  http://pitchfork.com/reviews/albums/22661-firs...    9.0               1   \n",
       "\n",
       "           author               author_type    pub_date  pub_weekday  pub_day  \\\n",
       "0     nate patrin               contributor  2017-01-08            6        8   \n",
       "1        zoe camp               contributor  2017-01-07            5        7   \n",
       "2  david glickman               contributor  2017-01-07            5        7   \n",
       "3  david glickman               contributor  2017-01-07            5        7   \n",
       "4      jenn pelly  associate reviews editor  2017-01-06            4        6   \n",
       "\n",
       "   pub_month  pub_year       genre               label  \n",
       "0          1      2017  electronic              virgin  \n",
       "1          1      2017       metal           hathenter  \n",
       "2          1      2017        rock  fashionable idiots  \n",
       "3          1      2017        rock        static shock  \n",
       "4          1      2017        rock     kill rock stars  "
      ]
     },
     "execution_count": 13,
     "metadata": {},
     "output_type": "execute_result"
    }
   ],
   "source": [
    "df=pd.read_sql_query(\"select r.*,g.genre,l.label from reviews r left join labels l on r.reviewid=l.reviewid left join genres g on r.reviewid=g.reviewid\",conn)\n",
    "df.head()"
   ]
  },
  {
   "cell_type": "code",
   "execution_count": 14,
   "metadata": {},
   "outputs": [],
   "source": [
    "conn.close()"
   ]
  },
  {
   "cell_type": "code",
   "execution_count": 15,
   "metadata": {
    "scrolled": true
   },
   "outputs": [],
   "source": [
    "#df=pd.read_sql_query(\"select r.reviewid,r.title,r.artist,r.url,r.score,r.best_new_music,r.author,r.author_type,r.pub_date,r.pub_weekday,r.pub_day,r.pub_month,r.pub_year,y.year from reviews r left join years y on r.reviewid=y.reviewid left join labels l on r.reviewid=l.reviewid left join genres g on r.reviewid=g.reviewid left join content c on r.reviewid=c.reviewid\",conn)\n",
    "#df.head()"
   ]
  },
  {
   "cell_type": "code",
   "execution_count": 16,
   "metadata": {},
   "outputs": [
    {
     "data": {
      "text/plain": [
       "<matplotlib.axes._subplots.AxesSubplot at 0x135438c5d88>"
      ]
     },
     "execution_count": 16,
     "metadata": {},
     "output_type": "execute_result"
    },
    {
     "data": {
      "image/png": "[encoded data removed]",
      "text/plain": [
       "<Figure size 1440x720 with 2 Axes>"
      ]
     },
     "metadata": {
      "needs_background": "light"
     },
     "output_type": "display_data"
    }
   ],
   "source": [
    "import missingno\n",
    "missingno.matrix(df,figsize=(20,10))"
   ]
  },
  {
   "cell_type": "code",
   "execution_count": 17,
   "metadata": {},
   "outputs": [
    {
     "data": {
      "text/plain": [
       "reviewid             0\n",
       "title                0\n",
       "artist               0\n",
       "url                  0\n",
       "score                0\n",
       "best_new_music       0\n",
       "author               0\n",
       "author_type       5422\n",
       "pub_date             0\n",
       "pub_weekday          0\n",
       "pub_day              0\n",
       "pub_month            0\n",
       "pub_year             0\n",
       "genre             2553\n",
       "label               40\n",
       "dtype: int64"
      ]
     },
     "execution_count": 17,
     "metadata": {},
     "output_type": "execute_result"
    }
   ],
   "source": [
    "df.isnull().sum()"
   ]
  },
  {
   "cell_type": "code",
   "execution_count": 18,
   "metadata": {},
   "outputs": [],
   "source": [
    "df=df.drop(['reviewid','title','url','pub_date'],axis=1)"
   ]
  },
  {
   "cell_type": "code",
   "execution_count": 19,
   "metadata": {
    "scrolled": true
   },
   "outputs": [
    {
     "data": {
      "text/html": [
       "<div>\n",
       "<style scoped>\n",
       "    .dataframe tbody tr th:only-of-type {\n",
       "        vertical-align: middle;\n",
       "    }\n",
       "\n",
       "    .dataframe tbody tr th {\n",
       "        vertical-align: top;\n",
       "    }\n",
       "\n",
       "    .dataframe thead th {\n",
       "        text-align: right;\n",
       "    }\n",
       "</style>\n",
       "<table border=\"1\" class=\"dataframe\">\n",
       "  <thead>\n",
       "    <tr style=\"text-align: right;\">\n",
       "      <th></th>\n",
       "      <th>artist</th>\n",
       "      <th>score</th>\n",
       "      <th>best_new_music</th>\n",
       "      <th>author</th>\n",
       "      <th>author_type</th>\n",
       "      <th>pub_weekday</th>\n",
       "      <th>pub_day</th>\n",
       "      <th>pub_month</th>\n",
       "      <th>pub_year</th>\n",
       "      <th>genre</th>\n",
       "      <th>label</th>\n",
       "    </tr>\n",
       "  </thead>\n",
       "  <tbody>\n",
       "    <tr>\n",
       "      <th>0</th>\n",
       "      <td>massive attack</td>\n",
       "      <td>9.3</td>\n",
       "      <td>0</td>\n",
       "      <td>nate patrin</td>\n",
       "      <td>contributor</td>\n",
       "      <td>6</td>\n",
       "      <td>8</td>\n",
       "      <td>1</td>\n",
       "      <td>2017</td>\n",
       "      <td>electronic</td>\n",
       "      <td>virgin</td>\n",
       "    </tr>\n",
       "    <tr>\n",
       "      <th>1</th>\n",
       "      <td>krallice</td>\n",
       "      <td>7.9</td>\n",
       "      <td>0</td>\n",
       "      <td>zoe camp</td>\n",
       "      <td>contributor</td>\n",
       "      <td>5</td>\n",
       "      <td>7</td>\n",
       "      <td>1</td>\n",
       "      <td>2017</td>\n",
       "      <td>metal</td>\n",
       "      <td>hathenter</td>\n",
       "    </tr>\n",
       "    <tr>\n",
       "      <th>2</th>\n",
       "      <td>uranium club</td>\n",
       "      <td>7.3</td>\n",
       "      <td>0</td>\n",
       "      <td>david glickman</td>\n",
       "      <td>contributor</td>\n",
       "      <td>5</td>\n",
       "      <td>7</td>\n",
       "      <td>1</td>\n",
       "      <td>2017</td>\n",
       "      <td>rock</td>\n",
       "      <td>fashionable idiots</td>\n",
       "    </tr>\n",
       "    <tr>\n",
       "      <th>3</th>\n",
       "      <td>uranium club</td>\n",
       "      <td>7.3</td>\n",
       "      <td>0</td>\n",
       "      <td>david glickman</td>\n",
       "      <td>contributor</td>\n",
       "      <td>5</td>\n",
       "      <td>7</td>\n",
       "      <td>1</td>\n",
       "      <td>2017</td>\n",
       "      <td>rock</td>\n",
       "      <td>static shock</td>\n",
       "    </tr>\n",
       "    <tr>\n",
       "      <th>4</th>\n",
       "      <td>kleenex, liliput</td>\n",
       "      <td>9.0</td>\n",
       "      <td>1</td>\n",
       "      <td>jenn pelly</td>\n",
       "      <td>associate reviews editor</td>\n",
       "      <td>4</td>\n",
       "      <td>6</td>\n",
       "      <td>1</td>\n",
       "      <td>2017</td>\n",
       "      <td>rock</td>\n",
       "      <td>kill rock stars</td>\n",
       "    </tr>\n",
       "  </tbody>\n",
       "</table>\n",
       "</div>"
      ],
      "text/plain": [
       "             artist  score  best_new_music          author  \\\n",
       "0    massive attack    9.3               0     nate patrin   \n",
       "1          krallice    7.9               0        zoe camp   \n",
       "2      uranium club    7.3               0  david glickman   \n",
       "3      uranium club    7.3               0  david glickman   \n",
       "4  kleenex, liliput    9.0               1      jenn pelly   \n",
       "\n",
       "                author_type  pub_weekday  pub_day  pub_month  pub_year  \\\n",
       "0               contributor            6        8          1      2017   \n",
       "1               contributor            5        7          1      2017   \n",
       "2               contributor            5        7          1      2017   \n",
       "3               contributor            5        7          1      2017   \n",
       "4  associate reviews editor            4        6          1      2017   \n",
       "\n",
       "        genre               label  \n",
       "0  electronic              virgin  \n",
       "1       metal           hathenter  \n",
       "2        rock  fashionable idiots  \n",
       "3        rock        static shock  \n",
       "4        rock     kill rock stars  "
      ]
     },
     "execution_count": 19,
     "metadata": {},
     "output_type": "execute_result"
    }
   ],
   "source": [
    "df.head()"
   ]
  },
  {
   "cell_type": "markdown",
   "metadata": {},
   "source": [
    "# Features"
   ]
  },
  {
   "cell_type": "markdown",
   "metadata": {},
   "source": [
    "## Artists"
   ]
  },
  {
   "cell_type": "code",
   "execution_count": 20,
   "metadata": {
    "scrolled": true
   },
   "outputs": [
    {
     "data": {
      "text/plain": [
       "various artists         769\n",
       "xiu xiu                  40\n",
       "deerhoof                 34\n",
       "animal collective        34\n",
       "saint etienne            31\n",
       "                       ... \n",
       "quarterbacks              1\n",
       "felicita                  1\n",
       "ariel kalma               1\n",
       "capitol city dusters      1\n",
       "eleven tigers             1\n",
       "Name: artist, Length: 8715, dtype: int64"
      ]
     },
     "execution_count": 20,
     "metadata": {},
     "output_type": "execute_result"
    }
   ],
   "source": [
    "df['artist'].value_counts()"
   ]
  },
  {
   "cell_type": "markdown",
   "metadata": {},
   "source": [
    "## Score"
   ]
  },
  {
   "cell_type": "code",
   "execution_count": 21,
   "metadata": {
    "scrolled": false
   },
   "outputs": [
    {
     "data": {
      "text/plain": [
       "0        9.3\n",
       "1        7.9\n",
       "2        7.3\n",
       "3        7.3\n",
       "4        9.0\n",
       "        ... \n",
       "24904    6.3\n",
       "24905    7.2\n",
       "24906    7.2\n",
       "24907    7.2\n",
       "24908    6.5\n",
       "Name: score, Length: 24909, dtype: float64"
      ]
     },
     "execution_count": 21,
     "metadata": {},
     "output_type": "execute_result"
    }
   ],
   "source": [
    "df['score']"
   ]
  },
  {
   "cell_type": "code",
   "execution_count": 22,
   "metadata": {
    "scrolled": false
   },
   "outputs": [
    {
     "data": {
      "text/plain": [
       "<matplotlib.axes._subplots.AxesSubplot at 0x135411f6b48>"
      ]
     },
     "execution_count": 22,
     "metadata": {},
     "output_type": "execute_result"
    },
    {
     "data": {
      "image/png": "[encoded data removed]",
      "text/plain": [
       "<Figure size 432x288 with 1 Axes>"
      ]
     },
     "metadata": {
      "needs_background": "light"
     },
     "output_type": "display_data"
    }
   ],
   "source": [
    "sns.distplot(df['score'],bins=10)"
   ]
  },
  {
   "cell_type": "code",
   "execution_count": 23,
   "metadata": {},
   "outputs": [
    {
     "data": {
      "image/png": "[encoded data removed]",
      "text/plain": [
       "<Figure size 432x288 with 1 Axes>"
      ]
     },
     "metadata": {
      "needs_background": "light"
     },
     "output_type": "display_data"
    }
   ],
   "source": [
    "sns.distplot(a=df.score,bins=10,hist=True,kde=True,rug=True);\n"
   ]
  },
  {
   "cell_type": "code",
   "execution_count": 24,
   "metadata": {},
   "outputs": [
    {
     "data": {
      "text/plain": [
       "(-0.011, 1.0]      47\n",
       "(1.0, 2.0]        105\n",
       "(2.0, 3.0]        259\n",
       "(9.0, 10.0]       512\n",
       "(3.0, 4.0]        560\n",
       "(4.0, 5.0]       1116\n",
       "(5.0, 6.0]       2743\n",
       "(8.0, 9.0]       3613\n",
       "(6.0, 7.0]       6251\n",
       "(7.0, 8.0]       9703\n",
       "Name: score, dtype: int64"
      ]
     },
     "execution_count": 24,
     "metadata": {},
     "output_type": "execute_result"
    }
   ],
   "source": [
    "df['score'].value_counts(bins=10,ascending=True)"
   ]
  },
  {
   "cell_type": "markdown",
   "metadata": {},
   "source": [
    "## Best New Music"
   ]
  },
  {
   "cell_type": "code",
   "execution_count": 25,
   "metadata": {},
   "outputs": [
    {
     "data": {
      "text/plain": [
       "0    23559\n",
       "1     1350\n",
       "Name: best_new_music, dtype: int64"
      ]
     },
     "execution_count": 25,
     "metadata": {},
     "output_type": "execute_result"
    }
   ],
   "source": [
    "df['best_new_music'].value_counts()"
   ]
  },
  {
   "cell_type": "code",
   "execution_count": 26,
   "metadata": {
    "scrolled": true
   },
   "outputs": [
    {
     "data": {
      "image/png": "[encoded data removed]",
      "text/plain": [
       "<Figure size 432x288 with 1 Axes>"
      ]
     },
     "metadata": {
      "needs_background": "light"
     },
     "output_type": "display_data"
    }
   ],
   "source": [
    "sns.distplot(df[df['best_new_music']==0]['score'])\n",
    "sns.distplot(df[df['best_new_music']==1]['score'])\n",
    "plt.legend(labels=['Not Won','Won'])\n",
    "plt.show()"
   ]
  },
  {
   "cell_type": "code",
   "execution_count": 27,
   "metadata": {
    "scrolled": false
   },
   "outputs": [
    {
     "data": {
      "text/plain": [
       "<matplotlib.axes._subplots.AxesSubplot at 0x135450516c8>"
      ]
     },
     "execution_count": 27,
     "metadata": {},
     "output_type": "execute_result"
    },
    {
     "data": {
      "image/png": "[encoded data removed]",
      "text/plain": [
       "<Figure size 432x288 with 1 Axes>"
      ]
     },
     "metadata": {
      "needs_background": "light"
     },
     "output_type": "display_data"
    }
   ],
   "source": [
    "plt.figure()\n",
    "sns.boxplot(y='score',x='best_new_music',hue='best_new_music',data=df)"
   ]
  },
  {
   "cell_type": "code",
   "execution_count": 28,
   "metadata": {
    "scrolled": true
   },
   "outputs": [
    {
     "data": {
      "text/html": [
       "<div>\n",
       "<style scoped>\n",
       "    .dataframe tbody tr th:only-of-type {\n",
       "        vertical-align: middle;\n",
       "    }\n",
       "\n",
       "    .dataframe tbody tr th {\n",
       "        vertical-align: top;\n",
       "    }\n",
       "\n",
       "    .dataframe thead th {\n",
       "        text-align: right;\n",
       "    }\n",
       "</style>\n",
       "<table border=\"1\" class=\"dataframe\">\n",
       "  <thead>\n",
       "    <tr style=\"text-align: right;\">\n",
       "      <th></th>\n",
       "      <th>artist</th>\n",
       "      <th>score</th>\n",
       "      <th>best_new_music</th>\n",
       "      <th>author</th>\n",
       "      <th>author_type</th>\n",
       "      <th>pub_weekday</th>\n",
       "      <th>pub_day</th>\n",
       "      <th>pub_month</th>\n",
       "      <th>pub_year</th>\n",
       "      <th>genre</th>\n",
       "      <th>label</th>\n",
       "    </tr>\n",
       "  </thead>\n",
       "  <tbody>\n",
       "    <tr>\n",
       "      <th>9418</th>\n",
       "      <td>weezer</td>\n",
       "      <td>3.5</td>\n",
       "      <td>1</td>\n",
       "      <td>ian cohen</td>\n",
       "      <td>contributor</td>\n",
       "      <td>2</td>\n",
       "      <td>3</td>\n",
       "      <td>11</td>\n",
       "      <td>2010</td>\n",
       "      <td>rock</td>\n",
       "      <td>geffen</td>\n",
       "    </tr>\n",
       "  </tbody>\n",
       "</table>\n",
       "</div>"
      ],
      "text/plain": [
       "      artist  score  best_new_music     author  author_type  pub_weekday  \\\n",
       "9418  weezer    3.5               1  ian cohen  contributor            2   \n",
       "\n",
       "      pub_day  pub_month  pub_year genre   label  \n",
       "9418        3         11      2010  rock  geffen  "
      ]
     },
     "execution_count": 28,
     "metadata": {},
     "output_type": "execute_result"
    }
   ],
   "source": [
    "df[(df['score']<4)&(df['best_new_music']==1)]"
   ]
  },
  {
   "cell_type": "code",
   "execution_count": 29,
   "metadata": {},
   "outputs": [],
   "source": [
    "df=df.drop([9418],axis=0)"
   ]
  },
  {
   "cell_type": "markdown",
   "metadata": {},
   "source": [
    "## Author"
   ]
  },
  {
   "cell_type": "code",
   "execution_count": 30,
   "metadata": {
    "scrolled": true
   },
   "outputs": [
    {
     "data": {
      "text/plain": [
       "joe tangari           1079\n",
       "ian cohen              960\n",
       "stephen m. deusner     849\n",
       "brian howe             688\n",
       "mark richardson        657\n",
       "                      ... \n",
       "alex lindhart            1\n",
       "minna zhou               1\n",
       "zach vowell              1\n",
       "philip sherburne         1\n",
       "drew gaerig              1\n",
       "Name: author, Length: 432, dtype: int64"
      ]
     },
     "execution_count": 30,
     "metadata": {},
     "output_type": "execute_result"
    }
   ],
   "source": [
    "df['author'].value_counts(dropna=False)"
   ]
  },
  {
   "cell_type": "code",
   "execution_count": 31,
   "metadata": {
    "scrolled": true
   },
   "outputs": [
    {
     "data": {
      "text/plain": [
       "joe tangari            781\n",
       "mark richardson        468\n",
       "stephen m. deusner     466\n",
       "brian howe             403\n",
       "marc masters           344\n",
       "                      ... \n",
       "sean t. collins          1\n",
       "matthew ismael ruiz      1\n",
       "sara sherr               1\n",
       "alexander iadarola       1\n",
       "matt wellins             1\n",
       "Name: author, Length: 388, dtype: int64"
      ]
     },
     "execution_count": 31,
     "metadata": {},
     "output_type": "execute_result"
    }
   ],
   "source": [
    "df[df['score']>7]['author'].value_counts()"
   ]
  },
  {
   "cell_type": "markdown",
   "metadata": {},
   "source": [
    "## Author Type"
   ]
  },
  {
   "cell_type": "code",
   "execution_count": 32,
   "metadata": {
    "scrolled": true
   },
   "outputs": [
    {
     "data": {
      "text/plain": [
       "contributor                  16709\n",
       "NaN                           5422\n",
       "senior editor                  669\n",
       "executive editor               655\n",
       "senior staff writer            625\n",
       "contributing editor            237\n",
       "editor-in-chief                133\n",
       "deputy news editor             129\n",
       "associate staff writer         120\n",
       "associate reviews editor        56\n",
       "tracks coordinator              55\n",
       "associate editor                54\n",
       "assistant editor                19\n",
       "associate features editor       17\n",
       "news director                    5\n",
       "managing editor                  3\n",
       "Name: author_type, dtype: int64"
      ]
     },
     "execution_count": 32,
     "metadata": {},
     "output_type": "execute_result"
    }
   ],
   "source": [
    "df['author_type'].value_counts(dropna=False)"
   ]
  },
  {
   "cell_type": "code",
   "execution_count": 33,
   "metadata": {
    "scrolled": false
   },
   "outputs": [
    {
     "data": {
      "text/plain": [
       "<matplotlib.axes._subplots.AxesSubplot at 0x135452ac348>"
      ]
     },
     "execution_count": 33,
     "metadata": {},
     "output_type": "execute_result"
    },
    {
     "data": {
      "image/png": "[encoded data removed]",
      "text/plain": [
       "<Figure size 2160x576 with 1 Axes>"
      ]
     },
     "metadata": {
      "needs_background": "light"
     },
     "output_type": "display_data"
    }
   ],
   "source": [
    "plt.figure(figsize=(30,8))\n",
    "sns.boxplot(x='author_type',data=df,y='score')"
   ]
  },
  {
   "cell_type": "code",
   "execution_count": 34,
   "metadata": {},
   "outputs": [],
   "source": [
    "df['author_type']=df['author_type'].fillna(df['author_type'].mode()[0])"
   ]
  },
  {
   "cell_type": "code",
   "execution_count": 35,
   "metadata": {},
   "outputs": [
    {
     "data": {
      "text/plain": [
       "artist               0\n",
       "score                0\n",
       "best_new_music       0\n",
       "author               0\n",
       "author_type          0\n",
       "pub_weekday          0\n",
       "pub_day              0\n",
       "pub_month            0\n",
       "pub_year             0\n",
       "genre             2553\n",
       "label               40\n",
       "dtype: int64"
      ]
     },
     "execution_count": 35,
     "metadata": {},
     "output_type": "execute_result"
    }
   ],
   "source": [
    "df.isnull().sum()"
   ]
  },
  {
   "cell_type": "markdown",
   "metadata": {},
   "source": [
    "## Date\n",
    "### pub_weekday,pub_day,pub_month,pub_year"
   ]
  },
  {
   "cell_type": "code",
   "execution_count": 36,
   "metadata": {
    "scrolled": false
   },
   "outputs": [
    {
     "data": {
      "text/plain": [
       "2007    1714\n",
       "2011    1712\n",
       "2006    1701\n",
       "2010    1686\n",
       "2008    1680\n",
       "2005    1627\n",
       "2009    1585\n",
       "2012    1575\n",
       "2016    1556\n",
       "2013    1546\n",
       "2004    1526\n",
       "2014    1505\n",
       "2003    1449\n",
       "2015    1313\n",
       "2002    1251\n",
       "2001     621\n",
       "2000     497\n",
       "1999     344\n",
       "2017      20\n",
       "Name: pub_year, dtype: int64"
      ]
     },
     "execution_count": 36,
     "metadata": {},
     "output_type": "execute_result"
    }
   ],
   "source": [
    "df['pub_year'].value_counts()"
   ]
  },
  {
   "cell_type": "code",
   "execution_count": 37,
   "metadata": {
    "scrolled": false
   },
   "outputs": [
    {
     "data": {
      "text/plain": [
       "pub_year\n",
       "2003    8.680769\n",
       "2004    8.701724\n",
       "2005    8.698305\n",
       "2006    8.668750\n",
       "2007    8.658571\n",
       "2008    8.596667\n",
       "2009    8.698425\n",
       "2010    8.741406\n",
       "2011    8.686923\n",
       "2012    8.719328\n",
       "2013    8.644444\n",
       "2014    8.716102\n",
       "2015    8.666990\n",
       "2016    8.570492\n",
       "2017    8.866667\n",
       "Name: score, dtype: float64"
      ]
     },
     "execution_count": 37,
     "metadata": {},
     "output_type": "execute_result"
    }
   ],
   "source": [
    "df[df['best_new_music']==1].groupby(by='pub_year').mean()['score']"
   ]
  },
  {
   "cell_type": "code",
   "execution_count": 38,
   "metadata": {},
   "outputs": [
    {
     "data": {
      "text/html": [
       "<div>\n",
       "<style scoped>\n",
       "    .dataframe tbody tr th:only-of-type {\n",
       "        vertical-align: middle;\n",
       "    }\n",
       "\n",
       "    .dataframe tbody tr th {\n",
       "        vertical-align: top;\n",
       "    }\n",
       "\n",
       "    .dataframe thead tr th {\n",
       "        text-align: left;\n",
       "    }\n",
       "</style>\n",
       "<table border=\"1\" class=\"dataframe\">\n",
       "  <thead>\n",
       "    <tr>\n",
       "      <th>pub_year</th>\n",
       "      <th colspan=\"10\" halign=\"left\">1999</th>\n",
       "      <th>...</th>\n",
       "      <th colspan=\"9\" halign=\"left\">2016</th>\n",
       "      <th>2017</th>\n",
       "    </tr>\n",
       "    <tr>\n",
       "      <th>pub_month</th>\n",
       "      <th>1</th>\n",
       "      <th>2</th>\n",
       "      <th>3</th>\n",
       "      <th>4</th>\n",
       "      <th>5</th>\n",
       "      <th>6</th>\n",
       "      <th>7</th>\n",
       "      <th>8</th>\n",
       "      <th>9</th>\n",
       "      <th>10</th>\n",
       "      <th>...</th>\n",
       "      <th>4</th>\n",
       "      <th>5</th>\n",
       "      <th>6</th>\n",
       "      <th>7</th>\n",
       "      <th>8</th>\n",
       "      <th>9</th>\n",
       "      <th>10</th>\n",
       "      <th>11</th>\n",
       "      <th>12</th>\n",
       "      <th>1</th>\n",
       "    </tr>\n",
       "  </thead>\n",
       "  <tbody>\n",
       "    <tr>\n",
       "      <th>score</th>\n",
       "      <td>7.125</td>\n",
       "      <td>7.929167</td>\n",
       "      <td>7.423077</td>\n",
       "      <td>6.276744</td>\n",
       "      <td>6.36</td>\n",
       "      <td>7.044444</td>\n",
       "      <td>6.591176</td>\n",
       "      <td>6.861111</td>\n",
       "      <td>5.912500</td>\n",
       "      <td>6.911765</td>\n",
       "      <td>...</td>\n",
       "      <td>7.578231</td>\n",
       "      <td>7.381102</td>\n",
       "      <td>7.042857</td>\n",
       "      <td>7.278626</td>\n",
       "      <td>7.097761</td>\n",
       "      <td>7.463910</td>\n",
       "      <td>7.196947</td>\n",
       "      <td>7.300000</td>\n",
       "      <td>7.121505</td>\n",
       "      <td>7.25</td>\n",
       "    </tr>\n",
       "    <tr>\n",
       "      <th>best_new_music</th>\n",
       "      <td>0.000</td>\n",
       "      <td>0.000000</td>\n",
       "      <td>0.000000</td>\n",
       "      <td>0.000000</td>\n",
       "      <td>0.00</td>\n",
       "      <td>0.000000</td>\n",
       "      <td>0.000000</td>\n",
       "      <td>0.000000</td>\n",
       "      <td>0.000000</td>\n",
       "      <td>0.000000</td>\n",
       "      <td>...</td>\n",
       "      <td>0.095238</td>\n",
       "      <td>0.070866</td>\n",
       "      <td>0.078571</td>\n",
       "      <td>0.083969</td>\n",
       "      <td>0.014925</td>\n",
       "      <td>0.135338</td>\n",
       "      <td>0.091603</td>\n",
       "      <td>0.061538</td>\n",
       "      <td>0.096774</td>\n",
       "      <td>0.15</td>\n",
       "    </tr>\n",
       "    <tr>\n",
       "      <th>pub_weekday</th>\n",
       "      <td>1.000</td>\n",
       "      <td>1.416667</td>\n",
       "      <td>0.897436</td>\n",
       "      <td>0.906977</td>\n",
       "      <td>1.20</td>\n",
       "      <td>1.044444</td>\n",
       "      <td>1.117647</td>\n",
       "      <td>1.611111</td>\n",
       "      <td>1.312500</td>\n",
       "      <td>0.970588</td>\n",
       "      <td>...</td>\n",
       "      <td>2.414966</td>\n",
       "      <td>2.338583</td>\n",
       "      <td>2.535714</td>\n",
       "      <td>2.885496</td>\n",
       "      <td>2.358209</td>\n",
       "      <td>2.729323</td>\n",
       "      <td>2.549618</td>\n",
       "      <td>2.215385</td>\n",
       "      <td>2.838710</td>\n",
       "      <td>2.50</td>\n",
       "    </tr>\n",
       "    <tr>\n",
       "      <th>pub_day</th>\n",
       "      <td>16.375</td>\n",
       "      <td>18.166667</td>\n",
       "      <td>19.487179</td>\n",
       "      <td>17.790698</td>\n",
       "      <td>14.35</td>\n",
       "      <td>13.800000</td>\n",
       "      <td>13.941176</td>\n",
       "      <td>15.666667</td>\n",
       "      <td>18.979167</td>\n",
       "      <td>15.676471</td>\n",
       "      <td>...</td>\n",
       "      <td>16.605442</td>\n",
       "      <td>15.362205</td>\n",
       "      <td>15.835714</td>\n",
       "      <td>16.503817</td>\n",
       "      <td>15.843284</td>\n",
       "      <td>15.413534</td>\n",
       "      <td>16.610687</td>\n",
       "      <td>14.330769</td>\n",
       "      <td>12.881720</td>\n",
       "      <td>4.50</td>\n",
       "    </tr>\n",
       "  </tbody>\n",
       "</table>\n",
       "<p>4 rows × 217 columns</p>\n",
       "</div>"
      ],
      "text/plain": [
       "pub_year          1999                                                     \\\n",
       "pub_month           1          2          3          4      5          6    \n",
       "score            7.125   7.929167   7.423077   6.276744   6.36   7.044444   \n",
       "best_new_music   0.000   0.000000   0.000000   0.000000   0.00   0.000000   \n",
       "pub_weekday      1.000   1.416667   0.897436   0.906977   1.20   1.044444   \n",
       "pub_day         16.375  18.166667  19.487179  17.790698  14.35  13.800000   \n",
       "\n",
       "pub_year                                                    ...       2016  \\\n",
       "pub_month              7          8          9          10  ...         4    \n",
       "score            6.591176   6.861111   5.912500   6.911765  ...   7.578231   \n",
       "best_new_music   0.000000   0.000000   0.000000   0.000000  ...   0.095238   \n",
       "pub_weekday      1.117647   1.611111   1.312500   0.970588  ...   2.414966   \n",
       "pub_day         13.941176  15.666667  18.979167  15.676471  ...  16.605442   \n",
       "\n",
       "pub_year                                                               \\\n",
       "pub_month              5          6          7          8          9    \n",
       "score            7.381102   7.042857   7.278626   7.097761   7.463910   \n",
       "best_new_music   0.070866   0.078571   0.083969   0.014925   0.135338   \n",
       "pub_weekday      2.338583   2.535714   2.885496   2.358209   2.729323   \n",
       "pub_day         15.362205  15.835714  16.503817  15.843284  15.413534   \n",
       "\n",
       "pub_year                                         2017  \n",
       "pub_month              10         11         12    1   \n",
       "score            7.196947   7.300000   7.121505  7.25  \n",
       "best_new_music   0.091603   0.061538   0.096774  0.15  \n",
       "pub_weekday      2.549618   2.215385   2.838710  2.50  \n",
       "pub_day         16.610687  14.330769  12.881720  4.50  \n",
       "\n",
       "[4 rows x 217 columns]"
      ]
     },
     "execution_count": 38,
     "metadata": {},
     "output_type": "execute_result"
    }
   ],
   "source": [
    "df.groupby(by=['pub_year','pub_month']).mean().T"
   ]
  },
  {
   "cell_type": "code",
   "execution_count": 39,
   "metadata": {
    "scrolled": false
   },
   "outputs": [
    {
     "data": {
      "image/png": "[encoded data removed]",
      "text/plain": [
       "<Figure size 1008x360 with 1 Axes>"
      ]
     },
     "metadata": {
      "needs_background": "light"
     },
     "output_type": "display_data"
    }
   ],
   "source": [
    "plt.figure(figsize=(14,5))\n",
    "sns.lineplot(y=df[df['best_new_music']==0].groupby(by='pub_year').mean()['score'], x=df[df['best_new_music']==0].groupby(by='pub_year').mean().index)\n",
    "sns.lineplot(y=df[df['best_new_music']==1].groupby(by='pub_year').mean()['score'], x=df[df['best_new_music']==1].groupby(by='pub_year').mean().index)\n",
    "plt.legend(labels=['Not Won','Won'])\n",
    "plt.show()"
   ]
  },
  {
   "cell_type": "markdown",
   "metadata": {},
   "source": [
    "## Inference\n",
    "    1.Best New Music awards started from 2003\n",
    "    2. Removing values from 2017 since it seems that data has been taken from early 2017"
   ]
  },
  {
   "cell_type": "code",
   "execution_count": 40,
   "metadata": {},
   "outputs": [],
   "source": [
    "df=df[df['pub_year']!=2017]"
   ]
  },
  {
   "cell_type": "markdown",
   "metadata": {},
   "source": [
    "### pub_month"
   ]
  },
  {
   "cell_type": "code",
   "execution_count": 41,
   "metadata": {
    "scrolled": true
   },
   "outputs": [
    {
     "data": {
      "text/plain": [
       "10    2388\n",
       "3     2330\n",
       "4     2309\n",
       "6     2246\n",
       "5     2200\n",
       "9     2175\n",
       "11    2059\n",
       "2     2042\n",
       "7     2025\n",
       "1     2010\n",
       "8     2009\n",
       "12    1095\n",
       "Name: pub_month, dtype: int64"
      ]
     },
     "execution_count": 41,
     "metadata": {},
     "output_type": "execute_result"
    }
   ],
   "source": [
    "df['pub_month'].value_counts()"
   ]
  },
  {
   "cell_type": "markdown",
   "metadata": {},
   "source": [
    "### pub_day"
   ]
  },
  {
   "cell_type": "code",
   "execution_count": 42,
   "metadata": {},
   "outputs": [
    {
     "data": {
      "text/plain": [
       "8     916\n",
       "7     915\n",
       "12    883\n",
       "11    879\n",
       "9     868\n",
       "10    864\n",
       "14    857\n",
       "13    854\n",
       "6     848\n",
       "5     824\n",
       "20    822\n",
       "21    814\n",
       "2     813\n",
       "23    812\n",
       "16    810\n",
       "4     808\n",
       "18    799\n",
       "15    797\n",
       "19    795\n",
       "3     787\n",
       "22    778\n",
       "17    777\n",
       "26    775\n",
       "25    772\n",
       "30    769\n",
       "1     763\n",
       "28    757\n",
       "27    755\n",
       "24    743\n",
       "29    711\n",
       "31    523\n",
       "Name: pub_day, dtype: int64"
      ]
     },
     "execution_count": 42,
     "metadata": {},
     "output_type": "execute_result"
    }
   ],
   "source": [
    "df['pub_day'].value_counts()"
   ]
  },
  {
   "cell_type": "markdown",
   "metadata": {},
   "source": [
    "## Genre"
   ]
  },
  {
   "cell_type": "markdown",
   "metadata": {},
   "source": [
    "## Labels"
   ]
  },
  {
   "cell_type": "code",
   "execution_count": null,
   "metadata": {},
   "outputs": [],
   "source": []
  },
  {
   "cell_type": "markdown",
   "metadata": {},
   "source": [
    "## Base Model"
   ]
  },
  {
   "cell_type": "code",
   "execution_count": 43,
   "metadata": {},
   "outputs": [
    {
     "data": {
      "text/plain": [
       "(24888, 11)"
      ]
     },
     "execution_count": 43,
     "metadata": {},
     "output_type": "execute_result"
    }
   ],
   "source": [
    "## Shape before Dropping\n",
    "df.shape"
   ]
  },
  {
   "cell_type": "code",
   "execution_count": 44,
   "metadata": {},
   "outputs": [],
   "source": [
    "df=df.dropna()"
   ]
  },
  {
   "cell_type": "code",
   "execution_count": 45,
   "metadata": {},
   "outputs": [
    {
     "data": {
      "text/plain": [
       "(22298, 11)"
      ]
     },
     "execution_count": 45,
     "metadata": {},
     "output_type": "execute_result"
    }
   ],
   "source": [
    "## Shape after dropping\n",
    "df.shape"
   ]
  },
  {
   "cell_type": "code",
   "execution_count": 46,
   "metadata": {},
   "outputs": [
    {
     "data": {
      "text/plain": [
       "['artist', 'author', 'author_type', 'genre', 'label']"
      ]
     },
     "execution_count": 46,
     "metadata": {},
     "output_type": "execute_result"
    }
   ],
   "source": [
    "cat_cols=list(df.select_dtypes(include=['object']).columns)\n",
    "cat_cols"
   ]
  },
  {
   "cell_type": "code",
   "execution_count": 47,
   "metadata": {},
   "outputs": [],
   "source": [
    "cols=['author_type','genre']\n",
    "df=pd.get_dummies(df,columns=cols,drop_first=True)"
   ]
  },
  {
   "cell_type": "code",
   "execution_count": 48,
   "metadata": {},
   "outputs": [],
   "source": [
    "\n",
    "from sklearn.preprocessing import LabelEncoder\n",
    "le=LabelEncoder()\n",
    "df['artist']=le.fit_transform(df['artist'])\n",
    "df['author']=le.fit_transform(df['author'])\n",
    "df['label']=le.fit_transform(df['label'])\n",
    "df['pub_year']=le.fit_transform(df['pub_year'])"
   ]
  },
  {
   "cell_type": "code",
   "execution_count": 49,
   "metadata": {},
   "outputs": [],
   "source": [
    "df=df.drop(['pub_day'],axis=1)"
   ]
  },
  {
   "cell_type": "code",
   "execution_count": 50,
   "metadata": {},
   "outputs": [
    {
     "data": {
      "text/html": [
       "<div>\n",
       "<style scoped>\n",
       "    .dataframe tbody tr th:only-of-type {\n",
       "        vertical-align: middle;\n",
       "    }\n",
       "\n",
       "    .dataframe tbody tr th {\n",
       "        vertical-align: top;\n",
       "    }\n",
       "\n",
       "    .dataframe thead th {\n",
       "        text-align: right;\n",
       "    }\n",
       "</style>\n",
       "<table border=\"1\" class=\"dataframe\">\n",
       "  <thead>\n",
       "    <tr style=\"text-align: right;\">\n",
       "      <th></th>\n",
       "      <th>artist</th>\n",
       "      <th>score</th>\n",
       "      <th>best_new_music</th>\n",
       "      <th>author</th>\n",
       "      <th>pub_weekday</th>\n",
       "      <th>pub_month</th>\n",
       "      <th>pub_year</th>\n",
       "      <th>label</th>\n",
       "      <th>author_type_associate editor</th>\n",
       "      <th>author_type_associate features editor</th>\n",
       "      <th>...</th>\n",
       "      <th>author_type_senior staff writer</th>\n",
       "      <th>author_type_tracks coordinator</th>\n",
       "      <th>genre_experimental</th>\n",
       "      <th>genre_folk/country</th>\n",
       "      <th>genre_global</th>\n",
       "      <th>genre_jazz</th>\n",
       "      <th>genre_metal</th>\n",
       "      <th>genre_pop/r&amp;b</th>\n",
       "      <th>genre_rap</th>\n",
       "      <th>genre_rock</th>\n",
       "    </tr>\n",
       "  </thead>\n",
       "  <tbody>\n",
       "    <tr>\n",
       "      <th>20</th>\n",
       "      <td>1076</td>\n",
       "      <td>8.1</td>\n",
       "      <td>0</td>\n",
       "      <td>383</td>\n",
       "      <td>4</td>\n",
       "      <td>12</td>\n",
       "      <td>17</td>\n",
       "      <td>2483</td>\n",
       "      <td>0</td>\n",
       "      <td>0</td>\n",
       "      <td>...</td>\n",
       "      <td>0</td>\n",
       "      <td>0</td>\n",
       "      <td>0</td>\n",
       "      <td>0</td>\n",
       "      <td>0</td>\n",
       "      <td>0</td>\n",
       "      <td>0</td>\n",
       "      <td>1</td>\n",
       "      <td>0</td>\n",
       "      <td>0</td>\n",
       "    </tr>\n",
       "    <tr>\n",
       "      <th>21</th>\n",
       "      <td>1076</td>\n",
       "      <td>8.1</td>\n",
       "      <td>0</td>\n",
       "      <td>383</td>\n",
       "      <td>4</td>\n",
       "      <td>12</td>\n",
       "      <td>17</td>\n",
       "      <td>2483</td>\n",
       "      <td>0</td>\n",
       "      <td>0</td>\n",
       "      <td>...</td>\n",
       "      <td>0</td>\n",
       "      <td>0</td>\n",
       "      <td>0</td>\n",
       "      <td>0</td>\n",
       "      <td>0</td>\n",
       "      <td>0</td>\n",
       "      <td>0</td>\n",
       "      <td>0</td>\n",
       "      <td>1</td>\n",
       "      <td>0</td>\n",
       "    </tr>\n",
       "    <tr>\n",
       "      <th>22</th>\n",
       "      <td>2931</td>\n",
       "      <td>7.2</td>\n",
       "      <td>0</td>\n",
       "      <td>42</td>\n",
       "      <td>4</td>\n",
       "      <td>12</td>\n",
       "      <td>17</td>\n",
       "      <td>1610</td>\n",
       "      <td>0</td>\n",
       "      <td>0</td>\n",
       "      <td>...</td>\n",
       "      <td>0</td>\n",
       "      <td>0</td>\n",
       "      <td>1</td>\n",
       "      <td>0</td>\n",
       "      <td>0</td>\n",
       "      <td>0</td>\n",
       "      <td>0</td>\n",
       "      <td>0</td>\n",
       "      <td>0</td>\n",
       "      <td>0</td>\n",
       "    </tr>\n",
       "    <tr>\n",
       "      <th>23</th>\n",
       "      <td>6589</td>\n",
       "      <td>7.0</td>\n",
       "      <td>0</td>\n",
       "      <td>340</td>\n",
       "      <td>3</td>\n",
       "      <td>12</td>\n",
       "      <td>17</td>\n",
       "      <td>2283</td>\n",
       "      <td>0</td>\n",
       "      <td>0</td>\n",
       "      <td>...</td>\n",
       "      <td>0</td>\n",
       "      <td>0</td>\n",
       "      <td>0</td>\n",
       "      <td>0</td>\n",
       "      <td>0</td>\n",
       "      <td>0</td>\n",
       "      <td>0</td>\n",
       "      <td>1</td>\n",
       "      <td>0</td>\n",
       "      <td>0</td>\n",
       "    </tr>\n",
       "    <tr>\n",
       "      <th>24</th>\n",
       "      <td>6589</td>\n",
       "      <td>7.0</td>\n",
       "      <td>0</td>\n",
       "      <td>340</td>\n",
       "      <td>3</td>\n",
       "      <td>12</td>\n",
       "      <td>17</td>\n",
       "      <td>2283</td>\n",
       "      <td>0</td>\n",
       "      <td>0</td>\n",
       "      <td>...</td>\n",
       "      <td>0</td>\n",
       "      <td>0</td>\n",
       "      <td>0</td>\n",
       "      <td>0</td>\n",
       "      <td>0</td>\n",
       "      <td>0</td>\n",
       "      <td>0</td>\n",
       "      <td>0</td>\n",
       "      <td>1</td>\n",
       "      <td>0</td>\n",
       "    </tr>\n",
       "  </tbody>\n",
       "</table>\n",
       "<p>5 rows × 30 columns</p>\n",
       "</div>"
      ],
      "text/plain": [
       "    artist  score  best_new_music  author  pub_weekday  pub_month  pub_year  \\\n",
       "20    1076    8.1               0     383            4         12        17   \n",
       "21    1076    8.1               0     383            4         12        17   \n",
       "22    2931    7.2               0      42            4         12        17   \n",
       "23    6589    7.0               0     340            3         12        17   \n",
       "24    6589    7.0               0     340            3         12        17   \n",
       "\n",
       "    label  author_type_associate editor  \\\n",
       "20   2483                             0   \n",
       "21   2483                             0   \n",
       "22   1610                             0   \n",
       "23   2283                             0   \n",
       "24   2283                             0   \n",
       "\n",
       "    author_type_associate features editor  ...  \\\n",
       "20                                      0  ...   \n",
       "21                                      0  ...   \n",
       "22                                      0  ...   \n",
       "23                                      0  ...   \n",
       "24                                      0  ...   \n",
       "\n",
       "    author_type_senior staff writer  author_type_tracks coordinator  \\\n",
       "20                                0                               0   \n",
       "21                                0                               0   \n",
       "22                                0                               0   \n",
       "23                                0                               0   \n",
       "24                                0                               0   \n",
       "\n",
       "    genre_experimental  genre_folk/country  genre_global  genre_jazz  \\\n",
       "20                   0                   0             0           0   \n",
       "21                   0                   0             0           0   \n",
       "22                   1                   0             0           0   \n",
       "23                   0                   0             0           0   \n",
       "24                   0                   0             0           0   \n",
       "\n",
       "    genre_metal  genre_pop/r&b  genre_rap  genre_rock  \n",
       "20            0              1          0           0  \n",
       "21            0              0          1           0  \n",
       "22            0              0          0           0  \n",
       "23            0              1          0           0  \n",
       "24            0              0          1           0  \n",
       "\n",
       "[5 rows x 30 columns]"
      ]
     },
     "execution_count": 50,
     "metadata": {},
     "output_type": "execute_result"
    }
   ],
   "source": [
    "df.head()"
   ]
  },
  {
   "cell_type": "markdown",
   "metadata": {},
   "source": [
    "## Generating X and Y"
   ]
  },
  {
   "cell_type": "code",
   "execution_count": 51,
   "metadata": {},
   "outputs": [],
   "source": [
    "y=df['score']\n",
    "X=df.drop('score',axis=1)"
   ]
  },
  {
   "cell_type": "code",
   "execution_count": 52,
   "metadata": {},
   "outputs": [
    {
     "data": {
      "text/html": [
       "<table class=\"simpletable\">\n",
       "<caption>OLS Regression Results</caption>\n",
       "<tr>\n",
       "  <th>Dep. Variable:</th>          <td>score</td>      <th>  R-squared:         </th> <td>   0.118</td> \n",
       "</tr>\n",
       "<tr>\n",
       "  <th>Model:</th>                   <td>OLS</td>       <th>  Adj. R-squared:    </th> <td>   0.117</td> \n",
       "</tr>\n",
       "<tr>\n",
       "  <th>Method:</th>             <td>Least Squares</td>  <th>  F-statistic:       </th> <td>   102.9</td> \n",
       "</tr>\n",
       "<tr>\n",
       "  <th>Date:</th>             <td>Fri, 07 Feb 2020</td> <th>  Prob (F-statistic):</th>  <td>  0.00</td>  \n",
       "</tr>\n",
       "<tr>\n",
       "  <th>Time:</th>                 <td>17:56:56</td>     <th>  Log-Likelihood:    </th> <td> -36538.</td> \n",
       "</tr>\n",
       "<tr>\n",
       "  <th>No. Observations:</th>      <td> 22298</td>      <th>  AIC:               </th> <td>7.314e+04</td>\n",
       "</tr>\n",
       "<tr>\n",
       "  <th>Df Residuals:</th>          <td> 22268</td>      <th>  BIC:               </th> <td>7.338e+04</td>\n",
       "</tr>\n",
       "<tr>\n",
       "  <th>Df Model:</th>              <td>    29</td>      <th>                     </th>     <td> </td>    \n",
       "</tr>\n",
       "<tr>\n",
       "  <th>Covariance Type:</th>      <td>nonrobust</td>    <th>                     </th>     <td> </td>    \n",
       "</tr>\n",
       "</table>\n",
       "<table class=\"simpletable\">\n",
       "<tr>\n",
       "                    <td></td>                       <th>coef</th>     <th>std err</th>      <th>t</th>      <th>P>|t|</th>  <th>[0.025</th>    <th>0.975]</th>  \n",
       "</tr>\n",
       "<tr>\n",
       "  <th>const</th>                                 <td>    7.1702</td> <td>    0.291</td> <td>   24.644</td> <td> 0.000</td> <td>    6.600</td> <td>    7.740</td>\n",
       "</tr>\n",
       "<tr>\n",
       "  <th>artist</th>                                <td>-2.748e-06</td> <td> 3.94e-06</td> <td>   -0.697</td> <td> 0.486</td> <td>-1.05e-05</td> <td> 4.98e-06</td>\n",
       "</tr>\n",
       "<tr>\n",
       "  <th>best_new_music</th>                        <td>    1.7748</td> <td>    0.036</td> <td>   48.687</td> <td> 0.000</td> <td>    1.703</td> <td>    1.846</td>\n",
       "</tr>\n",
       "<tr>\n",
       "  <th>author</th>                                <td>-5.837e-05</td> <td>  7.2e-05</td> <td>   -0.810</td> <td> 0.418</td> <td>   -0.000</td> <td> 8.28e-05</td>\n",
       "</tr>\n",
       "<tr>\n",
       "  <th>pub_weekday</th>                           <td>    0.0080</td> <td>    0.005</td> <td>    1.573</td> <td> 0.116</td> <td>   -0.002</td> <td>    0.018</td>\n",
       "</tr>\n",
       "<tr>\n",
       "  <th>pub_month</th>                             <td>    0.0098</td> <td>    0.003</td> <td>    3.870</td> <td> 0.000</td> <td>    0.005</td> <td>    0.015</td>\n",
       "</tr>\n",
       "<tr>\n",
       "  <th>pub_year</th>                              <td>    0.0027</td> <td>    0.002</td> <td>    1.409</td> <td> 0.159</td> <td>   -0.001</td> <td>    0.007</td>\n",
       "</tr>\n",
       "<tr>\n",
       "  <th>label</th>                                 <td>  2.12e-05</td> <td> 8.93e-06</td> <td>    2.375</td> <td> 0.018</td> <td> 3.71e-06</td> <td> 3.87e-05</td>\n",
       "</tr>\n",
       "<tr>\n",
       "  <th>author_type_associate editor</th>          <td>   -0.5515</td> <td>    0.336</td> <td>   -1.643</td> <td> 0.100</td> <td>   -1.209</td> <td>    0.106</td>\n",
       "</tr>\n",
       "<tr>\n",
       "  <th>author_type_associate features editor</th> <td>   -0.9349</td> <td>    0.431</td> <td>   -2.171</td> <td> 0.030</td> <td>   -1.779</td> <td>   -0.091</td>\n",
       "</tr>\n",
       "<tr>\n",
       "  <th>author_type_associate reviews editor</th>  <td>    0.0338</td> <td>    0.339</td> <td>    0.100</td> <td> 0.921</td> <td>   -0.631</td> <td>    0.699</td>\n",
       "</tr>\n",
       "<tr>\n",
       "  <th>author_type_associate staff writer</th>    <td>   -0.4662</td> <td>    0.310</td> <td>   -1.505</td> <td> 0.132</td> <td>   -1.073</td> <td>    0.141</td>\n",
       "</tr>\n",
       "<tr>\n",
       "  <th>author_type_contributing editor</th>       <td>    0.0532</td> <td>    0.298</td> <td>    0.178</td> <td> 0.858</td> <td>   -0.532</td> <td>    0.638</td>\n",
       "</tr>\n",
       "<tr>\n",
       "  <th>author_type_contributor</th>               <td>   -0.4971</td> <td>    0.287</td> <td>   -1.733</td> <td> 0.083</td> <td>   -1.059</td> <td>    0.065</td>\n",
       "</tr>\n",
       "<tr>\n",
       "  <th>author_type_deputy news editor</th>        <td>   -0.4984</td> <td>    0.313</td> <td>   -1.594</td> <td> 0.111</td> <td>   -1.111</td> <td>    0.114</td>\n",
       "</tr>\n",
       "<tr>\n",
       "  <th>author_type_editor-in-chief</th>           <td>   -0.3639</td> <td>    0.309</td> <td>   -1.179</td> <td> 0.238</td> <td>   -0.969</td> <td>    0.241</td>\n",
       "</tr>\n",
       "<tr>\n",
       "  <th>author_type_executive editor</th>          <td>   -0.2198</td> <td>    0.291</td> <td>   -0.755</td> <td> 0.450</td> <td>   -0.791</td> <td>    0.351</td>\n",
       "</tr>\n",
       "<tr>\n",
       "  <th>author_type_managing editor</th>           <td>   -0.7831</td> <td>    0.775</td> <td>   -1.011</td> <td> 0.312</td> <td>   -2.301</td> <td>    0.735</td>\n",
       "</tr>\n",
       "<tr>\n",
       "  <th>author_type_news director</th>             <td>   -1.2000</td> <td>    0.687</td> <td>   -1.748</td> <td> 0.080</td> <td>   -2.546</td> <td>    0.146</td>\n",
       "</tr>\n",
       "<tr>\n",
       "  <th>author_type_senior editor</th>             <td>   -0.5710</td> <td>    0.291</td> <td>   -1.963</td> <td> 0.050</td> <td>   -1.141</td> <td>   -0.001</td>\n",
       "</tr>\n",
       "<tr>\n",
       "  <th>author_type_senior staff writer</th>       <td>   -0.8759</td> <td>    0.291</td> <td>   -3.009</td> <td> 0.003</td> <td>   -1.447</td> <td>   -0.305</td>\n",
       "</tr>\n",
       "<tr>\n",
       "  <th>author_type_tracks coordinator</th>        <td>   -0.7377</td> <td>    0.336</td> <td>   -2.193</td> <td> 0.028</td> <td>   -1.397</td> <td>   -0.078</td>\n",
       "</tr>\n",
       "<tr>\n",
       "  <th>genre_experimental</th>                    <td>    0.3914</td> <td>    0.034</td> <td>   11.399</td> <td> 0.000</td> <td>    0.324</td> <td>    0.459</td>\n",
       "</tr>\n",
       "<tr>\n",
       "  <th>genre_folk/country</th>                    <td>    0.3499</td> <td>    0.050</td> <td>    6.978</td> <td> 0.000</td> <td>    0.252</td> <td>    0.448</td>\n",
       "</tr>\n",
       "<tr>\n",
       "  <th>genre_global</th>                          <td>    0.4947</td> <td>    0.082</td> <td>    6.034</td> <td> 0.000</td> <td>    0.334</td> <td>    0.655</td>\n",
       "</tr>\n",
       "<tr>\n",
       "  <th>genre_jazz</th>                            <td>    0.4051</td> <td>    0.061</td> <td>    6.688</td> <td> 0.000</td> <td>    0.286</td> <td>    0.524</td>\n",
       "</tr>\n",
       "<tr>\n",
       "  <th>genre_metal</th>                           <td>    0.1110</td> <td>    0.046</td> <td>    2.423</td> <td> 0.015</td> <td>    0.021</td> <td>    0.201</td>\n",
       "</tr>\n",
       "<tr>\n",
       "  <th>genre_pop/r&b</th>                         <td>   -0.0118</td> <td>    0.037</td> <td>   -0.322</td> <td> 0.748</td> <td>   -0.084</td> <td>    0.060</td>\n",
       "</tr>\n",
       "<tr>\n",
       "  <th>genre_rap</th>                             <td>   -0.0143</td> <td>    0.036</td> <td>   -0.399</td> <td> 0.690</td> <td>   -0.085</td> <td>    0.056</td>\n",
       "</tr>\n",
       "<tr>\n",
       "  <th>genre_rock</th>                            <td>    0.0543</td> <td>    0.023</td> <td>    2.347</td> <td> 0.019</td> <td>    0.009</td> <td>    0.100</td>\n",
       "</tr>\n",
       "</table>\n",
       "<table class=\"simpletable\">\n",
       "<tr>\n",
       "  <th>Omnibus:</th>       <td>5448.124</td> <th>  Durbin-Watson:     </th> <td>   1.406</td> \n",
       "</tr>\n",
       "<tr>\n",
       "  <th>Prob(Omnibus):</th>  <td> 0.000</td>  <th>  Jarque-Bera (JB):  </th> <td>14545.527</td>\n",
       "</tr>\n",
       "<tr>\n",
       "  <th>Skew:</th>           <td>-1.313</td>  <th>  Prob(JB):          </th> <td>    0.00</td> \n",
       "</tr>\n",
       "<tr>\n",
       "  <th>Kurtosis:</th>       <td> 5.960</td>  <th>  Cond. No.          </th> <td>6.24e+05</td> \n",
       "</tr>\n",
       "</table><br/><br/>Warnings:<br/>[1] Standard Errors assume that the covariance matrix of the errors is correctly specified.<br/>[2] The condition number is large, 6.24e+05. This might indicate that there are<br/>strong multicollinearity or other numerical problems."
      ],
      "text/plain": [
       "<class 'statsmodels.iolib.summary.Summary'>\n",
       "\"\"\"\n",
       "                            OLS Regression Results                            \n",
       "==============================================================================\n",
       "Dep. Variable:                  score   R-squared:                       0.118\n",
       "Model:                            OLS   Adj. R-squared:                  0.117\n",
       "Method:                 Least Squares   F-statistic:                     102.9\n",
       "Date:                Fri, 07 Feb 2020   Prob (F-statistic):               0.00\n",
       "Time:                        17:56:56   Log-Likelihood:                -36538.\n",
       "No. Observations:               22298   AIC:                         7.314e+04\n",
       "Df Residuals:                   22268   BIC:                         7.338e+04\n",
       "Df Model:                          29                                         \n",
       "Covariance Type:            nonrobust                                         \n",
       "=========================================================================================================\n",
       "                                            coef    std err          t      P>|t|      [0.025      0.975]\n",
       "---------------------------------------------------------------------------------------------------------\n",
       "const                                     7.1702      0.291     24.644      0.000       6.600       7.740\n",
       "artist                                -2.748e-06   3.94e-06     -0.697      0.486   -1.05e-05    4.98e-06\n",
       "best_new_music                            1.7748      0.036     48.687      0.000       1.703       1.846\n",
       "author                                -5.837e-05    7.2e-05     -0.810      0.418      -0.000    8.28e-05\n",
       "pub_weekday                               0.0080      0.005      1.573      0.116      -0.002       0.018\n",
       "pub_month                                 0.0098      0.003      3.870      0.000       0.005       0.015\n",
       "pub_year                                  0.0027      0.002      1.409      0.159      -0.001       0.007\n",
       "label                                   2.12e-05   8.93e-06      2.375      0.018    3.71e-06    3.87e-05\n",
       "author_type_associate editor             -0.5515      0.336     -1.643      0.100      -1.209       0.106\n",
       "author_type_associate features editor    -0.9349      0.431     -2.171      0.030      -1.779      -0.091\n",
       "author_type_associate reviews editor      0.0338      0.339      0.100      0.921      -0.631       0.699\n",
       "author_type_associate staff writer       -0.4662      0.310     -1.505      0.132      -1.073       0.141\n",
       "author_type_contributing editor           0.0532      0.298      0.178      0.858      -0.532       0.638\n",
       "author_type_contributor                  -0.4971      0.287     -1.733      0.083      -1.059       0.065\n",
       "author_type_deputy news editor           -0.4984      0.313     -1.594      0.111      -1.111       0.114\n",
       "author_type_editor-in-chief              -0.3639      0.309     -1.179      0.238      -0.969       0.241\n",
       "author_type_executive editor             -0.2198      0.291     -0.755      0.450      -0.791       0.351\n",
       "author_type_managing editor              -0.7831      0.775     -1.011      0.312      -2.301       0.735\n",
       "author_type_news director                -1.2000      0.687     -1.748      0.080      -2.546       0.146\n",
       "author_type_senior editor                -0.5710      0.291     -1.963      0.050      -1.141      -0.001\n",
       "author_type_senior staff writer          -0.8759      0.291     -3.009      0.003      -1.447      -0.305\n",
       "author_type_tracks coordinator           -0.7377      0.336     -2.193      0.028      -1.397      -0.078\n",
       "genre_experimental                        0.3914      0.034     11.399      0.000       0.324       0.459\n",
       "genre_folk/country                        0.3499      0.050      6.978      0.000       0.252       0.448\n",
       "genre_global                              0.4947      0.082      6.034      0.000       0.334       0.655\n",
       "genre_jazz                                0.4051      0.061      6.688      0.000       0.286       0.524\n",
       "genre_metal                               0.1110      0.046      2.423      0.015       0.021       0.201\n",
       "genre_pop/r&b                            -0.0118      0.037     -0.322      0.748      -0.084       0.060\n",
       "genre_rap                                -0.0143      0.036     -0.399      0.690      -0.085       0.056\n",
       "genre_rock                                0.0543      0.023      2.347      0.019       0.009       0.100\n",
       "==============================================================================\n",
       "Omnibus:                     5448.124   Durbin-Watson:                   1.406\n",
       "Prob(Omnibus):                  0.000   Jarque-Bera (JB):            14545.527\n",
       "Skew:                          -1.313   Prob(JB):                         0.00\n",
       "Kurtosis:                       5.960   Cond. No.                     6.24e+05\n",
       "==============================================================================\n",
       "\n",
       "Warnings:\n",
       "[1] Standard Errors assume that the covariance matrix of the errors is correctly specified.\n",
       "[2] The condition number is large, 6.24e+05. This might indicate that there are\n",
       "strong multicollinearity or other numerical problems.\n",
       "\"\"\""
      ]
     },
     "execution_count": 52,
     "metadata": {},
     "output_type": "execute_result"
    }
   ],
   "source": [
    "import statsmodels.api as sm\n",
    "xc=sm.add_constant(X)\n",
    "model=sm.OLS(y,xc).fit()\n",
    "model.summary()"
   ]
  },
  {
   "cell_type": "code",
   "execution_count": 53,
   "metadata": {},
   "outputs": [
    {
     "data": {
      "text/plain": [
       "<matplotlib.axes._subplots.AxesSubplot at 0x13541e08f48>"
      ]
     },
     "execution_count": 53,
     "metadata": {},
     "output_type": "execute_result"
    },
    {
     "data": {
      "image/png": "[encoded data removed]",
      "text/plain": [
       "<Figure size 432x288 with 1 Axes>"
      ]
     },
     "metadata": {
      "needs_background": "light"
     },
     "output_type": "display_data"
    }
   ],
   "source": [
    "residuals=model.resid\n",
    "sns.distplot(residuals)"
   ]
  },
  {
   "cell_type": "code",
   "execution_count": 54,
   "metadata": {},
   "outputs": [
    {
     "data": {
      "image/png": "[encoded data removed]",
      "text/plain": [
       "<Figure size 432x288 with 1 Axes>"
      ]
     },
     "metadata": {
      "needs_background": "light"
     },
     "output_type": "display_data"
    }
   ],
   "source": [
    "import scipy.stats as stats\n",
    "stats.probplot(residuals,plot=plt)\n",
    "plt.show()"
   ]
  },
  {
   "cell_type": "code",
   "execution_count": 55,
   "metadata": {},
   "outputs": [
    {
     "name": "stdout",
     "output_type": "stream",
     "text": [
      "['best_new_music', 'pub_month', 'label', 'author_type_associate editor', 'author_type_associate features editor', 'author_type_associate staff writer', 'author_type_contributor', 'author_type_deputy news editor', 'author_type_editor-in-chief', 'author_type_executive editor', 'author_type_senior editor', 'author_type_senior staff writer', 'author_type_tracks coordinator', 'genre_experimental', 'genre_folk/country', 'genre_global', 'genre_jazz', 'genre_metal', 'genre_rock']\n"
     ]
    }
   ],
   "source": [
    "# Backward Elimination\n",
    "cols=list(X.columns)\n",
    "pmax=1\n",
    "while len(cols)>0:\n",
    "    p=[]\n",
    "    C=X[cols]\n",
    "    xc=sm.add_constant(C)\n",
    "    model=sm.OLS(y,xc).fit()\n",
    "    p=pd.Series(model.pvalues.values[1:],index=cols)\n",
    "    pmax=max(p)\n",
    "    feature_with_p_max=p.idxmax()\n",
    "    if pmax>0.05:\n",
    "        cols.remove(feature_with_p_max)\n",
    "    else:\n",
    "        break\n",
    "        \n",
    "selected_cols=cols\n",
    "print(selected_cols)"
   ]
  },
  {
   "cell_type": "code",
   "execution_count": 56,
   "metadata": {},
   "outputs": [],
   "source": [
    "X_final=df[cols]\n",
    "y=df['score']"
   ]
  },
  {
   "cell_type": "code",
   "execution_count": 57,
   "metadata": {},
   "outputs": [],
   "source": [
    "from sklearn.model_selection import train_test_split\n",
    "from sklearn.linear_model import LinearRegression\n",
    "from sklearn.metrics import r2_score,mean_squared_error as mse\n",
    "Xtrain,Xtest,ytrain,ytest=train_test_split(X_final,y,test_size=0.3,random_state=0)"
   ]
  },
  {
   "cell_type": "code",
   "execution_count": 58,
   "metadata": {},
   "outputs": [
    {
     "name": "stdout",
     "output_type": "stream",
     "text": [
      "R2 score of Train: 0.122031137622582\n",
      "RMSE of Train: 1.2392988776369251\n"
     ]
    }
   ],
   "source": [
    "LR=LinearRegression()\n",
    "LR.fit(Xtrain,ytrain)\n",
    "y_pred_train=LR.predict(Xtrain)\n",
    "print('R2 score of Train:',r2_score(ytrain,y_pred_train))\n",
    "print('RMSE of Train:',np.sqrt(mse(ytrain,y_pred_train)))"
   ]
  },
  {
   "cell_type": "code",
   "execution_count": 59,
   "metadata": {},
   "outputs": [
    {
     "name": "stdout",
     "output_type": "stream",
     "text": [
      "R2 score of Test: 0.10712197845999638\n",
      "RMSE of Test: 1.262034144117436\n"
     ]
    }
   ],
   "source": [
    "y_pred_test=LR.predict(Xtest)\n",
    "print('R2 score of Test:',r2_score(ytest,y_pred_test))\n",
    "print('RMSE of Test:',np.sqrt(mse(ytest,y_pred_test)))"
   ]
  },
  {
   "cell_type": "markdown",
   "metadata": {},
   "source": [
    "## K-Fold"
   ]
  },
  {
   "cell_type": "code",
   "execution_count": 60,
   "metadata": {},
   "outputs": [
    {
     "name": "stdout",
     "output_type": "stream",
     "text": [
      "[1.2700337966777249, 1.2383431559340254, 1.2441747873975408, 1.2419358933813225, 1.239704018650326]\n"
     ]
    }
   ],
   "source": [
    "from sklearn.model_selection import KFold\n",
    "kf = KFold(n_splits=5,shuffle=True,random_state=0)\n",
    "for model,name in zip([LR],['MVLR']):\n",
    "    rmse=[]\n",
    "\n",
    "    for train, test in kf.split(X_final,y):\n",
    "        X_train,X_test=X_final.iloc[train,:],X_final.iloc[test,:]\n",
    "        y_train,y_test=y.iloc[train],y.iloc[test]\n",
    "        model.fit(X_train,y_train)\n",
    "        y_pred=model.predict(X_test)\n",
    "        rmse.append(np.sqrt(mse(y_test,y_pred)))\n",
    "print(rmse)"
   ]
  },
  {
   "cell_type": "code",
   "execution_count": 61,
   "metadata": {},
   "outputs": [
    {
     "data": {
      "text/plain": [
       "(1.246838330408188, 0.00017305609980950045)"
      ]
     },
     "execution_count": 61,
     "metadata": {},
     "output_type": "execute_result"
    }
   ],
   "source": [
    "np.mean(rmse),np.var(rmse,ddof=1)\n"
   ]
  },
  {
   "cell_type": "code",
   "execution_count": null,
   "metadata": {},
   "outputs": [],
   "source": []
  }
 ],
 "metadata": {
  "kernelspec": {
   "display_name": "Python 3",
   "language": "python",
   "name": "python3"
  },
  "language_info": {
   "codemirror_mode": {
    "name": "ipython",
    "version": 3
   },
   "file_extension": ".py",
   "mimetype": "text/x-python",
   "name": "python",
   "nbconvert_exporter": "python",
   "pygments_lexer": "ipython3",
   "version": "3.7.6"
  }
 },
 "nbformat": 4,
 "nbformat_minor": 2
}
