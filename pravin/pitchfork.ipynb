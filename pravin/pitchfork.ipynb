{
 "cells": [
  {
   "cell_type": "markdown",
   "metadata": {},
   "source": [
    "# Pitchfork"
   ]
  },
  {
   "cell_type": "code",
   "execution_count": 1,
   "metadata": {},
   "outputs": [],
   "source": [
    "import numpy as np\n",
    "import pandas as pd\n",
    "import matplotlib.pyplot as plt\n",
    "%matplotlib inline\n",
    "import seaborn as sns\n",
    "import os\n",
    "import sqlite3"
   ]
  },
  {
   "cell_type": "code",
   "execution_count": 2,
   "metadata": {},
   "outputs": [],
   "source": [
    "os.chdir(r'../Data')"
   ]
  },
  {
   "cell_type": "code",
   "execution_count": 3,
   "metadata": {},
   "outputs": [],
   "source": [
    "conn=sqlite3.connect('./database.sqlite')"
   ]
  },
  {
   "cell_type": "code",
   "execution_count": 4,
   "metadata": {},
   "outputs": [
    {
     "name": "stdout",
     "output_type": "stream",
     "text": [
      "   reviewid          artist\n",
      "0     22703  massive attack\n",
      "1     22721        krallice\n",
      "2     22659    uranium club\n",
      "3     22661         kleenex\n",
      "4     22661         liliput\n",
      "Index(['reviewid', 'artist'], dtype='object')\n"
     ]
    }
   ],
   "source": [
    "print(pd.read_sql_query('select * from artists',conn).head())\n",
    "# print(pd.read_sql_query('select * from artists',conn).columns.values)\n",
    "print(pd.read_sql_query('select * from artists',conn).columns)"
   ]
  },
  {
   "cell_type": "code",
   "execution_count": 5,
   "metadata": {},
   "outputs": [
    {
     "name": "stdout",
     "output_type": "stream",
     "text": [
      "   reviewid                                            content\n",
      "0     22703  “Trip-hop” eventually became a ’90s punchline,...\n",
      "1     22721  Eight years, five albums, and two EPs in, the ...\n",
      "2     22659  Minneapolis’ Uranium Club seem to revel in bei...\n",
      "3     22661  Kleenex began with a crash. It transpired one ...\n",
      "4     22725  It is impossible to consider a given release b...\n"
     ]
    }
   ],
   "source": [
    "print(pd.read_sql_query('select * from content',conn).head())"
   ]
  },
  {
   "cell_type": "code",
   "execution_count": 6,
   "metadata": {},
   "outputs": [
    {
     "data": {
      "text/html": [
       "<div>\n",
       "<style scoped>\n",
       "    .dataframe tbody tr th:only-of-type {\n",
       "        vertical-align: middle;\n",
       "    }\n",
       "\n",
       "    .dataframe tbody tr th {\n",
       "        vertical-align: top;\n",
       "    }\n",
       "\n",
       "    .dataframe thead th {\n",
       "        text-align: right;\n",
       "    }\n",
       "</style>\n",
       "<table border=\"1\" class=\"dataframe\">\n",
       "  <thead>\n",
       "    <tr style=\"text-align: right;\">\n",
       "      <th></th>\n",
       "      <th>reviewid</th>\n",
       "      <th>genre</th>\n",
       "    </tr>\n",
       "  </thead>\n",
       "  <tbody>\n",
       "    <tr>\n",
       "      <th>0</th>\n",
       "      <td>22703</td>\n",
       "      <td>electronic</td>\n",
       "    </tr>\n",
       "    <tr>\n",
       "      <th>1</th>\n",
       "      <td>22721</td>\n",
       "      <td>metal</td>\n",
       "    </tr>\n",
       "    <tr>\n",
       "      <th>2</th>\n",
       "      <td>22659</td>\n",
       "      <td>rock</td>\n",
       "    </tr>\n",
       "    <tr>\n",
       "      <th>3</th>\n",
       "      <td>22661</td>\n",
       "      <td>rock</td>\n",
       "    </tr>\n",
       "    <tr>\n",
       "      <th>4</th>\n",
       "      <td>22725</td>\n",
       "      <td>electronic</td>\n",
       "    </tr>\n",
       "  </tbody>\n",
       "</table>\n",
       "</div>"
      ],
      "text/plain": [
       "   reviewid       genre\n",
       "0     22703  electronic\n",
       "1     22721       metal\n",
       "2     22659        rock\n",
       "3     22661        rock\n",
       "4     22725  electronic"
      ]
     },
     "execution_count": 6,
     "metadata": {},
     "output_type": "execute_result"
    }
   ],
   "source": [
    "pd.read_sql_query('select * from genres',conn).head()"
   ]
  },
  {
   "cell_type": "code",
   "execution_count": 7,
   "metadata": {},
   "outputs": [
    {
     "data": {
      "text/html": [
       "<div>\n",
       "<style scoped>\n",
       "    .dataframe tbody tr th:only-of-type {\n",
       "        vertical-align: middle;\n",
       "    }\n",
       "\n",
       "    .dataframe tbody tr th {\n",
       "        vertical-align: top;\n",
       "    }\n",
       "\n",
       "    .dataframe thead th {\n",
       "        text-align: right;\n",
       "    }\n",
       "</style>\n",
       "<table border=\"1\" class=\"dataframe\">\n",
       "  <thead>\n",
       "    <tr style=\"text-align: right;\">\n",
       "      <th></th>\n",
       "      <th>reviewid</th>\n",
       "      <th>label</th>\n",
       "    </tr>\n",
       "  </thead>\n",
       "  <tbody>\n",
       "    <tr>\n",
       "      <th>0</th>\n",
       "      <td>22703</td>\n",
       "      <td>virgin</td>\n",
       "    </tr>\n",
       "    <tr>\n",
       "      <th>1</th>\n",
       "      <td>22721</td>\n",
       "      <td>hathenter</td>\n",
       "    </tr>\n",
       "    <tr>\n",
       "      <th>2</th>\n",
       "      <td>22659</td>\n",
       "      <td>static shock</td>\n",
       "    </tr>\n",
       "    <tr>\n",
       "      <th>3</th>\n",
       "      <td>22659</td>\n",
       "      <td>fashionable idiots</td>\n",
       "    </tr>\n",
       "    <tr>\n",
       "      <th>4</th>\n",
       "      <td>22661</td>\n",
       "      <td>kill rock stars</td>\n",
       "    </tr>\n",
       "  </tbody>\n",
       "</table>\n",
       "</div>"
      ],
      "text/plain": [
       "   reviewid               label\n",
       "0     22703              virgin\n",
       "1     22721           hathenter\n",
       "2     22659        static shock\n",
       "3     22659  fashionable idiots\n",
       "4     22661     kill rock stars"
      ]
     },
     "execution_count": 7,
     "metadata": {},
     "output_type": "execute_result"
    }
   ],
   "source": [
    "pd.read_sql_query('select * from labels',conn).head()"
   ]
  },
  {
   "cell_type": "code",
   "execution_count": 8,
   "metadata": {},
   "outputs": [
    {
     "data": {
      "text/html": [
       "<div>\n",
       "<style scoped>\n",
       "    .dataframe tbody tr th:only-of-type {\n",
       "        vertical-align: middle;\n",
       "    }\n",
       "\n",
       "    .dataframe tbody tr th {\n",
       "        vertical-align: top;\n",
       "    }\n",
       "\n",
       "    .dataframe thead th {\n",
       "        text-align: right;\n",
       "    }\n",
       "</style>\n",
       "<table border=\"1\" class=\"dataframe\">\n",
       "  <thead>\n",
       "    <tr style=\"text-align: right;\">\n",
       "      <th></th>\n",
       "      <th>reviewid</th>\n",
       "      <th>title</th>\n",
       "      <th>artist</th>\n",
       "      <th>url</th>\n",
       "      <th>score</th>\n",
       "      <th>best_new_music</th>\n",
       "      <th>author</th>\n",
       "      <th>author_type</th>\n",
       "      <th>pub_date</th>\n",
       "      <th>pub_weekday</th>\n",
       "      <th>pub_day</th>\n",
       "      <th>pub_month</th>\n",
       "      <th>pub_year</th>\n",
       "    </tr>\n",
       "  </thead>\n",
       "  <tbody>\n",
       "    <tr>\n",
       "      <th>0</th>\n",
       "      <td>22703</td>\n",
       "      <td>mezzanine</td>\n",
       "      <td>massive attack</td>\n",
       "      <td>http://pitchfork.com/reviews/albums/22703-mezz...</td>\n",
       "      <td>9.3</td>\n",
       "      <td>0</td>\n",
       "      <td>nate patrin</td>\n",
       "      <td>contributor</td>\n",
       "      <td>2017-01-08</td>\n",
       "      <td>6</td>\n",
       "      <td>8</td>\n",
       "      <td>1</td>\n",
       "      <td>2017</td>\n",
       "    </tr>\n",
       "    <tr>\n",
       "      <th>1</th>\n",
       "      <td>22721</td>\n",
       "      <td>prelapsarian</td>\n",
       "      <td>krallice</td>\n",
       "      <td>http://pitchfork.com/reviews/albums/22721-prel...</td>\n",
       "      <td>7.9</td>\n",
       "      <td>0</td>\n",
       "      <td>zoe camp</td>\n",
       "      <td>contributor</td>\n",
       "      <td>2017-01-07</td>\n",
       "      <td>5</td>\n",
       "      <td>7</td>\n",
       "      <td>1</td>\n",
       "      <td>2017</td>\n",
       "    </tr>\n",
       "    <tr>\n",
       "      <th>2</th>\n",
       "      <td>22659</td>\n",
       "      <td>all of them naturals</td>\n",
       "      <td>uranium club</td>\n",
       "      <td>http://pitchfork.com/reviews/albums/22659-all-...</td>\n",
       "      <td>7.3</td>\n",
       "      <td>0</td>\n",
       "      <td>david glickman</td>\n",
       "      <td>contributor</td>\n",
       "      <td>2017-01-07</td>\n",
       "      <td>5</td>\n",
       "      <td>7</td>\n",
       "      <td>1</td>\n",
       "      <td>2017</td>\n",
       "    </tr>\n",
       "    <tr>\n",
       "      <th>3</th>\n",
       "      <td>22661</td>\n",
       "      <td>first songs</td>\n",
       "      <td>kleenex, liliput</td>\n",
       "      <td>http://pitchfork.com/reviews/albums/22661-firs...</td>\n",
       "      <td>9.0</td>\n",
       "      <td>1</td>\n",
       "      <td>jenn pelly</td>\n",
       "      <td>associate reviews editor</td>\n",
       "      <td>2017-01-06</td>\n",
       "      <td>4</td>\n",
       "      <td>6</td>\n",
       "      <td>1</td>\n",
       "      <td>2017</td>\n",
       "    </tr>\n",
       "    <tr>\n",
       "      <th>4</th>\n",
       "      <td>22725</td>\n",
       "      <td>new start</td>\n",
       "      <td>taso</td>\n",
       "      <td>http://pitchfork.com/reviews/albums/22725-new-...</td>\n",
       "      <td>8.1</td>\n",
       "      <td>0</td>\n",
       "      <td>kevin lozano</td>\n",
       "      <td>tracks coordinator</td>\n",
       "      <td>2017-01-06</td>\n",
       "      <td>4</td>\n",
       "      <td>6</td>\n",
       "      <td>1</td>\n",
       "      <td>2017</td>\n",
       "    </tr>\n",
       "  </tbody>\n",
       "</table>\n",
       "</div>"
      ],
      "text/plain": [
       "   reviewid                 title            artist  \\\n",
       "0     22703             mezzanine    massive attack   \n",
       "1     22721          prelapsarian          krallice   \n",
       "2     22659  all of them naturals      uranium club   \n",
       "3     22661           first songs  kleenex, liliput   \n",
       "4     22725             new start              taso   \n",
       "\n",
       "                                                 url  score  best_new_music  \\\n",
       "0  http://pitchfork.com/reviews/albums/22703-mezz...    9.3               0   \n",
       "1  http://pitchfork.com/reviews/albums/22721-prel...    7.9               0   \n",
       "2  http://pitchfork.com/reviews/albums/22659-all-...    7.3               0   \n",
       "3  http://pitchfork.com/reviews/albums/22661-firs...    9.0               1   \n",
       "4  http://pitchfork.com/reviews/albums/22725-new-...    8.1               0   \n",
       "\n",
       "           author               author_type    pub_date  pub_weekday  pub_day  \\\n",
       "0     nate patrin               contributor  2017-01-08            6        8   \n",
       "1        zoe camp               contributor  2017-01-07            5        7   \n",
       "2  david glickman               contributor  2017-01-07            5        7   \n",
       "3      jenn pelly  associate reviews editor  2017-01-06            4        6   \n",
       "4    kevin lozano        tracks coordinator  2017-01-06            4        6   \n",
       "\n",
       "   pub_month  pub_year  \n",
       "0          1      2017  \n",
       "1          1      2017  \n",
       "2          1      2017  \n",
       "3          1      2017  \n",
       "4          1      2017  "
      ]
     },
     "execution_count": 8,
     "metadata": {},
     "output_type": "execute_result"
    }
   ],
   "source": [
    "reviews=pd.read_sql_query('select * from reviews',conn)\n",
    "reviews.head()"
   ]
  },
  {
   "cell_type": "code",
   "execution_count": 9,
   "metadata": {
    "scrolled": true
   },
   "outputs": [
    {
     "name": "stdout",
     "output_type": "stream",
     "text": [
      "<class 'pandas.core.frame.DataFrame'>\n",
      "RangeIndex: 18393 entries, 0 to 18392\n",
      "Data columns (total 13 columns):\n",
      " #   Column          Non-Null Count  Dtype  \n",
      "---  ------          --------------  -----  \n",
      " 0   reviewid        18393 non-null  int64  \n",
      " 1   title           18393 non-null  object \n",
      " 2   artist          18393 non-null  object \n",
      " 3   url             18393 non-null  object \n",
      " 4   score           18393 non-null  float64\n",
      " 5   best_new_music  18393 non-null  int64  \n",
      " 6   author          18393 non-null  object \n",
      " 7   author_type     14487 non-null  object \n",
      " 8   pub_date        18393 non-null  object \n",
      " 9   pub_weekday     18393 non-null  int64  \n",
      " 10  pub_day         18393 non-null  int64  \n",
      " 11  pub_month       18393 non-null  int64  \n",
      " 12  pub_year        18393 non-null  int64  \n",
      "dtypes: float64(1), int64(6), object(6)\n",
      "memory usage: 1.8+ MB\n"
     ]
    }
   ],
   "source": [
    "reviews.info()"
   ]
  },
  {
   "cell_type": "code",
   "execution_count": 10,
   "metadata": {
    "scrolled": true
   },
   "outputs": [
    {
     "data": {
      "text/plain": [
       "0    17450\n",
       "1      943\n",
       "Name: best_new_music, dtype: int64"
      ]
     },
     "execution_count": 10,
     "metadata": {},
     "output_type": "execute_result"
    }
   ],
   "source": [
    "reviews['best_new_music'].value_counts()"
   ]
  },
  {
   "cell_type": "code",
   "execution_count": 11,
   "metadata": {},
   "outputs": [
    {
     "data": {
      "text/html": [
       "<div>\n",
       "<style scoped>\n",
       "    .dataframe tbody tr th:only-of-type {\n",
       "        vertical-align: middle;\n",
       "    }\n",
       "\n",
       "    .dataframe tbody tr th {\n",
       "        vertical-align: top;\n",
       "    }\n",
       "\n",
       "    .dataframe thead th {\n",
       "        text-align: right;\n",
       "    }\n",
       "</style>\n",
       "<table border=\"1\" class=\"dataframe\">\n",
       "  <thead>\n",
       "    <tr style=\"text-align: right;\">\n",
       "      <th></th>\n",
       "      <th>reviewid</th>\n",
       "      <th>year</th>\n",
       "    </tr>\n",
       "  </thead>\n",
       "  <tbody>\n",
       "    <tr>\n",
       "      <th>0</th>\n",
       "      <td>22703</td>\n",
       "      <td>1998.0</td>\n",
       "    </tr>\n",
       "    <tr>\n",
       "      <th>1</th>\n",
       "      <td>22721</td>\n",
       "      <td>2016.0</td>\n",
       "    </tr>\n",
       "    <tr>\n",
       "      <th>2</th>\n",
       "      <td>22659</td>\n",
       "      <td>2016.0</td>\n",
       "    </tr>\n",
       "    <tr>\n",
       "      <th>3</th>\n",
       "      <td>22661</td>\n",
       "      <td>2016.0</td>\n",
       "    </tr>\n",
       "    <tr>\n",
       "      <th>4</th>\n",
       "      <td>22725</td>\n",
       "      <td>2016.0</td>\n",
       "    </tr>\n",
       "  </tbody>\n",
       "</table>\n",
       "</div>"
      ],
      "text/plain": [
       "   reviewid    year\n",
       "0     22703  1998.0\n",
       "1     22721  2016.0\n",
       "2     22659  2016.0\n",
       "3     22661  2016.0\n",
       "4     22725  2016.0"
      ]
     },
     "execution_count": 11,
     "metadata": {},
     "output_type": "execute_result"
    }
   ],
   "source": [
    "pd.read_sql_query('select * from years',conn).head()"
   ]
  },
  {
   "cell_type": "code",
   "execution_count": 12,
   "metadata": {
    "scrolled": true
   },
   "outputs": [
    {
     "data": {
      "text/html": [
       "<div>\n",
       "<style scoped>\n",
       "    .dataframe tbody tr th:only-of-type {\n",
       "        vertical-align: middle;\n",
       "    }\n",
       "\n",
       "    .dataframe tbody tr th {\n",
       "        vertical-align: top;\n",
       "    }\n",
       "\n",
       "    .dataframe thead th {\n",
       "        text-align: right;\n",
       "    }\n",
       "</style>\n",
       "<table border=\"1\" class=\"dataframe\">\n",
       "  <thead>\n",
       "    <tr style=\"text-align: right;\">\n",
       "      <th></th>\n",
       "      <th>reviewid</th>\n",
       "      <th>title</th>\n",
       "      <th>score</th>\n",
       "      <th>best_new_music</th>\n",
       "      <th>artist</th>\n",
       "      <th>author</th>\n",
       "      <th>author_type</th>\n",
       "      <th>pub_month</th>\n",
       "      <th>pub_year</th>\n",
       "      <th>genre</th>\n",
       "      <th>label</th>\n",
       "    </tr>\n",
       "  </thead>\n",
       "  <tbody>\n",
       "    <tr>\n",
       "      <th>0</th>\n",
       "      <td>22703</td>\n",
       "      <td>mezzanine</td>\n",
       "      <td>9.3</td>\n",
       "      <td>0</td>\n",
       "      <td>massive attack</td>\n",
       "      <td>nate patrin</td>\n",
       "      <td>contributor</td>\n",
       "      <td>1</td>\n",
       "      <td>2017</td>\n",
       "      <td>electronic</td>\n",
       "      <td>virgin</td>\n",
       "    </tr>\n",
       "    <tr>\n",
       "      <th>1</th>\n",
       "      <td>22721</td>\n",
       "      <td>prelapsarian</td>\n",
       "      <td>7.9</td>\n",
       "      <td>0</td>\n",
       "      <td>krallice</td>\n",
       "      <td>zoe camp</td>\n",
       "      <td>contributor</td>\n",
       "      <td>1</td>\n",
       "      <td>2017</td>\n",
       "      <td>metal</td>\n",
       "      <td>hathenter</td>\n",
       "    </tr>\n",
       "    <tr>\n",
       "      <th>2</th>\n",
       "      <td>22659</td>\n",
       "      <td>all of them naturals</td>\n",
       "      <td>7.3</td>\n",
       "      <td>0</td>\n",
       "      <td>uranium club</td>\n",
       "      <td>david glickman</td>\n",
       "      <td>contributor</td>\n",
       "      <td>1</td>\n",
       "      <td>2017</td>\n",
       "      <td>rock</td>\n",
       "      <td>fashionable idiots</td>\n",
       "    </tr>\n",
       "    <tr>\n",
       "      <th>3</th>\n",
       "      <td>22659</td>\n",
       "      <td>all of them naturals</td>\n",
       "      <td>7.3</td>\n",
       "      <td>0</td>\n",
       "      <td>uranium club</td>\n",
       "      <td>david glickman</td>\n",
       "      <td>contributor</td>\n",
       "      <td>1</td>\n",
       "      <td>2017</td>\n",
       "      <td>rock</td>\n",
       "      <td>static shock</td>\n",
       "    </tr>\n",
       "    <tr>\n",
       "      <th>4</th>\n",
       "      <td>22661</td>\n",
       "      <td>first songs</td>\n",
       "      <td>9.0</td>\n",
       "      <td>1</td>\n",
       "      <td>kleenex</td>\n",
       "      <td>jenn pelly</td>\n",
       "      <td>associate reviews editor</td>\n",
       "      <td>1</td>\n",
       "      <td>2017</td>\n",
       "      <td>rock</td>\n",
       "      <td>kill rock stars</td>\n",
       "    </tr>\n",
       "  </tbody>\n",
       "</table>\n",
       "</div>"
      ],
      "text/plain": [
       "   reviewid                 title  score  best_new_music          artist  \\\n",
       "0     22703             mezzanine    9.3               0  massive attack   \n",
       "1     22721          prelapsarian    7.9               0        krallice   \n",
       "2     22659  all of them naturals    7.3               0    uranium club   \n",
       "3     22659  all of them naturals    7.3               0    uranium club   \n",
       "4     22661           first songs    9.0               1         kleenex   \n",
       "\n",
       "           author               author_type  pub_month  pub_year       genre  \\\n",
       "0     nate patrin               contributor          1      2017  electronic   \n",
       "1        zoe camp               contributor          1      2017       metal   \n",
       "2  david glickman               contributor          1      2017        rock   \n",
       "3  david glickman               contributor          1      2017        rock   \n",
       "4      jenn pelly  associate reviews editor          1      2017        rock   \n",
       "\n",
       "                label  \n",
       "0              virgin  \n",
       "1           hathenter  \n",
       "2  fashionable idiots  \n",
       "3        static shock  \n",
       "4     kill rock stars  "
      ]
     },
     "execution_count": 12,
     "metadata": {},
     "output_type": "execute_result"
    }
   ],
   "source": [
    "df=pd.read_sql_query(\"select r.reviewid,r.title,r.score,r.best_new_music,a.artist,r.author,r.author_type,r.pub_month,r.pub_year,g.genre,l.label from reviews r left join labels l on r.reviewid=l.reviewid left join genres g on r.reviewid=g.reviewid join artists a on r.reviewid=a.reviewid\",conn)\n",
    "df.head()"
   ]
  },
  {
   "cell_type": "code",
   "execution_count": 13,
   "metadata": {},
   "outputs": [],
   "source": [
    "conn.close()"
   ]
  },
  {
   "cell_type": "code",
   "execution_count": 14,
   "metadata": {
    "scrolled": true
   },
   "outputs": [],
   "source": [
    "#df=pd.read_sql_query(\"select r.reviewid,r.title,r.artist,r.url,r.score,r.best_new_music,r.author,r.author_type,r.pub_date,r.pub_weekday,r.pub_day,r.pub_month,r.pub_year,y.year from reviews r left join years y on r.reviewid=y.reviewid left join labels l on r.reviewid=l.reviewid left join genres g on r.reviewid=g.reviewid left join content c on r.reviewid=c.reviewid\",conn)\n",
    "#df.head()"
   ]
  },
  {
   "cell_type": "code",
   "execution_count": 15,
   "metadata": {},
   "outputs": [
    {
     "data": {
      "text/plain": [
       "<matplotlib.axes._subplots.AxesSubplot at 0x21fb2cc4188>"
      ]
     },
     "execution_count": 15,
     "metadata": {},
     "output_type": "execute_result"
    },
    {
     "data": {
      "image/png": "[encoded data removed]",
      "text/plain": [
       "<Figure size 1440x720 with 2 Axes>"
      ]
     },
     "metadata": {
      "needs_background": "light"
     },
     "output_type": "display_data"
    }
   ],
   "source": [
    "import missingno\n",
    "missingno.matrix(df,figsize=(20,10))"
   ]
  },
  {
   "cell_type": "code",
   "execution_count": 16,
   "metadata": {},
   "outputs": [
    {
     "data": {
      "text/plain": [
       "<matplotlib.axes._subplots.AxesSubplot at 0x21fb2673208>"
      ]
     },
     "execution_count": 16,
     "metadata": {},
     "output_type": "execute_result"
    },
    {
     "data": {
      "image/png": "[encoded data removed]",
      "text/plain": [
       "<Figure size 432x288 with 2 Axes>"
      ]
     },
     "metadata": {
      "needs_background": "light"
     },
     "output_type": "display_data"
    }
   ],
   "source": [
    "sns.heatmap(df.corr(),annot=True)"
   ]
  },
  {
   "cell_type": "code",
   "execution_count": 17,
   "metadata": {},
   "outputs": [
    {
     "data": {
      "text/plain": [
       "reviewid             0\n",
       "title                0\n",
       "score                0\n",
       "best_new_music       0\n",
       "artist               0\n",
       "author               0\n",
       "author_type       5630\n",
       "pub_month            0\n",
       "pub_year             0\n",
       "genre             2591\n",
       "label               44\n",
       "dtype: int64"
      ]
     },
     "execution_count": 17,
     "metadata": {},
     "output_type": "execute_result"
    }
   ],
   "source": [
    "df.isnull().sum()"
   ]
  },
  {
   "cell_type": "code",
   "execution_count": 18,
   "metadata": {},
   "outputs": [],
   "source": [
    "df=df.drop(['reviewid','title'],axis=1)"
   ]
  },
  {
   "cell_type": "code",
   "execution_count": 19,
   "metadata": {
    "scrolled": false
   },
   "outputs": [
    {
     "data": {
      "text/html": [
       "<div>\n",
       "<style scoped>\n",
       "    .dataframe tbody tr th:only-of-type {\n",
       "        vertical-align: middle;\n",
       "    }\n",
       "\n",
       "    .dataframe tbody tr th {\n",
       "        vertical-align: top;\n",
       "    }\n",
       "\n",
       "    .dataframe thead th {\n",
       "        text-align: right;\n",
       "    }\n",
       "</style>\n",
       "<table border=\"1\" class=\"dataframe\">\n",
       "  <thead>\n",
       "    <tr style=\"text-align: right;\">\n",
       "      <th></th>\n",
       "      <th>score</th>\n",
       "      <th>best_new_music</th>\n",
       "      <th>artist</th>\n",
       "      <th>author</th>\n",
       "      <th>author_type</th>\n",
       "      <th>pub_month</th>\n",
       "      <th>pub_year</th>\n",
       "      <th>genre</th>\n",
       "      <th>label</th>\n",
       "    </tr>\n",
       "  </thead>\n",
       "  <tbody>\n",
       "    <tr>\n",
       "      <th>0</th>\n",
       "      <td>9.3</td>\n",
       "      <td>0</td>\n",
       "      <td>massive attack</td>\n",
       "      <td>nate patrin</td>\n",
       "      <td>contributor</td>\n",
       "      <td>1</td>\n",
       "      <td>2017</td>\n",
       "      <td>electronic</td>\n",
       "      <td>virgin</td>\n",
       "    </tr>\n",
       "    <tr>\n",
       "      <th>1</th>\n",
       "      <td>7.9</td>\n",
       "      <td>0</td>\n",
       "      <td>krallice</td>\n",
       "      <td>zoe camp</td>\n",
       "      <td>contributor</td>\n",
       "      <td>1</td>\n",
       "      <td>2017</td>\n",
       "      <td>metal</td>\n",
       "      <td>hathenter</td>\n",
       "    </tr>\n",
       "    <tr>\n",
       "      <th>2</th>\n",
       "      <td>7.3</td>\n",
       "      <td>0</td>\n",
       "      <td>uranium club</td>\n",
       "      <td>david glickman</td>\n",
       "      <td>contributor</td>\n",
       "      <td>1</td>\n",
       "      <td>2017</td>\n",
       "      <td>rock</td>\n",
       "      <td>fashionable idiots</td>\n",
       "    </tr>\n",
       "    <tr>\n",
       "      <th>3</th>\n",
       "      <td>7.3</td>\n",
       "      <td>0</td>\n",
       "      <td>uranium club</td>\n",
       "      <td>david glickman</td>\n",
       "      <td>contributor</td>\n",
       "      <td>1</td>\n",
       "      <td>2017</td>\n",
       "      <td>rock</td>\n",
       "      <td>static shock</td>\n",
       "    </tr>\n",
       "    <tr>\n",
       "      <th>4</th>\n",
       "      <td>9.0</td>\n",
       "      <td>1</td>\n",
       "      <td>kleenex</td>\n",
       "      <td>jenn pelly</td>\n",
       "      <td>associate reviews editor</td>\n",
       "      <td>1</td>\n",
       "      <td>2017</td>\n",
       "      <td>rock</td>\n",
       "      <td>kill rock stars</td>\n",
       "    </tr>\n",
       "  </tbody>\n",
       "</table>\n",
       "</div>"
      ],
      "text/plain": [
       "   score  best_new_music          artist          author  \\\n",
       "0    9.3               0  massive attack     nate patrin   \n",
       "1    7.9               0        krallice        zoe camp   \n",
       "2    7.3               0    uranium club  david glickman   \n",
       "3    7.3               0    uranium club  david glickman   \n",
       "4    9.0               1         kleenex      jenn pelly   \n",
       "\n",
       "                author_type  pub_month  pub_year       genre  \\\n",
       "0               contributor          1      2017  electronic   \n",
       "1               contributor          1      2017       metal   \n",
       "2               contributor          1      2017        rock   \n",
       "3               contributor          1      2017        rock   \n",
       "4  associate reviews editor          1      2017        rock   \n",
       "\n",
       "                label  \n",
       "0              virgin  \n",
       "1           hathenter  \n",
       "2  fashionable idiots  \n",
       "3        static shock  \n",
       "4     kill rock stars  "
      ]
     },
     "execution_count": 19,
     "metadata": {},
     "output_type": "execute_result"
    }
   ],
   "source": [
    "df.head()"
   ]
  },
  {
   "cell_type": "markdown",
   "metadata": {},
   "source": [
    "# Features"
   ]
  },
  {
   "cell_type": "markdown",
   "metadata": {},
   "source": [
    "## Artists"
   ]
  },
  {
   "cell_type": "code",
   "execution_count": 20,
   "metadata": {
    "scrolled": true
   },
   "outputs": [
    {
     "data": {
      "text/plain": [
       "various artists                               785\n",
       "xiu xiu                                        42\n",
       "prince                                         40\n",
       "deerhoof                                       36\n",
       "xasthur                                        36\n",
       "                                             ... \n",
       "roy orbison                                     1\n",
       "kilowatthours                                   1\n",
       "larry levan                                     1\n",
       "nick castro and the young elders                1\n",
       "dragged into sunlight / gnaw their tongues      1\n",
       "Name: artist, Length: 8633, dtype: int64"
      ]
     },
     "execution_count": 20,
     "metadata": {},
     "output_type": "execute_result"
    }
   ],
   "source": [
    "df['artist'].value_counts()"
   ]
  },
  {
   "cell_type": "markdown",
   "metadata": {},
   "source": [
    "## Score"
   ]
  },
  {
   "cell_type": "code",
   "execution_count": 21,
   "metadata": {
    "scrolled": false
   },
   "outputs": [
    {
     "data": {
      "text/plain": [
       "0        9.3\n",
       "1        7.9\n",
       "2        7.3\n",
       "3        7.3\n",
       "4        9.0\n",
       "        ... \n",
       "25801    6.3\n",
       "25802    7.2\n",
       "25803    7.2\n",
       "25804    7.2\n",
       "25805    6.5\n",
       "Name: score, Length: 25806, dtype: float64"
      ]
     },
     "execution_count": 21,
     "metadata": {},
     "output_type": "execute_result"
    }
   ],
   "source": [
    "df['score']"
   ]
  },
  {
   "cell_type": "code",
   "execution_count": 22,
   "metadata": {
    "scrolled": false
   },
   "outputs": [
    {
     "data": {
      "text/plain": [
       "<matplotlib.axes._subplots.AxesSubplot at 0x21fb3797dc8>"
      ]
     },
     "execution_count": 22,
     "metadata": {},
     "output_type": "execute_result"
    },
    {
     "data": {
      "image/png": "[encoded data removed]",
      "text/plain": [
       "<Figure size 432x288 with 1 Axes>"
      ]
     },
     "metadata": {
      "needs_background": "light"
     },
     "output_type": "display_data"
    }
   ],
   "source": [
    "sns.distplot(df['score'],bins=10)"
   ]
  },
  {
   "cell_type": "code",
   "execution_count": 23,
   "metadata": {},
   "outputs": [
    {
     "data": {
      "image/png": "[encoded data removed]",
      "text/plain": [
       "<Figure size 432x288 with 1 Axes>"
      ]
     },
     "metadata": {
      "needs_background": "light"
     },
     "output_type": "display_data"
    }
   ],
   "source": [
    "sns.distplot(a=df.score,bins=10,hist=True,kde=True,rug=True);\n"
   ]
  },
  {
   "cell_type": "code",
   "execution_count": 24,
   "metadata": {
    "scrolled": true
   },
   "outputs": [
    {
     "data": {
      "text/plain": [
       "(7.0, 8.0]       10104\n",
       "(6.0, 7.0]        6474\n",
       "(8.0, 9.0]        3759\n",
       "(5.0, 6.0]        2818\n",
       "(4.0, 5.0]        1147\n",
       "(3.0, 4.0]         568\n",
       "(9.0, 10.0]        519\n",
       "(2.0, 3.0]         260\n",
       "(1.0, 2.0]         105\n",
       "(-0.011, 1.0]       52\n",
       "Name: score, dtype: int64"
      ]
     },
     "execution_count": 24,
     "metadata": {},
     "output_type": "execute_result"
    }
   ],
   "source": [
    "df['score'].value_counts(bins=10)"
   ]
  },
  {
   "cell_type": "code",
   "execution_count": 25,
   "metadata": {},
   "outputs": [
    {
     "data": {
      "text/plain": [
       "<matplotlib.axes._subplots.AxesSubplot at 0x21fb590df88>"
      ]
     },
     "execution_count": 25,
     "metadata": {},
     "output_type": "execute_result"
    },
    {
     "data": {
      "image/png": "[encoded data removed]",
      "text/plain": [
       "<Figure size 432x288 with 1 Axes>"
      ]
     },
     "metadata": {
      "needs_background": "light"
     },
     "output_type": "display_data"
    }
   ],
   "source": [
    "df['score'].value_counts(bins=10,ascending=True).plot(kind='bar',)"
   ]
  },
  {
   "cell_type": "code",
   "execution_count": 26,
   "metadata": {},
   "outputs": [],
   "source": [
    "q1=df['score'].quantile(0.25)\n",
    "q3=df['score'].quantile(0.75)\n",
    "iqr=q3-q1\n",
    "high=q3+(1.5*iqr)\n",
    "low=q1-(1.5*iqr)\n",
    "df.drop(df[df['score']>high].index,inplace=True)\n",
    "df.drop(df[df['score']<low].index,inplace=True)"
   ]
  },
  {
   "cell_type": "markdown",
   "metadata": {},
   "source": [
    "## Best New Music"
   ]
  },
  {
   "cell_type": "code",
   "execution_count": 27,
   "metadata": {},
   "outputs": [
    {
     "data": {
      "text/plain": [
       "0    23185\n",
       "1     1328\n",
       "Name: best_new_music, dtype: int64"
      ]
     },
     "execution_count": 27,
     "metadata": {},
     "output_type": "execute_result"
    }
   ],
   "source": [
    "df['best_new_music'].value_counts()"
   ]
  },
  {
   "cell_type": "code",
   "execution_count": 28,
   "metadata": {
    "scrolled": true
   },
   "outputs": [
    {
     "data": {
      "image/png": "[encoded data removed]",
      "text/plain": [
       "<Figure size 432x288 with 1 Axes>"
      ]
     },
     "metadata": {
      "needs_background": "light"
     },
     "output_type": "display_data"
    }
   ],
   "source": [
    "sns.distplot(df[df['best_new_music']==0]['score'])\n",
    "sns.distplot(df[df['best_new_music']==1]['score'])\n",
    "plt.legend(labels=['Not Won','Won'])\n",
    "plt.show()"
   ]
  },
  {
   "cell_type": "code",
   "execution_count": 29,
   "metadata": {
    "scrolled": true
   },
   "outputs": [
    {
     "data": {
      "text/plain": [
       "<matplotlib.axes._subplots.AxesSubplot at 0x21fb58aab88>"
      ]
     },
     "execution_count": 29,
     "metadata": {},
     "output_type": "execute_result"
    },
    {
     "data": {
      "image/png": "[encoded data removed]",
      "text/plain": [
       "<Figure size 432x288 with 1 Axes>"
      ]
     },
     "metadata": {
      "needs_background": "light"
     },
     "output_type": "display_data"
    }
   ],
   "source": [
    "plt.figure()\n",
    "sns.boxplot(y='score',x='best_new_music',hue='best_new_music',data=df)"
   ]
  },
  {
   "cell_type": "code",
   "execution_count": 30,
   "metadata": {
    "scrolled": true
   },
   "outputs": [
    {
     "data": {
      "text/html": [
       "<div>\n",
       "<style scoped>\n",
       "    .dataframe tbody tr th:only-of-type {\n",
       "        vertical-align: middle;\n",
       "    }\n",
       "\n",
       "    .dataframe tbody tr th {\n",
       "        vertical-align: top;\n",
       "    }\n",
       "\n",
       "    .dataframe thead th {\n",
       "        text-align: right;\n",
       "    }\n",
       "</style>\n",
       "<table border=\"1\" class=\"dataframe\">\n",
       "  <thead>\n",
       "    <tr style=\"text-align: right;\">\n",
       "      <th></th>\n",
       "      <th>score</th>\n",
       "      <th>best_new_music</th>\n",
       "      <th>artist</th>\n",
       "      <th>author</th>\n",
       "      <th>author_type</th>\n",
       "      <th>pub_month</th>\n",
       "      <th>pub_year</th>\n",
       "      <th>genre</th>\n",
       "      <th>label</th>\n",
       "    </tr>\n",
       "  </thead>\n",
       "  <tbody>\n",
       "  </tbody>\n",
       "</table>\n",
       "</div>"
      ],
      "text/plain": [
       "Empty DataFrame\n",
       "Columns: [score, best_new_music, artist, author, author_type, pub_month, pub_year, genre, label]\n",
       "Index: []"
      ]
     },
     "execution_count": 30,
     "metadata": {},
     "output_type": "execute_result"
    }
   ],
   "source": [
    "df[(df['score']<4)&(df['best_new_music']==1)]"
   ]
  },
  {
   "cell_type": "markdown",
   "metadata": {},
   "source": [
    "## Author"
   ]
  },
  {
   "cell_type": "code",
   "execution_count": 31,
   "metadata": {
    "scrolled": true
   },
   "outputs": [
    {
     "data": {
      "text/plain": [
       "joe tangari              1098\n",
       "ian cohen                 851\n",
       "stephen m. deusner        821\n",
       "brian howe                699\n",
       "mark richardson           682\n",
       "                         ... \n",
       "keith brasel                1\n",
       "noah sutcliffe              1\n",
       "seth colter-walls           1\n",
       "andrew nosnitsky            1\n",
       "stosh \"piz\" piznarski       1\n",
       "Name: author, Length: 423, dtype: int64"
      ]
     },
     "execution_count": 31,
     "metadata": {},
     "output_type": "execute_result"
    }
   ],
   "source": [
    "df['author'].value_counts(dropna=False)"
   ]
  },
  {
   "cell_type": "code",
   "execution_count": 32,
   "metadata": {
    "scrolled": true
   },
   "outputs": [
    {
     "data": {
      "text/plain": [
       "joe tangari                    809\n",
       "mark richardson                487\n",
       "stephen m. deusner             475\n",
       "brian howe                     413\n",
       "marc masters                   375\n",
       "                              ... \n",
       "seth colter-walls                1\n",
       "lawrence burney                  1\n",
       "dan kilian & ryan schreiber      1\n",
       "stephen haag                     1\n",
       "j. wasserman                     1\n",
       "Name: author, Length: 386, dtype: int64"
      ]
     },
     "execution_count": 32,
     "metadata": {},
     "output_type": "execute_result"
    }
   ],
   "source": [
    "df[df['score']>7]['author'].value_counts()"
   ]
  },
  {
   "cell_type": "markdown",
   "metadata": {},
   "source": [
    "## Author Type"
   ]
  },
  {
   "cell_type": "code",
   "execution_count": 33,
   "metadata": {
    "scrolled": true
   },
   "outputs": [
    {
     "data": {
      "text/plain": [
       "contributor                  16483\n",
       "NaN                           5259\n",
       "senior editor                  681\n",
       "executive editor               680\n",
       "senior staff writer            572\n",
       "contributing editor            241\n",
       "deputy news editor             131\n",
       "associate staff writer         129\n",
       "editor-in-chief                127\n",
       "associate reviews editor        59\n",
       "tracks coordinator              56\n",
       "associate editor                54\n",
       "assistant editor                19\n",
       "associate features editor       16\n",
       "managing editor                  3\n",
       "news director                    3\n",
       "Name: author_type, dtype: int64"
      ]
     },
     "execution_count": 33,
     "metadata": {},
     "output_type": "execute_result"
    }
   ],
   "source": [
    "df['author_type'].value_counts(dropna=False)"
   ]
  },
  {
   "cell_type": "code",
   "execution_count": 34,
   "metadata": {
    "scrolled": false
   },
   "outputs": [
    {
     "data": {
      "text/plain": [
       "<matplotlib.axes._subplots.AxesSubplot at 0x21fb5b29248>"
      ]
     },
     "execution_count": 34,
     "metadata": {},
     "output_type": "execute_result"
    },
    {
     "data": {
      "image/png": "[encoded data removed]",
      "text/plain": [
       "<Figure size 2160x576 with 1 Axes>"
      ]
     },
     "metadata": {
      "needs_background": "light"
     },
     "output_type": "display_data"
    }
   ],
   "source": [
    "plt.figure(figsize=(30,8))\n",
    "sns.boxplot(x='author_type',data=df,y='score')"
   ]
  },
  {
   "cell_type": "code",
   "execution_count": 35,
   "metadata": {},
   "outputs": [
    {
     "data": {
      "text/plain": [
       "score                0\n",
       "best_new_music       0\n",
       "artist               0\n",
       "author               0\n",
       "author_type       5259\n",
       "pub_month            0\n",
       "pub_year             0\n",
       "genre             2490\n",
       "label               44\n",
       "dtype: int64"
      ]
     },
     "execution_count": 35,
     "metadata": {},
     "output_type": "execute_result"
    }
   ],
   "source": [
    "df.isnull().sum()"
   ]
  },
  {
   "cell_type": "code",
   "execution_count": 36,
   "metadata": {},
   "outputs": [],
   "source": [
    "df['author_type']=df['author_type'].fillna(df['author_type'].mode()[0])"
   ]
  },
  {
   "cell_type": "code",
   "execution_count": 37,
   "metadata": {
    "scrolled": false
   },
   "outputs": [
    {
     "data": {
      "text/plain": [
       "score                0\n",
       "best_new_music       0\n",
       "artist               0\n",
       "author               0\n",
       "author_type          0\n",
       "pub_month            0\n",
       "pub_year             0\n",
       "genre             2490\n",
       "label               44\n",
       "dtype: int64"
      ]
     },
     "execution_count": 37,
     "metadata": {},
     "output_type": "execute_result"
    }
   ],
   "source": [
    "df.isnull().sum()"
   ]
  },
  {
   "cell_type": "markdown",
   "metadata": {},
   "source": [
    "## Date\n",
    "### pub_month,pub_year"
   ]
  },
  {
   "cell_type": "code",
   "execution_count": 38,
   "metadata": {
    "scrolled": false
   },
   "outputs": [
    {
     "data": {
      "text/plain": [
       "2011    1727\n",
       "2006    1697\n",
       "2010    1654\n",
       "2016    1635\n",
       "2007    1627\n",
       "2008    1603\n",
       "2012    1577\n",
       "2013    1574\n",
       "2005    1553\n",
       "2004    1533\n",
       "2014    1522\n",
       "2009    1519\n",
       "2003    1389\n",
       "2015    1332\n",
       "2002    1170\n",
       "2001     588\n",
       "2000     473\n",
       "1999     319\n",
       "2017      21\n",
       "Name: pub_year, dtype: int64"
      ]
     },
     "execution_count": 38,
     "metadata": {},
     "output_type": "execute_result"
    }
   ],
   "source": [
    "df['pub_year'].value_counts()"
   ]
  },
  {
   "cell_type": "code",
   "execution_count": 40,
   "metadata": {
    "scrolled": false
   },
   "outputs": [
    {
     "data": {
      "text/plain": [
       "pub_year\n",
       "2003    8.680769\n",
       "2004    8.691803\n",
       "2005    8.698305\n",
       "2006    8.668750\n",
       "2007    8.658571\n",
       "2008    8.596667\n",
       "2009    8.599153\n",
       "2010    8.658678\n",
       "2011    8.652308\n",
       "2012    8.670085\n",
       "2013    8.588430\n",
       "2014    8.652632\n",
       "2015    8.598980\n",
       "2016    8.486719\n",
       "2017    8.920000\n",
       "Name: score, dtype: float64"
      ]
     },
     "execution_count": 40,
     "metadata": {},
     "output_type": "execute_result"
    }
   ],
   "source": [
    "df[df['best_new_music']==1].groupby(by='pub_year').mean()['score']"
   ]
  },
  {
   "cell_type": "code",
   "execution_count": 41,
   "metadata": {},
   "outputs": [
    {
     "data": {
      "text/html": [
       "<div>\n",
       "<style scoped>\n",
       "    .dataframe tbody tr th:only-of-type {\n",
       "        vertical-align: middle;\n",
       "    }\n",
       "\n",
       "    .dataframe tbody tr th {\n",
       "        vertical-align: top;\n",
       "    }\n",
       "\n",
       "    .dataframe thead th {\n",
       "        text-align: right;\n",
       "    }\n",
       "</style>\n",
       "<table border=\"1\" class=\"dataframe\">\n",
       "  <thead>\n",
       "    <tr style=\"text-align: right;\">\n",
       "      <th>pub_year</th>\n",
       "      <th>1999</th>\n",
       "      <th>2000</th>\n",
       "      <th>2001</th>\n",
       "      <th>2002</th>\n",
       "      <th>2003</th>\n",
       "      <th>2004</th>\n",
       "      <th>2005</th>\n",
       "      <th>2006</th>\n",
       "      <th>2007</th>\n",
       "      <th>2008</th>\n",
       "      <th>2009</th>\n",
       "      <th>2010</th>\n",
       "      <th>2011</th>\n",
       "      <th>2012</th>\n",
       "      <th>2013</th>\n",
       "      <th>2014</th>\n",
       "      <th>2015</th>\n",
       "      <th>2016</th>\n",
       "      <th>2017</th>\n",
       "    </tr>\n",
       "  </thead>\n",
       "  <tbody>\n",
       "    <tr>\n",
       "      <th>score</th>\n",
       "      <td>7.156113</td>\n",
       "      <td>7.280550</td>\n",
       "      <td>7.394898</td>\n",
       "      <td>7.233162</td>\n",
       "      <td>7.304968</td>\n",
       "      <td>7.369602</td>\n",
       "      <td>7.289375</td>\n",
       "      <td>7.170301</td>\n",
       "      <td>7.092440</td>\n",
       "      <td>7.090206</td>\n",
       "      <td>6.946017</td>\n",
       "      <td>7.101511</td>\n",
       "      <td>7.119861</td>\n",
       "      <td>7.065187</td>\n",
       "      <td>7.041487</td>\n",
       "      <td>7.148292</td>\n",
       "      <td>7.154505</td>\n",
       "      <td>7.249786</td>\n",
       "      <td>7.780952</td>\n",
       "    </tr>\n",
       "    <tr>\n",
       "      <th>best_new_music</th>\n",
       "      <td>0.000000</td>\n",
       "      <td>0.000000</td>\n",
       "      <td>0.000000</td>\n",
       "      <td>0.000000</td>\n",
       "      <td>0.056156</td>\n",
       "      <td>0.039791</td>\n",
       "      <td>0.037991</td>\n",
       "      <td>0.028285</td>\n",
       "      <td>0.043024</td>\n",
       "      <td>0.037430</td>\n",
       "      <td>0.077683</td>\n",
       "      <td>0.073156</td>\n",
       "      <td>0.075275</td>\n",
       "      <td>0.074192</td>\n",
       "      <td>0.076874</td>\n",
       "      <td>0.074901</td>\n",
       "      <td>0.073574</td>\n",
       "      <td>0.078287</td>\n",
       "      <td>0.238095</td>\n",
       "    </tr>\n",
       "    <tr>\n",
       "      <th>pub_month</th>\n",
       "      <td>6.357367</td>\n",
       "      <td>6.408034</td>\n",
       "      <td>8.061224</td>\n",
       "      <td>6.255556</td>\n",
       "      <td>6.268539</td>\n",
       "      <td>6.390085</td>\n",
       "      <td>6.397296</td>\n",
       "      <td>6.416028</td>\n",
       "      <td>6.214505</td>\n",
       "      <td>5.976294</td>\n",
       "      <td>6.157999</td>\n",
       "      <td>6.237001</td>\n",
       "      <td>5.985524</td>\n",
       "      <td>6.029803</td>\n",
       "      <td>6.202668</td>\n",
       "      <td>6.316032</td>\n",
       "      <td>6.317568</td>\n",
       "      <td>6.412232</td>\n",
       "      <td>1.000000</td>\n",
       "    </tr>\n",
       "  </tbody>\n",
       "</table>\n",
       "</div>"
      ],
      "text/plain": [
       "pub_year            1999      2000      2001      2002      2003      2004  \\\n",
       "score           7.156113  7.280550  7.394898  7.233162  7.304968  7.369602   \n",
       "best_new_music  0.000000  0.000000  0.000000  0.000000  0.056156  0.039791   \n",
       "pub_month       6.357367  6.408034  8.061224  6.255556  6.268539  6.390085   \n",
       "\n",
       "pub_year            2005      2006      2007      2008      2009      2010  \\\n",
       "score           7.289375  7.170301  7.092440  7.090206  6.946017  7.101511   \n",
       "best_new_music  0.037991  0.028285  0.043024  0.037430  0.077683  0.073156   \n",
       "pub_month       6.397296  6.416028  6.214505  5.976294  6.157999  6.237001   \n",
       "\n",
       "pub_year            2011      2012      2013      2014      2015      2016  \\\n",
       "score           7.119861  7.065187  7.041487  7.148292  7.154505  7.249786   \n",
       "best_new_music  0.075275  0.074192  0.076874  0.074901  0.073574  0.078287   \n",
       "pub_month       5.985524  6.029803  6.202668  6.316032  6.317568  6.412232   \n",
       "\n",
       "pub_year            2017  \n",
       "score           7.780952  \n",
       "best_new_music  0.238095  \n",
       "pub_month       1.000000  "
      ]
     },
     "execution_count": 41,
     "metadata": {},
     "output_type": "execute_result"
    }
   ],
   "source": [
    "df.groupby(by=['pub_year']).mean().T"
   ]
  },
  {
   "cell_type": "code",
   "execution_count": 42,
   "metadata": {
    "scrolled": false
   },
   "outputs": [
    {
     "data": {
      "image/png": "[encoded data removed]",
      "text/plain": [
       "<Figure size 1008x360 with 1 Axes>"
      ]
     },
     "metadata": {
      "needs_background": "light"
     },
     "output_type": "display_data"
    }
   ],
   "source": [
    "plt.figure(figsize=(14,5))\n",
    "sns.lineplot(y=df[df['best_new_music']==0].groupby(by='pub_year').mean()['score'], x=df[df['best_new_music']==0].groupby(by='pub_year').mean().index)\n",
    "sns.lineplot(y=df[df['best_new_music']==1].groupby(by='pub_year').mean()['score'], x=df[df['best_new_music']==1].groupby(by='pub_year').mean().index)\n",
    "plt.legend(labels=['Not Won','Won'])\n",
    "plt.show()"
   ]
  },
  {
   "cell_type": "markdown",
   "metadata": {},
   "source": [
    "## Inference\n",
    "    1.Best New Music awards started from 2003\n",
    "    2. Removing values from 2017 since it seems that data has been taken from early 2017"
   ]
  },
  {
   "cell_type": "code",
   "execution_count": 43,
   "metadata": {},
   "outputs": [],
   "source": [
    "df=df[df['pub_year']!=2017]"
   ]
  },
  {
   "cell_type": "code",
   "execution_count": 39,
   "metadata": {},
   "outputs": [],
   "source": [
    "df=df.drop(['pub_year'],axis=1)"
   ]
  },
  {
   "cell_type": "markdown",
   "metadata": {},
   "source": [
    "### pub_month"
   ]
  },
  {
   "cell_type": "code",
   "execution_count": 40,
   "metadata": {
    "scrolled": true
   },
   "outputs": [
    {
     "data": {
      "text/plain": [
       "10    2381\n",
       "3     2262\n",
       "4     2258\n",
       "6     2202\n",
       "5     2180\n",
       "9     2126\n",
       "2     2033\n",
       "11    2018\n",
       "1     2004\n",
       "8     1982\n",
       "7     1971\n",
       "12    1096\n",
       "Name: pub_month, dtype: int64"
      ]
     },
     "execution_count": 40,
     "metadata": {},
     "output_type": "execute_result"
    }
   ],
   "source": [
    "df['pub_month'].value_counts()"
   ]
  },
  {
   "cell_type": "markdown",
   "metadata": {},
   "source": [
    "## Genre"
   ]
  },
  {
   "cell_type": "code",
   "execution_count": 41,
   "metadata": {},
   "outputs": [
    {
     "data": {
      "text/plain": [
       "rock            9980\n",
       "electronic      4129\n",
       "NaN             2490\n",
       "experimental    2073\n",
       "rap             1830\n",
       "pop/r&b         1581\n",
       "metal            893\n",
       "folk/country     755\n",
       "jazz             509\n",
       "global           273\n",
       "Name: genre, dtype: int64"
      ]
     },
     "execution_count": 41,
     "metadata": {},
     "output_type": "execute_result"
    }
   ],
   "source": [
    "df['genre'].value_counts(dropna=False)"
   ]
  },
  {
   "cell_type": "code",
   "execution_count": 42,
   "metadata": {},
   "outputs": [
    {
     "data": {
      "image/png": "[encoded data removed]",
      "text/plain": [
       "<Figure size 720x360 with 1 Axes>"
      ]
     },
     "metadata": {
      "needs_background": "light"
     },
     "output_type": "display_data"
    }
   ],
   "source": [
    "plt.figure(figsize=(10,5))\n",
    "sns.countplot(df['genre'])\n",
    "plt.show()"
   ]
  },
  {
   "cell_type": "code",
   "execution_count": 43,
   "metadata": {},
   "outputs": [
    {
     "data": {
      "image/png": "[encoded data removed]",
      "text/plain": [
       "<Figure size 720x360 with 1 Axes>"
      ]
     },
     "metadata": {
      "needs_background": "light"
     },
     "output_type": "display_data"
    }
   ],
   "source": [
    "plt.figure(figsize=(10,5))\n",
    "sns.countplot(x='genre',hue='best_new_music',data=df)\n",
    "plt.show()"
   ]
  },
  {
   "cell_type": "markdown",
   "metadata": {},
   "source": [
    "## Labels"
   ]
  },
  {
   "cell_type": "code",
   "execution_count": 44,
   "metadata": {
    "scrolled": true
   },
   "outputs": [
    {
     "data": {
      "text/plain": [
       "44"
      ]
     },
     "execution_count": 44,
     "metadata": {},
     "output_type": "execute_result"
    }
   ],
   "source": [
    "df['label'].isnull().sum()"
   ]
  },
  {
   "cell_type": "code",
   "execution_count": 45,
   "metadata": {
    "scrolled": false
   },
   "outputs": [],
   "source": [
    "df['label'].fillna('None',inplace=True)"
   ]
  },
  {
   "cell_type": "markdown",
   "metadata": {},
   "source": [
    "## Base Model"
   ]
  },
  {
   "cell_type": "code",
   "execution_count": 46,
   "metadata": {},
   "outputs": [
    {
     "data": {
      "text/html": [
       "<div>\n",
       "<style scoped>\n",
       "    .dataframe tbody tr th:only-of-type {\n",
       "        vertical-align: middle;\n",
       "    }\n",
       "\n",
       "    .dataframe tbody tr th {\n",
       "        vertical-align: top;\n",
       "    }\n",
       "\n",
       "    .dataframe thead th {\n",
       "        text-align: right;\n",
       "    }\n",
       "</style>\n",
       "<table border=\"1\" class=\"dataframe\">\n",
       "  <thead>\n",
       "    <tr style=\"text-align: right;\">\n",
       "      <th></th>\n",
       "      <th>score</th>\n",
       "      <th>best_new_music</th>\n",
       "      <th>artist</th>\n",
       "      <th>author</th>\n",
       "      <th>author_type</th>\n",
       "      <th>pub_month</th>\n",
       "      <th>genre</th>\n",
       "      <th>label</th>\n",
       "    </tr>\n",
       "  </thead>\n",
       "  <tbody>\n",
       "    <tr>\n",
       "      <th>0</th>\n",
       "      <td>9.3</td>\n",
       "      <td>0</td>\n",
       "      <td>massive attack</td>\n",
       "      <td>nate patrin</td>\n",
       "      <td>contributor</td>\n",
       "      <td>1</td>\n",
       "      <td>electronic</td>\n",
       "      <td>virgin</td>\n",
       "    </tr>\n",
       "    <tr>\n",
       "      <th>1</th>\n",
       "      <td>7.9</td>\n",
       "      <td>0</td>\n",
       "      <td>krallice</td>\n",
       "      <td>zoe camp</td>\n",
       "      <td>contributor</td>\n",
       "      <td>1</td>\n",
       "      <td>metal</td>\n",
       "      <td>hathenter</td>\n",
       "    </tr>\n",
       "    <tr>\n",
       "      <th>2</th>\n",
       "      <td>7.3</td>\n",
       "      <td>0</td>\n",
       "      <td>uranium club</td>\n",
       "      <td>david glickman</td>\n",
       "      <td>contributor</td>\n",
       "      <td>1</td>\n",
       "      <td>rock</td>\n",
       "      <td>fashionable idiots</td>\n",
       "    </tr>\n",
       "    <tr>\n",
       "      <th>3</th>\n",
       "      <td>7.3</td>\n",
       "      <td>0</td>\n",
       "      <td>uranium club</td>\n",
       "      <td>david glickman</td>\n",
       "      <td>contributor</td>\n",
       "      <td>1</td>\n",
       "      <td>rock</td>\n",
       "      <td>static shock</td>\n",
       "    </tr>\n",
       "    <tr>\n",
       "      <th>4</th>\n",
       "      <td>9.0</td>\n",
       "      <td>1</td>\n",
       "      <td>kleenex</td>\n",
       "      <td>jenn pelly</td>\n",
       "      <td>associate reviews editor</td>\n",
       "      <td>1</td>\n",
       "      <td>rock</td>\n",
       "      <td>kill rock stars</td>\n",
       "    </tr>\n",
       "  </tbody>\n",
       "</table>\n",
       "</div>"
      ],
      "text/plain": [
       "   score  best_new_music          artist          author  \\\n",
       "0    9.3               0  massive attack     nate patrin   \n",
       "1    7.9               0        krallice        zoe camp   \n",
       "2    7.3               0    uranium club  david glickman   \n",
       "3    7.3               0    uranium club  david glickman   \n",
       "4    9.0               1         kleenex      jenn pelly   \n",
       "\n",
       "                author_type  pub_month       genre               label  \n",
       "0               contributor          1  electronic              virgin  \n",
       "1               contributor          1       metal           hathenter  \n",
       "2               contributor          1        rock  fashionable idiots  \n",
       "3               contributor          1        rock        static shock  \n",
       "4  associate reviews editor          1        rock     kill rock stars  "
      ]
     },
     "execution_count": 46,
     "metadata": {},
     "output_type": "execute_result"
    }
   ],
   "source": [
    "df.head()"
   ]
  },
  {
   "cell_type": "code",
   "execution_count": 47,
   "metadata": {
    "scrolled": true
   },
   "outputs": [
    {
     "data": {
      "text/plain": [
       "(24513, 8)"
      ]
     },
     "execution_count": 47,
     "metadata": {},
     "output_type": "execute_result"
    }
   ],
   "source": [
    "## Shape before Dropping\n",
    "df.shape"
   ]
  },
  {
   "cell_type": "code",
   "execution_count": 48,
   "metadata": {},
   "outputs": [
    {
     "data": {
      "text/plain": [
       "['artist', 'author', 'author_type', 'genre', 'label']"
      ]
     },
     "execution_count": 48,
     "metadata": {},
     "output_type": "execute_result"
    }
   ],
   "source": [
    "cat_cols=list(df.select_dtypes(include=['object']).columns)\n",
    "cat_cols"
   ]
  },
  {
   "cell_type": "code",
   "execution_count": 49,
   "metadata": {},
   "outputs": [],
   "source": [
    "cols=['author_type','genre']\n",
    "df=pd.get_dummies(df,columns=cols,drop_first=True)"
   ]
  },
  {
   "cell_type": "code",
   "execution_count": 50,
   "metadata": {},
   "outputs": [
    {
     "data": {
      "text/plain": [
       "0"
      ]
     },
     "execution_count": 50,
     "metadata": {},
     "output_type": "execute_result"
    }
   ],
   "source": [
    "df['label'].isnull().sum()"
   ]
  },
  {
   "cell_type": "code",
   "execution_count": 51,
   "metadata": {},
   "outputs": [],
   "source": [
    "\n",
    "from sklearn.preprocessing import LabelEncoder\n",
    "le=LabelEncoder()\n",
    "df['artist']=le.fit_transform(df['artist'])\n",
    "df['author']=le.fit_transform(df['author'])\n",
    "df['label']=le.fit_transform(df['label'])\n",
    "#df['pub_year']=le.fit_transform(df['pub_year'])"
   ]
  },
  {
   "cell_type": "code",
   "execution_count": 52,
   "metadata": {},
   "outputs": [],
   "source": [
    "#df=df.dropna()"
   ]
  },
  {
   "cell_type": "markdown",
   "metadata": {},
   "source": [
    "### MICE imputer"
   ]
  },
  {
   "cell_type": "code",
   "execution_count": 53,
   "metadata": {},
   "outputs": [
    {
     "data": {
      "text/plain": [
       "'from sklearn.experimental import enable_iterative_imputer\\nfrom sklearn.impute import IterativeImputer\\nimp = IterativeImputer(max_iter=10, random_state=0)'"
      ]
     },
     "execution_count": 53,
     "metadata": {},
     "output_type": "execute_result"
    }
   ],
   "source": [
    "'''from sklearn.experimental import enable_iterative_imputer\n",
    "from sklearn.impute import IterativeImputer\n",
    "imp = IterativeImputer(max_iter=10, random_state=0)'''"
   ]
  },
  {
   "cell_type": "code",
   "execution_count": 54,
   "metadata": {},
   "outputs": [
    {
     "data": {
      "text/plain": [
       "'df=pd.DataFrame(imp.fit_transform(df))'"
      ]
     },
     "execution_count": 54,
     "metadata": {},
     "output_type": "execute_result"
    }
   ],
   "source": [
    "'''df=pd.DataFrame(imp.fit_transform(df))'''"
   ]
  },
  {
   "cell_type": "code",
   "execution_count": null,
   "metadata": {},
   "outputs": [],
   "source": []
  },
  {
   "cell_type": "code",
   "execution_count": 55,
   "metadata": {},
   "outputs": [],
   "source": [
    "## Shape after dropping\n",
    "#df.shape"
   ]
  },
  {
   "cell_type": "code",
   "execution_count": 56,
   "metadata": {
    "scrolled": true
   },
   "outputs": [
    {
     "data": {
      "text/html": [
       "<div>\n",
       "<style scoped>\n",
       "    .dataframe tbody tr th:only-of-type {\n",
       "        vertical-align: middle;\n",
       "    }\n",
       "\n",
       "    .dataframe tbody tr th {\n",
       "        vertical-align: top;\n",
       "    }\n",
       "\n",
       "    .dataframe thead th {\n",
       "        text-align: right;\n",
       "    }\n",
       "</style>\n",
       "<table border=\"1\" class=\"dataframe\">\n",
       "  <thead>\n",
       "    <tr style=\"text-align: right;\">\n",
       "      <th></th>\n",
       "      <th>score</th>\n",
       "      <th>best_new_music</th>\n",
       "      <th>artist</th>\n",
       "      <th>author</th>\n",
       "      <th>pub_month</th>\n",
       "      <th>label</th>\n",
       "      <th>author_type_associate editor</th>\n",
       "      <th>author_type_associate features editor</th>\n",
       "      <th>author_type_associate reviews editor</th>\n",
       "      <th>author_type_associate staff writer</th>\n",
       "      <th>...</th>\n",
       "      <th>author_type_senior staff writer</th>\n",
       "      <th>author_type_tracks coordinator</th>\n",
       "      <th>genre_experimental</th>\n",
       "      <th>genre_folk/country</th>\n",
       "      <th>genre_global</th>\n",
       "      <th>genre_jazz</th>\n",
       "      <th>genre_metal</th>\n",
       "      <th>genre_pop/r&amp;b</th>\n",
       "      <th>genre_rap</th>\n",
       "      <th>genre_rock</th>\n",
       "    </tr>\n",
       "  </thead>\n",
       "  <tbody>\n",
       "    <tr>\n",
       "      <th>0</th>\n",
       "      <td>9.3</td>\n",
       "      <td>0</td>\n",
       "      <td>4450</td>\n",
       "      <td>295</td>\n",
       "      <td>1</td>\n",
       "      <td>3386</td>\n",
       "      <td>0</td>\n",
       "      <td>0</td>\n",
       "      <td>0</td>\n",
       "      <td>0</td>\n",
       "      <td>...</td>\n",
       "      <td>0</td>\n",
       "      <td>0</td>\n",
       "      <td>0</td>\n",
       "      <td>0</td>\n",
       "      <td>0</td>\n",
       "      <td>0</td>\n",
       "      <td>0</td>\n",
       "      <td>0</td>\n",
       "      <td>0</td>\n",
       "      <td>0</td>\n",
       "    </tr>\n",
       "    <tr>\n",
       "      <th>1</th>\n",
       "      <td>7.9</td>\n",
       "      <td>0</td>\n",
       "      <td>3866</td>\n",
       "      <td>422</td>\n",
       "      <td>1</td>\n",
       "      <td>1408</td>\n",
       "      <td>0</td>\n",
       "      <td>0</td>\n",
       "      <td>0</td>\n",
       "      <td>0</td>\n",
       "      <td>...</td>\n",
       "      <td>0</td>\n",
       "      <td>0</td>\n",
       "      <td>0</td>\n",
       "      <td>0</td>\n",
       "      <td>0</td>\n",
       "      <td>0</td>\n",
       "      <td>1</td>\n",
       "      <td>0</td>\n",
       "      <td>0</td>\n",
       "      <td>0</td>\n",
       "    </tr>\n",
       "    <tr>\n",
       "      <th>2</th>\n",
       "      <td>7.3</td>\n",
       "      <td>0</td>\n",
       "      <td>7812</td>\n",
       "      <td>110</td>\n",
       "      <td>1</td>\n",
       "      <td>1114</td>\n",
       "      <td>0</td>\n",
       "      <td>0</td>\n",
       "      <td>0</td>\n",
       "      <td>0</td>\n",
       "      <td>...</td>\n",
       "      <td>0</td>\n",
       "      <td>0</td>\n",
       "      <td>0</td>\n",
       "      <td>0</td>\n",
       "      <td>0</td>\n",
       "      <td>0</td>\n",
       "      <td>0</td>\n",
       "      <td>0</td>\n",
       "      <td>0</td>\n",
       "      <td>1</td>\n",
       "    </tr>\n",
       "    <tr>\n",
       "      <th>3</th>\n",
       "      <td>7.3</td>\n",
       "      <td>0</td>\n",
       "      <td>7812</td>\n",
       "      <td>110</td>\n",
       "      <td>1</td>\n",
       "      <td>2977</td>\n",
       "      <td>0</td>\n",
       "      <td>0</td>\n",
       "      <td>0</td>\n",
       "      <td>0</td>\n",
       "      <td>...</td>\n",
       "      <td>0</td>\n",
       "      <td>0</td>\n",
       "      <td>0</td>\n",
       "      <td>0</td>\n",
       "      <td>0</td>\n",
       "      <td>0</td>\n",
       "      <td>0</td>\n",
       "      <td>0</td>\n",
       "      <td>0</td>\n",
       "      <td>1</td>\n",
       "    </tr>\n",
       "    <tr>\n",
       "      <th>4</th>\n",
       "      <td>9.0</td>\n",
       "      <td>1</td>\n",
       "      <td>3824</td>\n",
       "      <td>174</td>\n",
       "      <td>1</td>\n",
       "      <td>1715</td>\n",
       "      <td>0</td>\n",
       "      <td>0</td>\n",
       "      <td>1</td>\n",
       "      <td>0</td>\n",
       "      <td>...</td>\n",
       "      <td>0</td>\n",
       "      <td>0</td>\n",
       "      <td>0</td>\n",
       "      <td>0</td>\n",
       "      <td>0</td>\n",
       "      <td>0</td>\n",
       "      <td>0</td>\n",
       "      <td>0</td>\n",
       "      <td>0</td>\n",
       "      <td>1</td>\n",
       "    </tr>\n",
       "  </tbody>\n",
       "</table>\n",
       "<p>5 rows × 28 columns</p>\n",
       "</div>"
      ],
      "text/plain": [
       "   score  best_new_music  artist  author  pub_month  label  \\\n",
       "0    9.3               0    4450     295          1   3386   \n",
       "1    7.9               0    3866     422          1   1408   \n",
       "2    7.3               0    7812     110          1   1114   \n",
       "3    7.3               0    7812     110          1   2977   \n",
       "4    9.0               1    3824     174          1   1715   \n",
       "\n",
       "   author_type_associate editor  author_type_associate features editor  \\\n",
       "0                             0                                      0   \n",
       "1                             0                                      0   \n",
       "2                             0                                      0   \n",
       "3                             0                                      0   \n",
       "4                             0                                      0   \n",
       "\n",
       "   author_type_associate reviews editor  author_type_associate staff writer  \\\n",
       "0                                     0                                   0   \n",
       "1                                     0                                   0   \n",
       "2                                     0                                   0   \n",
       "3                                     0                                   0   \n",
       "4                                     1                                   0   \n",
       "\n",
       "   ...  author_type_senior staff writer  author_type_tracks coordinator  \\\n",
       "0  ...                                0                               0   \n",
       "1  ...                                0                               0   \n",
       "2  ...                                0                               0   \n",
       "3  ...                                0                               0   \n",
       "4  ...                                0                               0   \n",
       "\n",
       "   genre_experimental  genre_folk/country  genre_global  genre_jazz  \\\n",
       "0                   0                   0             0           0   \n",
       "1                   0                   0             0           0   \n",
       "2                   0                   0             0           0   \n",
       "3                   0                   0             0           0   \n",
       "4                   0                   0             0           0   \n",
       "\n",
       "   genre_metal  genre_pop/r&b  genre_rap  genre_rock  \n",
       "0            0              0          0           0  \n",
       "1            1              0          0           0  \n",
       "2            0              0          0           1  \n",
       "3            0              0          0           1  \n",
       "4            0              0          0           1  \n",
       "\n",
       "[5 rows x 28 columns]"
      ]
     },
     "execution_count": 56,
     "metadata": {},
     "output_type": "execute_result"
    }
   ],
   "source": [
    "df.head()"
   ]
  },
  {
   "cell_type": "code",
   "execution_count": 57,
   "metadata": {},
   "outputs": [
    {
     "data": {
      "text/html": [
       "<div>\n",
       "<style scoped>\n",
       "    .dataframe tbody tr th:only-of-type {\n",
       "        vertical-align: middle;\n",
       "    }\n",
       "\n",
       "    .dataframe tbody tr th {\n",
       "        vertical-align: top;\n",
       "    }\n",
       "\n",
       "    .dataframe thead th {\n",
       "        text-align: right;\n",
       "    }\n",
       "</style>\n",
       "<table border=\"1\" class=\"dataframe\">\n",
       "  <thead>\n",
       "    <tr style=\"text-align: right;\">\n",
       "      <th></th>\n",
       "      <th>best_new_music</th>\n",
       "    </tr>\n",
       "  </thead>\n",
       "  <tbody>\n",
       "    <tr>\n",
       "      <th>0</th>\n",
       "      <td>0</td>\n",
       "    </tr>\n",
       "    <tr>\n",
       "      <th>1</th>\n",
       "      <td>0</td>\n",
       "    </tr>\n",
       "    <tr>\n",
       "      <th>2</th>\n",
       "      <td>0</td>\n",
       "    </tr>\n",
       "    <tr>\n",
       "      <th>3</th>\n",
       "      <td>0</td>\n",
       "    </tr>\n",
       "    <tr>\n",
       "      <th>4</th>\n",
       "      <td>1</td>\n",
       "    </tr>\n",
       "    <tr>\n",
       "      <th>...</th>\n",
       "      <td>...</td>\n",
       "    </tr>\n",
       "    <tr>\n",
       "      <th>25801</th>\n",
       "      <td>0</td>\n",
       "    </tr>\n",
       "    <tr>\n",
       "      <th>25802</th>\n",
       "      <td>0</td>\n",
       "    </tr>\n",
       "    <tr>\n",
       "      <th>25803</th>\n",
       "      <td>0</td>\n",
       "    </tr>\n",
       "    <tr>\n",
       "      <th>25804</th>\n",
       "      <td>0</td>\n",
       "    </tr>\n",
       "    <tr>\n",
       "      <th>25805</th>\n",
       "      <td>0</td>\n",
       "    </tr>\n",
       "  </tbody>\n",
       "</table>\n",
       "<p>24513 rows × 1 columns</p>\n",
       "</div>"
      ],
      "text/plain": [
       "       best_new_music\n",
       "0                   0\n",
       "1                   0\n",
       "2                   0\n",
       "3                   0\n",
       "4                   1\n",
       "...               ...\n",
       "25801               0\n",
       "25802               0\n",
       "25803               0\n",
       "25804               0\n",
       "25805               0\n",
       "\n",
       "[24513 rows x 1 columns]"
      ]
     },
     "execution_count": 57,
     "metadata": {},
     "output_type": "execute_result"
    }
   ],
   "source": [
    "df.iloc[:,[1]]"
   ]
  },
  {
   "cell_type": "code",
   "execution_count": 58,
   "metadata": {},
   "outputs": [
    {
     "data": {
      "text/plain": [
       "score                                    0\n",
       "best_new_music                           0\n",
       "artist                                   0\n",
       "author                                   0\n",
       "pub_month                                0\n",
       "label                                    0\n",
       "author_type_associate editor             0\n",
       "author_type_associate features editor    0\n",
       "author_type_associate reviews editor     0\n",
       "author_type_associate staff writer       0\n",
       "author_type_contributing editor          0\n",
       "author_type_contributor                  0\n",
       "author_type_deputy news editor           0\n",
       "author_type_editor-in-chief              0\n",
       "author_type_executive editor             0\n",
       "author_type_managing editor              0\n",
       "author_type_news director                0\n",
       "author_type_senior editor                0\n",
       "author_type_senior staff writer          0\n",
       "author_type_tracks coordinator           0\n",
       "genre_experimental                       0\n",
       "genre_folk/country                       0\n",
       "genre_global                             0\n",
       "genre_jazz                               0\n",
       "genre_metal                              0\n",
       "genre_pop/r&b                            0\n",
       "genre_rap                                0\n",
       "genre_rock                               0\n",
       "dtype: int64"
      ]
     },
     "execution_count": 58,
     "metadata": {},
     "output_type": "execute_result"
    }
   ],
   "source": [
    "df.isnull().sum()"
   ]
  },
  {
   "cell_type": "markdown",
   "metadata": {},
   "source": [
    "## Generating X and Y"
   ]
  },
  {
   "cell_type": "code",
   "execution_count": 59,
   "metadata": {},
   "outputs": [],
   "source": [
    "y=df['score']\n",
    "X=df.drop('score',axis=1)"
   ]
  },
  {
   "cell_type": "markdown",
   "metadata": {},
   "source": [
    "## 1. Base Model"
   ]
  },
  {
   "cell_type": "code",
   "execution_count": 60,
   "metadata": {},
   "outputs": [
    {
     "data": {
      "text/html": [
       "<table class=\"simpletable\">\n",
       "<caption>OLS Regression Results</caption>\n",
       "<tr>\n",
       "  <th>Dep. Variable:</th>          <td>score</td>      <th>  R-squared:         </th> <td>   0.137</td> \n",
       "</tr>\n",
       "<tr>\n",
       "  <th>Model:</th>                   <td>OLS</td>       <th>  Adj. R-squared:    </th> <td>   0.136</td> \n",
       "</tr>\n",
       "<tr>\n",
       "  <th>Method:</th>             <td>Least Squares</td>  <th>  F-statistic:       </th> <td>   144.3</td> \n",
       "</tr>\n",
       "<tr>\n",
       "  <th>Date:</th>             <td>Tue, 03 Mar 2020</td> <th>  Prob (F-statistic):</th>  <td>  0.00</td>  \n",
       "</tr>\n",
       "<tr>\n",
       "  <th>Time:</th>                 <td>10:40:08</td>     <th>  Log-Likelihood:    </th> <td> -33114.</td> \n",
       "</tr>\n",
       "<tr>\n",
       "  <th>No. Observations:</th>      <td> 24513</td>      <th>  AIC:               </th> <td>6.628e+04</td>\n",
       "</tr>\n",
       "<tr>\n",
       "  <th>Df Residuals:</th>          <td> 24485</td>      <th>  BIC:               </th> <td>6.651e+04</td>\n",
       "</tr>\n",
       "<tr>\n",
       "  <th>Df Model:</th>              <td>    27</td>      <th>                     </th>     <td> </td>    \n",
       "</tr>\n",
       "<tr>\n",
       "  <th>Covariance Type:</th>      <td>nonrobust</td>    <th>                     </th>     <td> </td>    \n",
       "</tr>\n",
       "</table>\n",
       "<table class=\"simpletable\">\n",
       "<tr>\n",
       "                    <td></td>                       <th>coef</th>     <th>std err</th>      <th>t</th>      <th>P>|t|</th>  <th>[0.025</th>    <th>0.975]</th>  \n",
       "</tr>\n",
       "<tr>\n",
       "  <th>const</th>                                 <td>    7.3730</td> <td>    0.216</td> <td>   34.092</td> <td> 0.000</td> <td>    6.949</td> <td>    7.797</td>\n",
       "</tr>\n",
       "<tr>\n",
       "  <th>best_new_music</th>                        <td>    1.5342</td> <td>    0.027</td> <td>   57.492</td> <td> 0.000</td> <td>    1.482</td> <td>    1.586</td>\n",
       "</tr>\n",
       "<tr>\n",
       "  <th>artist</th>                                <td> 5.288e-06</td> <td> 2.45e-06</td> <td>    2.162</td> <td> 0.031</td> <td> 4.94e-07</td> <td> 1.01e-05</td>\n",
       "</tr>\n",
       "<tr>\n",
       "  <th>author</th>                                <td>   -0.0002</td> <td> 5.16e-05</td> <td>   -3.361</td> <td> 0.001</td> <td>   -0.000</td> <td>-7.23e-05</td>\n",
       "</tr>\n",
       "<tr>\n",
       "  <th>pub_month</th>                             <td>    0.0060</td> <td>    0.002</td> <td>    3.328</td> <td> 0.001</td> <td>    0.002</td> <td>    0.010</td>\n",
       "</tr>\n",
       "<tr>\n",
       "  <th>label</th>                                 <td> 1.189e-05</td> <td> 5.78e-06</td> <td>    2.057</td> <td> 0.040</td> <td> 5.62e-07</td> <td> 2.32e-05</td>\n",
       "</tr>\n",
       "<tr>\n",
       "  <th>author_type_associate editor</th>          <td>   -0.6346</td> <td>    0.250</td> <td>   -2.542</td> <td> 0.011</td> <td>   -1.124</td> <td>   -0.145</td>\n",
       "</tr>\n",
       "<tr>\n",
       "  <th>author_type_associate features editor</th> <td>   -0.6448</td> <td>    0.317</td> <td>   -2.032</td> <td> 0.042</td> <td>   -1.267</td> <td>   -0.023</td>\n",
       "</tr>\n",
       "<tr>\n",
       "  <th>author_type_associate reviews editor</th>  <td>    0.0945</td> <td>    0.247</td> <td>    0.383</td> <td> 0.702</td> <td>   -0.390</td> <td>    0.578</td>\n",
       "</tr>\n",
       "<tr>\n",
       "  <th>author_type_associate staff writer</th>    <td>   -0.4526</td> <td>    0.230</td> <td>   -1.966</td> <td> 0.049</td> <td>   -0.904</td> <td>   -0.001</td>\n",
       "</tr>\n",
       "<tr>\n",
       "  <th>author_type_contributing editor</th>       <td>    0.0218</td> <td>    0.223</td> <td>    0.098</td> <td> 0.922</td> <td>   -0.415</td> <td>    0.459</td>\n",
       "</tr>\n",
       "<tr>\n",
       "  <th>author_type_contributor</th>               <td>   -0.3633</td> <td>    0.215</td> <td>   -1.692</td> <td> 0.091</td> <td>   -0.784</td> <td>    0.058</td>\n",
       "</tr>\n",
       "<tr>\n",
       "  <th>author_type_deputy news editor</th>        <td>   -0.5003</td> <td>    0.230</td> <td>   -2.177</td> <td> 0.029</td> <td>   -0.951</td> <td>   -0.050</td>\n",
       "</tr>\n",
       "<tr>\n",
       "  <th>author_type_editor-in-chief</th>           <td>   -0.2280</td> <td>    0.230</td> <td>   -0.991</td> <td> 0.322</td> <td>   -0.679</td> <td>    0.223</td>\n",
       "</tr>\n",
       "<tr>\n",
       "  <th>author_type_executive editor</th>          <td>   -0.1646</td> <td>    0.218</td> <td>   -0.756</td> <td> 0.450</td> <td>   -0.591</td> <td>    0.262</td>\n",
       "</tr>\n",
       "<tr>\n",
       "  <th>author_type_managing editor</th>           <td>   -0.7683</td> <td>    0.581</td> <td>   -1.323</td> <td> 0.186</td> <td>   -1.907</td> <td>    0.370</td>\n",
       "</tr>\n",
       "<tr>\n",
       "  <th>author_type_news director</th>             <td>    0.2080</td> <td>    0.581</td> <td>    0.358</td> <td> 0.720</td> <td>   -0.931</td> <td>    1.347</td>\n",
       "</tr>\n",
       "<tr>\n",
       "  <th>author_type_senior editor</th>             <td>   -0.3937</td> <td>    0.218</td> <td>   -1.809</td> <td> 0.071</td> <td>   -0.820</td> <td>    0.033</td>\n",
       "</tr>\n",
       "<tr>\n",
       "  <th>author_type_senior staff writer</th>       <td>   -0.5784</td> <td>    0.218</td> <td>   -2.652</td> <td> 0.008</td> <td>   -1.006</td> <td>   -0.151</td>\n",
       "</tr>\n",
       "<tr>\n",
       "  <th>author_type_tracks coordinator</th>        <td>   -0.5057</td> <td>    0.248</td> <td>   -2.035</td> <td> 0.042</td> <td>   -0.993</td> <td>   -0.019</td>\n",
       "</tr>\n",
       "<tr>\n",
       "  <th>genre_experimental</th>                    <td>    0.2203</td> <td>    0.024</td> <td>    9.329</td> <td> 0.000</td> <td>    0.174</td> <td>    0.267</td>\n",
       "</tr>\n",
       "<tr>\n",
       "  <th>genre_folk/country</th>                    <td>    0.1787</td> <td>    0.036</td> <td>    4.955</td> <td> 0.000</td> <td>    0.108</td> <td>    0.249</td>\n",
       "</tr>\n",
       "<tr>\n",
       "  <th>genre_global</th>                          <td>    0.2875</td> <td>    0.058</td> <td>    4.976</td> <td> 0.000</td> <td>    0.174</td> <td>    0.401</td>\n",
       "</tr>\n",
       "<tr>\n",
       "  <th>genre_jazz</th>                            <td>    0.3349</td> <td>    0.043</td> <td>    7.778</td> <td> 0.000</td> <td>    0.250</td> <td>    0.419</td>\n",
       "</tr>\n",
       "<tr>\n",
       "  <th>genre_metal</th>                           <td>    0.1121</td> <td>    0.033</td> <td>    3.348</td> <td> 0.001</td> <td>    0.046</td> <td>    0.178</td>\n",
       "</tr>\n",
       "<tr>\n",
       "  <th>genre_pop/r&b</th>                         <td>   -0.0979</td> <td>    0.026</td> <td>   -3.720</td> <td> 0.000</td> <td>   -0.149</td> <td>   -0.046</td>\n",
       "</tr>\n",
       "<tr>\n",
       "  <th>genre_rap</th>                             <td>   -0.0520</td> <td>    0.025</td> <td>   -2.059</td> <td> 0.039</td> <td>   -0.102</td> <td>   -0.003</td>\n",
       "</tr>\n",
       "<tr>\n",
       "  <th>genre_rock</th>                            <td>   -0.0121</td> <td>    0.015</td> <td>   -0.812</td> <td> 0.417</td> <td>   -0.041</td> <td>    0.017</td>\n",
       "</tr>\n",
       "</table>\n",
       "<table class=\"simpletable\">\n",
       "<tr>\n",
       "  <th>Omnibus:</th>       <td>958.357</td> <th>  Durbin-Watson:     </th> <td>   1.429</td> \n",
       "</tr>\n",
       "<tr>\n",
       "  <th>Prob(Omnibus):</th> <td> 0.000</td>  <th>  Jarque-Bera (JB):  </th> <td>1073.205</td> \n",
       "</tr>\n",
       "<tr>\n",
       "  <th>Skew:</th>          <td>-0.505</td>  <th>  Prob(JB):          </th> <td>9.05e-234</td>\n",
       "</tr>\n",
       "<tr>\n",
       "  <th>Kurtosis:</th>      <td> 3.173</td>  <th>  Cond. No.          </th> <td>7.63e+05</td> \n",
       "</tr>\n",
       "</table><br/><br/>Warnings:<br/>[1] Standard Errors assume that the covariance matrix of the errors is correctly specified.<br/>[2] The condition number is large, 7.63e+05. This might indicate that there are<br/>strong multicollinearity or other numerical problems."
      ],
      "text/plain": [
       "<class 'statsmodels.iolib.summary.Summary'>\n",
       "\"\"\"\n",
       "                            OLS Regression Results                            \n",
       "==============================================================================\n",
       "Dep. Variable:                  score   R-squared:                       0.137\n",
       "Model:                            OLS   Adj. R-squared:                  0.136\n",
       "Method:                 Least Squares   F-statistic:                     144.3\n",
       "Date:                Tue, 03 Mar 2020   Prob (F-statistic):               0.00\n",
       "Time:                        10:40:08   Log-Likelihood:                -33114.\n",
       "No. Observations:               24513   AIC:                         6.628e+04\n",
       "Df Residuals:                   24485   BIC:                         6.651e+04\n",
       "Df Model:                          27                                         \n",
       "Covariance Type:            nonrobust                                         \n",
       "=========================================================================================================\n",
       "                                            coef    std err          t      P>|t|      [0.025      0.975]\n",
       "---------------------------------------------------------------------------------------------------------\n",
       "const                                     7.3730      0.216     34.092      0.000       6.949       7.797\n",
       "best_new_music                            1.5342      0.027     57.492      0.000       1.482       1.586\n",
       "artist                                 5.288e-06   2.45e-06      2.162      0.031    4.94e-07    1.01e-05\n",
       "author                                   -0.0002   5.16e-05     -3.361      0.001      -0.000   -7.23e-05\n",
       "pub_month                                 0.0060      0.002      3.328      0.001       0.002       0.010\n",
       "label                                  1.189e-05   5.78e-06      2.057      0.040    5.62e-07    2.32e-05\n",
       "author_type_associate editor             -0.6346      0.250     -2.542      0.011      -1.124      -0.145\n",
       "author_type_associate features editor    -0.6448      0.317     -2.032      0.042      -1.267      -0.023\n",
       "author_type_associate reviews editor      0.0945      0.247      0.383      0.702      -0.390       0.578\n",
       "author_type_associate staff writer       -0.4526      0.230     -1.966      0.049      -0.904      -0.001\n",
       "author_type_contributing editor           0.0218      0.223      0.098      0.922      -0.415       0.459\n",
       "author_type_contributor                  -0.3633      0.215     -1.692      0.091      -0.784       0.058\n",
       "author_type_deputy news editor           -0.5003      0.230     -2.177      0.029      -0.951      -0.050\n",
       "author_type_editor-in-chief              -0.2280      0.230     -0.991      0.322      -0.679       0.223\n",
       "author_type_executive editor             -0.1646      0.218     -0.756      0.450      -0.591       0.262\n",
       "author_type_managing editor              -0.7683      0.581     -1.323      0.186      -1.907       0.370\n",
       "author_type_news director                 0.2080      0.581      0.358      0.720      -0.931       1.347\n",
       "author_type_senior editor                -0.3937      0.218     -1.809      0.071      -0.820       0.033\n",
       "author_type_senior staff writer          -0.5784      0.218     -2.652      0.008      -1.006      -0.151\n",
       "author_type_tracks coordinator           -0.5057      0.248     -2.035      0.042      -0.993      -0.019\n",
       "genre_experimental                        0.2203      0.024      9.329      0.000       0.174       0.267\n",
       "genre_folk/country                        0.1787      0.036      4.955      0.000       0.108       0.249\n",
       "genre_global                              0.2875      0.058      4.976      0.000       0.174       0.401\n",
       "genre_jazz                                0.3349      0.043      7.778      0.000       0.250       0.419\n",
       "genre_metal                               0.1121      0.033      3.348      0.001       0.046       0.178\n",
       "genre_pop/r&b                            -0.0979      0.026     -3.720      0.000      -0.149      -0.046\n",
       "genre_rap                                -0.0520      0.025     -2.059      0.039      -0.102      -0.003\n",
       "genre_rock                               -0.0121      0.015     -0.812      0.417      -0.041       0.017\n",
       "==============================================================================\n",
       "Omnibus:                      958.357   Durbin-Watson:                   1.429\n",
       "Prob(Omnibus):                  0.000   Jarque-Bera (JB):             1073.205\n",
       "Skew:                          -0.505   Prob(JB):                    9.05e-234\n",
       "Kurtosis:                       3.173   Cond. No.                     7.63e+05\n",
       "==============================================================================\n",
       "\n",
       "Warnings:\n",
       "[1] Standard Errors assume that the covariance matrix of the errors is correctly specified.\n",
       "[2] The condition number is large, 7.63e+05. This might indicate that there are\n",
       "strong multicollinearity or other numerical problems.\n",
       "\"\"\""
      ]
     },
     "execution_count": 60,
     "metadata": {},
     "output_type": "execute_result"
    }
   ],
   "source": [
    "import statsmodels.api as sm\n",
    "xc=sm.add_constant(X)\n",
    "model=sm.OLS(y,xc).fit()\n",
    "model.summary()"
   ]
  },
  {
   "cell_type": "code",
   "execution_count": 61,
   "metadata": {},
   "outputs": [
    {
     "data": {
      "text/plain": [
       "<matplotlib.axes._subplots.AxesSubplot at 0x21fb59d4348>"
      ]
     },
     "execution_count": 61,
     "metadata": {},
     "output_type": "execute_result"
    },
    {
     "data": {
      "image/png": "[encoded data removed]",
      "text/plain": [
       "<Figure size 432x288 with 1 Axes>"
      ]
     },
     "metadata": {
      "needs_background": "light"
     },
     "output_type": "display_data"
    }
   ],
   "source": [
    "residuals=model.resid\n",
    "sns.distplot(residuals)"
   ]
  },
  {
   "cell_type": "code",
   "execution_count": 62,
   "metadata": {},
   "outputs": [
    {
     "data": {
      "image/png": "[encoded data removed]",
      "text/plain": [
       "<Figure size 432x288 with 1 Axes>"
      ]
     },
     "metadata": {
      "needs_background": "light"
     },
     "output_type": "display_data"
    }
   ],
   "source": [
    "import scipy.stats as stats\n",
    "stats.probplot(residuals,plot=plt)\n",
    "plt.show()"
   ]
  },
  {
   "cell_type": "markdown",
   "metadata": {},
   "source": [
    "## 2. Model using Backward Elimation method"
   ]
  },
  {
   "cell_type": "code",
   "execution_count": 63,
   "metadata": {},
   "outputs": [
    {
     "name": "stdout",
     "output_type": "stream",
     "text": [
      "['best_new_music', 'artist', 'author', 'pub_month', 'label', 'author_type_associate editor', 'author_type_associate features editor', 'author_type_associate staff writer', 'author_type_contributor', 'author_type_deputy news editor', 'author_type_editor-in-chief', 'author_type_executive editor', 'author_type_senior editor', 'author_type_senior staff writer', 'author_type_tracks coordinator', 'genre_experimental', 'genre_folk/country', 'genre_global', 'genre_jazz', 'genre_metal', 'genre_pop/r&b']\n"
     ]
    }
   ],
   "source": [
    "# Backward Elimination\n",
    "cols=list(X.columns)\n",
    "pmax=1\n",
    "while len(cols)>0:\n",
    "    p=[]\n",
    "    C=X[cols]\n",
    "    xc=sm.add_constant(C)\n",
    "    model=sm.OLS(y,xc).fit()\n",
    "    p=pd.Series(model.pvalues.values[1:],index=cols)\n",
    "    pmax=max(p)\n",
    "    feature_with_p_max=p.idxmax()\n",
    "    if pmax>0.05:\n",
    "        cols.remove(feature_with_p_max)\n",
    "    else:\n",
    "        break\n",
    "        \n",
    "selected_cols=cols\n",
    "print(selected_cols)"
   ]
  },
  {
   "cell_type": "code",
   "execution_count": 64,
   "metadata": {},
   "outputs": [],
   "source": [
    "X_final=df[cols]\n",
    "y=df['score']"
   ]
  },
  {
   "cell_type": "code",
   "execution_count": 65,
   "metadata": {},
   "outputs": [],
   "source": [
    "from sklearn.model_selection import train_test_split\n",
    "from sklearn.linear_model import LinearRegression\n",
    "from sklearn.metrics import r2_score,mean_squared_error as mse\n",
    "X_train,X_test,y_train,y_test=train_test_split(X_final,y,test_size=0.3,random_state=0)"
   ]
  },
  {
   "cell_type": "code",
   "execution_count": 66,
   "metadata": {},
   "outputs": [
    {
     "name": "stdout",
     "output_type": "stream",
     "text": [
      "R2 score of Train: 0.13534154231238582\n",
      "RMSE of Train: 0.9345513187100473\n"
     ]
    }
   ],
   "source": [
    "LR=LinearRegression()\n",
    "LR.fit(X_train,y_train)\n",
    "y_pred_train=LR.predict(X_train)\n",
    "print('R2 score of Train:',r2_score(y_train,y_pred_train))\n",
    "print('RMSE of Train:',np.sqrt(mse(y_train,y_pred_train)))"
   ]
  },
  {
   "cell_type": "code",
   "execution_count": 67,
   "metadata": {},
   "outputs": [
    {
     "name": "stdout",
     "output_type": "stream",
     "text": [
      "R2 score of Test: 0.13980131380397487\n",
      "RMSE of Test: 0.93450915287791\n"
     ]
    }
   ],
   "source": [
    "y_pred_test=LR.predict(X_test)\n",
    "print('R2 score of Test:',r2_score(y_test,y_pred_test))\n",
    "print('RMSE of Test:',np.sqrt(mse(y_test,y_pred_test)))"
   ]
  },
  {
   "cell_type": "markdown",
   "metadata": {},
   "source": [
    "## 3. K-Fold"
   ]
  },
  {
   "cell_type": "code",
   "execution_count": 68,
   "metadata": {},
   "outputs": [
    {
     "name": "stdout",
     "output_type": "stream",
     "text": [
      "[0.9318959505842632, 0.9333304339657924, 0.9395471921222186, 0.9214205111170982, 0.9512931265208938]\n"
     ]
    }
   ],
   "source": [
    "from sklearn.model_selection import KFold\n",
    "kf = KFold(n_splits=5,shuffle=True,random_state=0)\n",
    "for model,name in zip([LR],['MVLR']):\n",
    "    rmse=[]\n",
    "\n",
    "    for train, test in kf.split(X_final,y):\n",
    "        X_train,X_test=X_final.iloc[train,:],X_final.iloc[test,:]\n",
    "        y_train,y_test=y.iloc[train],y.iloc[test]\n",
    "        model.fit(X_train,y_train)\n",
    "        y_pred=model.predict(X_test)\n",
    "        rmse.append(np.sqrt(mse(y_test,y_pred)))\n",
    "print(rmse)"
   ]
  },
  {
   "cell_type": "code",
   "execution_count": 69,
   "metadata": {},
   "outputs": [
    {
     "data": {
      "text/plain": [
       "(0.9354974428620533, 0.00012043269321398757)"
      ]
     },
     "execution_count": 69,
     "metadata": {},
     "output_type": "execute_result"
    }
   ],
   "source": [
    "np.mean(rmse),np.var(rmse,ddof=1)\n"
   ]
  },
  {
   "cell_type": "markdown",
   "metadata": {},
   "source": [
    "### 4.Lasso/Ridge/ElasticNet"
   ]
  },
  {
   "cell_type": "markdown",
   "metadata": {},
   "source": [
    "## 4.1 Lasso"
   ]
  },
  {
   "cell_type": "code",
   "execution_count": 70,
   "metadata": {},
   "outputs": [],
   "source": [
    "from sklearn.linear_model import Lasso,LassoCV\n",
    "lasso=Lasso(alpha=0.04,normalize=True)"
   ]
  },
  {
   "cell_type": "code",
   "execution_count": 71,
   "metadata": {},
   "outputs": [],
   "source": [
    "X_final=df[cols]\n",
    "y=df['score']\n",
    "X_train,X_test,y_train,y_test=train_test_split(X_final,y,test_size=0.3,random_state=0)"
   ]
  },
  {
   "cell_type": "code",
   "execution_count": 72,
   "metadata": {},
   "outputs": [
    {
     "name": "stdout",
     "output_type": "stream",
     "text": [
      "R2 score of Train: 0.0\n",
      "RMSE of Train: 1.005034239823254\n"
     ]
    }
   ],
   "source": [
    "lasso.fit(X_train,y_train)\n",
    "y_pred_train=lasso.predict(X_train)\n",
    "print('R2 score of Train:',r2_score(y_train,y_pred_train))\n",
    "print('RMSE of Train:',np.sqrt(mse(y_train,y_pred_train)))"
   ]
  },
  {
   "cell_type": "code",
   "execution_count": 73,
   "metadata": {
    "scrolled": true
   },
   "outputs": [
    {
     "name": "stdout",
     "output_type": "stream",
     "text": [
      "R2 score of Test: -2.920185091737082e-06\n",
      "RMSE of Test: 1.007592221207147\n"
     ]
    }
   ],
   "source": [
    "y_pred_test=lasso.predict(X_test)\n",
    "print('R2 score of Test:',r2_score(y_test,y_pred_test))\n",
    "print('RMSE of Test:',np.sqrt(mse(y_test,y_pred_test)))"
   ]
  },
  {
   "cell_type": "code",
   "execution_count": 74,
   "metadata": {},
   "outputs": [
    {
     "data": {
      "image/png": "[encoded data removed]",
      "text/plain": [
       "<Figure size 432x288 with 1 Axes>"
      ]
     },
     "metadata": {
      "needs_background": "light"
     },
     "output_type": "display_data"
    }
   ],
   "source": [
    "n_alphas = 50\n",
    "alphas = np.linspace(0.1,4.5, n_alphas)\n",
    "coefs=[]\n",
    "lasso = Lasso()\n",
    "for a in alphas:\n",
    "    lasso.set_params(alpha=a)\n",
    "    lasso.fit(X, y)\n",
    "    coefs.append(lasso.coef_)\n",
    "    \n",
    "plt.plot(alphas, coefs)\n",
    "plt.xlabel('alphas')\n",
    "plt.ylabel('coefs')\n",
    "plt.show()"
   ]
  },
  {
   "cell_type": "code",
   "execution_count": 75,
   "metadata": {},
   "outputs": [
    {
     "data": {
      "text/plain": [
       "LassoCV(alphas=array([0.1       , 0.11836735, 0.13673469, 0.15510204, 0.17346939,\n",
       "       0.19183673, 0.21020408, 0.22857143, 0.24693878, 0.26530612,\n",
       "       0.28367347, 0.30204082, 0.32040816, 0.33877551, 0.35714286,\n",
       "       0.3755102 , 0.39387755, 0.4122449 , 0.43061224, 0.44897959,\n",
       "       0.46734694, 0.48571429, 0.50408163, 0.52244898, 0.54081633,\n",
       "       0.55918367, 0.57755102, 0.59591837, 0.61428571, 0.63265306,\n",
       "       0.65102...\n",
       "       0.74285714, 0.76122449, 0.77959184, 0.79795918, 0.81632653,\n",
       "       0.83469388, 0.85306122, 0.87142857, 0.88979592, 0.90816327,\n",
       "       0.92653061, 0.94489796, 0.96326531, 0.98163265, 1.        ]),\n",
       "        copy_X=True, cv=3, eps=0.001, fit_intercept=True, max_iter=1000,\n",
       "        n_alphas=100, n_jobs=None, normalize=False, positive=False,\n",
       "        precompute='auto', random_state=22, selection='cyclic', tol=0.0001,\n",
       "        verbose=False)"
      ]
     },
     "execution_count": 75,
     "metadata": {},
     "output_type": "execute_result"
    }
   ],
   "source": [
    "n_alphas=50\n",
    "alphas=np.linspace(0.1,1, n_alphas)\n",
    "\n",
    "lasso_cv = LassoCV(alphas=alphas, cv=3, random_state=22)\n",
    "lasso_cv.fit(X,y)"
   ]
  },
  {
   "cell_type": "code",
   "execution_count": 76,
   "metadata": {},
   "outputs": [
    {
     "data": {
      "text/plain": [
       "0.1"
      ]
     },
     "execution_count": 76,
     "metadata": {},
     "output_type": "execute_result"
    }
   ],
   "source": [
    "lasso_cv.alpha_"
   ]
  },
  {
   "cell_type": "code",
   "execution_count": 77,
   "metadata": {},
   "outputs": [
    {
     "data": {
      "text/html": [
       "<div>\n",
       "<style scoped>\n",
       "    .dataframe tbody tr th:only-of-type {\n",
       "        vertical-align: middle;\n",
       "    }\n",
       "\n",
       "    .dataframe tbody tr th {\n",
       "        vertical-align: top;\n",
       "    }\n",
       "\n",
       "    .dataframe thead th {\n",
       "        text-align: right;\n",
       "    }\n",
       "</style>\n",
       "<table border=\"1\" class=\"dataframe\">\n",
       "  <thead>\n",
       "    <tr style=\"text-align: right;\">\n",
       "      <th></th>\n",
       "      <th>coefs</th>\n",
       "    </tr>\n",
       "  </thead>\n",
       "  <tbody>\n",
       "    <tr>\n",
       "      <th>best_new_music</th>\n",
       "      <td>0.000000</td>\n",
       "    </tr>\n",
       "    <tr>\n",
       "      <th>artist</th>\n",
       "      <td>0.000004</td>\n",
       "    </tr>\n",
       "    <tr>\n",
       "      <th>author</th>\n",
       "      <td>-0.000111</td>\n",
       "    </tr>\n",
       "    <tr>\n",
       "      <th>pub_month</th>\n",
       "      <td>0.000000</td>\n",
       "    </tr>\n",
       "    <tr>\n",
       "      <th>label</th>\n",
       "      <td>0.000014</td>\n",
       "    </tr>\n",
       "    <tr>\n",
       "      <th>author_type_associate editor</th>\n",
       "      <td>-0.000000</td>\n",
       "    </tr>\n",
       "    <tr>\n",
       "      <th>author_type_associate features editor</th>\n",
       "      <td>-0.000000</td>\n",
       "    </tr>\n",
       "    <tr>\n",
       "      <th>author_type_associate staff writer</th>\n",
       "      <td>-0.000000</td>\n",
       "    </tr>\n",
       "    <tr>\n",
       "      <th>author_type_contributor</th>\n",
       "      <td>-0.000000</td>\n",
       "    </tr>\n",
       "    <tr>\n",
       "      <th>author_type_deputy news editor</th>\n",
       "      <td>-0.000000</td>\n",
       "    </tr>\n",
       "    <tr>\n",
       "      <th>author_type_editor-in-chief</th>\n",
       "      <td>-0.000000</td>\n",
       "    </tr>\n",
       "    <tr>\n",
       "      <th>author_type_executive editor</th>\n",
       "      <td>0.000000</td>\n",
       "    </tr>\n",
       "    <tr>\n",
       "      <th>author_type_senior editor</th>\n",
       "      <td>0.000000</td>\n",
       "    </tr>\n",
       "    <tr>\n",
       "      <th>author_type_senior staff writer</th>\n",
       "      <td>-0.000000</td>\n",
       "    </tr>\n",
       "    <tr>\n",
       "      <th>author_type_tracks coordinator</th>\n",
       "      <td>-0.000000</td>\n",
       "    </tr>\n",
       "    <tr>\n",
       "      <th>genre_experimental</th>\n",
       "      <td>0.000000</td>\n",
       "    </tr>\n",
       "    <tr>\n",
       "      <th>genre_folk/country</th>\n",
       "      <td>0.000000</td>\n",
       "    </tr>\n",
       "    <tr>\n",
       "      <th>genre_global</th>\n",
       "      <td>0.000000</td>\n",
       "    </tr>\n",
       "    <tr>\n",
       "      <th>genre_jazz</th>\n",
       "      <td>0.000000</td>\n",
       "    </tr>\n",
       "    <tr>\n",
       "      <th>genre_metal</th>\n",
       "      <td>0.000000</td>\n",
       "    </tr>\n",
       "    <tr>\n",
       "      <th>genre_pop/r&amp;b</th>\n",
       "      <td>-0.000000</td>\n",
       "    </tr>\n",
       "  </tbody>\n",
       "</table>\n",
       "</div>"
      ],
      "text/plain": [
       "                                          coefs\n",
       "best_new_music                         0.000000\n",
       "artist                                 0.000004\n",
       "author                                -0.000111\n",
       "pub_month                              0.000000\n",
       "label                                  0.000014\n",
       "author_type_associate editor          -0.000000\n",
       "author_type_associate features editor -0.000000\n",
       "author_type_associate staff writer    -0.000000\n",
       "author_type_contributor               -0.000000\n",
       "author_type_deputy news editor        -0.000000\n",
       "author_type_editor-in-chief           -0.000000\n",
       "author_type_executive editor           0.000000\n",
       "author_type_senior editor              0.000000\n",
       "author_type_senior staff writer       -0.000000\n",
       "author_type_tracks coordinator        -0.000000\n",
       "genre_experimental                     0.000000\n",
       "genre_folk/country                     0.000000\n",
       "genre_global                           0.000000\n",
       "genre_jazz                             0.000000\n",
       "genre_metal                            0.000000\n",
       "genre_pop/r&b                         -0.000000"
      ]
     },
     "execution_count": 77,
     "metadata": {},
     "output_type": "execute_result"
    }
   ],
   "source": [
    "lasso = Lasso(alpha=lasso_cv.alpha_)\n",
    "lasso.fit(X_train, y_train)\n",
    "lasso.coef_\n",
    "pd.DataFrame(lasso.coef_, X_final.columns, columns=['coefs'])"
   ]
  },
  {
   "cell_type": "code",
   "execution_count": 78,
   "metadata": {},
   "outputs": [
    {
     "name": "stdout",
     "output_type": "stream",
     "text": [
      "R2 score of Train: 0.0004996184791097313\n",
      "RMSE of Train: 1.0047831416168325\n"
     ]
    }
   ],
   "source": [
    "y_pred_train=lasso.predict(X_train)\n",
    "print('R2 score of Train:',r2_score(y_train,y_pred_train))\n",
    "print('RMSE of Train:',np.sqrt(mse(y_train,y_pred_train)))"
   ]
  },
  {
   "cell_type": "code",
   "execution_count": 79,
   "metadata": {},
   "outputs": [
    {
     "name": "stdout",
     "output_type": "stream",
     "text": [
      "R2 score of Test: 0.00015116349206290014\n",
      "RMSE of Test: 1.007514591686106\n"
     ]
    }
   ],
   "source": [
    "y_pred_test=lasso.predict(X_test)\n",
    "print('R2 score of Test:',r2_score(y_test,y_pred_test))\n",
    "print('RMSE of Test:',np.sqrt(mse(y_test,y_pred_test)))"
   ]
  },
  {
   "cell_type": "markdown",
   "metadata": {},
   "source": [
    "### 4.2 Ridge"
   ]
  },
  {
   "cell_type": "code",
   "execution_count": 80,
   "metadata": {},
   "outputs": [],
   "source": [
    "from sklearn.linear_model import Ridge,RidgeCV\n",
    "ridge=Ridge(alpha=0.05)"
   ]
  },
  {
   "cell_type": "code",
   "execution_count": 81,
   "metadata": {},
   "outputs": [
    {
     "name": "stdout",
     "output_type": "stream",
     "text": [
      "R2 score of Train: 0.13447814220724108\n",
      "RMSE of Train: 0.9350177979139541\n"
     ]
    }
   ],
   "source": [
    "ridge.fit(X_train,y_train)\n",
    "y_pred_train=model.predict(X_train)\n",
    "print('R2 score of Train:',r2_score(y_train,y_pred_train))\n",
    "print('RMSE of Train:',np.sqrt(mse(y_train,y_pred_train)))"
   ]
  },
  {
   "cell_type": "code",
   "execution_count": 82,
   "metadata": {
    "scrolled": true
   },
   "outputs": [
    {
     "name": "stdout",
     "output_type": "stream",
     "text": [
      "R2 score of Test: 0.13980333177885695\n",
      "RMSE of Test: 0.9345080567258617\n"
     ]
    }
   ],
   "source": [
    "y_pred_test=ridge.predict(X_test)\n",
    "print('R2 score of Test:',r2_score(y_test,y_pred_test))\n",
    "print('RMSE of Test:',np.sqrt(mse(y_test,y_pred_test)))"
   ]
  },
  {
   "cell_type": "code",
   "execution_count": 83,
   "metadata": {},
   "outputs": [
    {
     "data": {
      "text/html": [
       "<div>\n",
       "<style scoped>\n",
       "    .dataframe tbody tr th:only-of-type {\n",
       "        vertical-align: middle;\n",
       "    }\n",
       "\n",
       "    .dataframe tbody tr th {\n",
       "        vertical-align: top;\n",
       "    }\n",
       "\n",
       "    .dataframe thead th {\n",
       "        text-align: right;\n",
       "    }\n",
       "</style>\n",
       "<table border=\"1\" class=\"dataframe\">\n",
       "  <thead>\n",
       "    <tr style=\"text-align: right;\">\n",
       "      <th></th>\n",
       "      <th>coefs</th>\n",
       "    </tr>\n",
       "  </thead>\n",
       "  <tbody>\n",
       "    <tr>\n",
       "      <th>best_new_music</th>\n",
       "      <td>1.534096</td>\n",
       "    </tr>\n",
       "    <tr>\n",
       "      <th>artist</th>\n",
       "      <td>0.000005</td>\n",
       "    </tr>\n",
       "    <tr>\n",
       "      <th>author</th>\n",
       "      <td>-0.000173</td>\n",
       "    </tr>\n",
       "    <tr>\n",
       "      <th>pub_month</th>\n",
       "      <td>0.006006</td>\n",
       "    </tr>\n",
       "    <tr>\n",
       "      <th>label</th>\n",
       "      <td>0.000012</td>\n",
       "    </tr>\n",
       "    <tr>\n",
       "      <th>author_type_associate editor</th>\n",
       "      <td>-0.621537</td>\n",
       "    </tr>\n",
       "    <tr>\n",
       "      <th>author_type_associate features editor</th>\n",
       "      <td>-0.630396</td>\n",
       "    </tr>\n",
       "    <tr>\n",
       "      <th>author_type_associate reviews editor</th>\n",
       "      <td>0.106839</td>\n",
       "    </tr>\n",
       "    <tr>\n",
       "      <th>author_type_associate staff writer</th>\n",
       "      <td>-0.440010</td>\n",
       "    </tr>\n",
       "    <tr>\n",
       "      <th>author_type_contributing editor</th>\n",
       "      <td>0.034273</td>\n",
       "    </tr>\n",
       "    <tr>\n",
       "      <th>author_type_contributor</th>\n",
       "      <td>-0.350835</td>\n",
       "    </tr>\n",
       "    <tr>\n",
       "      <th>author_type_deputy news editor</th>\n",
       "      <td>-0.487648</td>\n",
       "    </tr>\n",
       "    <tr>\n",
       "      <th>author_type_editor-in-chief</th>\n",
       "      <td>-0.215436</td>\n",
       "    </tr>\n",
       "    <tr>\n",
       "      <th>author_type_executive editor</th>\n",
       "      <td>-0.152109</td>\n",
       "    </tr>\n",
       "    <tr>\n",
       "      <th>author_type_managing editor</th>\n",
       "      <td>-0.743491</td>\n",
       "    </tr>\n",
       "    <tr>\n",
       "      <th>author_type_news director</th>\n",
       "      <td>0.216868</td>\n",
       "    </tr>\n",
       "    <tr>\n",
       "      <th>author_type_senior editor</th>\n",
       "      <td>-0.381206</td>\n",
       "    </tr>\n",
       "    <tr>\n",
       "      <th>author_type_senior staff writer</th>\n",
       "      <td>-0.565909</td>\n",
       "    </tr>\n",
       "    <tr>\n",
       "      <th>author_type_tracks coordinator</th>\n",
       "      <td>-0.492822</td>\n",
       "    </tr>\n",
       "    <tr>\n",
       "      <th>genre_experimental</th>\n",
       "      <td>0.220280</td>\n",
       "    </tr>\n",
       "    <tr>\n",
       "      <th>genre_folk/country</th>\n",
       "      <td>0.178643</td>\n",
       "    </tr>\n",
       "    <tr>\n",
       "      <th>genre_global</th>\n",
       "      <td>0.287443</td>\n",
       "    </tr>\n",
       "    <tr>\n",
       "      <th>genre_jazz</th>\n",
       "      <td>0.334833</td>\n",
       "    </tr>\n",
       "    <tr>\n",
       "      <th>genre_metal</th>\n",
       "      <td>0.112081</td>\n",
       "    </tr>\n",
       "    <tr>\n",
       "      <th>genre_pop/r&amp;b</th>\n",
       "      <td>-0.097889</td>\n",
       "    </tr>\n",
       "    <tr>\n",
       "      <th>genre_rap</th>\n",
       "      <td>-0.052027</td>\n",
       "    </tr>\n",
       "    <tr>\n",
       "      <th>genre_rock</th>\n",
       "      <td>-0.012132</td>\n",
       "    </tr>\n",
       "  </tbody>\n",
       "</table>\n",
       "</div>"
      ],
      "text/plain": [
       "                                          coefs\n",
       "best_new_music                         1.534096\n",
       "artist                                 0.000005\n",
       "author                                -0.000173\n",
       "pub_month                              0.006006\n",
       "label                                  0.000012\n",
       "author_type_associate editor          -0.621537\n",
       "author_type_associate features editor -0.630396\n",
       "author_type_associate reviews editor   0.106839\n",
       "author_type_associate staff writer    -0.440010\n",
       "author_type_contributing editor        0.034273\n",
       "author_type_contributor               -0.350835\n",
       "author_type_deputy news editor        -0.487648\n",
       "author_type_editor-in-chief           -0.215436\n",
       "author_type_executive editor          -0.152109\n",
       "author_type_managing editor           -0.743491\n",
       "author_type_news director              0.216868\n",
       "author_type_senior editor             -0.381206\n",
       "author_type_senior staff writer       -0.565909\n",
       "author_type_tracks coordinator        -0.492822\n",
       "genre_experimental                     0.220280\n",
       "genre_folk/country                     0.178643\n",
       "genre_global                           0.287443\n",
       "genre_jazz                             0.334833\n",
       "genre_metal                            0.112081\n",
       "genre_pop/r&b                         -0.097889\n",
       "genre_rap                             -0.052027\n",
       "genre_rock                            -0.012132"
      ]
     },
     "execution_count": 83,
     "metadata": {},
     "output_type": "execute_result"
    }
   ],
   "source": [
    "ridge.fit(X, y)\n",
    "ridge.coef_\n",
    "pd.DataFrame(ridge.coef_, X.columns, columns=['coefs'])"
   ]
  },
  {
   "cell_type": "code",
   "execution_count": 84,
   "metadata": {},
   "outputs": [
    {
     "data": {
      "image/png": "[encoded data removed]",
      "text/plain": [
       "<Figure size 432x288 with 1 Axes>"
      ]
     },
     "metadata": {
      "needs_background": "light"
     },
     "output_type": "display_data"
    }
   ],
   "source": [
    "n_alphas = 200\n",
    "alphas = np.logspace(-3, 2, n_alphas)\n",
    "coefs=[]\n",
    "model = Ridge()\n",
    "for a in alphas:\n",
    "    model.set_params(alpha=a)\n",
    "    model.fit(X, y)\n",
    "    coefs.append(model.coef_)\n",
    "    \n",
    "plt.plot(alphas, coefs)\n",
    "plt.xlabel('alphas')\n",
    "plt.ylabel('coefs')\n",
    "plt.show()"
   ]
  },
  {
   "cell_type": "code",
   "execution_count": 85,
   "metadata": {},
   "outputs": [
    {
     "data": {
      "text/plain": [
       "1.0"
      ]
     },
     "execution_count": 85,
     "metadata": {},
     "output_type": "execute_result"
    }
   ],
   "source": [
    "n_alphas = 1000\n",
    "alphas = np.logspace(-2, 0)\n",
    "\n",
    "ridge_cv = RidgeCV(alphas=alphas, store_cv_values=True)\n",
    "ridge_cv.fit(X, y)\n",
    "\n",
    "ridge_cv.alpha_"
   ]
  },
  {
   "cell_type": "code",
   "execution_count": 86,
   "metadata": {},
   "outputs": [
    {
     "data": {
      "text/plain": [
       "Ridge(alpha=1.0, copy_X=True, fit_intercept=True, max_iter=None,\n",
       "      normalize=False, random_state=None, solver='auto', tol=0.001)"
      ]
     },
     "execution_count": 86,
     "metadata": {},
     "output_type": "execute_result"
    }
   ],
   "source": [
    "ridge=Ridge(alpha=ridge_cv.alpha_)\n",
    "ridge.fit(X_train,y_train)"
   ]
  },
  {
   "cell_type": "code",
   "execution_count": 87,
   "metadata": {},
   "outputs": [
    {
     "name": "stdout",
     "output_type": "stream",
     "text": [
      "R2 score of Train: 0.13533222366948583\n",
      "RMSE of Train: 0.9345563546444496\n"
     ]
    }
   ],
   "source": [
    "y_pred_train=ridge.predict(X_train)\n",
    "print('R2 score of Train:',r2_score(y_train,y_pred_train))\n",
    "print('RMSE of Train:',np.sqrt(mse(y_train,y_pred_train)))"
   ]
  },
  {
   "cell_type": "code",
   "execution_count": 88,
   "metadata": {},
   "outputs": [
    {
     "name": "stdout",
     "output_type": "stream",
     "text": [
      "R2 score of Test: 0.13983007648202006\n",
      "RMSE of Test: 0.9344935290394762\n"
     ]
    }
   ],
   "source": [
    "y_pred_test=ridge.predict(X_test)\n",
    "print('R2 score of Test:',r2_score(y_test,y_pred_test))\n",
    "print('RMSE of Test:',np.sqrt(mse(y_test,y_pred_test)))"
   ]
  },
  {
   "cell_type": "markdown",
   "metadata": {},
   "source": [
    "### 4.3 Elastic Net/Elastic Net CV"
   ]
  },
  {
   "cell_type": "code",
   "execution_count": 89,
   "metadata": {},
   "outputs": [
    {
     "data": {
      "text/plain": [
       "ElasticNet(alpha=0.1, copy_X=True, fit_intercept=True, l1_ratio=0.5,\n",
       "           max_iter=1000, normalize=False, positive=False, precompute=False,\n",
       "           random_state=None, selection='cyclic', tol=0.0001, warm_start=False)"
      ]
     },
     "execution_count": 89,
     "metadata": {},
     "output_type": "execute_result"
    }
   ],
   "source": [
    "from sklearn.linear_model import ElasticNet, ElasticNetCV\n",
    "enet = ElasticNet(alpha=0.1)\n",
    "enet.fit(X_train, y_train)"
   ]
  },
  {
   "cell_type": "code",
   "execution_count": 90,
   "metadata": {},
   "outputs": [
    {
     "name": "stdout",
     "output_type": "stream",
     "text": [
      "R2 score of Train: 0.04107862044377597\n",
      "RMSE of Train: 0.984175066967543\n"
     ]
    }
   ],
   "source": [
    "y_pred_train=enet.predict(X_train)\n",
    "print('R2 score of Train:',r2_score(y_train,y_pred_train))\n",
    "print('RMSE of Train:',np.sqrt(mse(y_train,y_pred_train)))"
   ]
  },
  {
   "cell_type": "code",
   "execution_count": 91,
   "metadata": {},
   "outputs": [
    {
     "name": "stdout",
     "output_type": "stream",
     "text": [
      "R2 score of Test: 0.041750610427289\n",
      "RMSE of Test: 0.9863327362407135\n"
     ]
    }
   ],
   "source": [
    "y_pred_test=enet.predict(X_test)\n",
    "print('R2 score of Test:',r2_score(y_test,y_pred_test))\n",
    "print('RMSE of Test:',np.sqrt(mse(y_test,y_pred_test)))"
   ]
  },
  {
   "cell_type": "code",
   "execution_count": 92,
   "metadata": {},
   "outputs": [
    {
     "data": {
      "text/html": [
       "<div>\n",
       "<style scoped>\n",
       "    .dataframe tbody tr th:only-of-type {\n",
       "        vertical-align: middle;\n",
       "    }\n",
       "\n",
       "    .dataframe tbody tr th {\n",
       "        vertical-align: top;\n",
       "    }\n",
       "\n",
       "    .dataframe thead th {\n",
       "        text-align: right;\n",
       "    }\n",
       "</style>\n",
       "<table border=\"1\" class=\"dataframe\">\n",
       "  <thead>\n",
       "    <tr style=\"text-align: right;\">\n",
       "      <th></th>\n",
       "      <th>coefs</th>\n",
       "    </tr>\n",
       "  </thead>\n",
       "  <tbody>\n",
       "    <tr>\n",
       "      <th>best_new_music</th>\n",
       "      <td>0.284364</td>\n",
       "    </tr>\n",
       "    <tr>\n",
       "      <th>artist</th>\n",
       "      <td>0.000004</td>\n",
       "    </tr>\n",
       "    <tr>\n",
       "      <th>author</th>\n",
       "      <td>-0.000130</td>\n",
       "    </tr>\n",
       "    <tr>\n",
       "      <th>pub_month</th>\n",
       "      <td>0.002619</td>\n",
       "    </tr>\n",
       "    <tr>\n",
       "      <th>label</th>\n",
       "      <td>0.000015</td>\n",
       "    </tr>\n",
       "    <tr>\n",
       "      <th>author_type_associate editor</th>\n",
       "      <td>-0.000000</td>\n",
       "    </tr>\n",
       "    <tr>\n",
       "      <th>author_type_associate features editor</th>\n",
       "      <td>-0.000000</td>\n",
       "    </tr>\n",
       "    <tr>\n",
       "      <th>author_type_associate staff writer</th>\n",
       "      <td>-0.000000</td>\n",
       "    </tr>\n",
       "    <tr>\n",
       "      <th>author_type_contributor</th>\n",
       "      <td>-0.000000</td>\n",
       "    </tr>\n",
       "    <tr>\n",
       "      <th>author_type_deputy news editor</th>\n",
       "      <td>-0.000000</td>\n",
       "    </tr>\n",
       "    <tr>\n",
       "      <th>author_type_editor-in-chief</th>\n",
       "      <td>-0.000000</td>\n",
       "    </tr>\n",
       "    <tr>\n",
       "      <th>author_type_executive editor</th>\n",
       "      <td>0.000000</td>\n",
       "    </tr>\n",
       "    <tr>\n",
       "      <th>author_type_senior editor</th>\n",
       "      <td>0.000000</td>\n",
       "    </tr>\n",
       "    <tr>\n",
       "      <th>author_type_senior staff writer</th>\n",
       "      <td>-0.000000</td>\n",
       "    </tr>\n",
       "    <tr>\n",
       "      <th>author_type_tracks coordinator</th>\n",
       "      <td>-0.000000</td>\n",
       "    </tr>\n",
       "    <tr>\n",
       "      <th>genre_experimental</th>\n",
       "      <td>0.000000</td>\n",
       "    </tr>\n",
       "    <tr>\n",
       "      <th>genre_folk/country</th>\n",
       "      <td>0.000000</td>\n",
       "    </tr>\n",
       "    <tr>\n",
       "      <th>genre_global</th>\n",
       "      <td>0.000000</td>\n",
       "    </tr>\n",
       "    <tr>\n",
       "      <th>genre_jazz</th>\n",
       "      <td>0.000000</td>\n",
       "    </tr>\n",
       "    <tr>\n",
       "      <th>genre_metal</th>\n",
       "      <td>0.000000</td>\n",
       "    </tr>\n",
       "    <tr>\n",
       "      <th>genre_pop/r&amp;b</th>\n",
       "      <td>-0.000000</td>\n",
       "    </tr>\n",
       "  </tbody>\n",
       "</table>\n",
       "</div>"
      ],
      "text/plain": [
       "                                          coefs\n",
       "best_new_music                         0.284364\n",
       "artist                                 0.000004\n",
       "author                                -0.000130\n",
       "pub_month                              0.002619\n",
       "label                                  0.000015\n",
       "author_type_associate editor          -0.000000\n",
       "author_type_associate features editor -0.000000\n",
       "author_type_associate staff writer    -0.000000\n",
       "author_type_contributor               -0.000000\n",
       "author_type_deputy news editor        -0.000000\n",
       "author_type_editor-in-chief           -0.000000\n",
       "author_type_executive editor           0.000000\n",
       "author_type_senior editor              0.000000\n",
       "author_type_senior staff writer       -0.000000\n",
       "author_type_tracks coordinator        -0.000000\n",
       "genre_experimental                     0.000000\n",
       "genre_folk/country                     0.000000\n",
       "genre_global                           0.000000\n",
       "genre_jazz                             0.000000\n",
       "genre_metal                            0.000000\n",
       "genre_pop/r&b                         -0.000000"
      ]
     },
     "execution_count": 92,
     "metadata": {},
     "output_type": "execute_result"
    }
   ],
   "source": [
    "pd.DataFrame(enet.coef_, X_final.columns, columns=['coefs'])"
   ]
  },
  {
   "cell_type": "code",
   "execution_count": 93,
   "metadata": {},
   "outputs": [
    {
     "data": {
      "image/png": "[encoded data removed]",
      "text/plain": [
       "<Figure size 432x288 with 1 Axes>"
      ]
     },
     "metadata": {
      "needs_background": "light"
     },
     "output_type": "display_data"
    }
   ],
   "source": [
    "n_alphas = 200\n",
    "alphas = np.logspace(-3, -1, n_alphas)\n",
    "coefs=[]\n",
    "enet = ElasticNet()\n",
    "for a in alphas:\n",
    "    enet.set_params(alpha=a)\n",
    "    enet.fit(X_final, y)\n",
    "    coefs.append(model.coef_)\n",
    "    \n",
    "plt.plot(alphas, coefs)\n",
    "plt.xlabel('alphas')\n",
    "plt.ylabel('coefs')\n",
    "plt.show()"
   ]
  },
  {
   "cell_type": "code",
   "execution_count": 94,
   "metadata": {},
   "outputs": [
    {
     "data": {
      "text/plain": [
       "0.001"
      ]
     },
     "execution_count": 94,
     "metadata": {},
     "output_type": "execute_result"
    }
   ],
   "source": [
    "n_alphas = 2000\n",
    "alphas = np.logspace(-3, 1, n_alphas)\n",
    "\n",
    "en_cv = ElasticNetCV(alphas=alphas, cv=3)\n",
    "en_cv.fit(X_final, y)\n",
    "en_cv.alpha_"
   ]
  },
  {
   "cell_type": "code",
   "execution_count": 95,
   "metadata": {},
   "outputs": [
    {
     "data": {
      "text/plain": [
       "ElasticNet(alpha=0.001, copy_X=True, fit_intercept=True, l1_ratio=0.5,\n",
       "           max_iter=1000, normalize=False, positive=False, precompute=False,\n",
       "           random_state=None, selection='cyclic', tol=0.0001, warm_start=False)"
      ]
     },
     "execution_count": 95,
     "metadata": {},
     "output_type": "execute_result"
    }
   ],
   "source": [
    "enet = ElasticNet(alpha=en_cv.alpha_)\n",
    "enet.fit(X_train,y_train)"
   ]
  },
  {
   "cell_type": "code",
   "execution_count": 96,
   "metadata": {},
   "outputs": [
    {
     "name": "stdout",
     "output_type": "stream",
     "text": [
      "R2 score of Train: 0.1334820930161561\n",
      "RMSE of Train: 0.9355556560415822\n"
     ]
    }
   ],
   "source": [
    "y_pred_train=enet.predict(X_train)\n",
    "print('R2 score of Train:',r2_score(y_train,y_pred_train))\n",
    "print('RMSE of Train:',np.sqrt(mse(y_train,y_pred_train)))"
   ]
  },
  {
   "cell_type": "code",
   "execution_count": 97,
   "metadata": {},
   "outputs": [
    {
     "name": "stdout",
     "output_type": "stream",
     "text": [
      "R2 score of Test: 0.13832516248188553\n",
      "RMSE of Test: 0.935310645390691\n"
     ]
    }
   ],
   "source": [
    "y_pred_test=enet.predict(X_test)\n",
    "print('R2 score of Test:',r2_score(y_test,y_pred_test))\n",
    "print('RMSE of Test:',np.sqrt(mse(y_test,y_pred_test)))"
   ]
  },
  {
   "cell_type": "markdown",
   "metadata": {},
   "source": [
    "### 5 Decision Tree"
   ]
  },
  {
   "cell_type": "code",
   "execution_count": 98,
   "metadata": {},
   "outputs": [],
   "source": [
    "from sklearn.tree import DecisionTreeRegressor\n",
    "dtr=DecisionTreeRegressor()"
   ]
  },
  {
   "cell_type": "code",
   "execution_count": 99,
   "metadata": {},
   "outputs": [
    {
     "data": {
      "text/plain": [
       "DecisionTreeRegressor(ccp_alpha=0.0, criterion='mse', max_depth=None,\n",
       "                      max_features=None, max_leaf_nodes=None,\n",
       "                      min_impurity_decrease=0.0, min_impurity_split=None,\n",
       "                      min_samples_leaf=1, min_samples_split=2,\n",
       "                      min_weight_fraction_leaf=0.0, presort='deprecated',\n",
       "                      random_state=None, splitter='best')"
      ]
     },
     "execution_count": 99,
     "metadata": {},
     "output_type": "execute_result"
    }
   ],
   "source": [
    "dtr.fit(X_train,y_train)"
   ]
  },
  {
   "cell_type": "code",
   "execution_count": 100,
   "metadata": {},
   "outputs": [
    {
     "name": "stdout",
     "output_type": "stream",
     "text": [
      "R2 score of Train: 0.9965326578870672\n",
      "RMSE of Train: 0.05918057832814713\n"
     ]
    }
   ],
   "source": [
    "y_pred_train=dtr.predict(X_train)\n",
    "print('R2 score of Train:',r2_score(y_train,y_pred_train))\n",
    "print('RMSE of Train:',np.sqrt(mse(y_train,y_pred_train)))"
   ]
  },
  {
   "cell_type": "code",
   "execution_count": 101,
   "metadata": {},
   "outputs": [
    {
     "name": "stdout",
     "output_type": "stream",
     "text": [
      "R2 score of Test: -0.28641782889859946\n",
      "RMSE of Test: 1.1428130660723725\n"
     ]
    }
   ],
   "source": [
    "y_pred_test=dtr.predict(X_test)\n",
    "print('R2 score of Test:',r2_score(y_test,y_pred_test))\n",
    "print('RMSE of Test:',np.sqrt(mse(y_test,y_pred_test)))"
   ]
  },
  {
   "cell_type": "markdown",
   "metadata": {},
   "source": [
    "### 6. Random Forest"
   ]
  },
  {
   "cell_type": "code",
   "execution_count": 102,
   "metadata": {},
   "outputs": [],
   "source": [
    "from sklearn.ensemble import RandomForestRegressor\n",
    "rfr=RandomForestRegressor()"
   ]
  },
  {
   "cell_type": "code",
   "execution_count": 103,
   "metadata": {},
   "outputs": [
    {
     "data": {
      "text/plain": [
       "RandomForestRegressor(bootstrap=True, ccp_alpha=0.0, criterion='mse',\n",
       "                      max_depth=None, max_features='auto', max_leaf_nodes=None,\n",
       "                      max_samples=None, min_impurity_decrease=0.0,\n",
       "                      min_impurity_split=None, min_samples_leaf=1,\n",
       "                      min_samples_split=2, min_weight_fraction_leaf=0.0,\n",
       "                      n_estimators=100, n_jobs=None, oob_score=False,\n",
       "                      random_state=None, verbose=0, warm_start=False)"
      ]
     },
     "execution_count": 103,
     "metadata": {},
     "output_type": "execute_result"
    }
   ],
   "source": [
    "rfr.fit(X_train,y_train)"
   ]
  },
  {
   "cell_type": "code",
   "execution_count": 104,
   "metadata": {},
   "outputs": [
    {
     "name": "stdout",
     "output_type": "stream",
     "text": [
      "R2 score of Train: 0.8991509875429959\n",
      "RMSE of Train: 0.31916604543773885\n"
     ]
    }
   ],
   "source": [
    "y_pred_train=rfr.predict(X_train)\n",
    "print('R2 score of Train:',r2_score(y_train,y_pred_train))\n",
    "print('RMSE of Train:',np.sqrt(mse(y_train,y_pred_train)))"
   ]
  },
  {
   "cell_type": "code",
   "execution_count": 105,
   "metadata": {},
   "outputs": [
    {
     "name": "stdout",
     "output_type": "stream",
     "text": [
      "R2 score of Test: 0.3057873186541066\n",
      "RMSE of Test: 0.8395188332555449\n"
     ]
    }
   ],
   "source": [
    "y_pred_test=rfr.predict(X_test)\n",
    "print('R2 score of Test:',r2_score(y_test,y_pred_test))\n",
    "print('RMSE of Test:',np.sqrt(mse(y_test,y_pred_test)))"
   ]
  },
  {
   "cell_type": "markdown",
   "metadata": {},
   "source": [
    "### 7. KNN"
   ]
  },
  {
   "cell_type": "code",
   "execution_count": 106,
   "metadata": {},
   "outputs": [],
   "source": [
    "from sklearn.neighbors import KNeighborsRegressor\n",
    "knnr=KNeighborsRegressor(n_neighbors=5)"
   ]
  },
  {
   "cell_type": "code",
   "execution_count": 107,
   "metadata": {},
   "outputs": [
    {
     "name": "stdout",
     "output_type": "stream",
     "text": [
      "R2 score of Train: 0.29564562712332965\n",
      "RMSE of Train: 0.8434832549604543\n"
     ]
    }
   ],
   "source": [
    "knnr.fit(X_train,y_train)\n",
    "y_pred_train=knnr.predict(X_train)\n",
    "print('R2 score of Train:',r2_score(y_train,y_pred_train))\n",
    "print('RMSE of Train:',np.sqrt(mse(y_train,y_pred_train)))"
   ]
  },
  {
   "cell_type": "code",
   "execution_count": 108,
   "metadata": {},
   "outputs": [
    {
     "name": "stdout",
     "output_type": "stream",
     "text": [
      "R2 score of Test: -0.06335333191235515\n",
      "RMSE of Test: 1.039017757529838\n"
     ]
    }
   ],
   "source": [
    "y_pred_test=knnr.predict(X_test)\n",
    "print('R2 score of Test:',r2_score(y_test,y_pred_test))\n",
    "print('RMSE of Test:',np.sqrt(mse(y_test,y_pred_test)))"
   ]
  },
  {
   "cell_type": "markdown",
   "metadata": {},
   "source": [
    "### 8. Bayesian Ridge"
   ]
  },
  {
   "cell_type": "code",
   "execution_count": 109,
   "metadata": {},
   "outputs": [],
   "source": [
    "from sklearn.linear_model import BayesianRidge\n",
    "bay=BayesianRidge()"
   ]
  },
  {
   "cell_type": "code",
   "execution_count": 110,
   "metadata": {},
   "outputs": [
    {
     "data": {
      "text/plain": [
       "BayesianRidge(alpha_1=1e-06, alpha_2=1e-06, alpha_init=None,\n",
       "              compute_score=False, copy_X=True, fit_intercept=True,\n",
       "              lambda_1=1e-06, lambda_2=1e-06, lambda_init=None, n_iter=300,\n",
       "              normalize=False, tol=0.001, verbose=False)"
      ]
     },
     "execution_count": 110,
     "metadata": {},
     "output_type": "execute_result"
    }
   ],
   "source": [
    "bay.fit(X_train,y_train)"
   ]
  },
  {
   "cell_type": "code",
   "execution_count": 111,
   "metadata": {},
   "outputs": [
    {
     "name": "stdout",
     "output_type": "stream",
     "text": [
      "R2 score of Train: 0.1352354717947214\n",
      "RMSE of Train: 0.9346086392054197\n"
     ]
    }
   ],
   "source": [
    "y_pred_train=bay.predict(X_train)\n",
    "print('R2 score of Train:',r2_score(y_train,y_pred_train))\n",
    "print('RMSE of Train:',np.sqrt(mse(y_train,y_pred_train)))"
   ]
  },
  {
   "cell_type": "code",
   "execution_count": 112,
   "metadata": {},
   "outputs": [
    {
     "name": "stdout",
     "output_type": "stream",
     "text": [
      "R2 score of Test: 0.1398202005832503\n",
      "RMSE of Test: 0.9344988936405576\n"
     ]
    }
   ],
   "source": [
    "y_pred_test=bay.predict(X_test)\n",
    "print('R2 score of Test:',r2_score(y_test,y_pred_test))\n",
    "print('RMSE of Test:',np.sqrt(mse(y_test,y_pred_test)))"
   ]
  },
  {
   "cell_type": "markdown",
   "metadata": {},
   "source": [
    "### 9. Bagging"
   ]
  },
  {
   "cell_type": "code",
   "execution_count": 113,
   "metadata": {},
   "outputs": [],
   "source": [
    "from sklearn.ensemble import BaggingRegressor\n",
    "baggr_lr=BaggingRegressor(base_estimator=LinearRegression())"
   ]
  },
  {
   "cell_type": "code",
   "execution_count": 114,
   "metadata": {},
   "outputs": [
    {
     "name": "stdout",
     "output_type": "stream",
     "text": [
      "R2 score of Train: 0.1352325011520843\n",
      "RMSE of Train: 0.9346102444897473\n"
     ]
    }
   ],
   "source": [
    "baggr_lr.fit(X_train,y_train)\n",
    "y_pred_train=baggr_lr.predict(X_train)\n",
    "print('R2 score of Train:',r2_score(y_train,y_pred_train))\n",
    "print('RMSE of Train:',np.sqrt(mse(y_train,y_pred_train)))"
   ]
  },
  {
   "cell_type": "code",
   "execution_count": 115,
   "metadata": {},
   "outputs": [
    {
     "name": "stdout",
     "output_type": "stream",
     "text": [
      "R2 score of Test: 0.13926291251389988\n",
      "RMSE of Test: 0.9348015633621339\n"
     ]
    }
   ],
   "source": [
    "y_pred_test=baggr_lr.predict(X_test)\n",
    "print('R2 score of Test:',r2_score(y_test,y_pred_test))\n",
    "print('RMSE of Test:',np.sqrt(mse(y_test,y_pred_test)))"
   ]
  },
  {
   "cell_type": "code",
   "execution_count": 116,
   "metadata": {},
   "outputs": [
    {
     "name": "stdout",
     "output_type": "stream",
     "text": [
      "R2 score of Train: 0.8583145228875286\n",
      "RMSE of Train: 0.3783062585668864\n"
     ]
    }
   ],
   "source": [
    "baggr_dt=BaggingRegressor(base_estimator=DecisionTreeRegressor())\n",
    "baggr_dt.fit(X_train,y_train)\n",
    "y_pred_train=baggr_dt.predict(X_train)\n",
    "print('R2 score of Train:',r2_score(y_train,y_pred_train))\n",
    "print('RMSE of Train:',np.sqrt(mse(y_train,y_pred_train)))"
   ]
  },
  {
   "cell_type": "code",
   "execution_count": 117,
   "metadata": {},
   "outputs": [
    {
     "name": "stdout",
     "output_type": "stream",
     "text": [
      "R2 score of Test: 0.23366689541666663\n",
      "RMSE of Test: 0.8820495146985662\n"
     ]
    }
   ],
   "source": [
    "y_pred_test=baggr_dt.predict(X_test)\n",
    "print('R2 score of Test:',r2_score(y_test,y_pred_test))\n",
    "print('RMSE of Test:',np.sqrt(mse(y_test,y_pred_test)))"
   ]
  },
  {
   "cell_type": "code",
   "execution_count": 118,
   "metadata": {},
   "outputs": [
    {
     "name": "stdout",
     "output_type": "stream",
     "text": [
      "R2 score of Train: 0.32787020858540594\n",
      "RMSE of Train: 0.8239624692351486\n"
     ]
    }
   ],
   "source": [
    "baggr_knn=BaggingRegressor(base_estimator=KNeighborsRegressor(n_neighbors=5))\n",
    "baggr_knn.fit(X_train,y_train)\n",
    "y_pred_train=baggr_knn.predict(X_train)\n",
    "print('R2 score of Train:',r2_score(y_train,y_pred_train))\n",
    "print('RMSE of Train:',np.sqrt(mse(y_train,y_pred_train)))"
   ]
  },
  {
   "cell_type": "code",
   "execution_count": 119,
   "metadata": {},
   "outputs": [
    {
     "name": "stdout",
     "output_type": "stream",
     "text": [
      "R2 score of Test: -0.025623347977808075\n",
      "RMSE of Test: 1.0204180245330587\n"
     ]
    }
   ],
   "source": [
    "y_pred_test=baggr_knn.predict(X_test)\n",
    "print('R2 score of Test:',r2_score(y_test,y_pred_test))\n",
    "print('RMSE of Test:',np.sqrt(mse(y_test,y_pred_test)))"
   ]
  },
  {
   "cell_type": "markdown",
   "metadata": {},
   "source": [
    "### 10. Boosting"
   ]
  },
  {
   "cell_type": "code",
   "execution_count": 120,
   "metadata": {},
   "outputs": [
    {
     "name": "stdout",
     "output_type": "stream",
     "text": [
      "R2 score of Train: 0.11805072851091747\n",
      "RMSE of Train: 0.9438493055154242\n"
     ]
    }
   ],
   "source": [
    "from sklearn.ensemble import AdaBoostRegressor\n",
    "ada=AdaBoostRegressor(base_estimator=LinearRegression())\n",
    "ada.fit(X_train,y_train)\n",
    "y_pred_train=ada.predict(X_train)\n",
    "print('R2 score of Train:',r2_score(y_train,y_pred_train))\n",
    "print('RMSE of Train:',np.sqrt(mse(y_train,y_pred_train)))"
   ]
  },
  {
   "cell_type": "code",
   "execution_count": 121,
   "metadata": {},
   "outputs": [
    {
     "name": "stdout",
     "output_type": "stream",
     "text": [
      "R2 score of Test: 0.12264481211173783\n",
      "RMSE of Test: 0.9437824476462735\n"
     ]
    }
   ],
   "source": [
    "y_pred_test=ada.predict(X_test)\n",
    "print('R2 score of Test:',r2_score(y_test,y_pred_test))\n",
    "print('RMSE of Test:',np.sqrt(mse(y_test,y_pred_test)))"
   ]
  },
  {
   "cell_type": "code",
   "execution_count": 122,
   "metadata": {},
   "outputs": [
    {
     "name": "stdout",
     "output_type": "stream",
     "text": [
      "R2 score of Train: 0.10296235380075858\n",
      "RMSE of Train: 0.9518887464504794\n"
     ]
    }
   ],
   "source": [
    "ada=AdaBoostRegressor(base_estimator=DecisionTreeRegressor(max_depth=1))\n",
    "ada.fit(X_train,y_train)\n",
    "y_pred_train=ada.predict(X_train)\n",
    "print('R2 score of Train:',r2_score(y_train,y_pred_train))\n",
    "print('RMSE of Train:',np.sqrt(mse(y_train,y_pred_train)))"
   ]
  },
  {
   "cell_type": "code",
   "execution_count": 123,
   "metadata": {},
   "outputs": [
    {
     "name": "stdout",
     "output_type": "stream",
     "text": [
      "R2 score of Test: 0.10815695237187284\n",
      "RMSE of Test: 0.951542931481113\n"
     ]
    }
   ],
   "source": [
    "y_pred_test=ada.predict(X_test)\n",
    "print('R2 score of Test:',r2_score(y_test,y_pred_test))\n",
    "print('RMSE of Test:',np.sqrt(mse(y_test,y_pred_test)))"
   ]
  }
 ],
 "metadata": {
  "kernelspec": {
   "display_name": "Python 3",
   "language": "python",
   "name": "python3"
  },
  "language_info": {
   "codemirror_mode": {
    "name": "ipython",
    "version": 3
   },
   "file_extension": ".py",
   "mimetype": "text/x-python",
   "name": "python",
   "nbconvert_exporter": "python",
   "pygments_lexer": "ipython3",
   "version": "3.7.6"
  }
 },
 "nbformat": 4,
 "nbformat_minor": 2
}
