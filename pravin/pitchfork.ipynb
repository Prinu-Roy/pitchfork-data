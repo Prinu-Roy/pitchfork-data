{
 "cells": [
  {
   "cell_type": "markdown",
   "metadata": {},
   "source": [
    "# Pitchfork"
   ]
  },
  {
   "cell_type": "code",
   "execution_count": 1,
   "metadata": {},
   "outputs": [],
   "source": [
    "import numpy as np\n",
    "import pandas as pd\n",
    "import matplotlib.pyplot as plt\n",
    "%matplotlib inline\n",
    "import seaborn as sns\n",
    "import os\n",
    "import sqlite3"
   ]
  },
  {
   "cell_type": "code",
   "execution_count": 2,
   "metadata": {},
   "outputs": [],
   "source": [
    "os.chdir(r'../Data')"
   ]
  },
  {
   "cell_type": "code",
   "execution_count": 3,
   "metadata": {},
   "outputs": [],
   "source": [
    "conn=sqlite3.connect('./database.sqlite')"
   ]
  },
  {
   "cell_type": "code",
   "execution_count": 4,
   "metadata": {},
   "outputs": [
    {
     "name": "stdout",
     "output_type": "stream",
     "text": [
      "   reviewid          artist\n",
      "0     22703  massive attack\n",
      "1     22721        krallice\n",
      "2     22659    uranium club\n",
      "3     22661         kleenex\n",
      "4     22661         liliput\n",
      "Index(['reviewid', 'artist'], dtype='object')\n"
     ]
    }
   ],
   "source": [
    "print(pd.read_sql_query('select * from artists',conn).head())\n",
    "# print(pd.read_sql_query('select * from artists',conn).columns.values)\n",
    "print(pd.read_sql_query('select * from artists',conn).columns)"
   ]
  },
  {
   "cell_type": "code",
   "execution_count": 5,
   "metadata": {},
   "outputs": [
    {
     "name": "stdout",
     "output_type": "stream",
     "text": [
      "   reviewid                                            content\n",
      "0     22703  “Trip-hop” eventually became a ’90s punchline,...\n",
      "1     22721  Eight years, five albums, and two EPs in, the ...\n",
      "2     22659  Minneapolis’ Uranium Club seem to revel in bei...\n",
      "3     22661  Kleenex began with a crash. It transpired one ...\n",
      "4     22725  It is impossible to consider a given release b...\n"
     ]
    }
   ],
   "source": [
    "print(pd.read_sql_query('select * from content',conn).head())"
   ]
  },
  {
   "cell_type": "code",
   "execution_count": 6,
   "metadata": {},
   "outputs": [
    {
     "data": {
      "text/html": [
       "<div>\n",
       "<style scoped>\n",
       "    .dataframe tbody tr th:only-of-type {\n",
       "        vertical-align: middle;\n",
       "    }\n",
       "\n",
       "    .dataframe tbody tr th {\n",
       "        vertical-align: top;\n",
       "    }\n",
       "\n",
       "    .dataframe thead th {\n",
       "        text-align: right;\n",
       "    }\n",
       "</style>\n",
       "<table border=\"1\" class=\"dataframe\">\n",
       "  <thead>\n",
       "    <tr style=\"text-align: right;\">\n",
       "      <th></th>\n",
       "      <th>reviewid</th>\n",
       "      <th>genre</th>\n",
       "    </tr>\n",
       "  </thead>\n",
       "  <tbody>\n",
       "    <tr>\n",
       "      <th>0</th>\n",
       "      <td>22703</td>\n",
       "      <td>electronic</td>\n",
       "    </tr>\n",
       "    <tr>\n",
       "      <th>1</th>\n",
       "      <td>22721</td>\n",
       "      <td>metal</td>\n",
       "    </tr>\n",
       "    <tr>\n",
       "      <th>2</th>\n",
       "      <td>22659</td>\n",
       "      <td>rock</td>\n",
       "    </tr>\n",
       "    <tr>\n",
       "      <th>3</th>\n",
       "      <td>22661</td>\n",
       "      <td>rock</td>\n",
       "    </tr>\n",
       "    <tr>\n",
       "      <th>4</th>\n",
       "      <td>22725</td>\n",
       "      <td>electronic</td>\n",
       "    </tr>\n",
       "  </tbody>\n",
       "</table>\n",
       "</div>"
      ],
      "text/plain": [
       "   reviewid       genre\n",
       "0     22703  electronic\n",
       "1     22721       metal\n",
       "2     22659        rock\n",
       "3     22661        rock\n",
       "4     22725  electronic"
      ]
     },
     "execution_count": 6,
     "metadata": {},
     "output_type": "execute_result"
    }
   ],
   "source": [
    "pd.read_sql_query('select * from genres',conn).head()"
   ]
  },
  {
   "cell_type": "code",
   "execution_count": 7,
   "metadata": {},
   "outputs": [
    {
     "data": {
      "text/html": [
       "<div>\n",
       "<style scoped>\n",
       "    .dataframe tbody tr th:only-of-type {\n",
       "        vertical-align: middle;\n",
       "    }\n",
       "\n",
       "    .dataframe tbody tr th {\n",
       "        vertical-align: top;\n",
       "    }\n",
       "\n",
       "    .dataframe thead th {\n",
       "        text-align: right;\n",
       "    }\n",
       "</style>\n",
       "<table border=\"1\" class=\"dataframe\">\n",
       "  <thead>\n",
       "    <tr style=\"text-align: right;\">\n",
       "      <th></th>\n",
       "      <th>reviewid</th>\n",
       "      <th>label</th>\n",
       "    </tr>\n",
       "  </thead>\n",
       "  <tbody>\n",
       "    <tr>\n",
       "      <th>0</th>\n",
       "      <td>22703</td>\n",
       "      <td>virgin</td>\n",
       "    </tr>\n",
       "    <tr>\n",
       "      <th>1</th>\n",
       "      <td>22721</td>\n",
       "      <td>hathenter</td>\n",
       "    </tr>\n",
       "    <tr>\n",
       "      <th>2</th>\n",
       "      <td>22659</td>\n",
       "      <td>static shock</td>\n",
       "    </tr>\n",
       "    <tr>\n",
       "      <th>3</th>\n",
       "      <td>22659</td>\n",
       "      <td>fashionable idiots</td>\n",
       "    </tr>\n",
       "    <tr>\n",
       "      <th>4</th>\n",
       "      <td>22661</td>\n",
       "      <td>kill rock stars</td>\n",
       "    </tr>\n",
       "  </tbody>\n",
       "</table>\n",
       "</div>"
      ],
      "text/plain": [
       "   reviewid               label\n",
       "0     22703              virgin\n",
       "1     22721           hathenter\n",
       "2     22659        static shock\n",
       "3     22659  fashionable idiots\n",
       "4     22661     kill rock stars"
      ]
     },
     "execution_count": 7,
     "metadata": {},
     "output_type": "execute_result"
    }
   ],
   "source": [
    "pd.read_sql_query('select * from labels',conn).head()"
   ]
  },
  {
   "cell_type": "code",
   "execution_count": 8,
   "metadata": {},
   "outputs": [
    {
     "data": {
      "text/html": [
       "<div>\n",
       "<style scoped>\n",
       "    .dataframe tbody tr th:only-of-type {\n",
       "        vertical-align: middle;\n",
       "    }\n",
       "\n",
       "    .dataframe tbody tr th {\n",
       "        vertical-align: top;\n",
       "    }\n",
       "\n",
       "    .dataframe thead th {\n",
       "        text-align: right;\n",
       "    }\n",
       "</style>\n",
       "<table border=\"1\" class=\"dataframe\">\n",
       "  <thead>\n",
       "    <tr style=\"text-align: right;\">\n",
       "      <th></th>\n",
       "      <th>reviewid</th>\n",
       "      <th>title</th>\n",
       "      <th>artist</th>\n",
       "      <th>url</th>\n",
       "      <th>score</th>\n",
       "      <th>best_new_music</th>\n",
       "      <th>author</th>\n",
       "      <th>author_type</th>\n",
       "      <th>pub_date</th>\n",
       "      <th>pub_weekday</th>\n",
       "      <th>pub_day</th>\n",
       "      <th>pub_month</th>\n",
       "      <th>pub_year</th>\n",
       "    </tr>\n",
       "  </thead>\n",
       "  <tbody>\n",
       "    <tr>\n",
       "      <th>0</th>\n",
       "      <td>22703</td>\n",
       "      <td>mezzanine</td>\n",
       "      <td>massive attack</td>\n",
       "      <td>http://pitchfork.com/reviews/albums/22703-mezz...</td>\n",
       "      <td>9.3</td>\n",
       "      <td>0</td>\n",
       "      <td>nate patrin</td>\n",
       "      <td>contributor</td>\n",
       "      <td>2017-01-08</td>\n",
       "      <td>6</td>\n",
       "      <td>8</td>\n",
       "      <td>1</td>\n",
       "      <td>2017</td>\n",
       "    </tr>\n",
       "    <tr>\n",
       "      <th>1</th>\n",
       "      <td>22721</td>\n",
       "      <td>prelapsarian</td>\n",
       "      <td>krallice</td>\n",
       "      <td>http://pitchfork.com/reviews/albums/22721-prel...</td>\n",
       "      <td>7.9</td>\n",
       "      <td>0</td>\n",
       "      <td>zoe camp</td>\n",
       "      <td>contributor</td>\n",
       "      <td>2017-01-07</td>\n",
       "      <td>5</td>\n",
       "      <td>7</td>\n",
       "      <td>1</td>\n",
       "      <td>2017</td>\n",
       "    </tr>\n",
       "    <tr>\n",
       "      <th>2</th>\n",
       "      <td>22659</td>\n",
       "      <td>all of them naturals</td>\n",
       "      <td>uranium club</td>\n",
       "      <td>http://pitchfork.com/reviews/albums/22659-all-...</td>\n",
       "      <td>7.3</td>\n",
       "      <td>0</td>\n",
       "      <td>david glickman</td>\n",
       "      <td>contributor</td>\n",
       "      <td>2017-01-07</td>\n",
       "      <td>5</td>\n",
       "      <td>7</td>\n",
       "      <td>1</td>\n",
       "      <td>2017</td>\n",
       "    </tr>\n",
       "    <tr>\n",
       "      <th>3</th>\n",
       "      <td>22661</td>\n",
       "      <td>first songs</td>\n",
       "      <td>kleenex, liliput</td>\n",
       "      <td>http://pitchfork.com/reviews/albums/22661-firs...</td>\n",
       "      <td>9.0</td>\n",
       "      <td>1</td>\n",
       "      <td>jenn pelly</td>\n",
       "      <td>associate reviews editor</td>\n",
       "      <td>2017-01-06</td>\n",
       "      <td>4</td>\n",
       "      <td>6</td>\n",
       "      <td>1</td>\n",
       "      <td>2017</td>\n",
       "    </tr>\n",
       "    <tr>\n",
       "      <th>4</th>\n",
       "      <td>22725</td>\n",
       "      <td>new start</td>\n",
       "      <td>taso</td>\n",
       "      <td>http://pitchfork.com/reviews/albums/22725-new-...</td>\n",
       "      <td>8.1</td>\n",
       "      <td>0</td>\n",
       "      <td>kevin lozano</td>\n",
       "      <td>tracks coordinator</td>\n",
       "      <td>2017-01-06</td>\n",
       "      <td>4</td>\n",
       "      <td>6</td>\n",
       "      <td>1</td>\n",
       "      <td>2017</td>\n",
       "    </tr>\n",
       "  </tbody>\n",
       "</table>\n",
       "</div>"
      ],
      "text/plain": [
       "   reviewid                 title            artist  \\\n",
       "0     22703             mezzanine    massive attack   \n",
       "1     22721          prelapsarian          krallice   \n",
       "2     22659  all of them naturals      uranium club   \n",
       "3     22661           first songs  kleenex, liliput   \n",
       "4     22725             new start              taso   \n",
       "\n",
       "                                                 url  score  best_new_music  \\\n",
       "0  http://pitchfork.com/reviews/albums/22703-mezz...    9.3               0   \n",
       "1  http://pitchfork.com/reviews/albums/22721-prel...    7.9               0   \n",
       "2  http://pitchfork.com/reviews/albums/22659-all-...    7.3               0   \n",
       "3  http://pitchfork.com/reviews/albums/22661-firs...    9.0               1   \n",
       "4  http://pitchfork.com/reviews/albums/22725-new-...    8.1               0   \n",
       "\n",
       "           author               author_type    pub_date  pub_weekday  pub_day  \\\n",
       "0     nate patrin               contributor  2017-01-08            6        8   \n",
       "1        zoe camp               contributor  2017-01-07            5        7   \n",
       "2  david glickman               contributor  2017-01-07            5        7   \n",
       "3      jenn pelly  associate reviews editor  2017-01-06            4        6   \n",
       "4    kevin lozano        tracks coordinator  2017-01-06            4        6   \n",
       "\n",
       "   pub_month  pub_year  \n",
       "0          1      2017  \n",
       "1          1      2017  \n",
       "2          1      2017  \n",
       "3          1      2017  \n",
       "4          1      2017  "
      ]
     },
     "execution_count": 8,
     "metadata": {},
     "output_type": "execute_result"
    }
   ],
   "source": [
    "reviews=pd.read_sql_query('select * from reviews',conn)\n",
    "reviews.head()"
   ]
  },
  {
   "cell_type": "code",
   "execution_count": 9,
   "metadata": {
    "scrolled": true
   },
   "outputs": [
    {
     "name": "stdout",
     "output_type": "stream",
     "text": [
      "<class 'pandas.core.frame.DataFrame'>\n",
      "RangeIndex: 18393 entries, 0 to 18392\n",
      "Data columns (total 13 columns):\n",
      " #   Column          Non-Null Count  Dtype  \n",
      "---  ------          --------------  -----  \n",
      " 0   reviewid        18393 non-null  int64  \n",
      " 1   title           18393 non-null  object \n",
      " 2   artist          18393 non-null  object \n",
      " 3   url             18393 non-null  object \n",
      " 4   score           18393 non-null  float64\n",
      " 5   best_new_music  18393 non-null  int64  \n",
      " 6   author          18393 non-null  object \n",
      " 7   author_type     14487 non-null  object \n",
      " 8   pub_date        18393 non-null  object \n",
      " 9   pub_weekday     18393 non-null  int64  \n",
      " 10  pub_day         18393 non-null  int64  \n",
      " 11  pub_month       18393 non-null  int64  \n",
      " 12  pub_year        18393 non-null  int64  \n",
      "dtypes: float64(1), int64(6), object(6)\n",
      "memory usage: 1.8+ MB\n"
     ]
    }
   ],
   "source": [
    "reviews.info()"
   ]
  },
  {
   "cell_type": "code",
   "execution_count": 10,
   "metadata": {
    "scrolled": true
   },
   "outputs": [
    {
     "data": {
      "text/plain": [
       "0    17450\n",
       "1      943\n",
       "Name: best_new_music, dtype: int64"
      ]
     },
     "execution_count": 10,
     "metadata": {},
     "output_type": "execute_result"
    }
   ],
   "source": [
    "reviews['best_new_music'].value_counts()"
   ]
  },
  {
   "cell_type": "code",
   "execution_count": 11,
   "metadata": {},
   "outputs": [
    {
     "data": {
      "text/html": [
       "<div>\n",
       "<style scoped>\n",
       "    .dataframe tbody tr th:only-of-type {\n",
       "        vertical-align: middle;\n",
       "    }\n",
       "\n",
       "    .dataframe tbody tr th {\n",
       "        vertical-align: top;\n",
       "    }\n",
       "\n",
       "    .dataframe thead th {\n",
       "        text-align: right;\n",
       "    }\n",
       "</style>\n",
       "<table border=\"1\" class=\"dataframe\">\n",
       "  <thead>\n",
       "    <tr style=\"text-align: right;\">\n",
       "      <th></th>\n",
       "      <th>reviewid</th>\n",
       "      <th>year</th>\n",
       "    </tr>\n",
       "  </thead>\n",
       "  <tbody>\n",
       "    <tr>\n",
       "      <th>0</th>\n",
       "      <td>22703</td>\n",
       "      <td>1998.0</td>\n",
       "    </tr>\n",
       "    <tr>\n",
       "      <th>1</th>\n",
       "      <td>22721</td>\n",
       "      <td>2016.0</td>\n",
       "    </tr>\n",
       "    <tr>\n",
       "      <th>2</th>\n",
       "      <td>22659</td>\n",
       "      <td>2016.0</td>\n",
       "    </tr>\n",
       "    <tr>\n",
       "      <th>3</th>\n",
       "      <td>22661</td>\n",
       "      <td>2016.0</td>\n",
       "    </tr>\n",
       "    <tr>\n",
       "      <th>4</th>\n",
       "      <td>22725</td>\n",
       "      <td>2016.0</td>\n",
       "    </tr>\n",
       "  </tbody>\n",
       "</table>\n",
       "</div>"
      ],
      "text/plain": [
       "   reviewid    year\n",
       "0     22703  1998.0\n",
       "1     22721  2016.0\n",
       "2     22659  2016.0\n",
       "3     22661  2016.0\n",
       "4     22725  2016.0"
      ]
     },
     "execution_count": 11,
     "metadata": {},
     "output_type": "execute_result"
    }
   ],
   "source": [
    "pd.read_sql_query('select * from years',conn).head()"
   ]
  },
  {
   "cell_type": "code",
   "execution_count": 12,
   "metadata": {
    "scrolled": true
   },
   "outputs": [
    {
     "data": {
      "text/html": [
       "<div>\n",
       "<style scoped>\n",
       "    .dataframe tbody tr th:only-of-type {\n",
       "        vertical-align: middle;\n",
       "    }\n",
       "\n",
       "    .dataframe tbody tr th {\n",
       "        vertical-align: top;\n",
       "    }\n",
       "\n",
       "    .dataframe thead th {\n",
       "        text-align: right;\n",
       "    }\n",
       "</style>\n",
       "<table border=\"1\" class=\"dataframe\">\n",
       "  <thead>\n",
       "    <tr style=\"text-align: right;\">\n",
       "      <th></th>\n",
       "      <th>reviewid</th>\n",
       "      <th>title</th>\n",
       "      <th>score</th>\n",
       "      <th>best_new_music</th>\n",
       "      <th>artist</th>\n",
       "      <th>author</th>\n",
       "      <th>author_type</th>\n",
       "      <th>pub_month</th>\n",
       "      <th>pub_year</th>\n",
       "      <th>genre</th>\n",
       "      <th>label</th>\n",
       "    </tr>\n",
       "  </thead>\n",
       "  <tbody>\n",
       "    <tr>\n",
       "      <th>0</th>\n",
       "      <td>22703</td>\n",
       "      <td>mezzanine</td>\n",
       "      <td>9.3</td>\n",
       "      <td>0</td>\n",
       "      <td>massive attack</td>\n",
       "      <td>nate patrin</td>\n",
       "      <td>contributor</td>\n",
       "      <td>1</td>\n",
       "      <td>2017</td>\n",
       "      <td>electronic</td>\n",
       "      <td>virgin</td>\n",
       "    </tr>\n",
       "    <tr>\n",
       "      <th>1</th>\n",
       "      <td>22721</td>\n",
       "      <td>prelapsarian</td>\n",
       "      <td>7.9</td>\n",
       "      <td>0</td>\n",
       "      <td>krallice</td>\n",
       "      <td>zoe camp</td>\n",
       "      <td>contributor</td>\n",
       "      <td>1</td>\n",
       "      <td>2017</td>\n",
       "      <td>metal</td>\n",
       "      <td>hathenter</td>\n",
       "    </tr>\n",
       "    <tr>\n",
       "      <th>2</th>\n",
       "      <td>22659</td>\n",
       "      <td>all of them naturals</td>\n",
       "      <td>7.3</td>\n",
       "      <td>0</td>\n",
       "      <td>uranium club</td>\n",
       "      <td>david glickman</td>\n",
       "      <td>contributor</td>\n",
       "      <td>1</td>\n",
       "      <td>2017</td>\n",
       "      <td>rock</td>\n",
       "      <td>fashionable idiots</td>\n",
       "    </tr>\n",
       "    <tr>\n",
       "      <th>3</th>\n",
       "      <td>22659</td>\n",
       "      <td>all of them naturals</td>\n",
       "      <td>7.3</td>\n",
       "      <td>0</td>\n",
       "      <td>uranium club</td>\n",
       "      <td>david glickman</td>\n",
       "      <td>contributor</td>\n",
       "      <td>1</td>\n",
       "      <td>2017</td>\n",
       "      <td>rock</td>\n",
       "      <td>static shock</td>\n",
       "    </tr>\n",
       "    <tr>\n",
       "      <th>4</th>\n",
       "      <td>22661</td>\n",
       "      <td>first songs</td>\n",
       "      <td>9.0</td>\n",
       "      <td>1</td>\n",
       "      <td>kleenex</td>\n",
       "      <td>jenn pelly</td>\n",
       "      <td>associate reviews editor</td>\n",
       "      <td>1</td>\n",
       "      <td>2017</td>\n",
       "      <td>rock</td>\n",
       "      <td>kill rock stars</td>\n",
       "    </tr>\n",
       "  </tbody>\n",
       "</table>\n",
       "</div>"
      ],
      "text/plain": [
       "   reviewid                 title  score  best_new_music          artist  \\\n",
       "0     22703             mezzanine    9.3               0  massive attack   \n",
       "1     22721          prelapsarian    7.9               0        krallice   \n",
       "2     22659  all of them naturals    7.3               0    uranium club   \n",
       "3     22659  all of them naturals    7.3               0    uranium club   \n",
       "4     22661           first songs    9.0               1         kleenex   \n",
       "\n",
       "           author               author_type  pub_month  pub_year       genre  \\\n",
       "0     nate patrin               contributor          1      2017  electronic   \n",
       "1        zoe camp               contributor          1      2017       metal   \n",
       "2  david glickman               contributor          1      2017        rock   \n",
       "3  david glickman               contributor          1      2017        rock   \n",
       "4      jenn pelly  associate reviews editor          1      2017        rock   \n",
       "\n",
       "                label  \n",
       "0              virgin  \n",
       "1           hathenter  \n",
       "2  fashionable idiots  \n",
       "3        static shock  \n",
       "4     kill rock stars  "
      ]
     },
     "execution_count": 12,
     "metadata": {},
     "output_type": "execute_result"
    }
   ],
   "source": [
    "df=pd.read_sql_query(\"select r.reviewid,r.title,r.score,r.best_new_music,a.artist,r.author,r.author_type,r.pub_month,r.pub_year,g.genre,l.label from reviews r left join labels l on r.reviewid=l.reviewid left join genres g on r.reviewid=g.reviewid join artists a on r.reviewid=a.reviewid\",conn)\n",
    "df.head()"
   ]
  },
  {
   "cell_type": "code",
   "execution_count": 13,
   "metadata": {},
   "outputs": [],
   "source": [
    "conn.close()"
   ]
  },
  {
   "cell_type": "code",
   "execution_count": 14,
   "metadata": {
    "scrolled": true
   },
   "outputs": [],
   "source": [
    "#df=pd.read_sql_query(\"select r.reviewid,r.title,r.artist,r.url,r.score,r.best_new_music,r.author,r.author_type,r.pub_date,r.pub_weekday,r.pub_day,r.pub_month,r.pub_year,y.year from reviews r left join years y on r.reviewid=y.reviewid left join labels l on r.reviewid=l.reviewid left join genres g on r.reviewid=g.reviewid left join content c on r.reviewid=c.reviewid\",conn)\n",
    "#df.head()"
   ]
  },
  {
   "cell_type": "code",
   "execution_count": 15,
   "metadata": {},
   "outputs": [
    {
     "data": {
      "text/plain": [
       "<matplotlib.axes._subplots.AxesSubplot at 0x20e137a3448>"
      ]
     },
     "execution_count": 15,
     "metadata": {},
     "output_type": "execute_result"
    },
    {
     "data": {
      "image/png": "[encoded data removed]",
      "text/plain": [
       "<Figure size 1440x720 with 2 Axes>"
      ]
     },
     "metadata": {
      "needs_background": "light"
     },
     "output_type": "display_data"
    }
   ],
   "source": [
    "import missingno\n",
    "missingno.matrix(df,figsize=(20,10))"
   ]
  },
  {
   "cell_type": "code",
   "execution_count": 16,
   "metadata": {},
   "outputs": [
    {
     "data": {
      "text/plain": [
       "<matplotlib.axes._subplots.AxesSubplot at 0x20e146af908>"
      ]
     },
     "execution_count": 16,
     "metadata": {},
     "output_type": "execute_result"
    },
    {
     "data": {
      "image/png": "[encoded data removed]",
      "text/plain": [
       "<Figure size 432x288 with 2 Axes>"
      ]
     },
     "metadata": {
      "needs_background": "light"
     },
     "output_type": "display_data"
    }
   ],
   "source": [
    "sns.heatmap(df.corr(),annot=True)"
   ]
  },
  {
   "cell_type": "code",
   "execution_count": 17,
   "metadata": {},
   "outputs": [
    {
     "data": {
      "text/plain": [
       "reviewid             0\n",
       "title                0\n",
       "score                0\n",
       "best_new_music       0\n",
       "artist               0\n",
       "author               0\n",
       "author_type       5630\n",
       "pub_month            0\n",
       "pub_year             0\n",
       "genre             2591\n",
       "label               44\n",
       "dtype: int64"
      ]
     },
     "execution_count": 17,
     "metadata": {},
     "output_type": "execute_result"
    }
   ],
   "source": [
    "df.isnull().sum()"
   ]
  },
  {
   "cell_type": "code",
   "execution_count": 18,
   "metadata": {},
   "outputs": [],
   "source": [
    "df=df.drop(['reviewid','title'],axis=1)"
   ]
  },
  {
   "cell_type": "code",
   "execution_count": 19,
   "metadata": {
    "scrolled": false
   },
   "outputs": [
    {
     "data": {
      "text/html": [
       "<div>\n",
       "<style scoped>\n",
       "    .dataframe tbody tr th:only-of-type {\n",
       "        vertical-align: middle;\n",
       "    }\n",
       "\n",
       "    .dataframe tbody tr th {\n",
       "        vertical-align: top;\n",
       "    }\n",
       "\n",
       "    .dataframe thead th {\n",
       "        text-align: right;\n",
       "    }\n",
       "</style>\n",
       "<table border=\"1\" class=\"dataframe\">\n",
       "  <thead>\n",
       "    <tr style=\"text-align: right;\">\n",
       "      <th></th>\n",
       "      <th>score</th>\n",
       "      <th>best_new_music</th>\n",
       "      <th>artist</th>\n",
       "      <th>author</th>\n",
       "      <th>author_type</th>\n",
       "      <th>pub_month</th>\n",
       "      <th>pub_year</th>\n",
       "      <th>genre</th>\n",
       "      <th>label</th>\n",
       "    </tr>\n",
       "  </thead>\n",
       "  <tbody>\n",
       "    <tr>\n",
       "      <th>0</th>\n",
       "      <td>9.3</td>\n",
       "      <td>0</td>\n",
       "      <td>massive attack</td>\n",
       "      <td>nate patrin</td>\n",
       "      <td>contributor</td>\n",
       "      <td>1</td>\n",
       "      <td>2017</td>\n",
       "      <td>electronic</td>\n",
       "      <td>virgin</td>\n",
       "    </tr>\n",
       "    <tr>\n",
       "      <th>1</th>\n",
       "      <td>7.9</td>\n",
       "      <td>0</td>\n",
       "      <td>krallice</td>\n",
       "      <td>zoe camp</td>\n",
       "      <td>contributor</td>\n",
       "      <td>1</td>\n",
       "      <td>2017</td>\n",
       "      <td>metal</td>\n",
       "      <td>hathenter</td>\n",
       "    </tr>\n",
       "    <tr>\n",
       "      <th>2</th>\n",
       "      <td>7.3</td>\n",
       "      <td>0</td>\n",
       "      <td>uranium club</td>\n",
       "      <td>david glickman</td>\n",
       "      <td>contributor</td>\n",
       "      <td>1</td>\n",
       "      <td>2017</td>\n",
       "      <td>rock</td>\n",
       "      <td>fashionable idiots</td>\n",
       "    </tr>\n",
       "    <tr>\n",
       "      <th>3</th>\n",
       "      <td>7.3</td>\n",
       "      <td>0</td>\n",
       "      <td>uranium club</td>\n",
       "      <td>david glickman</td>\n",
       "      <td>contributor</td>\n",
       "      <td>1</td>\n",
       "      <td>2017</td>\n",
       "      <td>rock</td>\n",
       "      <td>static shock</td>\n",
       "    </tr>\n",
       "    <tr>\n",
       "      <th>4</th>\n",
       "      <td>9.0</td>\n",
       "      <td>1</td>\n",
       "      <td>kleenex</td>\n",
       "      <td>jenn pelly</td>\n",
       "      <td>associate reviews editor</td>\n",
       "      <td>1</td>\n",
       "      <td>2017</td>\n",
       "      <td>rock</td>\n",
       "      <td>kill rock stars</td>\n",
       "    </tr>\n",
       "  </tbody>\n",
       "</table>\n",
       "</div>"
      ],
      "text/plain": [
       "   score  best_new_music          artist          author  \\\n",
       "0    9.3               0  massive attack     nate patrin   \n",
       "1    7.9               0        krallice        zoe camp   \n",
       "2    7.3               0    uranium club  david glickman   \n",
       "3    7.3               0    uranium club  david glickman   \n",
       "4    9.0               1         kleenex      jenn pelly   \n",
       "\n",
       "                author_type  pub_month  pub_year       genre  \\\n",
       "0               contributor          1      2017  electronic   \n",
       "1               contributor          1      2017       metal   \n",
       "2               contributor          1      2017        rock   \n",
       "3               contributor          1      2017        rock   \n",
       "4  associate reviews editor          1      2017        rock   \n",
       "\n",
       "                label  \n",
       "0              virgin  \n",
       "1           hathenter  \n",
       "2  fashionable idiots  \n",
       "3        static shock  \n",
       "4     kill rock stars  "
      ]
     },
     "execution_count": 19,
     "metadata": {},
     "output_type": "execute_result"
    }
   ],
   "source": [
    "df.head()"
   ]
  },
  {
   "cell_type": "markdown",
   "metadata": {},
   "source": [
    "# Features"
   ]
  },
  {
   "cell_type": "markdown",
   "metadata": {},
   "source": [
    "## Artists"
   ]
  },
  {
   "cell_type": "code",
   "execution_count": 20,
   "metadata": {
    "scrolled": true
   },
   "outputs": [
    {
     "data": {
      "text/plain": [
       "various artists    785\n",
       "xiu xiu             42\n",
       "prince              40\n",
       "deerhoof            36\n",
       "xasthur             36\n",
       "                  ... \n",
       "tim presley          1\n",
       "southerly            1\n",
       "flying canyon        1\n",
       "world standard       1\n",
       "biirdie              1\n",
       "Name: artist, Length: 8633, dtype: int64"
      ]
     },
     "execution_count": 20,
     "metadata": {},
     "output_type": "execute_result"
    }
   ],
   "source": [
    "df['artist'].value_counts()"
   ]
  },
  {
   "cell_type": "markdown",
   "metadata": {},
   "source": [
    "## Score"
   ]
  },
  {
   "cell_type": "code",
   "execution_count": 21,
   "metadata": {
    "scrolled": false
   },
   "outputs": [
    {
     "data": {
      "text/plain": [
       "0        9.3\n",
       "1        7.9\n",
       "2        7.3\n",
       "3        7.3\n",
       "4        9.0\n",
       "        ... \n",
       "25801    6.3\n",
       "25802    7.2\n",
       "25803    7.2\n",
       "25804    7.2\n",
       "25805    6.5\n",
       "Name: score, Length: 25806, dtype: float64"
      ]
     },
     "execution_count": 21,
     "metadata": {},
     "output_type": "execute_result"
    }
   ],
   "source": [
    "df['score']"
   ]
  },
  {
   "cell_type": "code",
   "execution_count": 22,
   "metadata": {
    "scrolled": false
   },
   "outputs": [
    {
     "data": {
      "text/plain": [
       "<matplotlib.axes._subplots.AxesSubplot at 0x20e13bd0848>"
      ]
     },
     "execution_count": 22,
     "metadata": {},
     "output_type": "execute_result"
    },
    {
     "data": {
      "image/png": "[encoded data removed]",
      "text/plain": [
       "<Figure size 432x288 with 1 Axes>"
      ]
     },
     "metadata": {
      "needs_background": "light"
     },
     "output_type": "display_data"
    }
   ],
   "source": [
    "sns.distplot(df['score'],bins=10)"
   ]
  },
  {
   "cell_type": "code",
   "execution_count": 23,
   "metadata": {},
   "outputs": [
    {
     "data": {
      "image/png": "[encoded data removed]",
      "text/plain": [
       "<Figure size 432x288 with 1 Axes>"
      ]
     },
     "metadata": {
      "needs_background": "light"
     },
     "output_type": "display_data"
    }
   ],
   "source": [
    "sns.distplot(a=df.score,bins=10,hist=True,kde=True,rug=True);\n"
   ]
  },
  {
   "cell_type": "code",
   "execution_count": 24,
   "metadata": {
    "scrolled": true
   },
   "outputs": [
    {
     "data": {
      "text/plain": [
       "(7.0, 8.0]       10104\n",
       "(6.0, 7.0]        6474\n",
       "(8.0, 9.0]        3759\n",
       "(5.0, 6.0]        2818\n",
       "(4.0, 5.0]        1147\n",
       "(3.0, 4.0]         568\n",
       "(9.0, 10.0]        519\n",
       "(2.0, 3.0]         260\n",
       "(1.0, 2.0]         105\n",
       "(-0.011, 1.0]       52\n",
       "Name: score, dtype: int64"
      ]
     },
     "execution_count": 24,
     "metadata": {},
     "output_type": "execute_result"
    }
   ],
   "source": [
    "df['score'].value_counts(bins=10)"
   ]
  },
  {
   "cell_type": "code",
   "execution_count": 25,
   "metadata": {},
   "outputs": [
    {
     "data": {
      "text/plain": [
       "<matplotlib.axes._subplots.AxesSubplot at 0x20e15fedb88>"
      ]
     },
     "execution_count": 25,
     "metadata": {},
     "output_type": "execute_result"
    },
    {
     "data": {
      "image/png": "[encoded data removed]",
      "text/plain": [
       "<Figure size 432x288 with 1 Axes>"
      ]
     },
     "metadata": {
      "needs_background": "light"
     },
     "output_type": "display_data"
    }
   ],
   "source": [
    "df['score'].value_counts(bins=10,ascending=True).plot(kind='bar',)"
   ]
  },
  {
   "cell_type": "markdown",
   "metadata": {},
   "source": [
    "## Best New Music"
   ]
  },
  {
   "cell_type": "code",
   "execution_count": 26,
   "metadata": {},
   "outputs": [
    {
     "data": {
      "text/plain": [
       "0    24434\n",
       "1     1372\n",
       "Name: best_new_music, dtype: int64"
      ]
     },
     "execution_count": 26,
     "metadata": {},
     "output_type": "execute_result"
    }
   ],
   "source": [
    "df['best_new_music'].value_counts()"
   ]
  },
  {
   "cell_type": "code",
   "execution_count": 27,
   "metadata": {
    "scrolled": true
   },
   "outputs": [
    {
     "data": {
      "image/png": "[encoded data removed]",
      "text/plain": [
       "<Figure size 432x288 with 1 Axes>"
      ]
     },
     "metadata": {
      "needs_background": "light"
     },
     "output_type": "display_data"
    }
   ],
   "source": [
    "sns.distplot(df[df['best_new_music']==0]['score'])\n",
    "sns.distplot(df[df['best_new_music']==1]['score'])\n",
    "plt.legend(labels=['Not Won','Won'])\n",
    "plt.show()"
   ]
  },
  {
   "cell_type": "code",
   "execution_count": 28,
   "metadata": {
    "scrolled": true
   },
   "outputs": [
    {
     "data": {
      "text/plain": [
       "<matplotlib.axes._subplots.AxesSubplot at 0x20e161ef048>"
      ]
     },
     "execution_count": 28,
     "metadata": {},
     "output_type": "execute_result"
    },
    {
     "data": {
      "image/png": "[encoded data removed]",
      "text/plain": [
       "<Figure size 432x288 with 1 Axes>"
      ]
     },
     "metadata": {
      "needs_background": "light"
     },
     "output_type": "display_data"
    }
   ],
   "source": [
    "plt.figure()\n",
    "sns.boxplot(y='score',x='best_new_music',hue='best_new_music',data=df)"
   ]
  },
  {
   "cell_type": "code",
   "execution_count": 29,
   "metadata": {
    "scrolled": true
   },
   "outputs": [
    {
     "data": {
      "text/html": [
       "<div>\n",
       "<style scoped>\n",
       "    .dataframe tbody tr th:only-of-type {\n",
       "        vertical-align: middle;\n",
       "    }\n",
       "\n",
       "    .dataframe tbody tr th {\n",
       "        vertical-align: top;\n",
       "    }\n",
       "\n",
       "    .dataframe thead th {\n",
       "        text-align: right;\n",
       "    }\n",
       "</style>\n",
       "<table border=\"1\" class=\"dataframe\">\n",
       "  <thead>\n",
       "    <tr style=\"text-align: right;\">\n",
       "      <th></th>\n",
       "      <th>score</th>\n",
       "      <th>best_new_music</th>\n",
       "      <th>artist</th>\n",
       "      <th>author</th>\n",
       "      <th>author_type</th>\n",
       "      <th>pub_month</th>\n",
       "      <th>pub_year</th>\n",
       "      <th>genre</th>\n",
       "      <th>label</th>\n",
       "    </tr>\n",
       "  </thead>\n",
       "  <tbody>\n",
       "    <tr>\n",
       "      <th>9832</th>\n",
       "      <td>3.5</td>\n",
       "      <td>1</td>\n",
       "      <td>weezer</td>\n",
       "      <td>ian cohen</td>\n",
       "      <td>contributor</td>\n",
       "      <td>11</td>\n",
       "      <td>2010</td>\n",
       "      <td>rock</td>\n",
       "      <td>geffen</td>\n",
       "    </tr>\n",
       "  </tbody>\n",
       "</table>\n",
       "</div>"
      ],
      "text/plain": [
       "      score  best_new_music  artist     author  author_type  pub_month  \\\n",
       "9832    3.5               1  weezer  ian cohen  contributor         11   \n",
       "\n",
       "      pub_year genre   label  \n",
       "9832      2010  rock  geffen  "
      ]
     },
     "execution_count": 29,
     "metadata": {},
     "output_type": "execute_result"
    }
   ],
   "source": [
    "df[(df['score']<4)&(df['best_new_music']==1)]"
   ]
  },
  {
   "cell_type": "code",
   "execution_count": 30,
   "metadata": {},
   "outputs": [],
   "source": [
    "df.drop([9832],axis=0,inplace=True)"
   ]
  },
  {
   "cell_type": "markdown",
   "metadata": {},
   "source": [
    "## Author"
   ]
  },
  {
   "cell_type": "code",
   "execution_count": 31,
   "metadata": {
    "scrolled": true
   },
   "outputs": [
    {
     "data": {
      "text/plain": [
       "joe tangari                      1118\n",
       "ian cohen                         964\n",
       "stephen m. deusner                866\n",
       "mark richardson                   716\n",
       "brian howe                        706\n",
       "                                 ... \n",
       "alan smithee                        1\n",
       "chris dahlen & ryan schreiber       1\n",
       "alex lindhart                       1\n",
       "brendan mattox                      1\n",
       "dan kilian & ryan schreiber         1\n",
       "Name: author, Length: 432, dtype: int64"
      ]
     },
     "execution_count": 31,
     "metadata": {},
     "output_type": "execute_result"
    }
   ],
   "source": [
    "df['author'].value_counts(dropna=False)"
   ]
  },
  {
   "cell_type": "code",
   "execution_count": 32,
   "metadata": {
    "scrolled": true
   },
   "outputs": [
    {
     "data": {
      "text/plain": [
       "joe tangari           811\n",
       "mark richardson       501\n",
       "stephen m. deusner    476\n",
       "brian howe            413\n",
       "marc masters          375\n",
       "                     ... \n",
       "john everhart           1\n",
       "matt stephens           1\n",
       "max mertens             1\n",
       "rohan samarth           1\n",
       "yancey strickler        1\n",
       "Name: author, Length: 388, dtype: int64"
      ]
     },
     "execution_count": 32,
     "metadata": {},
     "output_type": "execute_result"
    }
   ],
   "source": [
    "df[df['score']>7]['author'].value_counts()"
   ]
  },
  {
   "cell_type": "markdown",
   "metadata": {},
   "source": [
    "## Author Type"
   ]
  },
  {
   "cell_type": "code",
   "execution_count": 33,
   "metadata": {
    "scrolled": true
   },
   "outputs": [
    {
     "data": {
      "text/plain": [
       "contributor                  17243\n",
       "NaN                           5630\n",
       "senior editor                  734\n",
       "executive editor               714\n",
       "senior staff writer            632\n",
       "contributing editor            242\n",
       "editor-in-chief                134\n",
       "deputy news editor             131\n",
       "associate staff writer         129\n",
       "tracks coordinator              59\n",
       "associate reviews editor        59\n",
       "associate editor                54\n",
       "assistant editor                19\n",
       "associate features editor       17\n",
       "news director                    5\n",
       "managing editor                  3\n",
       "Name: author_type, dtype: int64"
      ]
     },
     "execution_count": 33,
     "metadata": {},
     "output_type": "execute_result"
    }
   ],
   "source": [
    "df['author_type'].value_counts(dropna=False)"
   ]
  },
  {
   "cell_type": "code",
   "execution_count": 34,
   "metadata": {
    "scrolled": false
   },
   "outputs": [
    {
     "data": {
      "text/plain": [
       "<matplotlib.axes._subplots.AxesSubplot at 0x20e16080f08>"
      ]
     },
     "execution_count": 34,
     "metadata": {},
     "output_type": "execute_result"
    },
    {
     "data": {
      "image/png": "[encoded data removed]",
      "text/plain": [
       "<Figure size 2160x576 with 1 Axes>"
      ]
     },
     "metadata": {
      "needs_background": "light"
     },
     "output_type": "display_data"
    }
   ],
   "source": [
    "plt.figure(figsize=(30,8))\n",
    "sns.boxplot(x='author_type',data=df,y='score')"
   ]
  },
  {
   "cell_type": "code",
   "execution_count": 35,
   "metadata": {},
   "outputs": [
    {
     "data": {
      "text/plain": [
       "score                0\n",
       "best_new_music       0\n",
       "artist               0\n",
       "author               0\n",
       "author_type       5630\n",
       "pub_month            0\n",
       "pub_year             0\n",
       "genre             2591\n",
       "label               44\n",
       "dtype: int64"
      ]
     },
     "execution_count": 35,
     "metadata": {},
     "output_type": "execute_result"
    }
   ],
   "source": [
    "df.isnull().sum()"
   ]
  },
  {
   "cell_type": "code",
   "execution_count": 36,
   "metadata": {},
   "outputs": [],
   "source": [
    "df['author_type']=df['author_type'].fillna(df['author_type'].mode()[0])"
   ]
  },
  {
   "cell_type": "code",
   "execution_count": 37,
   "metadata": {
    "scrolled": false
   },
   "outputs": [
    {
     "data": {
      "text/plain": [
       "score                0\n",
       "best_new_music       0\n",
       "artist               0\n",
       "author               0\n",
       "author_type          0\n",
       "pub_month            0\n",
       "pub_year             0\n",
       "genre             2591\n",
       "label               44\n",
       "dtype: int64"
      ]
     },
     "execution_count": 37,
     "metadata": {},
     "output_type": "execute_result"
    }
   ],
   "source": [
    "df.isnull().sum()"
   ]
  },
  {
   "cell_type": "markdown",
   "metadata": {},
   "source": [
    "## Date\n",
    "### pub_month,pub_year"
   ]
  },
  {
   "cell_type": "code",
   "execution_count": 38,
   "metadata": {
    "scrolled": false
   },
   "outputs": [
    {
     "data": {
      "text/plain": [
       "2011    1794\n",
       "2006    1782\n",
       "2010    1748\n",
       "2007    1733\n",
       "2008    1691\n",
       "2016    1674\n",
       "2005    1644\n",
       "2012    1631\n",
       "2009    1623\n",
       "2004    1612\n",
       "2013    1599\n",
       "2014    1558\n",
       "2003    1528\n",
       "2015    1358\n",
       "2002    1295\n",
       "2001     635\n",
       "2000     523\n",
       "1999     354\n",
       "2017      23\n",
       "Name: pub_year, dtype: int64"
      ]
     },
     "execution_count": 38,
     "metadata": {},
     "output_type": "execute_result"
    }
   ],
   "source": [
    "df['pub_year'].value_counts()"
   ]
  },
  {
   "cell_type": "code",
   "execution_count": 39,
   "metadata": {
    "scrolled": false
   },
   "outputs": [
    {
     "data": {
      "text/plain": [
       "pub_year\n",
       "2003    8.680769\n",
       "2004    8.691803\n",
       "2005    8.698305\n",
       "2006    8.668750\n",
       "2007    8.658571\n",
       "2008    8.596667\n",
       "2009    8.698425\n",
       "2010    8.741860\n",
       "2011    8.682707\n",
       "2012    8.724590\n",
       "2013    8.644444\n",
       "2014    8.720000\n",
       "2015    8.666990\n",
       "2016    8.510000\n",
       "2017    8.920000\n",
       "Name: score, dtype: float64"
      ]
     },
     "execution_count": 39,
     "metadata": {},
     "output_type": "execute_result"
    }
   ],
   "source": [
    "df[df['best_new_music']==1].groupby(by='pub_year').mean()['score']"
   ]
  },
  {
   "cell_type": "code",
   "execution_count": 40,
   "metadata": {},
   "outputs": [
    {
     "data": {
      "text/html": [
       "<div>\n",
       "<style scoped>\n",
       "    .dataframe tbody tr th:only-of-type {\n",
       "        vertical-align: middle;\n",
       "    }\n",
       "\n",
       "    .dataframe tbody tr th {\n",
       "        vertical-align: top;\n",
       "    }\n",
       "\n",
       "    .dataframe thead th {\n",
       "        text-align: right;\n",
       "    }\n",
       "</style>\n",
       "<table border=\"1\" class=\"dataframe\">\n",
       "  <thead>\n",
       "    <tr style=\"text-align: right;\">\n",
       "      <th>pub_year</th>\n",
       "      <th>1999</th>\n",
       "      <th>2000</th>\n",
       "      <th>2001</th>\n",
       "      <th>2002</th>\n",
       "      <th>2003</th>\n",
       "      <th>2004</th>\n",
       "      <th>2005</th>\n",
       "      <th>2006</th>\n",
       "      <th>2007</th>\n",
       "      <th>2008</th>\n",
       "      <th>2009</th>\n",
       "      <th>2010</th>\n",
       "      <th>2011</th>\n",
       "      <th>2012</th>\n",
       "      <th>2013</th>\n",
       "      <th>2014</th>\n",
       "      <th>2015</th>\n",
       "      <th>2016</th>\n",
       "      <th>2017</th>\n",
       "    </tr>\n",
       "  </thead>\n",
       "  <tbody>\n",
       "    <tr>\n",
       "      <th>score</th>\n",
       "      <td>6.768362</td>\n",
       "      <td>6.870937</td>\n",
       "      <td>7.098740</td>\n",
       "      <td>6.857606</td>\n",
       "      <td>6.945877</td>\n",
       "      <td>7.181390</td>\n",
       "      <td>7.073844</td>\n",
       "      <td>6.989562</td>\n",
       "      <td>6.863935</td>\n",
       "      <td>6.903844</td>\n",
       "      <td>6.770856</td>\n",
       "      <td>6.940904</td>\n",
       "      <td>6.990858</td>\n",
       "      <td>6.969405</td>\n",
       "      <td>7.007004</td>\n",
       "      <td>7.091014</td>\n",
       "      <td>7.108468</td>\n",
       "      <td>7.242593</td>\n",
       "      <td>7.408696</td>\n",
       "    </tr>\n",
       "    <tr>\n",
       "      <th>best_new_music</th>\n",
       "      <td>0.000000</td>\n",
       "      <td>0.000000</td>\n",
       "      <td>0.000000</td>\n",
       "      <td>0.000000</td>\n",
       "      <td>0.051047</td>\n",
       "      <td>0.037841</td>\n",
       "      <td>0.035888</td>\n",
       "      <td>0.026936</td>\n",
       "      <td>0.040392</td>\n",
       "      <td>0.035482</td>\n",
       "      <td>0.078250</td>\n",
       "      <td>0.073799</td>\n",
       "      <td>0.074136</td>\n",
       "      <td>0.074801</td>\n",
       "      <td>0.078799</td>\n",
       "      <td>0.077022</td>\n",
       "      <td>0.075847</td>\n",
       "      <td>0.077658</td>\n",
       "      <td>0.217391</td>\n",
       "    </tr>\n",
       "    <tr>\n",
       "      <th>pub_month</th>\n",
       "      <td>6.429379</td>\n",
       "      <td>6.426386</td>\n",
       "      <td>8.092913</td>\n",
       "      <td>6.196911</td>\n",
       "      <td>6.225785</td>\n",
       "      <td>6.375310</td>\n",
       "      <td>6.405109</td>\n",
       "      <td>6.366442</td>\n",
       "      <td>6.226774</td>\n",
       "      <td>6.015967</td>\n",
       "      <td>6.155884</td>\n",
       "      <td>6.189931</td>\n",
       "      <td>6.000557</td>\n",
       "      <td>6.005518</td>\n",
       "      <td>6.180738</td>\n",
       "      <td>6.319641</td>\n",
       "      <td>6.329897</td>\n",
       "      <td>6.393070</td>\n",
       "      <td>1.000000</td>\n",
       "    </tr>\n",
       "  </tbody>\n",
       "</table>\n",
       "</div>"
      ],
      "text/plain": [
       "pub_year            1999      2000      2001      2002      2003      2004  \\\n",
       "score           6.768362  6.870937  7.098740  6.857606  6.945877  7.181390   \n",
       "best_new_music  0.000000  0.000000  0.000000  0.000000  0.051047  0.037841   \n",
       "pub_month       6.429379  6.426386  8.092913  6.196911  6.225785  6.375310   \n",
       "\n",
       "pub_year            2005      2006      2007      2008      2009      2010  \\\n",
       "score           7.073844  6.989562  6.863935  6.903844  6.770856  6.940904   \n",
       "best_new_music  0.035888  0.026936  0.040392  0.035482  0.078250  0.073799   \n",
       "pub_month       6.405109  6.366442  6.226774  6.015967  6.155884  6.189931   \n",
       "\n",
       "pub_year            2011      2012      2013      2014      2015      2016  \\\n",
       "score           6.990858  6.969405  7.007004  7.091014  7.108468  7.242593   \n",
       "best_new_music  0.074136  0.074801  0.078799  0.077022  0.075847  0.077658   \n",
       "pub_month       6.000557  6.005518  6.180738  6.319641  6.329897  6.393070   \n",
       "\n",
       "pub_year            2017  \n",
       "score           7.408696  \n",
       "best_new_music  0.217391  \n",
       "pub_month       1.000000  "
      ]
     },
     "execution_count": 40,
     "metadata": {},
     "output_type": "execute_result"
    }
   ],
   "source": [
    "df.groupby(by=['pub_year']).mean().T"
   ]
  },
  {
   "cell_type": "code",
   "execution_count": 41,
   "metadata": {
    "scrolled": false
   },
   "outputs": [
    {
     "data": {
      "image/png": "[encoded data removed]",
      "text/plain": [
       "<Figure size 1008x360 with 1 Axes>"
      ]
     },
     "metadata": {
      "needs_background": "light"
     },
     "output_type": "display_data"
    }
   ],
   "source": [
    "plt.figure(figsize=(14,5))\n",
    "sns.lineplot(y=df[df['best_new_music']==0].groupby(by='pub_year').mean()['score'], x=df[df['best_new_music']==0].groupby(by='pub_year').mean().index)\n",
    "sns.lineplot(y=df[df['best_new_music']==1].groupby(by='pub_year').mean()['score'], x=df[df['best_new_music']==1].groupby(by='pub_year').mean().index)\n",
    "plt.legend(labels=['Not Won','Won'])\n",
    "plt.show()"
   ]
  },
  {
   "cell_type": "markdown",
   "metadata": {},
   "source": [
    "## Inference\n",
    "    1.Best New Music awards started from 2003\n",
    "    2. Removing values from 2017 since it seems that data has been taken from early 2017"
   ]
  },
  {
   "cell_type": "code",
   "execution_count": 42,
   "metadata": {},
   "outputs": [],
   "source": [
    "df=df[df['pub_year']!=2017]"
   ]
  },
  {
   "cell_type": "markdown",
   "metadata": {},
   "source": [
    "### pub_month"
   ]
  },
  {
   "cell_type": "code",
   "execution_count": 43,
   "metadata": {
    "scrolled": true
   },
   "outputs": [
    {
     "data": {
      "text/plain": [
       "10    2487\n",
       "4     2405\n",
       "3     2396\n",
       "6     2315\n",
       "5     2267\n",
       "9     2241\n",
       "2     2142\n",
       "11    2130\n",
       "1     2091\n",
       "7     2089\n",
       "8     2075\n",
       "12    1144\n",
       "Name: pub_month, dtype: int64"
      ]
     },
     "execution_count": 43,
     "metadata": {},
     "output_type": "execute_result"
    }
   ],
   "source": [
    "df['pub_month'].value_counts()"
   ]
  },
  {
   "cell_type": "markdown",
   "metadata": {},
   "source": [
    "## Genre"
   ]
  },
  {
   "cell_type": "code",
   "execution_count": 44,
   "metadata": {},
   "outputs": [
    {
     "data": {
      "text/plain": [
       "rock            10577\n",
       "electronic       4356\n",
       "NaN              2589\n",
       "experimental     2114\n",
       "rap              1939\n",
       "pop/r&b          1669\n",
       "metal             954\n",
       "folk/country      772\n",
       "jazz              536\n",
       "global            276\n",
       "Name: genre, dtype: int64"
      ]
     },
     "execution_count": 44,
     "metadata": {},
     "output_type": "execute_result"
    }
   ],
   "source": [
    "df['genre'].value_counts(dropna=False)"
   ]
  },
  {
   "cell_type": "code",
   "execution_count": 45,
   "metadata": {},
   "outputs": [
    {
     "data": {
      "image/png": "[encoded data removed]",
      "text/plain": [
       "<Figure size 720x360 with 1 Axes>"
      ]
     },
     "metadata": {
      "needs_background": "light"
     },
     "output_type": "display_data"
    }
   ],
   "source": [
    "plt.figure(figsize=(10,5))\n",
    "sns.countplot(df['genre'])\n",
    "plt.show()"
   ]
  },
  {
   "cell_type": "code",
   "execution_count": 46,
   "metadata": {},
   "outputs": [
    {
     "data": {
      "image/png": "[encoded data removed]",
      "text/plain": [
       "<Figure size 720x360 with 1 Axes>"
      ]
     },
     "metadata": {
      "needs_background": "light"
     },
     "output_type": "display_data"
    }
   ],
   "source": [
    "plt.figure(figsize=(10,5))\n",
    "sns.countplot(x='genre',hue='best_new_music',data=df)\n",
    "plt.show()"
   ]
  },
  {
   "cell_type": "markdown",
   "metadata": {},
   "source": [
    "## Labels"
   ]
  },
  {
   "cell_type": "code",
   "execution_count": 47,
   "metadata": {
    "scrolled": true
   },
   "outputs": [
    {
     "data": {
      "text/plain": [
       "44"
      ]
     },
     "execution_count": 47,
     "metadata": {},
     "output_type": "execute_result"
    }
   ],
   "source": [
    "df['label'].isnull().sum()"
   ]
  },
  {
   "cell_type": "code",
   "execution_count": 48,
   "metadata": {
    "scrolled": false
   },
   "outputs": [],
   "source": [
    "df['label'].fillna('None',inplace=True)"
   ]
  },
  {
   "cell_type": "markdown",
   "metadata": {},
   "source": [
    "## Base Model"
   ]
  },
  {
   "cell_type": "code",
   "execution_count": 49,
   "metadata": {},
   "outputs": [
    {
     "data": {
      "text/html": [
       "<div>\n",
       "<style scoped>\n",
       "    .dataframe tbody tr th:only-of-type {\n",
       "        vertical-align: middle;\n",
       "    }\n",
       "\n",
       "    .dataframe tbody tr th {\n",
       "        vertical-align: top;\n",
       "    }\n",
       "\n",
       "    .dataframe thead th {\n",
       "        text-align: right;\n",
       "    }\n",
       "</style>\n",
       "<table border=\"1\" class=\"dataframe\">\n",
       "  <thead>\n",
       "    <tr style=\"text-align: right;\">\n",
       "      <th></th>\n",
       "      <th>score</th>\n",
       "      <th>best_new_music</th>\n",
       "      <th>artist</th>\n",
       "      <th>author</th>\n",
       "      <th>author_type</th>\n",
       "      <th>pub_month</th>\n",
       "      <th>pub_year</th>\n",
       "      <th>genre</th>\n",
       "      <th>label</th>\n",
       "    </tr>\n",
       "  </thead>\n",
       "  <tbody>\n",
       "    <tr>\n",
       "      <th>23</th>\n",
       "      <td>8.1</td>\n",
       "      <td>0</td>\n",
       "      <td>chance the rapper</td>\n",
       "      <td>sheldon pearce</td>\n",
       "      <td>associate staff writer</td>\n",
       "      <td>12</td>\n",
       "      <td>2016</td>\n",
       "      <td>pop/r&amp;b</td>\n",
       "      <td>self-released</td>\n",
       "    </tr>\n",
       "    <tr>\n",
       "      <th>24</th>\n",
       "      <td>8.1</td>\n",
       "      <td>0</td>\n",
       "      <td>jeremih</td>\n",
       "      <td>sheldon pearce</td>\n",
       "      <td>associate staff writer</td>\n",
       "      <td>12</td>\n",
       "      <td>2016</td>\n",
       "      <td>pop/r&amp;b</td>\n",
       "      <td>self-released</td>\n",
       "    </tr>\n",
       "    <tr>\n",
       "      <th>25</th>\n",
       "      <td>8.1</td>\n",
       "      <td>0</td>\n",
       "      <td>chance the rapper</td>\n",
       "      <td>sheldon pearce</td>\n",
       "      <td>associate staff writer</td>\n",
       "      <td>12</td>\n",
       "      <td>2016</td>\n",
       "      <td>rap</td>\n",
       "      <td>self-released</td>\n",
       "    </tr>\n",
       "    <tr>\n",
       "      <th>26</th>\n",
       "      <td>8.1</td>\n",
       "      <td>0</td>\n",
       "      <td>jeremih</td>\n",
       "      <td>sheldon pearce</td>\n",
       "      <td>associate staff writer</td>\n",
       "      <td>12</td>\n",
       "      <td>2016</td>\n",
       "      <td>rap</td>\n",
       "      <td>self-released</td>\n",
       "    </tr>\n",
       "    <tr>\n",
       "      <th>27</th>\n",
       "      <td>7.2</td>\n",
       "      <td>0</td>\n",
       "      <td>jamire williams</td>\n",
       "      <td>benjamin scheim</td>\n",
       "      <td>contributor</td>\n",
       "      <td>12</td>\n",
       "      <td>2016</td>\n",
       "      <td>experimental</td>\n",
       "      <td>leaving</td>\n",
       "    </tr>\n",
       "  </tbody>\n",
       "</table>\n",
       "</div>"
      ],
      "text/plain": [
       "    score  best_new_music             artist           author  \\\n",
       "23    8.1               0  chance the rapper   sheldon pearce   \n",
       "24    8.1               0            jeremih   sheldon pearce   \n",
       "25    8.1               0  chance the rapper   sheldon pearce   \n",
       "26    8.1               0            jeremih   sheldon pearce   \n",
       "27    7.2               0    jamire williams  benjamin scheim   \n",
       "\n",
       "               author_type  pub_month  pub_year         genre          label  \n",
       "23  associate staff writer         12      2016       pop/r&b  self-released  \n",
       "24  associate staff writer         12      2016       pop/r&b  self-released  \n",
       "25  associate staff writer         12      2016           rap  self-released  \n",
       "26  associate staff writer         12      2016           rap  self-released  \n",
       "27             contributor         12      2016  experimental        leaving  "
      ]
     },
     "execution_count": 49,
     "metadata": {},
     "output_type": "execute_result"
    }
   ],
   "source": [
    "df.head()"
   ]
  },
  {
   "cell_type": "code",
   "execution_count": 50,
   "metadata": {
    "scrolled": true
   },
   "outputs": [
    {
     "data": {
      "text/plain": [
       "(25782, 9)"
      ]
     },
     "execution_count": 50,
     "metadata": {},
     "output_type": "execute_result"
    }
   ],
   "source": [
    "## Shape before Dropping\n",
    "df.shape"
   ]
  },
  {
   "cell_type": "code",
   "execution_count": 51,
   "metadata": {},
   "outputs": [
    {
     "data": {
      "text/plain": [
       "['artist', 'author', 'author_type', 'genre', 'label']"
      ]
     },
     "execution_count": 51,
     "metadata": {},
     "output_type": "execute_result"
    }
   ],
   "source": [
    "cat_cols=list(df.select_dtypes(include=['object']).columns)\n",
    "cat_cols"
   ]
  },
  {
   "cell_type": "code",
   "execution_count": 52,
   "metadata": {},
   "outputs": [],
   "source": [
    "cols=['author_type','genre']\n",
    "df=pd.get_dummies(df,columns=cols,drop_first=True)"
   ]
  },
  {
   "cell_type": "code",
   "execution_count": 53,
   "metadata": {},
   "outputs": [
    {
     "data": {
      "text/plain": [
       "0"
      ]
     },
     "execution_count": 53,
     "metadata": {},
     "output_type": "execute_result"
    }
   ],
   "source": [
    "df['label'].isnull().sum()"
   ]
  },
  {
   "cell_type": "code",
   "execution_count": 54,
   "metadata": {},
   "outputs": [],
   "source": [
    "\n",
    "from sklearn.preprocessing import LabelEncoder\n",
    "le=LabelEncoder()\n",
    "df['artist']=le.fit_transform(df['artist'])\n",
    "df['author']=le.fit_transform(df['author'])\n",
    "df['label']=le.fit_transform(df['label'])\n",
    "#df['pub_year']=le.fit_transform(df['pub_year'])"
   ]
  },
  {
   "cell_type": "code",
   "execution_count": 55,
   "metadata": {},
   "outputs": [],
   "source": [
    "#df=df.dropna()"
   ]
  },
  {
   "cell_type": "markdown",
   "metadata": {},
   "source": [
    "### MICE imputer"
   ]
  },
  {
   "cell_type": "code",
   "execution_count": 56,
   "metadata": {},
   "outputs": [
    {
     "data": {
      "text/plain": [
       "'from sklearn.experimental import enable_iterative_imputer\\nfrom sklearn.impute import IterativeImputer\\nimp = IterativeImputer(max_iter=10, random_state=0)'"
      ]
     },
     "execution_count": 56,
     "metadata": {},
     "output_type": "execute_result"
    }
   ],
   "source": [
    "'''from sklearn.experimental import enable_iterative_imputer\n",
    "from sklearn.impute import IterativeImputer\n",
    "imp = IterativeImputer(max_iter=10, random_state=0)'''"
   ]
  },
  {
   "cell_type": "code",
   "execution_count": 57,
   "metadata": {},
   "outputs": [
    {
     "data": {
      "text/plain": [
       "'df=pd.DataFrame(imp.fit_transform(df))'"
      ]
     },
     "execution_count": 57,
     "metadata": {},
     "output_type": "execute_result"
    }
   ],
   "source": [
    "'''df=pd.DataFrame(imp.fit_transform(df))'''"
   ]
  },
  {
   "cell_type": "code",
   "execution_count": null,
   "metadata": {},
   "outputs": [],
   "source": []
  },
  {
   "cell_type": "code",
   "execution_count": 58,
   "metadata": {},
   "outputs": [],
   "source": [
    "## Shape after dropping\n",
    "#df.shape"
   ]
  },
  {
   "cell_type": "code",
   "execution_count": 59,
   "metadata": {
    "scrolled": true
   },
   "outputs": [
    {
     "data": {
      "text/html": [
       "<div>\n",
       "<style scoped>\n",
       "    .dataframe tbody tr th:only-of-type {\n",
       "        vertical-align: middle;\n",
       "    }\n",
       "\n",
       "    .dataframe tbody tr th {\n",
       "        vertical-align: top;\n",
       "    }\n",
       "\n",
       "    .dataframe thead th {\n",
       "        text-align: right;\n",
       "    }\n",
       "</style>\n",
       "<table border=\"1\" class=\"dataframe\">\n",
       "  <thead>\n",
       "    <tr style=\"text-align: right;\">\n",
       "      <th></th>\n",
       "      <th>score</th>\n",
       "      <th>best_new_music</th>\n",
       "      <th>artist</th>\n",
       "      <th>author</th>\n",
       "      <th>pub_month</th>\n",
       "      <th>pub_year</th>\n",
       "      <th>label</th>\n",
       "      <th>author_type_associate editor</th>\n",
       "      <th>author_type_associate features editor</th>\n",
       "      <th>author_type_associate reviews editor</th>\n",
       "      <th>...</th>\n",
       "      <th>author_type_senior staff writer</th>\n",
       "      <th>author_type_tracks coordinator</th>\n",
       "      <th>genre_experimental</th>\n",
       "      <th>genre_folk/country</th>\n",
       "      <th>genre_global</th>\n",
       "      <th>genre_jazz</th>\n",
       "      <th>genre_metal</th>\n",
       "      <th>genre_pop/r&amp;b</th>\n",
       "      <th>genre_rap</th>\n",
       "      <th>genre_rock</th>\n",
       "    </tr>\n",
       "  </thead>\n",
       "  <tbody>\n",
       "    <tr>\n",
       "      <th>23</th>\n",
       "      <td>8.1</td>\n",
       "      <td>0</td>\n",
       "      <td>1258</td>\n",
       "      <td>389</td>\n",
       "      <td>12</td>\n",
       "      <td>2016</td>\n",
       "      <td>2828</td>\n",
       "      <td>0</td>\n",
       "      <td>0</td>\n",
       "      <td>0</td>\n",
       "      <td>...</td>\n",
       "      <td>0</td>\n",
       "      <td>0</td>\n",
       "      <td>0</td>\n",
       "      <td>0</td>\n",
       "      <td>0</td>\n",
       "      <td>0</td>\n",
       "      <td>0</td>\n",
       "      <td>1</td>\n",
       "      <td>0</td>\n",
       "      <td>0</td>\n",
       "    </tr>\n",
       "    <tr>\n",
       "      <th>24</th>\n",
       "      <td>8.1</td>\n",
       "      <td>0</td>\n",
       "      <td>3560</td>\n",
       "      <td>389</td>\n",
       "      <td>12</td>\n",
       "      <td>2016</td>\n",
       "      <td>2828</td>\n",
       "      <td>0</td>\n",
       "      <td>0</td>\n",
       "      <td>0</td>\n",
       "      <td>...</td>\n",
       "      <td>0</td>\n",
       "      <td>0</td>\n",
       "      <td>0</td>\n",
       "      <td>0</td>\n",
       "      <td>0</td>\n",
       "      <td>0</td>\n",
       "      <td>0</td>\n",
       "      <td>1</td>\n",
       "      <td>0</td>\n",
       "      <td>0</td>\n",
       "    </tr>\n",
       "    <tr>\n",
       "      <th>25</th>\n",
       "      <td>8.1</td>\n",
       "      <td>0</td>\n",
       "      <td>1258</td>\n",
       "      <td>389</td>\n",
       "      <td>12</td>\n",
       "      <td>2016</td>\n",
       "      <td>2828</td>\n",
       "      <td>0</td>\n",
       "      <td>0</td>\n",
       "      <td>0</td>\n",
       "      <td>...</td>\n",
       "      <td>0</td>\n",
       "      <td>0</td>\n",
       "      <td>0</td>\n",
       "      <td>0</td>\n",
       "      <td>0</td>\n",
       "      <td>0</td>\n",
       "      <td>0</td>\n",
       "      <td>0</td>\n",
       "      <td>1</td>\n",
       "      <td>0</td>\n",
       "    </tr>\n",
       "    <tr>\n",
       "      <th>26</th>\n",
       "      <td>8.1</td>\n",
       "      <td>0</td>\n",
       "      <td>3560</td>\n",
       "      <td>389</td>\n",
       "      <td>12</td>\n",
       "      <td>2016</td>\n",
       "      <td>2828</td>\n",
       "      <td>0</td>\n",
       "      <td>0</td>\n",
       "      <td>0</td>\n",
       "      <td>...</td>\n",
       "      <td>0</td>\n",
       "      <td>0</td>\n",
       "      <td>0</td>\n",
       "      <td>0</td>\n",
       "      <td>0</td>\n",
       "      <td>0</td>\n",
       "      <td>0</td>\n",
       "      <td>0</td>\n",
       "      <td>1</td>\n",
       "      <td>0</td>\n",
       "    </tr>\n",
       "    <tr>\n",
       "      <th>27</th>\n",
       "      <td>7.2</td>\n",
       "      <td>0</td>\n",
       "      <td>3456</td>\n",
       "      <td>44</td>\n",
       "      <td>12</td>\n",
       "      <td>2016</td>\n",
       "      <td>1834</td>\n",
       "      <td>0</td>\n",
       "      <td>0</td>\n",
       "      <td>0</td>\n",
       "      <td>...</td>\n",
       "      <td>0</td>\n",
       "      <td>0</td>\n",
       "      <td>1</td>\n",
       "      <td>0</td>\n",
       "      <td>0</td>\n",
       "      <td>0</td>\n",
       "      <td>0</td>\n",
       "      <td>0</td>\n",
       "      <td>0</td>\n",
       "      <td>0</td>\n",
       "    </tr>\n",
       "  </tbody>\n",
       "</table>\n",
       "<p>5 rows × 29 columns</p>\n",
       "</div>"
      ],
      "text/plain": [
       "    score  best_new_music  artist  author  pub_month  pub_year  label  \\\n",
       "23    8.1               0    1258     389         12      2016   2828   \n",
       "24    8.1               0    3560     389         12      2016   2828   \n",
       "25    8.1               0    1258     389         12      2016   2828   \n",
       "26    8.1               0    3560     389         12      2016   2828   \n",
       "27    7.2               0    3456      44         12      2016   1834   \n",
       "\n",
       "    author_type_associate editor  author_type_associate features editor  \\\n",
       "23                             0                                      0   \n",
       "24                             0                                      0   \n",
       "25                             0                                      0   \n",
       "26                             0                                      0   \n",
       "27                             0                                      0   \n",
       "\n",
       "    author_type_associate reviews editor  ...  \\\n",
       "23                                     0  ...   \n",
       "24                                     0  ...   \n",
       "25                                     0  ...   \n",
       "26                                     0  ...   \n",
       "27                                     0  ...   \n",
       "\n",
       "    author_type_senior staff writer  author_type_tracks coordinator  \\\n",
       "23                                0                               0   \n",
       "24                                0                               0   \n",
       "25                                0                               0   \n",
       "26                                0                               0   \n",
       "27                                0                               0   \n",
       "\n",
       "    genre_experimental  genre_folk/country  genre_global  genre_jazz  \\\n",
       "23                   0                   0             0           0   \n",
       "24                   0                   0             0           0   \n",
       "25                   0                   0             0           0   \n",
       "26                   0                   0             0           0   \n",
       "27                   1                   0             0           0   \n",
       "\n",
       "    genre_metal  genre_pop/r&b  genre_rap  genre_rock  \n",
       "23            0              1          0           0  \n",
       "24            0              1          0           0  \n",
       "25            0              0          1           0  \n",
       "26            0              0          1           0  \n",
       "27            0              0          0           0  \n",
       "\n",
       "[5 rows x 29 columns]"
      ]
     },
     "execution_count": 59,
     "metadata": {},
     "output_type": "execute_result"
    }
   ],
   "source": [
    "df.head()"
   ]
  },
  {
   "cell_type": "code",
   "execution_count": 60,
   "metadata": {},
   "outputs": [
    {
     "data": {
      "text/html": [
       "<div>\n",
       "<style scoped>\n",
       "    .dataframe tbody tr th:only-of-type {\n",
       "        vertical-align: middle;\n",
       "    }\n",
       "\n",
       "    .dataframe tbody tr th {\n",
       "        vertical-align: top;\n",
       "    }\n",
       "\n",
       "    .dataframe thead th {\n",
       "        text-align: right;\n",
       "    }\n",
       "</style>\n",
       "<table border=\"1\" class=\"dataframe\">\n",
       "  <thead>\n",
       "    <tr style=\"text-align: right;\">\n",
       "      <th></th>\n",
       "      <th>best_new_music</th>\n",
       "    </tr>\n",
       "  </thead>\n",
       "  <tbody>\n",
       "    <tr>\n",
       "      <th>23</th>\n",
       "      <td>0</td>\n",
       "    </tr>\n",
       "    <tr>\n",
       "      <th>24</th>\n",
       "      <td>0</td>\n",
       "    </tr>\n",
       "    <tr>\n",
       "      <th>25</th>\n",
       "      <td>0</td>\n",
       "    </tr>\n",
       "    <tr>\n",
       "      <th>26</th>\n",
       "      <td>0</td>\n",
       "    </tr>\n",
       "    <tr>\n",
       "      <th>27</th>\n",
       "      <td>0</td>\n",
       "    </tr>\n",
       "    <tr>\n",
       "      <th>...</th>\n",
       "      <td>...</td>\n",
       "    </tr>\n",
       "    <tr>\n",
       "      <th>25801</th>\n",
       "      <td>0</td>\n",
       "    </tr>\n",
       "    <tr>\n",
       "      <th>25802</th>\n",
       "      <td>0</td>\n",
       "    </tr>\n",
       "    <tr>\n",
       "      <th>25803</th>\n",
       "      <td>0</td>\n",
       "    </tr>\n",
       "    <tr>\n",
       "      <th>25804</th>\n",
       "      <td>0</td>\n",
       "    </tr>\n",
       "    <tr>\n",
       "      <th>25805</th>\n",
       "      <td>0</td>\n",
       "    </tr>\n",
       "  </tbody>\n",
       "</table>\n",
       "<p>25782 rows × 1 columns</p>\n",
       "</div>"
      ],
      "text/plain": [
       "       best_new_music\n",
       "23                  0\n",
       "24                  0\n",
       "25                  0\n",
       "26                  0\n",
       "27                  0\n",
       "...               ...\n",
       "25801               0\n",
       "25802               0\n",
       "25803               0\n",
       "25804               0\n",
       "25805               0\n",
       "\n",
       "[25782 rows x 1 columns]"
      ]
     },
     "execution_count": 60,
     "metadata": {},
     "output_type": "execute_result"
    }
   ],
   "source": [
    "df.iloc[:,[1]]"
   ]
  },
  {
   "cell_type": "code",
   "execution_count": 61,
   "metadata": {},
   "outputs": [
    {
     "data": {
      "text/plain": [
       "score                                    0\n",
       "best_new_music                           0\n",
       "artist                                   0\n",
       "author                                   0\n",
       "pub_month                                0\n",
       "pub_year                                 0\n",
       "label                                    0\n",
       "author_type_associate editor             0\n",
       "author_type_associate features editor    0\n",
       "author_type_associate reviews editor     0\n",
       "author_type_associate staff writer       0\n",
       "author_type_contributing editor          0\n",
       "author_type_contributor                  0\n",
       "author_type_deputy news editor           0\n",
       "author_type_editor-in-chief              0\n",
       "author_type_executive editor             0\n",
       "author_type_managing editor              0\n",
       "author_type_news director                0\n",
       "author_type_senior editor                0\n",
       "author_type_senior staff writer          0\n",
       "author_type_tracks coordinator           0\n",
       "genre_experimental                       0\n",
       "genre_folk/country                       0\n",
       "genre_global                             0\n",
       "genre_jazz                               0\n",
       "genre_metal                              0\n",
       "genre_pop/r&b                            0\n",
       "genre_rap                                0\n",
       "genre_rock                               0\n",
       "dtype: int64"
      ]
     },
     "execution_count": 61,
     "metadata": {},
     "output_type": "execute_result"
    }
   ],
   "source": [
    "df.isnull().sum()"
   ]
  },
  {
   "cell_type": "markdown",
   "metadata": {},
   "source": [
    "## Generating X and Y"
   ]
  },
  {
   "cell_type": "code",
   "execution_count": 62,
   "metadata": {},
   "outputs": [],
   "source": [
    "y=df['score']\n",
    "X=df.drop('score',axis=1)"
   ]
  },
  {
   "cell_type": "markdown",
   "metadata": {},
   "source": [
    "## 1. Base Model"
   ]
  },
  {
   "cell_type": "code",
   "execution_count": 63,
   "metadata": {},
   "outputs": [
    {
     "data": {
      "text/html": [
       "<table class=\"simpletable\">\n",
       "<caption>OLS Regression Results</caption>\n",
       "<tr>\n",
       "  <th>Dep. Variable:</th>          <td>score</td>      <th>  R-squared:         </th> <td>   0.108</td> \n",
       "</tr>\n",
       "<tr>\n",
       "  <th>Model:</th>                   <td>OLS</td>       <th>  Adj. R-squared:    </th> <td>   0.107</td> \n",
       "</tr>\n",
       "<tr>\n",
       "  <th>Method:</th>             <td>Least Squares</td>  <th>  F-statistic:       </th> <td>   111.4</td> \n",
       "</tr>\n",
       "<tr>\n",
       "  <th>Date:</th>             <td>Sat, 08 Feb 2020</td> <th>  Prob (F-statistic):</th>  <td>  0.00</td>  \n",
       "</tr>\n",
       "<tr>\n",
       "  <th>Time:</th>                 <td>16:47:00</td>     <th>  Log-Likelihood:    </th> <td> -42070.</td> \n",
       "</tr>\n",
       "<tr>\n",
       "  <th>No. Observations:</th>      <td> 25782</td>      <th>  AIC:               </th> <td>8.420e+04</td>\n",
       "</tr>\n",
       "<tr>\n",
       "  <th>Df Residuals:</th>          <td> 25753</td>      <th>  BIC:               </th> <td>8.443e+04</td>\n",
       "</tr>\n",
       "<tr>\n",
       "  <th>Df Model:</th>              <td>    28</td>      <th>                     </th>     <td> </td>    \n",
       "</tr>\n",
       "<tr>\n",
       "  <th>Covariance Type:</th>      <td>nonrobust</td>    <th>                     </th>     <td> </td>    \n",
       "</tr>\n",
       "</table>\n",
       "<table class=\"simpletable\">\n",
       "<tr>\n",
       "                    <td></td>                       <th>coef</th>     <th>std err</th>      <th>t</th>      <th>P>|t|</th>  <th>[0.025</th>    <th>0.975]</th>  \n",
       "</tr>\n",
       "<tr>\n",
       "  <th>const</th>                                 <td>    2.4180</td> <td>    3.588</td> <td>    0.674</td> <td> 0.500</td> <td>   -4.615</td> <td>    9.451</td>\n",
       "</tr>\n",
       "<tr>\n",
       "  <th>best_new_music</th>                        <td>    1.7527</td> <td>    0.035</td> <td>   50.099</td> <td> 0.000</td> <td>    1.684</td> <td>    1.821</td>\n",
       "</tr>\n",
       "<tr>\n",
       "  <th>artist</th>                                <td> 4.967e-06</td> <td> 3.05e-06</td> <td>    1.628</td> <td> 0.103</td> <td>-1.01e-06</td> <td> 1.09e-05</td>\n",
       "</tr>\n",
       "<tr>\n",
       "  <th>author</th>                                <td>   -0.0001</td> <td> 6.56e-05</td> <td>   -1.843</td> <td> 0.065</td> <td>   -0.000</td> <td>  7.7e-06</td>\n",
       "</tr>\n",
       "<tr>\n",
       "  <th>pub_month</th>                             <td>    0.0092</td> <td>    0.002</td> <td>    3.945</td> <td> 0.000</td> <td>    0.005</td> <td>    0.014</td>\n",
       "</tr>\n",
       "<tr>\n",
       "  <th>pub_year</th>                              <td>    0.0024</td> <td>    0.002</td> <td>    1.367</td> <td> 0.172</td> <td>   -0.001</td> <td>    0.006</td>\n",
       "</tr>\n",
       "<tr>\n",
       "  <th>label</th>                                 <td> 1.786e-05</td> <td> 7.27e-06</td> <td>    2.458</td> <td> 0.014</td> <td> 3.62e-06</td> <td> 3.21e-05</td>\n",
       "</tr>\n",
       "<tr>\n",
       "  <th>author_type_associate editor</th>          <td>   -0.6102</td> <td>    0.331</td> <td>   -1.845</td> <td> 0.065</td> <td>   -1.258</td> <td>    0.038</td>\n",
       "</tr>\n",
       "<tr>\n",
       "  <th>author_type_associate features editor</th> <td>   -0.9041</td> <td>    0.413</td> <td>   -2.187</td> <td> 0.029</td> <td>   -1.714</td> <td>   -0.094</td>\n",
       "</tr>\n",
       "<tr>\n",
       "  <th>author_type_associate reviews editor</th>  <td>    0.0327</td> <td>    0.330</td> <td>    0.099</td> <td> 0.921</td> <td>   -0.614</td> <td>    0.679</td>\n",
       "</tr>\n",
       "<tr>\n",
       "  <th>author_type_associate staff writer</th>    <td>   -0.4465</td> <td>    0.305</td> <td>   -1.464</td> <td> 0.143</td> <td>   -1.044</td> <td>    0.151</td>\n",
       "</tr>\n",
       "<tr>\n",
       "  <th>author_type_contributing editor</th>       <td>   -0.0049</td> <td>    0.295</td> <td>   -0.016</td> <td> 0.987</td> <td>   -0.584</td> <td>    0.574</td>\n",
       "</tr>\n",
       "<tr>\n",
       "  <th>author_type_contributor</th>               <td>   -0.5068</td> <td>    0.285</td> <td>   -1.780</td> <td> 0.075</td> <td>   -1.065</td> <td>    0.051</td>\n",
       "</tr>\n",
       "<tr>\n",
       "  <th>author_type_deputy news editor</th>        <td>   -0.4686</td> <td>    0.304</td> <td>   -1.540</td> <td> 0.124</td> <td>   -1.065</td> <td>    0.128</td>\n",
       "</tr>\n",
       "<tr>\n",
       "  <th>author_type_editor-in-chief</th>           <td>   -0.4204</td> <td>    0.305</td> <td>   -1.379</td> <td> 0.168</td> <td>   -1.018</td> <td>    0.177</td>\n",
       "</tr>\n",
       "<tr>\n",
       "  <th>author_type_executive editor</th>          <td>   -0.2699</td> <td>    0.288</td> <td>   -0.936</td> <td> 0.349</td> <td>   -0.835</td> <td>    0.295</td>\n",
       "</tr>\n",
       "<tr>\n",
       "  <th>author_type_managing editor</th>           <td>   -0.8309</td> <td>    0.769</td> <td>   -1.080</td> <td> 0.280</td> <td>   -2.339</td> <td>    0.677</td>\n",
       "</tr>\n",
       "<tr>\n",
       "  <th>author_type_news director</th>             <td>   -1.7570</td> <td>    0.623</td> <td>   -2.821</td> <td> 0.005</td> <td>   -2.978</td> <td>   -0.536</td>\n",
       "</tr>\n",
       "<tr>\n",
       "  <th>author_type_senior editor</th>             <td>   -0.6043</td> <td>    0.288</td> <td>   -2.098</td> <td> 0.036</td> <td>   -1.169</td> <td>   -0.040</td>\n",
       "</tr>\n",
       "<tr>\n",
       "  <th>author_type_senior staff writer</th>       <td>   -0.8943</td> <td>    0.289</td> <td>   -3.097</td> <td> 0.002</td> <td>   -1.460</td> <td>   -0.328</td>\n",
       "</tr>\n",
       "<tr>\n",
       "  <th>author_type_tracks coordinator</th>        <td>   -0.7318</td> <td>    0.328</td> <td>   -2.234</td> <td> 0.026</td> <td>   -1.374</td> <td>   -0.090</td>\n",
       "</tr>\n",
       "<tr>\n",
       "  <th>genre_experimental</th>                    <td>    0.3176</td> <td>    0.031</td> <td>   10.285</td> <td> 0.000</td> <td>    0.257</td> <td>    0.378</td>\n",
       "</tr>\n",
       "<tr>\n",
       "  <th>genre_folk/country</th>                    <td>    0.2801</td> <td>    0.047</td> <td>    5.941</td> <td> 0.000</td> <td>    0.188</td> <td>    0.373</td>\n",
       "</tr>\n",
       "<tr>\n",
       "  <th>genre_global</th>                          <td>    0.4173</td> <td>    0.076</td> <td>    5.488</td> <td> 0.000</td> <td>    0.268</td> <td>    0.566</td>\n",
       "</tr>\n",
       "<tr>\n",
       "  <th>genre_jazz</th>                            <td>    0.3553</td> <td>    0.056</td> <td>    6.388</td> <td> 0.000</td> <td>    0.246</td> <td>    0.464</td>\n",
       "</tr>\n",
       "<tr>\n",
       "  <th>genre_metal</th>                           <td>    0.0281</td> <td>    0.043</td> <td>    0.654</td> <td> 0.513</td> <td>   -0.056</td> <td>    0.112</td>\n",
       "</tr>\n",
       "<tr>\n",
       "  <th>genre_pop/r&b</th>                         <td>   -0.0715</td> <td>    0.034</td> <td>   -2.106</td> <td> 0.035</td> <td>   -0.138</td> <td>   -0.005</td>\n",
       "</tr>\n",
       "<tr>\n",
       "  <th>genre_rap</th>                             <td>   -0.0701</td> <td>    0.033</td> <td>   -2.151</td> <td> 0.031</td> <td>   -0.134</td> <td>   -0.006</td>\n",
       "</tr>\n",
       "<tr>\n",
       "  <th>genre_rock</th>                            <td>   -0.0199</td> <td>    0.019</td> <td>   -1.028</td> <td> 0.304</td> <td>   -0.058</td> <td>    0.018</td>\n",
       "</tr>\n",
       "</table>\n",
       "<table class=\"simpletable\">\n",
       "<tr>\n",
       "  <th>Omnibus:</th>       <td>6529.951</td> <th>  Durbin-Watson:     </th> <td>   1.411</td> \n",
       "</tr>\n",
       "<tr>\n",
       "  <th>Prob(Omnibus):</th>  <td> 0.000</td>  <th>  Jarque-Bera (JB):  </th> <td>18238.916</td>\n",
       "</tr>\n",
       "<tr>\n",
       "  <th>Skew:</th>           <td>-1.342</td>  <th>  Prob(JB):          </th> <td>    0.00</td> \n",
       "</tr>\n",
       "<tr>\n",
       "  <th>Kurtosis:</th>       <td> 6.127</td>  <th>  Cond. No.          </th> <td>2.66e+06</td> \n",
       "</tr>\n",
       "</table><br/><br/>Warnings:<br/>[1] Standard Errors assume that the covariance matrix of the errors is correctly specified.<br/>[2] The condition number is large, 2.66e+06. This might indicate that there are<br/>strong multicollinearity or other numerical problems."
      ],
      "text/plain": [
       "<class 'statsmodels.iolib.summary.Summary'>\n",
       "\"\"\"\n",
       "                            OLS Regression Results                            \n",
       "==============================================================================\n",
       "Dep. Variable:                  score   R-squared:                       0.108\n",
       "Model:                            OLS   Adj. R-squared:                  0.107\n",
       "Method:                 Least Squares   F-statistic:                     111.4\n",
       "Date:                Sat, 08 Feb 2020   Prob (F-statistic):               0.00\n",
       "Time:                        16:47:00   Log-Likelihood:                -42070.\n",
       "No. Observations:               25782   AIC:                         8.420e+04\n",
       "Df Residuals:                   25753   BIC:                         8.443e+04\n",
       "Df Model:                          28                                         \n",
       "Covariance Type:            nonrobust                                         \n",
       "=========================================================================================================\n",
       "                                            coef    std err          t      P>|t|      [0.025      0.975]\n",
       "---------------------------------------------------------------------------------------------------------\n",
       "const                                     2.4180      3.588      0.674      0.500      -4.615       9.451\n",
       "best_new_music                            1.7527      0.035     50.099      0.000       1.684       1.821\n",
       "artist                                 4.967e-06   3.05e-06      1.628      0.103   -1.01e-06    1.09e-05\n",
       "author                                   -0.0001   6.56e-05     -1.843      0.065      -0.000     7.7e-06\n",
       "pub_month                                 0.0092      0.002      3.945      0.000       0.005       0.014\n",
       "pub_year                                  0.0024      0.002      1.367      0.172      -0.001       0.006\n",
       "label                                  1.786e-05   7.27e-06      2.458      0.014    3.62e-06    3.21e-05\n",
       "author_type_associate editor             -0.6102      0.331     -1.845      0.065      -1.258       0.038\n",
       "author_type_associate features editor    -0.9041      0.413     -2.187      0.029      -1.714      -0.094\n",
       "author_type_associate reviews editor      0.0327      0.330      0.099      0.921      -0.614       0.679\n",
       "author_type_associate staff writer       -0.4465      0.305     -1.464      0.143      -1.044       0.151\n",
       "author_type_contributing editor          -0.0049      0.295     -0.016      0.987      -0.584       0.574\n",
       "author_type_contributor                  -0.5068      0.285     -1.780      0.075      -1.065       0.051\n",
       "author_type_deputy news editor           -0.4686      0.304     -1.540      0.124      -1.065       0.128\n",
       "author_type_editor-in-chief              -0.4204      0.305     -1.379      0.168      -1.018       0.177\n",
       "author_type_executive editor             -0.2699      0.288     -0.936      0.349      -0.835       0.295\n",
       "author_type_managing editor              -0.8309      0.769     -1.080      0.280      -2.339       0.677\n",
       "author_type_news director                -1.7570      0.623     -2.821      0.005      -2.978      -0.536\n",
       "author_type_senior editor                -0.6043      0.288     -2.098      0.036      -1.169      -0.040\n",
       "author_type_senior staff writer          -0.8943      0.289     -3.097      0.002      -1.460      -0.328\n",
       "author_type_tracks coordinator           -0.7318      0.328     -2.234      0.026      -1.374      -0.090\n",
       "genre_experimental                        0.3176      0.031     10.285      0.000       0.257       0.378\n",
       "genre_folk/country                        0.2801      0.047      5.941      0.000       0.188       0.373\n",
       "genre_global                              0.4173      0.076      5.488      0.000       0.268       0.566\n",
       "genre_jazz                                0.3553      0.056      6.388      0.000       0.246       0.464\n",
       "genre_metal                               0.0281      0.043      0.654      0.513      -0.056       0.112\n",
       "genre_pop/r&b                            -0.0715      0.034     -2.106      0.035      -0.138      -0.005\n",
       "genre_rap                                -0.0701      0.033     -2.151      0.031      -0.134      -0.006\n",
       "genre_rock                               -0.0199      0.019     -1.028      0.304      -0.058       0.018\n",
       "==============================================================================\n",
       "Omnibus:                     6529.951   Durbin-Watson:                   1.411\n",
       "Prob(Omnibus):                  0.000   Jarque-Bera (JB):            18238.916\n",
       "Skew:                          -1.342   Prob(JB):                         0.00\n",
       "Kurtosis:                       6.127   Cond. No.                     2.66e+06\n",
       "==============================================================================\n",
       "\n",
       "Warnings:\n",
       "[1] Standard Errors assume that the covariance matrix of the errors is correctly specified.\n",
       "[2] The condition number is large, 2.66e+06. This might indicate that there are\n",
       "strong multicollinearity or other numerical problems.\n",
       "\"\"\""
      ]
     },
     "execution_count": 63,
     "metadata": {},
     "output_type": "execute_result"
    }
   ],
   "source": [
    "import statsmodels.api as sm\n",
    "xc=sm.add_constant(X)\n",
    "model=sm.OLS(y,xc).fit()\n",
    "model.summary()"
   ]
  },
  {
   "cell_type": "code",
   "execution_count": 64,
   "metadata": {},
   "outputs": [
    {
     "data": {
      "text/plain": [
       "<matplotlib.axes._subplots.AxesSubplot at 0x20e13f41248>"
      ]
     },
     "execution_count": 64,
     "metadata": {},
     "output_type": "execute_result"
    },
    {
     "data": {
      "image/png": "[encoded data removed]",
      "text/plain": [
       "<Figure size 432x288 with 1 Axes>"
      ]
     },
     "metadata": {
      "needs_background": "light"
     },
     "output_type": "display_data"
    }
   ],
   "source": [
    "residuals=model.resid\n",
    "sns.distplot(residuals)"
   ]
  },
  {
   "cell_type": "code",
   "execution_count": 65,
   "metadata": {},
   "outputs": [
    {
     "data": {
      "image/png": "[encoded data removed]",
      "text/plain": [
       "<Figure size 432x288 with 1 Axes>"
      ]
     },
     "metadata": {
      "needs_background": "light"
     },
     "output_type": "display_data"
    }
   ],
   "source": [
    "import scipy.stats as stats\n",
    "stats.probplot(residuals,plot=plt)\n",
    "plt.show()"
   ]
  },
  {
   "cell_type": "markdown",
   "metadata": {},
   "source": [
    "## 2. Model using Backward Elimation method"
   ]
  },
  {
   "cell_type": "code",
   "execution_count": 66,
   "metadata": {},
   "outputs": [
    {
     "name": "stdout",
     "output_type": "stream",
     "text": [
      "['best_new_music', 'pub_month', 'label', 'author_type_associate editor', 'author_type_associate features editor', 'author_type_associate staff writer', 'author_type_contributor', 'author_type_deputy news editor', 'author_type_editor-in-chief', 'author_type_executive editor', 'author_type_news director', 'author_type_senior editor', 'author_type_senior staff writer', 'author_type_tracks coordinator', 'genre_experimental', 'genre_folk/country', 'genre_global', 'genre_jazz', 'genre_pop/r&b', 'genre_rap']\n"
     ]
    }
   ],
   "source": [
    "# Backward Elimination\n",
    "cols=list(X.columns)\n",
    "pmax=1\n",
    "while len(cols)>0:\n",
    "    p=[]\n",
    "    C=X[cols]\n",
    "    xc=sm.add_constant(C)\n",
    "    model=sm.OLS(y,xc).fit()\n",
    "    p=pd.Series(model.pvalues.values[1:],index=cols)\n",
    "    pmax=max(p)\n",
    "    feature_with_p_max=p.idxmax()\n",
    "    if pmax>0.05:\n",
    "        cols.remove(feature_with_p_max)\n",
    "    else:\n",
    "        break\n",
    "        \n",
    "selected_cols=cols\n",
    "print(selected_cols)"
   ]
  },
  {
   "cell_type": "code",
   "execution_count": 67,
   "metadata": {},
   "outputs": [],
   "source": [
    "X_final=df[cols]\n",
    "y=df['score']"
   ]
  },
  {
   "cell_type": "code",
   "execution_count": 68,
   "metadata": {},
   "outputs": [],
   "source": [
    "from sklearn.model_selection import train_test_split\n",
    "from sklearn.linear_model import LinearRegression\n",
    "from sklearn.metrics import r2_score,mean_squared_error as mse\n",
    "X_train,X_test,y_train,y_test=train_test_split(X_final,y,test_size=0.3,random_state=0)"
   ]
  },
  {
   "cell_type": "code",
   "execution_count": 69,
   "metadata": {},
   "outputs": [
    {
     "name": "stdout",
     "output_type": "stream",
     "text": [
      "R2 score of Train: 0.11121321308094134\n",
      "RMSE of Train: 1.238941099438949\n"
     ]
    }
   ],
   "source": [
    "LR=LinearRegression()\n",
    "LR.fit(X_train,y_train)\n",
    "y_pred_train=LR.predict(X_train)\n",
    "print('R2 score of Train:',r2_score(y_train,y_pred_train))\n",
    "print('RMSE of Train:',np.sqrt(mse(y_train,y_pred_train)))"
   ]
  },
  {
   "cell_type": "code",
   "execution_count": 70,
   "metadata": {},
   "outputs": [
    {
     "name": "stdout",
     "output_type": "stream",
     "text": [
      "R2 score of Test: 0.09872879663372702\n",
      "RMSE of Test: 1.2342547919327407\n"
     ]
    }
   ],
   "source": [
    "y_pred_test=LR.predict(X_test)\n",
    "print('R2 score of Test:',r2_score(y_test,y_pred_test))\n",
    "print('RMSE of Test:',np.sqrt(mse(y_test,y_pred_test)))"
   ]
  },
  {
   "cell_type": "markdown",
   "metadata": {},
   "source": [
    "## 3. K-Fold"
   ]
  },
  {
   "cell_type": "code",
   "execution_count": 71,
   "metadata": {},
   "outputs": [
    {
     "name": "stdout",
     "output_type": "stream",
     "text": [
      "[1.2311981706423971, 1.2303901944590845, 1.2220677683268248, 1.2687293144824205, 1.2405704256754846]\n"
     ]
    }
   ],
   "source": [
    "from sklearn.model_selection import KFold\n",
    "kf = KFold(n_splits=5,shuffle=True,random_state=0)\n",
    "for model,name in zip([LR],['MVLR']):\n",
    "    rmse=[]\n",
    "\n",
    "    for train, test in kf.split(X_final,y):\n",
    "        X_train,X_test=X_final.iloc[train,:],X_final.iloc[test,:]\n",
    "        y_train,y_test=y.iloc[train],y.iloc[test]\n",
    "        model.fit(X_train,y_train)\n",
    "        y_pred=model.predict(X_test)\n",
    "        rmse.append(np.sqrt(mse(y_test,y_pred)))\n",
    "print(rmse)"
   ]
  },
  {
   "cell_type": "code",
   "execution_count": 72,
   "metadata": {},
   "outputs": [
    {
     "data": {
      "text/plain": [
       "(1.2385911747172422, 0.00032679011201234534)"
      ]
     },
     "execution_count": 72,
     "metadata": {},
     "output_type": "execute_result"
    }
   ],
   "source": [
    "np.mean(rmse),np.var(rmse,ddof=1)\n"
   ]
  },
  {
   "cell_type": "markdown",
   "metadata": {},
   "source": [
    "### 4.Lasso/Ridge/ElasticNet"
   ]
  },
  {
   "cell_type": "markdown",
   "metadata": {},
   "source": [
    "## 4.1 Lasso"
   ]
  },
  {
   "cell_type": "code",
   "execution_count": 73,
   "metadata": {},
   "outputs": [],
   "source": [
    "from sklearn.linear_model import Lasso,LassoCV\n",
    "lasso=Lasso(alpha=0.04,normalize=True)"
   ]
  },
  {
   "cell_type": "code",
   "execution_count": 74,
   "metadata": {},
   "outputs": [],
   "source": [
    "X_final=df[cols]\n",
    "y=df['score']\n",
    "X_train,X_test,y_train,y_test=train_test_split(X_final,y,test_size=0.3,random_state=0)"
   ]
  },
  {
   "cell_type": "code",
   "execution_count": 75,
   "metadata": {},
   "outputs": [
    {
     "name": "stdout",
     "output_type": "stream",
     "text": [
      "R2 score of Train: 0.0\n",
      "RMSE of Train: 1.314170957460442\n"
     ]
    }
   ],
   "source": [
    "lasso.fit(X_train,y_train)\n",
    "y_pred_train=lasso.predict(X_train)\n",
    "print('R2 score of Train:',r2_score(y_train,y_pred_train))\n",
    "print('RMSE of Train:',np.sqrt(mse(y_train,y_pred_train)))"
   ]
  },
  {
   "cell_type": "code",
   "execution_count": 76,
   "metadata": {
    "scrolled": true
   },
   "outputs": [
    {
     "name": "stdout",
     "output_type": "stream",
     "text": [
      "R2 score of Test: -3.74911344191986e-08\n",
      "RMSE of Test: 1.3001009709072389\n"
     ]
    }
   ],
   "source": [
    "y_pred_test=lasso.predict(X_test)\n",
    "print('R2 score of Test:',r2_score(y_test,y_pred_test))\n",
    "print('RMSE of Test:',np.sqrt(mse(y_test,y_pred_test)))"
   ]
  },
  {
   "cell_type": "code",
   "execution_count": 77,
   "metadata": {},
   "outputs": [
    {
     "data": {
      "image/png": "[encoded data removed]",
      "text/plain": [
       "<Figure size 432x288 with 1 Axes>"
      ]
     },
     "metadata": {
      "needs_background": "light"
     },
     "output_type": "display_data"
    }
   ],
   "source": [
    "n_alphas = 50\n",
    "alphas = np.linspace(0.1,4.5, n_alphas)\n",
    "coefs=[]\n",
    "lasso = Lasso()\n",
    "for a in alphas:\n",
    "    lasso.set_params(alpha=a)\n",
    "    lasso.fit(X, y)\n",
    "    coefs.append(lasso.coef_)\n",
    "    \n",
    "plt.plot(alphas, coefs)\n",
    "plt.xlabel('alphas')\n",
    "plt.ylabel('coefs')\n",
    "plt.show()"
   ]
  },
  {
   "cell_type": "code",
   "execution_count": 78,
   "metadata": {},
   "outputs": [
    {
     "data": {
      "text/plain": [
       "LassoCV(alphas=array([0.1       , 0.11836735, 0.13673469, 0.15510204, 0.17346939,\n",
       "       0.19183673, 0.21020408, 0.22857143, 0.24693878, 0.26530612,\n",
       "       0.28367347, 0.30204082, 0.32040816, 0.33877551, 0.35714286,\n",
       "       0.3755102 , 0.39387755, 0.4122449 , 0.43061224, 0.44897959,\n",
       "       0.46734694, 0.48571429, 0.50408163, 0.52244898, 0.54081633,\n",
       "       0.55918367, 0.57755102, 0.59591837, 0.61428571, 0.63265306,\n",
       "       0.65102...\n",
       "       0.74285714, 0.76122449, 0.77959184, 0.79795918, 0.81632653,\n",
       "       0.83469388, 0.85306122, 0.87142857, 0.88979592, 0.90816327,\n",
       "       0.92653061, 0.94489796, 0.96326531, 0.98163265, 1.        ]),\n",
       "        copy_X=True, cv=3, eps=0.001, fit_intercept=True, max_iter=1000,\n",
       "        n_alphas=100, n_jobs=None, normalize=False, positive=False,\n",
       "        precompute='auto', random_state=22, selection='cyclic', tol=0.0001,\n",
       "        verbose=False)"
      ]
     },
     "execution_count": 78,
     "metadata": {},
     "output_type": "execute_result"
    }
   ],
   "source": [
    "n_alphas=50\n",
    "alphas=np.linspace(0.1,1, n_alphas)\n",
    "\n",
    "lasso_cv = LassoCV(alphas=alphas, cv=3, random_state=22)\n",
    "lasso_cv.fit(X,y)"
   ]
  },
  {
   "cell_type": "code",
   "execution_count": 79,
   "metadata": {},
   "outputs": [
    {
     "data": {
      "text/plain": [
       "1.0"
      ]
     },
     "execution_count": 79,
     "metadata": {},
     "output_type": "execute_result"
    }
   ],
   "source": [
    "lasso_cv.alpha_"
   ]
  },
  {
   "cell_type": "code",
   "execution_count": 80,
   "metadata": {},
   "outputs": [
    {
     "data": {
      "text/html": [
       "<div>\n",
       "<style scoped>\n",
       "    .dataframe tbody tr th:only-of-type {\n",
       "        vertical-align: middle;\n",
       "    }\n",
       "\n",
       "    .dataframe tbody tr th {\n",
       "        vertical-align: top;\n",
       "    }\n",
       "\n",
       "    .dataframe thead th {\n",
       "        text-align: right;\n",
       "    }\n",
       "</style>\n",
       "<table border=\"1\" class=\"dataframe\">\n",
       "  <thead>\n",
       "    <tr style=\"text-align: right;\">\n",
       "      <th></th>\n",
       "      <th>coefs</th>\n",
       "    </tr>\n",
       "  </thead>\n",
       "  <tbody>\n",
       "    <tr>\n",
       "      <th>best_new_music</th>\n",
       "      <td>0.000000</td>\n",
       "    </tr>\n",
       "    <tr>\n",
       "      <th>pub_month</th>\n",
       "      <td>0.000000</td>\n",
       "    </tr>\n",
       "    <tr>\n",
       "      <th>label</th>\n",
       "      <td>0.000019</td>\n",
       "    </tr>\n",
       "    <tr>\n",
       "      <th>author_type_associate editor</th>\n",
       "      <td>-0.000000</td>\n",
       "    </tr>\n",
       "    <tr>\n",
       "      <th>author_type_associate features editor</th>\n",
       "      <td>-0.000000</td>\n",
       "    </tr>\n",
       "    <tr>\n",
       "      <th>author_type_associate staff writer</th>\n",
       "      <td>-0.000000</td>\n",
       "    </tr>\n",
       "    <tr>\n",
       "      <th>author_type_contributor</th>\n",
       "      <td>-0.000000</td>\n",
       "    </tr>\n",
       "    <tr>\n",
       "      <th>author_type_deputy news editor</th>\n",
       "      <td>-0.000000</td>\n",
       "    </tr>\n",
       "    <tr>\n",
       "      <th>author_type_editor-in-chief</th>\n",
       "      <td>0.000000</td>\n",
       "    </tr>\n",
       "    <tr>\n",
       "      <th>author_type_executive editor</th>\n",
       "      <td>0.000000</td>\n",
       "    </tr>\n",
       "    <tr>\n",
       "      <th>author_type_news director</th>\n",
       "      <td>-0.000000</td>\n",
       "    </tr>\n",
       "    <tr>\n",
       "      <th>author_type_senior editor</th>\n",
       "      <td>0.000000</td>\n",
       "    </tr>\n",
       "    <tr>\n",
       "      <th>author_type_senior staff writer</th>\n",
       "      <td>-0.000000</td>\n",
       "    </tr>\n",
       "    <tr>\n",
       "      <th>author_type_tracks coordinator</th>\n",
       "      <td>-0.000000</td>\n",
       "    </tr>\n",
       "    <tr>\n",
       "      <th>genre_experimental</th>\n",
       "      <td>0.000000</td>\n",
       "    </tr>\n",
       "    <tr>\n",
       "      <th>genre_folk/country</th>\n",
       "      <td>0.000000</td>\n",
       "    </tr>\n",
       "    <tr>\n",
       "      <th>genre_global</th>\n",
       "      <td>0.000000</td>\n",
       "    </tr>\n",
       "    <tr>\n",
       "      <th>genre_jazz</th>\n",
       "      <td>0.000000</td>\n",
       "    </tr>\n",
       "    <tr>\n",
       "      <th>genre_pop/r&amp;b</th>\n",
       "      <td>-0.000000</td>\n",
       "    </tr>\n",
       "    <tr>\n",
       "      <th>genre_rap</th>\n",
       "      <td>-0.000000</td>\n",
       "    </tr>\n",
       "  </tbody>\n",
       "</table>\n",
       "</div>"
      ],
      "text/plain": [
       "                                          coefs\n",
       "best_new_music                         0.000000\n",
       "pub_month                              0.000000\n",
       "label                                  0.000019\n",
       "author_type_associate editor          -0.000000\n",
       "author_type_associate features editor -0.000000\n",
       "author_type_associate staff writer    -0.000000\n",
       "author_type_contributor               -0.000000\n",
       "author_type_deputy news editor        -0.000000\n",
       "author_type_editor-in-chief            0.000000\n",
       "author_type_executive editor           0.000000\n",
       "author_type_news director             -0.000000\n",
       "author_type_senior editor              0.000000\n",
       "author_type_senior staff writer       -0.000000\n",
       "author_type_tracks coordinator        -0.000000\n",
       "genre_experimental                     0.000000\n",
       "genre_folk/country                     0.000000\n",
       "genre_global                           0.000000\n",
       "genre_jazz                             0.000000\n",
       "genre_pop/r&b                         -0.000000\n",
       "genre_rap                             -0.000000"
      ]
     },
     "execution_count": 80,
     "metadata": {},
     "output_type": "execute_result"
    }
   ],
   "source": [
    "lasso = Lasso(alpha=lasso_cv.alpha_)\n",
    "lasso.fit(X_train, y_train)\n",
    "lasso.coef_\n",
    "pd.DataFrame(lasso.coef_, X_final.columns, columns=['coefs'])"
   ]
  },
  {
   "cell_type": "code",
   "execution_count": 81,
   "metadata": {},
   "outputs": [
    {
     "name": "stdout",
     "output_type": "stream",
     "text": [
      "R2 score of Train: 0.00025419972885443176\n",
      "RMSE of Train: 1.3140039158937598\n"
     ]
    }
   ],
   "source": [
    "y_pred_train=lasso.predict(X_train)\n",
    "print('R2 score of Train:',r2_score(y_train,y_pred_train))\n",
    "print('RMSE of Train:',np.sqrt(mse(y_train,y_pred_train)))"
   ]
  },
  {
   "cell_type": "code",
   "execution_count": 82,
   "metadata": {},
   "outputs": [
    {
     "name": "stdout",
     "output_type": "stream",
     "text": [
      "R2 score of Test: 0.00022090515050099402\n",
      "RMSE of Test: 1.2999573391071357\n"
     ]
    }
   ],
   "source": [
    "y_pred_test=lasso.predict(X_test)\n",
    "print('R2 score of Test:',r2_score(y_test,y_pred_test))\n",
    "print('RMSE of Test:',np.sqrt(mse(y_test,y_pred_test)))"
   ]
  },
  {
   "cell_type": "markdown",
   "metadata": {},
   "source": [
    "### 4.2 Ridge"
   ]
  },
  {
   "cell_type": "code",
   "execution_count": 83,
   "metadata": {},
   "outputs": [],
   "source": [
    "from sklearn.linear_model import Ridge,RidgeCV\n",
    "ridge=Ridge(alpha=0.05)"
   ]
  },
  {
   "cell_type": "code",
   "execution_count": 84,
   "metadata": {},
   "outputs": [
    {
     "name": "stdout",
     "output_type": "stream",
     "text": [
      "R2 score of Train: 0.11082449468964406\n",
      "RMSE of Train: 1.2392120004873326\n"
     ]
    }
   ],
   "source": [
    "ridge.fit(X_train,y_train)\n",
    "y_pred_train=model.predict(X_train)\n",
    "print('R2 score of Train:',r2_score(y_train,y_pred_train))\n",
    "print('RMSE of Train:',np.sqrt(mse(y_train,y_pred_train)))"
   ]
  },
  {
   "cell_type": "code",
   "execution_count": 85,
   "metadata": {
    "scrolled": true
   },
   "outputs": [
    {
     "name": "stdout",
     "output_type": "stream",
     "text": [
      "R2 score of Test: 0.09872774902156145\n",
      "RMSE of Test: 1.2342555092639698\n"
     ]
    }
   ],
   "source": [
    "y_pred_test=ridge.predict(X_test)\n",
    "print('R2 score of Test:',r2_score(y_test,y_pred_test))\n",
    "print('RMSE of Test:',np.sqrt(mse(y_test,y_pred_test)))"
   ]
  },
  {
   "cell_type": "code",
   "execution_count": 86,
   "metadata": {},
   "outputs": [
    {
     "data": {
      "text/html": [
       "<div>\n",
       "<style scoped>\n",
       "    .dataframe tbody tr th:only-of-type {\n",
       "        vertical-align: middle;\n",
       "    }\n",
       "\n",
       "    .dataframe tbody tr th {\n",
       "        vertical-align: top;\n",
       "    }\n",
       "\n",
       "    .dataframe thead th {\n",
       "        text-align: right;\n",
       "    }\n",
       "</style>\n",
       "<table border=\"1\" class=\"dataframe\">\n",
       "  <thead>\n",
       "    <tr style=\"text-align: right;\">\n",
       "      <th></th>\n",
       "      <th>coefs</th>\n",
       "    </tr>\n",
       "  </thead>\n",
       "  <tbody>\n",
       "    <tr>\n",
       "      <th>best_new_music</th>\n",
       "      <td>1.752602</td>\n",
       "    </tr>\n",
       "    <tr>\n",
       "      <th>artist</th>\n",
       "      <td>0.000005</td>\n",
       "    </tr>\n",
       "    <tr>\n",
       "      <th>author</th>\n",
       "      <td>-0.000121</td>\n",
       "    </tr>\n",
       "    <tr>\n",
       "      <th>pub_month</th>\n",
       "      <td>0.009208</td>\n",
       "    </tr>\n",
       "    <tr>\n",
       "      <th>pub_year</th>\n",
       "      <td>0.002431</td>\n",
       "    </tr>\n",
       "    <tr>\n",
       "      <th>label</th>\n",
       "      <td>0.000018</td>\n",
       "    </tr>\n",
       "    <tr>\n",
       "      <th>author_type_associate editor</th>\n",
       "      <td>-0.588289</td>\n",
       "    </tr>\n",
       "    <tr>\n",
       "      <th>author_type_associate features editor</th>\n",
       "      <td>-0.880271</td>\n",
       "    </tr>\n",
       "    <tr>\n",
       "      <th>author_type_associate reviews editor</th>\n",
       "      <td>0.054044</td>\n",
       "    </tr>\n",
       "    <tr>\n",
       "      <th>author_type_associate staff writer</th>\n",
       "      <td>-0.425032</td>\n",
       "    </tr>\n",
       "    <tr>\n",
       "      <th>author_type_contributing editor</th>\n",
       "      <td>0.016444</td>\n",
       "    </tr>\n",
       "    <tr>\n",
       "      <th>author_type_contributor</th>\n",
       "      <td>-0.485460</td>\n",
       "    </tr>\n",
       "    <tr>\n",
       "      <th>author_type_deputy news editor</th>\n",
       "      <td>-0.447064</td>\n",
       "    </tr>\n",
       "    <tr>\n",
       "      <th>author_type_editor-in-chief</th>\n",
       "      <td>-0.398910</td>\n",
       "    </tr>\n",
       "    <tr>\n",
       "      <th>author_type_executive editor</th>\n",
       "      <td>-0.248542</td>\n",
       "    </tr>\n",
       "    <tr>\n",
       "      <th>author_type_managing editor</th>\n",
       "      <td>-0.796314</td>\n",
       "    </tr>\n",
       "    <tr>\n",
       "      <th>author_type_news director</th>\n",
       "      <td>-1.718397</td>\n",
       "    </tr>\n",
       "    <tr>\n",
       "      <th>author_type_senior editor</th>\n",
       "      <td>-0.582880</td>\n",
       "    </tr>\n",
       "    <tr>\n",
       "      <th>author_type_senior staff writer</th>\n",
       "      <td>-0.872852</td>\n",
       "    </tr>\n",
       "    <tr>\n",
       "      <th>author_type_tracks coordinator</th>\n",
       "      <td>-0.709842</td>\n",
       "    </tr>\n",
       "    <tr>\n",
       "      <th>genre_experimental</th>\n",
       "      <td>0.317550</td>\n",
       "    </tr>\n",
       "    <tr>\n",
       "      <th>genre_folk/country</th>\n",
       "      <td>0.280103</td>\n",
       "    </tr>\n",
       "    <tr>\n",
       "      <th>genre_global</th>\n",
       "      <td>0.417251</td>\n",
       "    </tr>\n",
       "    <tr>\n",
       "      <th>genre_jazz</th>\n",
       "      <td>0.355297</td>\n",
       "    </tr>\n",
       "    <tr>\n",
       "      <th>genre_metal</th>\n",
       "      <td>0.028092</td>\n",
       "    </tr>\n",
       "    <tr>\n",
       "      <th>genre_pop/r&amp;b</th>\n",
       "      <td>-0.071520</td>\n",
       "    </tr>\n",
       "    <tr>\n",
       "      <th>genre_rap</th>\n",
       "      <td>-0.070078</td>\n",
       "    </tr>\n",
       "    <tr>\n",
       "      <th>genre_rock</th>\n",
       "      <td>-0.019841</td>\n",
       "    </tr>\n",
       "  </tbody>\n",
       "</table>\n",
       "</div>"
      ],
      "text/plain": [
       "                                          coefs\n",
       "best_new_music                         1.752602\n",
       "artist                                 0.000005\n",
       "author                                -0.000121\n",
       "pub_month                              0.009208\n",
       "pub_year                               0.002431\n",
       "label                                  0.000018\n",
       "author_type_associate editor          -0.588289\n",
       "author_type_associate features editor -0.880271\n",
       "author_type_associate reviews editor   0.054044\n",
       "author_type_associate staff writer    -0.425032\n",
       "author_type_contributing editor        0.016444\n",
       "author_type_contributor               -0.485460\n",
       "author_type_deputy news editor        -0.447064\n",
       "author_type_editor-in-chief           -0.398910\n",
       "author_type_executive editor          -0.248542\n",
       "author_type_managing editor           -0.796314\n",
       "author_type_news director             -1.718397\n",
       "author_type_senior editor             -0.582880\n",
       "author_type_senior staff writer       -0.872852\n",
       "author_type_tracks coordinator        -0.709842\n",
       "genre_experimental                     0.317550\n",
       "genre_folk/country                     0.280103\n",
       "genre_global                           0.417251\n",
       "genre_jazz                             0.355297\n",
       "genre_metal                            0.028092\n",
       "genre_pop/r&b                         -0.071520\n",
       "genre_rap                             -0.070078\n",
       "genre_rock                            -0.019841"
      ]
     },
     "execution_count": 86,
     "metadata": {},
     "output_type": "execute_result"
    }
   ],
   "source": [
    "ridge.fit(X, y)\n",
    "ridge.coef_\n",
    "pd.DataFrame(ridge.coef_, X.columns, columns=['coefs'])"
   ]
  },
  {
   "cell_type": "code",
   "execution_count": 87,
   "metadata": {},
   "outputs": [
    {
     "data": {
      "image/png": "[encoded data removed]",
      "text/plain": [
       "<Figure size 432x288 with 1 Axes>"
      ]
     },
     "metadata": {
      "needs_background": "light"
     },
     "output_type": "display_data"
    }
   ],
   "source": [
    "n_alphas = 200\n",
    "alphas = np.logspace(-3, 2, n_alphas)\n",
    "coefs=[]\n",
    "model = Ridge()\n",
    "for a in alphas:\n",
    "    model.set_params(alpha=a)\n",
    "    model.fit(X, y)\n",
    "    coefs.append(model.coef_)\n",
    "    \n",
    "plt.plot(alphas, coefs)\n",
    "plt.xlabel('alphas')\n",
    "plt.ylabel('coefs')\n",
    "plt.show()"
   ]
  },
  {
   "cell_type": "code",
   "execution_count": 88,
   "metadata": {},
   "outputs": [
    {
     "data": {
      "text/plain": [
       "1.0"
      ]
     },
     "execution_count": 88,
     "metadata": {},
     "output_type": "execute_result"
    }
   ],
   "source": [
    "n_alphas = 1000\n",
    "alphas = np.logspace(-2, 0)\n",
    "\n",
    "ridge_cv = RidgeCV(alphas=alphas, store_cv_values=True)\n",
    "ridge_cv.fit(X, y)\n",
    "\n",
    "ridge_cv.alpha_"
   ]
  },
  {
   "cell_type": "code",
   "execution_count": 89,
   "metadata": {},
   "outputs": [
    {
     "data": {
      "text/plain": [
       "Ridge(alpha=1.0, copy_X=True, fit_intercept=True, max_iter=None,\n",
       "      normalize=False, random_state=None, solver='auto', tol=0.001)"
      ]
     },
     "execution_count": 89,
     "metadata": {},
     "output_type": "execute_result"
    }
   ],
   "source": [
    "ridge=Ridge(alpha=ridge_cv.alpha_)\n",
    "ridge.fit(X_train,y_train)"
   ]
  },
  {
   "cell_type": "code",
   "execution_count": 90,
   "metadata": {},
   "outputs": [
    {
     "name": "stdout",
     "output_type": "stream",
     "text": [
      "R2 score of Train: 0.11119127104956716\n",
      "RMSE of Train: 1.238956392598734\n"
     ]
    }
   ],
   "source": [
    "y_pred_train=ridge.predict(X_train)\n",
    "print('R2 score of Train:',r2_score(y_train,y_pred_train))\n",
    "print('RMSE of Train:',np.sqrt(mse(y_train,y_pred_train)))"
   ]
  },
  {
   "cell_type": "code",
   "execution_count": 91,
   "metadata": {},
   "outputs": [
    {
     "name": "stdout",
     "output_type": "stream",
     "text": [
      "R2 score of Test: 0.09870419029702893\n",
      "RMSE of Test: 1.2342716405137109\n"
     ]
    }
   ],
   "source": [
    "y_pred_test=ridge.predict(X_test)\n",
    "print('R2 score of Test:',r2_score(y_test,y_pred_test))\n",
    "print('RMSE of Test:',np.sqrt(mse(y_test,y_pred_test)))"
   ]
  },
  {
   "cell_type": "markdown",
   "metadata": {},
   "source": [
    "### 4.3 Elastic Net/Elastic Net CV"
   ]
  },
  {
   "cell_type": "code",
   "execution_count": 92,
   "metadata": {},
   "outputs": [
    {
     "data": {
      "text/plain": [
       "ElasticNet(alpha=0.1, copy_X=True, fit_intercept=True, l1_ratio=0.5,\n",
       "           max_iter=1000, normalize=False, positive=False, precompute=False,\n",
       "           random_state=None, selection='cyclic', tol=0.0001, warm_start=False)"
      ]
     },
     "execution_count": 92,
     "metadata": {},
     "output_type": "execute_result"
    }
   ],
   "source": [
    "from sklearn.linear_model import ElasticNet, ElasticNetCV\n",
    "enet = ElasticNet(alpha=0.1)\n",
    "enet.fit(X_train, y_train)"
   ]
  },
  {
   "cell_type": "code",
   "execution_count": 93,
   "metadata": {},
   "outputs": [
    {
     "name": "stdout",
     "output_type": "stream",
     "text": [
      "R2 score of Train: 0.04041136730386896\n",
      "RMSE of Train: 1.2873434053290678\n"
     ]
    }
   ],
   "source": [
    "y_pred_train=enet.predict(X_train)\n",
    "print('R2 score of Train:',r2_score(y_train,y_pred_train))\n",
    "print('RMSE of Train:',np.sqrt(mse(y_train,y_pred_train)))"
   ]
  },
  {
   "cell_type": "code",
   "execution_count": 94,
   "metadata": {},
   "outputs": [
    {
     "name": "stdout",
     "output_type": "stream",
     "text": [
      "R2 score of Test: 0.03570158384272826\n",
      "RMSE of Test: 1.27668219375571\n"
     ]
    }
   ],
   "source": [
    "y_pred_test=enet.predict(X_test)\n",
    "print('R2 score of Test:',r2_score(y_test,y_pred_test))\n",
    "print('RMSE of Test:',np.sqrt(mse(y_test,y_pred_test)))"
   ]
  },
  {
   "cell_type": "code",
   "execution_count": 95,
   "metadata": {},
   "outputs": [
    {
     "data": {
      "text/html": [
       "<div>\n",
       "<style scoped>\n",
       "    .dataframe tbody tr th:only-of-type {\n",
       "        vertical-align: middle;\n",
       "    }\n",
       "\n",
       "    .dataframe tbody tr th {\n",
       "        vertical-align: top;\n",
       "    }\n",
       "\n",
       "    .dataframe thead th {\n",
       "        text-align: right;\n",
       "    }\n",
       "</style>\n",
       "<table border=\"1\" class=\"dataframe\">\n",
       "  <thead>\n",
       "    <tr style=\"text-align: right;\">\n",
       "      <th></th>\n",
       "      <th>coefs</th>\n",
       "    </tr>\n",
       "  </thead>\n",
       "  <tbody>\n",
       "    <tr>\n",
       "      <th>best_new_music</th>\n",
       "      <td>0.418304</td>\n",
       "    </tr>\n",
       "    <tr>\n",
       "      <th>pub_month</th>\n",
       "      <td>0.005392</td>\n",
       "    </tr>\n",
       "    <tr>\n",
       "      <th>label</th>\n",
       "      <td>0.000021</td>\n",
       "    </tr>\n",
       "    <tr>\n",
       "      <th>author_type_associate editor</th>\n",
       "      <td>-0.000000</td>\n",
       "    </tr>\n",
       "    <tr>\n",
       "      <th>author_type_associate features editor</th>\n",
       "      <td>-0.000000</td>\n",
       "    </tr>\n",
       "    <tr>\n",
       "      <th>author_type_associate staff writer</th>\n",
       "      <td>-0.000000</td>\n",
       "    </tr>\n",
       "    <tr>\n",
       "      <th>author_type_contributor</th>\n",
       "      <td>-0.000000</td>\n",
       "    </tr>\n",
       "    <tr>\n",
       "      <th>author_type_deputy news editor</th>\n",
       "      <td>-0.000000</td>\n",
       "    </tr>\n",
       "    <tr>\n",
       "      <th>author_type_editor-in-chief</th>\n",
       "      <td>0.000000</td>\n",
       "    </tr>\n",
       "    <tr>\n",
       "      <th>author_type_executive editor</th>\n",
       "      <td>0.000000</td>\n",
       "    </tr>\n",
       "    <tr>\n",
       "      <th>author_type_news director</th>\n",
       "      <td>-0.000000</td>\n",
       "    </tr>\n",
       "    <tr>\n",
       "      <th>author_type_senior editor</th>\n",
       "      <td>0.000000</td>\n",
       "    </tr>\n",
       "    <tr>\n",
       "      <th>author_type_senior staff writer</th>\n",
       "      <td>-0.000000</td>\n",
       "    </tr>\n",
       "    <tr>\n",
       "      <th>author_type_tracks coordinator</th>\n",
       "      <td>-0.000000</td>\n",
       "    </tr>\n",
       "    <tr>\n",
       "      <th>genre_experimental</th>\n",
       "      <td>0.000000</td>\n",
       "    </tr>\n",
       "    <tr>\n",
       "      <th>genre_folk/country</th>\n",
       "      <td>0.000000</td>\n",
       "    </tr>\n",
       "    <tr>\n",
       "      <th>genre_global</th>\n",
       "      <td>0.000000</td>\n",
       "    </tr>\n",
       "    <tr>\n",
       "      <th>genre_jazz</th>\n",
       "      <td>0.000000</td>\n",
       "    </tr>\n",
       "    <tr>\n",
       "      <th>genre_pop/r&amp;b</th>\n",
       "      <td>-0.000000</td>\n",
       "    </tr>\n",
       "    <tr>\n",
       "      <th>genre_rap</th>\n",
       "      <td>-0.000000</td>\n",
       "    </tr>\n",
       "  </tbody>\n",
       "</table>\n",
       "</div>"
      ],
      "text/plain": [
       "                                          coefs\n",
       "best_new_music                         0.418304\n",
       "pub_month                              0.005392\n",
       "label                                  0.000021\n",
       "author_type_associate editor          -0.000000\n",
       "author_type_associate features editor -0.000000\n",
       "author_type_associate staff writer    -0.000000\n",
       "author_type_contributor               -0.000000\n",
       "author_type_deputy news editor        -0.000000\n",
       "author_type_editor-in-chief            0.000000\n",
       "author_type_executive editor           0.000000\n",
       "author_type_news director             -0.000000\n",
       "author_type_senior editor              0.000000\n",
       "author_type_senior staff writer       -0.000000\n",
       "author_type_tracks coordinator        -0.000000\n",
       "genre_experimental                     0.000000\n",
       "genre_folk/country                     0.000000\n",
       "genre_global                           0.000000\n",
       "genre_jazz                             0.000000\n",
       "genre_pop/r&b                         -0.000000\n",
       "genre_rap                             -0.000000"
      ]
     },
     "execution_count": 95,
     "metadata": {},
     "output_type": "execute_result"
    }
   ],
   "source": [
    "pd.DataFrame(enet.coef_, X_final.columns, columns=['coefs'])"
   ]
  },
  {
   "cell_type": "code",
   "execution_count": 96,
   "metadata": {},
   "outputs": [
    {
     "data": {
      "image/png": "[encoded data removed]",
      "text/plain": [
       "<Figure size 432x288 with 1 Axes>"
      ]
     },
     "metadata": {
      "needs_background": "light"
     },
     "output_type": "display_data"
    }
   ],
   "source": [
    "n_alphas = 200\n",
    "alphas = np.logspace(-3, -1, n_alphas)\n",
    "coefs=[]\n",
    "enet = ElasticNet()\n",
    "for a in alphas:\n",
    "    enet.set_params(alpha=a)\n",
    "    enet.fit(X_final, y)\n",
    "    coefs.append(model.coef_)\n",
    "    \n",
    "plt.plot(alphas, coefs)\n",
    "plt.xlabel('alphas')\n",
    "plt.ylabel('coefs')\n",
    "plt.show()"
   ]
  },
  {
   "cell_type": "code",
   "execution_count": 97,
   "metadata": {},
   "outputs": [
    {
     "data": {
      "text/plain": [
       "0.001"
      ]
     },
     "execution_count": 97,
     "metadata": {},
     "output_type": "execute_result"
    }
   ],
   "source": [
    "n_alphas = 2000\n",
    "alphas = np.logspace(-3, 1, n_alphas)\n",
    "\n",
    "en_cv = ElasticNetCV(alphas=alphas, cv=3)\n",
    "en_cv.fit(X_final, y)\n",
    "en_cv.alpha_"
   ]
  },
  {
   "cell_type": "code",
   "execution_count": 98,
   "metadata": {},
   "outputs": [
    {
     "data": {
      "text/plain": [
       "ElasticNet(alpha=0.001, copy_X=True, fit_intercept=True, l1_ratio=0.5,\n",
       "           max_iter=1000, normalize=False, positive=False, precompute=False,\n",
       "           random_state=None, selection='cyclic', tol=0.0001, warm_start=False)"
      ]
     },
     "execution_count": 98,
     "metadata": {},
     "output_type": "execute_result"
    }
   ],
   "source": [
    "enet = ElasticNet(alpha=en_cv.alpha_)\n",
    "enet.fit(X_train,y_train)"
   ]
  },
  {
   "cell_type": "code",
   "execution_count": 99,
   "metadata": {},
   "outputs": [
    {
     "name": "stdout",
     "output_type": "stream",
     "text": [
      "R2 score of Train: 0.10961329308653966\n",
      "RMSE of Train: 1.2400557173749858\n"
     ]
    }
   ],
   "source": [
    "y_pred_train=enet.predict(X_train)\n",
    "print('R2 score of Train:',r2_score(y_train,y_pred_train))\n",
    "print('RMSE of Train:',np.sqrt(mse(y_train,y_pred_train)))"
   ]
  },
  {
   "cell_type": "code",
   "execution_count": 100,
   "metadata": {},
   "outputs": [
    {
     "name": "stdout",
     "output_type": "stream",
     "text": [
      "R2 score of Test: 0.09785219208012585\n",
      "RMSE of Test: 1.234854883453094\n"
     ]
    }
   ],
   "source": [
    "y_pred_test=enet.predict(X_test)\n",
    "print('R2 score of Test:',r2_score(y_test,y_pred_test))\n",
    "print('RMSE of Test:',np.sqrt(mse(y_test,y_pred_test)))"
   ]
  },
  {
   "cell_type": "markdown",
   "metadata": {},
   "source": [
    "### 5 Decision Tree"
   ]
  },
  {
   "cell_type": "code",
   "execution_count": 101,
   "metadata": {},
   "outputs": [],
   "source": [
    "from sklearn.tree import DecisionTreeRegressor\n",
    "dtr=DecisionTreeRegressor()"
   ]
  },
  {
   "cell_type": "code",
   "execution_count": 102,
   "metadata": {},
   "outputs": [
    {
     "data": {
      "text/plain": [
       "DecisionTreeRegressor(ccp_alpha=0.0, criterion='mse', max_depth=None,\n",
       "                      max_features=None, max_leaf_nodes=None,\n",
       "                      min_impurity_decrease=0.0, min_impurity_split=None,\n",
       "                      min_samples_leaf=1, min_samples_split=2,\n",
       "                      min_weight_fraction_leaf=0.0, presort='deprecated',\n",
       "                      random_state=None, splitter='best')"
      ]
     },
     "execution_count": 102,
     "metadata": {},
     "output_type": "execute_result"
    }
   ],
   "source": [
    "dtr.fit(X_train,y_train)"
   ]
  },
  {
   "cell_type": "code",
   "execution_count": 103,
   "metadata": {},
   "outputs": [
    {
     "name": "stdout",
     "output_type": "stream",
     "text": [
      "R2 score of Train: 0.719688882693008\n",
      "RMSE of Train: 0.6957801371163005\n"
     ]
    }
   ],
   "source": [
    "y_pred_train=dtr.predict(X_train)\n",
    "print('R2 score of Train:',r2_score(y_train,y_pred_train))\n",
    "print('RMSE of Train:',np.sqrt(mse(y_train,y_pred_train)))"
   ]
  },
  {
   "cell_type": "code",
   "execution_count": 104,
   "metadata": {},
   "outputs": [
    {
     "name": "stdout",
     "output_type": "stream",
     "text": [
      "R2 score of Test: -0.19921216277481424\n",
      "RMSE of Test: 1.423721641939102\n"
     ]
    }
   ],
   "source": [
    "y_pred_test=dtr.predict(X_test)\n",
    "print('R2 score of Test:',r2_score(y_test,y_pred_test))\n",
    "print('RMSE of Test:',np.sqrt(mse(y_test,y_pred_test)))"
   ]
  },
  {
   "cell_type": "markdown",
   "metadata": {},
   "source": [
    "### 6. Random Forest"
   ]
  },
  {
   "cell_type": "code",
   "execution_count": 105,
   "metadata": {},
   "outputs": [],
   "source": [
    "from sklearn.ensemble import RandomForestRegressor\n",
    "rfr=RandomForestRegressor()"
   ]
  },
  {
   "cell_type": "code",
   "execution_count": 106,
   "metadata": {},
   "outputs": [
    {
     "data": {
      "text/plain": [
       "RandomForestRegressor(bootstrap=True, ccp_alpha=0.0, criterion='mse',\n",
       "                      max_depth=None, max_features='auto', max_leaf_nodes=None,\n",
       "                      max_samples=None, min_impurity_decrease=0.0,\n",
       "                      min_impurity_split=None, min_samples_leaf=1,\n",
       "                      min_samples_split=2, min_weight_fraction_leaf=0.0,\n",
       "                      n_estimators=100, n_jobs=None, oob_score=False,\n",
       "                      random_state=None, verbose=0, warm_start=False)"
      ]
     },
     "execution_count": 106,
     "metadata": {},
     "output_type": "execute_result"
    }
   ],
   "source": [
    "rfr.fit(X_train,y_train)"
   ]
  },
  {
   "cell_type": "code",
   "execution_count": 107,
   "metadata": {},
   "outputs": [
    {
     "name": "stdout",
     "output_type": "stream",
     "text": [
      "R2 score of Train: 0.6539483813560703\n",
      "RMSE of Train: 0.7730762080262948\n"
     ]
    }
   ],
   "source": [
    "y_pred_train=rfr.predict(X_train)\n",
    "print('R2 score of Train:',r2_score(y_train,y_pred_train))\n",
    "print('RMSE of Train:',np.sqrt(mse(y_train,y_pred_train)))"
   ]
  },
  {
   "cell_type": "code",
   "execution_count": 108,
   "metadata": {},
   "outputs": [
    {
     "name": "stdout",
     "output_type": "stream",
     "text": [
      "R2 score of Test: 0.07232449491569337\n",
      "RMSE of Test: 1.2522040934611047\n"
     ]
    }
   ],
   "source": [
    "y_pred_test=rfr.predict(X_test)\n",
    "print('R2 score of Test:',r2_score(y_test,y_pred_test))\n",
    "print('RMSE of Test:',np.sqrt(mse(y_test,y_pred_test)))"
   ]
  },
  {
   "cell_type": "markdown",
   "metadata": {},
   "source": [
    "### 7. KNN"
   ]
  },
  {
   "cell_type": "code",
   "execution_count": 109,
   "metadata": {},
   "outputs": [],
   "source": [
    "from sklearn.neighbors import KNeighborsRegressor\n",
    "knnr=KNeighborsRegressor(n_neighbors=5)"
   ]
  },
  {
   "cell_type": "code",
   "execution_count": 110,
   "metadata": {},
   "outputs": [
    {
     "name": "stdout",
     "output_type": "stream",
     "text": [
      "R2 score of Train: 0.3009278828095039\n",
      "RMSE of Train: 1.0987853376126755\n"
     ]
    }
   ],
   "source": [
    "knnr.fit(X_train,y_train)\n",
    "y_pred_train=knnr.predict(X_train)\n",
    "print('R2 score of Train:',r2_score(y_train,y_pred_train))\n",
    "print('RMSE of Train:',np.sqrt(mse(y_train,y_pred_train)))"
   ]
  },
  {
   "cell_type": "code",
   "execution_count": 111,
   "metadata": {},
   "outputs": [
    {
     "name": "stdout",
     "output_type": "stream",
     "text": [
      "R2 score of Test: -0.03599655027434978\n",
      "RMSE of Test: 1.323293651917409\n"
     ]
    }
   ],
   "source": [
    "y_pred_test=knnr.predict(X_test)\n",
    "print('R2 score of Test:',r2_score(y_test,y_pred_test))\n",
    "print('RMSE of Test:',np.sqrt(mse(y_test,y_pred_test)))"
   ]
  },
  {
   "cell_type": "markdown",
   "metadata": {},
   "source": [
    "### 8. Bayesian Ridge"
   ]
  },
  {
   "cell_type": "code",
   "execution_count": 112,
   "metadata": {},
   "outputs": [],
   "source": [
    "from sklearn.linear_model import BayesianRidge\n",
    "bay=BayesianRidge()"
   ]
  },
  {
   "cell_type": "code",
   "execution_count": 113,
   "metadata": {},
   "outputs": [
    {
     "data": {
      "text/plain": [
       "BayesianRidge(alpha_1=1e-06, alpha_2=1e-06, alpha_init=None,\n",
       "              compute_score=False, copy_X=True, fit_intercept=True,\n",
       "              lambda_1=1e-06, lambda_2=1e-06, lambda_init=None, n_iter=300,\n",
       "              normalize=False, tol=0.001, verbose=False)"
      ]
     },
     "execution_count": 113,
     "metadata": {},
     "output_type": "execute_result"
    }
   ],
   "source": [
    "bay.fit(X_train,y_train)"
   ]
  },
  {
   "cell_type": "code",
   "execution_count": 114,
   "metadata": {},
   "outputs": [
    {
     "name": "stdout",
     "output_type": "stream",
     "text": [
      "R2 score of Train: 0.11103469020093215\n",
      "RMSE of Train: 1.239065520858693\n"
     ]
    }
   ],
   "source": [
    "y_pred_train=bay.predict(X_train)\n",
    "print('R2 score of Train:',r2_score(y_train,y_pred_train))\n",
    "print('RMSE of Train:',np.sqrt(mse(y_train,y_pred_train)))"
   ]
  },
  {
   "cell_type": "code",
   "execution_count": 115,
   "metadata": {},
   "outputs": [
    {
     "name": "stdout",
     "output_type": "stream",
     "text": [
      "R2 score of Test: 0.0986365523824454\n",
      "RMSE of Test: 1.2343179527192567\n"
     ]
    }
   ],
   "source": [
    "y_pred_test=bay.predict(X_test)\n",
    "print('R2 score of Test:',r2_score(y_test,y_pred_test))\n",
    "print('RMSE of Test:',np.sqrt(mse(y_test,y_pred_test)))"
   ]
  },
  {
   "cell_type": "markdown",
   "metadata": {},
   "source": [
    "### 9. Bagging"
   ]
  },
  {
   "cell_type": "code",
   "execution_count": 116,
   "metadata": {},
   "outputs": [],
   "source": [
    "from sklearn.ensemble import BaggingRegressor\n",
    "baggr_lr=BaggingRegressor(base_estimator=LinearRegression())"
   ]
  },
  {
   "cell_type": "code",
   "execution_count": 117,
   "metadata": {},
   "outputs": [
    {
     "name": "stdout",
     "output_type": "stream",
     "text": [
      "R2 score of Train: 0.11108915903134231\n",
      "RMSE of Train: 1.2390275601627962\n"
     ]
    }
   ],
   "source": [
    "baggr_lr.fit(X_train,y_train)\n",
    "y_pred_train=baggr_lr.predict(X_train)\n",
    "print('R2 score of Train:',r2_score(y_train,y_pred_train))\n",
    "print('RMSE of Train:',np.sqrt(mse(y_train,y_pred_train)))"
   ]
  },
  {
   "cell_type": "code",
   "execution_count": 118,
   "metadata": {},
   "outputs": [
    {
     "name": "stdout",
     "output_type": "stream",
     "text": [
      "R2 score of Test: 0.09854210852728973\n",
      "RMSE of Test: 1.2343826162535911\n"
     ]
    }
   ],
   "source": [
    "y_pred_test=baggr_lr.predict(X_test)\n",
    "print('R2 score of Test:',r2_score(y_test,y_pred_test))\n",
    "print('RMSE of Test:',np.sqrt(mse(y_test,y_pred_test)))"
   ]
  },
  {
   "cell_type": "code",
   "execution_count": 119,
   "metadata": {},
   "outputs": [
    {
     "name": "stdout",
     "output_type": "stream",
     "text": [
      "R2 score of Train: 0.6254680213165108\n",
      "RMSE of Train: 0.804259718946351\n"
     ]
    }
   ],
   "source": [
    "baggr_dt=BaggingRegressor(base_estimator=DecisionTreeRegressor())\n",
    "baggr_dt.fit(X_train,y_train)\n",
    "y_pred_train=baggr_dt.predict(X_train)\n",
    "print('R2 score of Train:',r2_score(y_train,y_pred_train))\n",
    "print('RMSE of Train:',np.sqrt(mse(y_train,y_pred_train)))"
   ]
  },
  {
   "cell_type": "code",
   "execution_count": 120,
   "metadata": {},
   "outputs": [
    {
     "name": "stdout",
     "output_type": "stream",
     "text": [
      "R2 score of Test: 0.04554215572102194\n",
      "RMSE of Test: 1.2701512801678478\n"
     ]
    }
   ],
   "source": [
    "y_pred_test=baggr_dt.predict(X_test)\n",
    "print('R2 score of Test:',r2_score(y_test,y_pred_test))\n",
    "print('RMSE of Test:',np.sqrt(mse(y_test,y_pred_test)))"
   ]
  },
  {
   "cell_type": "code",
   "execution_count": 121,
   "metadata": {},
   "outputs": [
    {
     "name": "stdout",
     "output_type": "stream",
     "text": [
      "R2 score of Train: 0.33809411346334084\n",
      "RMSE of Train: 1.0691779337328615\n"
     ]
    }
   ],
   "source": [
    "baggr_knn=BaggingRegressor(base_estimator=KNeighborsRegressor(n_neighbors=5))\n",
    "baggr_knn.fit(X_train,y_train)\n",
    "y_pred_train=baggr_knn.predict(X_train)\n",
    "print('R2 score of Train:',r2_score(y_train,y_pred_train))\n",
    "print('RMSE of Train:',np.sqrt(mse(y_train,y_pred_train)))"
   ]
  },
  {
   "cell_type": "code",
   "execution_count": 122,
   "metadata": {},
   "outputs": [
    {
     "name": "stdout",
     "output_type": "stream",
     "text": [
      "R2 score of Test: 0.009364223882436518\n",
      "RMSE of Test: 1.293999410735507\n"
     ]
    }
   ],
   "source": [
    "y_pred_test=baggr_knn.predict(X_test)\n",
    "print('R2 score of Test:',r2_score(y_test,y_pred_test))\n",
    "print('RMSE of Test:',np.sqrt(mse(y_test,y_pred_test)))"
   ]
  },
  {
   "cell_type": "markdown",
   "metadata": {},
   "source": [
    "### 10. Boosting"
   ]
  },
  {
   "cell_type": "code",
   "execution_count": 123,
   "metadata": {},
   "outputs": [
    {
     "name": "stdout",
     "output_type": "stream",
     "text": [
      "R2 score of Train: 0.07272859077511995\n",
      "RMSE of Train: 1.265480040997725\n"
     ]
    }
   ],
   "source": [
    "from sklearn.ensemble import AdaBoostRegressor\n",
    "ada=AdaBoostRegressor(base_estimator=LinearRegression())\n",
    "ada.fit(X_train,y_train)\n",
    "y_pred_train=ada.predict(X_train)\n",
    "print('R2 score of Train:',r2_score(y_train,y_pred_train))\n",
    "print('RMSE of Train:',np.sqrt(mse(y_train,y_pred_train)))"
   ]
  },
  {
   "cell_type": "code",
   "execution_count": 124,
   "metadata": {},
   "outputs": [
    {
     "name": "stdout",
     "output_type": "stream",
     "text": [
      "R2 score of Test: 0.05463945070277776\n",
      "RMSE of Test: 1.2640836436783247\n"
     ]
    }
   ],
   "source": [
    "y_pred_test=ada.predict(X_test)\n",
    "print('R2 score of Test:',r2_score(y_test,y_pred_test))\n",
    "print('RMSE of Test:',np.sqrt(mse(y_test,y_pred_test)))"
   ]
  },
  {
   "cell_type": "code",
   "execution_count": 125,
   "metadata": {},
   "outputs": [
    {
     "name": "stdout",
     "output_type": "stream",
     "text": [
      "R2 score of Train: 0.05921745133449685\n",
      "RMSE of Train: 1.2746662638140132\n"
     ]
    }
   ],
   "source": [
    "ada=AdaBoostRegressor(base_estimator=DecisionTreeRegressor(max_depth=1))\n",
    "ada.fit(X_train,y_train)\n",
    "y_pred_train=ada.predict(X_train)\n",
    "print('R2 score of Train:',r2_score(y_train,y_pred_train))\n",
    "print('RMSE of Train:',np.sqrt(mse(y_train,y_pred_train)))"
   ]
  },
  {
   "cell_type": "code",
   "execution_count": 126,
   "metadata": {},
   "outputs": [
    {
     "name": "stdout",
     "output_type": "stream",
     "text": [
      "R2 score of Test: 0.04117919801061132\n",
      "RMSE of Test: 1.2730509880571528\n"
     ]
    }
   ],
   "source": [
    "y_pred_test=ada.predict(X_test)\n",
    "print('R2 score of Test:',r2_score(y_test,y_pred_test))\n",
    "print('RMSE of Test:',np.sqrt(mse(y_test,y_pred_test)))"
   ]
  }
 ],
 "metadata": {
  "kernelspec": {
   "display_name": "Python 3",
   "language": "python",
   "name": "python3"
  },
  "language_info": {
   "codemirror_mode": {
    "name": "ipython",
    "version": 3
   },
   "file_extension": ".py",
   "mimetype": "text/x-python",
   "name": "python",
   "nbconvert_exporter": "python",
   "pygments_lexer": "ipython3",
   "version": "3.7.6"
  }
 },
 "nbformat": 4,
 "nbformat_minor": 2
}
