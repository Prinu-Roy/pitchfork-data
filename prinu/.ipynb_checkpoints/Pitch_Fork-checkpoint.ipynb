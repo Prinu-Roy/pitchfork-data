{
 "cells": [
  {
   "cell_type": "code",
   "execution_count": 1,
   "metadata": {},
   "outputs": [],
   "source": [
    "import numpy as np\n",
    "import pandas as pd\n",
    "import matplotlib.pyplot as plt\n",
    "%matplotlib inline\n",
    "import seaborn as sns\n",
    "import os\n",
    "import sqlite3"
   ]
  },
  {
   "cell_type": "markdown",
   "metadata": {},
   "source": [
    "## Reading Data"
   ]
  },
  {
   "cell_type": "code",
   "execution_count": 2,
   "metadata": {},
   "outputs": [],
   "source": [
    "os.chdir(r'../Data')"
   ]
  },
  {
   "cell_type": "code",
   "execution_count": 3,
   "metadata": {},
   "outputs": [],
   "source": [
    "conn=sqlite3.connect('./database.sqlite')"
   ]
  },
  {
   "cell_type": "code",
   "execution_count": 4,
   "metadata": {},
   "outputs": [
    {
     "data": {
      "text/html": [
       "<div>\n",
       "<style scoped>\n",
       "    .dataframe tbody tr th:only-of-type {\n",
       "        vertical-align: middle;\n",
       "    }\n",
       "\n",
       "    .dataframe tbody tr th {\n",
       "        vertical-align: top;\n",
       "    }\n",
       "\n",
       "    .dataframe thead th {\n",
       "        text-align: right;\n",
       "    }\n",
       "</style>\n",
       "<table border=\"1\" class=\"dataframe\">\n",
       "  <thead>\n",
       "    <tr style=\"text-align: right;\">\n",
       "      <th></th>\n",
       "      <th>reviewid</th>\n",
       "      <th>title</th>\n",
       "      <th>artist</th>\n",
       "      <th>url</th>\n",
       "      <th>score</th>\n",
       "      <th>best_new_music</th>\n",
       "      <th>author</th>\n",
       "      <th>author_type</th>\n",
       "      <th>pub_date</th>\n",
       "      <th>pub_weekday</th>\n",
       "      <th>pub_day</th>\n",
       "      <th>pub_month</th>\n",
       "      <th>pub_year</th>\n",
       "    </tr>\n",
       "  </thead>\n",
       "  <tbody>\n",
       "    <tr>\n",
       "      <th>0</th>\n",
       "      <td>22703</td>\n",
       "      <td>mezzanine</td>\n",
       "      <td>massive attack</td>\n",
       "      <td>http://pitchfork.com/reviews/albums/22703-mezz...</td>\n",
       "      <td>9.3</td>\n",
       "      <td>0</td>\n",
       "      <td>nate patrin</td>\n",
       "      <td>contributor</td>\n",
       "      <td>2017-01-08</td>\n",
       "      <td>6</td>\n",
       "      <td>8</td>\n",
       "      <td>1</td>\n",
       "      <td>2017</td>\n",
       "    </tr>\n",
       "    <tr>\n",
       "      <th>1</th>\n",
       "      <td>22721</td>\n",
       "      <td>prelapsarian</td>\n",
       "      <td>krallice</td>\n",
       "      <td>http://pitchfork.com/reviews/albums/22721-prel...</td>\n",
       "      <td>7.9</td>\n",
       "      <td>0</td>\n",
       "      <td>zoe camp</td>\n",
       "      <td>contributor</td>\n",
       "      <td>2017-01-07</td>\n",
       "      <td>5</td>\n",
       "      <td>7</td>\n",
       "      <td>1</td>\n",
       "      <td>2017</td>\n",
       "    </tr>\n",
       "    <tr>\n",
       "      <th>2</th>\n",
       "      <td>22659</td>\n",
       "      <td>all of them naturals</td>\n",
       "      <td>uranium club</td>\n",
       "      <td>http://pitchfork.com/reviews/albums/22659-all-...</td>\n",
       "      <td>7.3</td>\n",
       "      <td>0</td>\n",
       "      <td>david glickman</td>\n",
       "      <td>contributor</td>\n",
       "      <td>2017-01-07</td>\n",
       "      <td>5</td>\n",
       "      <td>7</td>\n",
       "      <td>1</td>\n",
       "      <td>2017</td>\n",
       "    </tr>\n",
       "    <tr>\n",
       "      <th>3</th>\n",
       "      <td>22661</td>\n",
       "      <td>first songs</td>\n",
       "      <td>kleenex, liliput</td>\n",
       "      <td>http://pitchfork.com/reviews/albums/22661-firs...</td>\n",
       "      <td>9.0</td>\n",
       "      <td>1</td>\n",
       "      <td>jenn pelly</td>\n",
       "      <td>associate reviews editor</td>\n",
       "      <td>2017-01-06</td>\n",
       "      <td>4</td>\n",
       "      <td>6</td>\n",
       "      <td>1</td>\n",
       "      <td>2017</td>\n",
       "    </tr>\n",
       "    <tr>\n",
       "      <th>4</th>\n",
       "      <td>22725</td>\n",
       "      <td>new start</td>\n",
       "      <td>taso</td>\n",
       "      <td>http://pitchfork.com/reviews/albums/22725-new-...</td>\n",
       "      <td>8.1</td>\n",
       "      <td>0</td>\n",
       "      <td>kevin lozano</td>\n",
       "      <td>tracks coordinator</td>\n",
       "      <td>2017-01-06</td>\n",
       "      <td>4</td>\n",
       "      <td>6</td>\n",
       "      <td>1</td>\n",
       "      <td>2017</td>\n",
       "    </tr>\n",
       "  </tbody>\n",
       "</table>\n",
       "</div>"
      ],
      "text/plain": [
       "   reviewid                 title            artist  \\\n",
       "0     22703             mezzanine    massive attack   \n",
       "1     22721          prelapsarian          krallice   \n",
       "2     22659  all of them naturals      uranium club   \n",
       "3     22661           first songs  kleenex, liliput   \n",
       "4     22725             new start              taso   \n",
       "\n",
       "                                                 url  score  best_new_music  \\\n",
       "0  http://pitchfork.com/reviews/albums/22703-mezz...    9.3               0   \n",
       "1  http://pitchfork.com/reviews/albums/22721-prel...    7.9               0   \n",
       "2  http://pitchfork.com/reviews/albums/22659-all-...    7.3               0   \n",
       "3  http://pitchfork.com/reviews/albums/22661-firs...    9.0               1   \n",
       "4  http://pitchfork.com/reviews/albums/22725-new-...    8.1               0   \n",
       "\n",
       "           author               author_type    pub_date  pub_weekday  pub_day  \\\n",
       "0     nate patrin               contributor  2017-01-08            6        8   \n",
       "1        zoe camp               contributor  2017-01-07            5        7   \n",
       "2  david glickman               contributor  2017-01-07            5        7   \n",
       "3      jenn pelly  associate reviews editor  2017-01-06            4        6   \n",
       "4    kevin lozano        tracks coordinator  2017-01-06            4        6   \n",
       "\n",
       "   pub_month  pub_year  \n",
       "0          1      2017  \n",
       "1          1      2017  \n",
       "2          1      2017  \n",
       "3          1      2017  \n",
       "4          1      2017  "
      ]
     },
     "execution_count": 4,
     "metadata": {},
     "output_type": "execute_result"
    }
   ],
   "source": [
    "pd.read_sql_query('select * from reviews',conn).head()"
   ]
  },
  {
   "cell_type": "code",
   "execution_count": 5,
   "metadata": {},
   "outputs": [
    {
     "data": {
      "text/html": [
       "<div>\n",
       "<style scoped>\n",
       "    .dataframe tbody tr th:only-of-type {\n",
       "        vertical-align: middle;\n",
       "    }\n",
       "\n",
       "    .dataframe tbody tr th {\n",
       "        vertical-align: top;\n",
       "    }\n",
       "\n",
       "    .dataframe thead th {\n",
       "        text-align: right;\n",
       "    }\n",
       "</style>\n",
       "<table border=\"1\" class=\"dataframe\">\n",
       "  <thead>\n",
       "    <tr style=\"text-align: right;\">\n",
       "      <th></th>\n",
       "      <th>reviewid</th>\n",
       "      <th>genre</th>\n",
       "    </tr>\n",
       "  </thead>\n",
       "  <tbody>\n",
       "    <tr>\n",
       "      <th>0</th>\n",
       "      <td>22703</td>\n",
       "      <td>electronic</td>\n",
       "    </tr>\n",
       "    <tr>\n",
       "      <th>1</th>\n",
       "      <td>22721</td>\n",
       "      <td>metal</td>\n",
       "    </tr>\n",
       "    <tr>\n",
       "      <th>2</th>\n",
       "      <td>22659</td>\n",
       "      <td>rock</td>\n",
       "    </tr>\n",
       "    <tr>\n",
       "      <th>3</th>\n",
       "      <td>22661</td>\n",
       "      <td>rock</td>\n",
       "    </tr>\n",
       "    <tr>\n",
       "      <th>4</th>\n",
       "      <td>22725</td>\n",
       "      <td>electronic</td>\n",
       "    </tr>\n",
       "  </tbody>\n",
       "</table>\n",
       "</div>"
      ],
      "text/plain": [
       "   reviewid       genre\n",
       "0     22703  electronic\n",
       "1     22721       metal\n",
       "2     22659        rock\n",
       "3     22661        rock\n",
       "4     22725  electronic"
      ]
     },
     "execution_count": 5,
     "metadata": {},
     "output_type": "execute_result"
    }
   ],
   "source": [
    "pd.read_sql_query('select * from genres',conn).head()"
   ]
  },
  {
   "cell_type": "code",
   "execution_count": 6,
   "metadata": {},
   "outputs": [
    {
     "data": {
      "text/html": [
       "<div>\n",
       "<style scoped>\n",
       "    .dataframe tbody tr th:only-of-type {\n",
       "        vertical-align: middle;\n",
       "    }\n",
       "\n",
       "    .dataframe tbody tr th {\n",
       "        vertical-align: top;\n",
       "    }\n",
       "\n",
       "    .dataframe thead th {\n",
       "        text-align: right;\n",
       "    }\n",
       "</style>\n",
       "<table border=\"1\" class=\"dataframe\">\n",
       "  <thead>\n",
       "    <tr style=\"text-align: right;\">\n",
       "      <th></th>\n",
       "      <th>reviewid</th>\n",
       "      <th>label</th>\n",
       "    </tr>\n",
       "  </thead>\n",
       "  <tbody>\n",
       "    <tr>\n",
       "      <th>0</th>\n",
       "      <td>22703</td>\n",
       "      <td>virgin</td>\n",
       "    </tr>\n",
       "    <tr>\n",
       "      <th>1</th>\n",
       "      <td>22721</td>\n",
       "      <td>hathenter</td>\n",
       "    </tr>\n",
       "    <tr>\n",
       "      <th>2</th>\n",
       "      <td>22659</td>\n",
       "      <td>static shock</td>\n",
       "    </tr>\n",
       "    <tr>\n",
       "      <th>3</th>\n",
       "      <td>22659</td>\n",
       "      <td>fashionable idiots</td>\n",
       "    </tr>\n",
       "    <tr>\n",
       "      <th>4</th>\n",
       "      <td>22661</td>\n",
       "      <td>kill rock stars</td>\n",
       "    </tr>\n",
       "  </tbody>\n",
       "</table>\n",
       "</div>"
      ],
      "text/plain": [
       "   reviewid               label\n",
       "0     22703              virgin\n",
       "1     22721           hathenter\n",
       "2     22659        static shock\n",
       "3     22659  fashionable idiots\n",
       "4     22661     kill rock stars"
      ]
     },
     "execution_count": 6,
     "metadata": {},
     "output_type": "execute_result"
    }
   ],
   "source": [
    "pd.read_sql_query('select * from labels',conn).head()"
   ]
  },
  {
   "cell_type": "code",
   "execution_count": 7,
   "metadata": {},
   "outputs": [],
   "source": [
    "df=pd.read_sql_query(\"select r.*,g.genre,l.label from reviews r left join genres g on r.reviewid=g.reviewid left join labels l on r.reviewid=l.reviewid\",conn)"
   ]
  },
  {
   "cell_type": "markdown",
   "metadata": {},
   "source": [
    "Combining reviews,genre and labels table"
   ]
  },
  {
   "cell_type": "markdown",
   "metadata": {},
   "source": [
    "## Final Data"
   ]
  },
  {
   "cell_type": "code",
   "execution_count": 8,
   "metadata": {},
   "outputs": [
    {
     "data": {
      "text/html": [
       "<div>\n",
       "<style scoped>\n",
       "    .dataframe tbody tr th:only-of-type {\n",
       "        vertical-align: middle;\n",
       "    }\n",
       "\n",
       "    .dataframe tbody tr th {\n",
       "        vertical-align: top;\n",
       "    }\n",
       "\n",
       "    .dataframe thead th {\n",
       "        text-align: right;\n",
       "    }\n",
       "</style>\n",
       "<table border=\"1\" class=\"dataframe\">\n",
       "  <thead>\n",
       "    <tr style=\"text-align: right;\">\n",
       "      <th></th>\n",
       "      <th>artist</th>\n",
       "      <th>score</th>\n",
       "      <th>best_new_music</th>\n",
       "      <th>author</th>\n",
       "      <th>author_type</th>\n",
       "      <th>pub_weekday</th>\n",
       "      <th>pub_day</th>\n",
       "      <th>pub_month</th>\n",
       "      <th>pub_year</th>\n",
       "      <th>genre</th>\n",
       "      <th>label</th>\n",
       "    </tr>\n",
       "  </thead>\n",
       "  <tbody>\n",
       "    <tr>\n",
       "      <th>0</th>\n",
       "      <td>massive attack</td>\n",
       "      <td>9.3</td>\n",
       "      <td>0</td>\n",
       "      <td>nate patrin</td>\n",
       "      <td>contributor</td>\n",
       "      <td>6</td>\n",
       "      <td>8</td>\n",
       "      <td>1</td>\n",
       "      <td>2017</td>\n",
       "      <td>electronic</td>\n",
       "      <td>virgin</td>\n",
       "    </tr>\n",
       "    <tr>\n",
       "      <th>1</th>\n",
       "      <td>krallice</td>\n",
       "      <td>7.9</td>\n",
       "      <td>0</td>\n",
       "      <td>zoe camp</td>\n",
       "      <td>contributor</td>\n",
       "      <td>5</td>\n",
       "      <td>7</td>\n",
       "      <td>1</td>\n",
       "      <td>2017</td>\n",
       "      <td>metal</td>\n",
       "      <td>hathenter</td>\n",
       "    </tr>\n",
       "    <tr>\n",
       "      <th>2</th>\n",
       "      <td>uranium club</td>\n",
       "      <td>7.3</td>\n",
       "      <td>0</td>\n",
       "      <td>david glickman</td>\n",
       "      <td>contributor</td>\n",
       "      <td>5</td>\n",
       "      <td>7</td>\n",
       "      <td>1</td>\n",
       "      <td>2017</td>\n",
       "      <td>rock</td>\n",
       "      <td>fashionable idiots</td>\n",
       "    </tr>\n",
       "    <tr>\n",
       "      <th>3</th>\n",
       "      <td>uranium club</td>\n",
       "      <td>7.3</td>\n",
       "      <td>0</td>\n",
       "      <td>david glickman</td>\n",
       "      <td>contributor</td>\n",
       "      <td>5</td>\n",
       "      <td>7</td>\n",
       "      <td>1</td>\n",
       "      <td>2017</td>\n",
       "      <td>rock</td>\n",
       "      <td>static shock</td>\n",
       "    </tr>\n",
       "    <tr>\n",
       "      <th>4</th>\n",
       "      <td>kleenex, liliput</td>\n",
       "      <td>9.0</td>\n",
       "      <td>1</td>\n",
       "      <td>jenn pelly</td>\n",
       "      <td>associate reviews editor</td>\n",
       "      <td>4</td>\n",
       "      <td>6</td>\n",
       "      <td>1</td>\n",
       "      <td>2017</td>\n",
       "      <td>rock</td>\n",
       "      <td>kill rock stars</td>\n",
       "    </tr>\n",
       "  </tbody>\n",
       "</table>\n",
       "</div>"
      ],
      "text/plain": [
       "             artist  score  best_new_music          author  \\\n",
       "0    massive attack    9.3               0     nate patrin   \n",
       "1          krallice    7.9               0        zoe camp   \n",
       "2      uranium club    7.3               0  david glickman   \n",
       "3      uranium club    7.3               0  david glickman   \n",
       "4  kleenex, liliput    9.0               1      jenn pelly   \n",
       "\n",
       "                author_type  pub_weekday  pub_day  pub_month  pub_year  \\\n",
       "0               contributor            6        8          1      2017   \n",
       "1               contributor            5        7          1      2017   \n",
       "2               contributor            5        7          1      2017   \n",
       "3               contributor            5        7          1      2017   \n",
       "4  associate reviews editor            4        6          1      2017   \n",
       "\n",
       "        genre               label  \n",
       "0  electronic              virgin  \n",
       "1       metal           hathenter  \n",
       "2        rock  fashionable idiots  \n",
       "3        rock        static shock  \n",
       "4        rock     kill rock stars  "
      ]
     },
     "execution_count": 8,
     "metadata": {},
     "output_type": "execute_result"
    }
   ],
   "source": [
    "df.drop(['reviewid','title','url','pub_date'],axis=1,inplace=True)\n",
    "df.head()"
   ]
  },
  {
   "cell_type": "markdown",
   "metadata": {},
   "source": [
    "Here we will try to predict the score of music albums."
   ]
  },
  {
   "cell_type": "code",
   "execution_count": 9,
   "metadata": {},
   "outputs": [],
   "source": [
    "df.to_csv('Pitchfork.csv') "
   ]
  },
  {
   "cell_type": "code",
   "execution_count": 10,
   "metadata": {},
   "outputs": [
    {
     "data": {
      "text/plain": [
       "(24909, 11)"
      ]
     },
     "execution_count": 10,
     "metadata": {},
     "output_type": "execute_result"
    }
   ],
   "source": [
    "df.shape"
   ]
  },
  {
   "cell_type": "code",
   "execution_count": 11,
   "metadata": {},
   "outputs": [
    {
     "name": "stdout",
     "output_type": "stream",
     "text": [
      "<class 'pandas.core.frame.DataFrame'>\n",
      "RangeIndex: 24909 entries, 0 to 24908\n",
      "Data columns (total 11 columns):\n",
      "artist            24909 non-null object\n",
      "score             24909 non-null float64\n",
      "best_new_music    24909 non-null int64\n",
      "author            24909 non-null object\n",
      "author_type       19487 non-null object\n",
      "pub_weekday       24909 non-null int64\n",
      "pub_day           24909 non-null int64\n",
      "pub_month         24909 non-null int64\n",
      "pub_year          24909 non-null int64\n",
      "genre             22356 non-null object\n",
      "label             24869 non-null object\n",
      "dtypes: float64(1), int64(5), object(5)\n",
      "memory usage: 2.1+ MB\n"
     ]
    }
   ],
   "source": [
    "df.info()"
   ]
  },
  {
   "cell_type": "markdown",
   "metadata": {},
   "source": [
    "## Missing Values"
   ]
  },
  {
   "cell_type": "code",
   "execution_count": 12,
   "metadata": {},
   "outputs": [
    {
     "data": {
      "text/plain": [
       "artist             0.000000\n",
       "score              0.000000\n",
       "best_new_music     0.000000\n",
       "author             0.000000\n",
       "author_type       21.767233\n",
       "pub_weekday        0.000000\n",
       "pub_day            0.000000\n",
       "pub_month          0.000000\n",
       "pub_year           0.000000\n",
       "genre             10.249307\n",
       "label              0.160585\n",
       "dtype: float64"
      ]
     },
     "execution_count": 12,
     "metadata": {},
     "output_type": "execute_result"
    }
   ],
   "source": [
    "(df.isnull().sum()/df.shape[0])*100"
   ]
  },
  {
   "cell_type": "code",
   "execution_count": 13,
   "metadata": {},
   "outputs": [
    {
     "data": {
      "text/html": [
       "<div>\n",
       "<style scoped>\n",
       "    .dataframe tbody tr th:only-of-type {\n",
       "        vertical-align: middle;\n",
       "    }\n",
       "\n",
       "    .dataframe tbody tr th {\n",
       "        vertical-align: top;\n",
       "    }\n",
       "\n",
       "    .dataframe thead th {\n",
       "        text-align: right;\n",
       "    }\n",
       "</style>\n",
       "<table border=\"1\" class=\"dataframe\">\n",
       "  <thead>\n",
       "    <tr style=\"text-align: right;\">\n",
       "      <th>author_type</th>\n",
       "      <th>assistant editor</th>\n",
       "      <th>associate editor</th>\n",
       "      <th>associate features editor</th>\n",
       "      <th>associate reviews editor</th>\n",
       "      <th>associate staff writer</th>\n",
       "      <th>contributing editor</th>\n",
       "      <th>contributor</th>\n",
       "      <th>deputy news editor</th>\n",
       "      <th>editor-in-chief</th>\n",
       "      <th>executive editor</th>\n",
       "      <th>managing editor</th>\n",
       "      <th>news director</th>\n",
       "      <th>senior editor</th>\n",
       "      <th>senior staff writer</th>\n",
       "      <th>tracks coordinator</th>\n",
       "    </tr>\n",
       "    <tr>\n",
       "      <th>author</th>\n",
       "      <th></th>\n",
       "      <th></th>\n",
       "      <th></th>\n",
       "      <th></th>\n",
       "      <th></th>\n",
       "      <th></th>\n",
       "      <th></th>\n",
       "      <th></th>\n",
       "      <th></th>\n",
       "      <th></th>\n",
       "      <th></th>\n",
       "      <th></th>\n",
       "      <th></th>\n",
       "      <th></th>\n",
       "      <th></th>\n",
       "    </tr>\n",
       "  </thead>\n",
       "  <tbody>\n",
       "    <tr>\n",
       "      <th>aaron leitko</th>\n",
       "      <td>0</td>\n",
       "      <td>1</td>\n",
       "      <td>0</td>\n",
       "      <td>0</td>\n",
       "      <td>0</td>\n",
       "      <td>0</td>\n",
       "      <td>128</td>\n",
       "      <td>0</td>\n",
       "      <td>0</td>\n",
       "      <td>0</td>\n",
       "      <td>0</td>\n",
       "      <td>0</td>\n",
       "      <td>0</td>\n",
       "      <td>0</td>\n",
       "      <td>0</td>\n",
       "    </tr>\n",
       "    <tr>\n",
       "      <th>abby garnett</th>\n",
       "      <td>0</td>\n",
       "      <td>0</td>\n",
       "      <td>0</td>\n",
       "      <td>0</td>\n",
       "      <td>0</td>\n",
       "      <td>0</td>\n",
       "      <td>6</td>\n",
       "      <td>0</td>\n",
       "      <td>0</td>\n",
       "      <td>0</td>\n",
       "      <td>0</td>\n",
       "      <td>0</td>\n",
       "      <td>0</td>\n",
       "      <td>0</td>\n",
       "      <td>0</td>\n",
       "    </tr>\n",
       "    <tr>\n",
       "      <th>abigail covington</th>\n",
       "      <td>0</td>\n",
       "      <td>0</td>\n",
       "      <td>0</td>\n",
       "      <td>0</td>\n",
       "      <td>0</td>\n",
       "      <td>0</td>\n",
       "      <td>2</td>\n",
       "      <td>0</td>\n",
       "      <td>0</td>\n",
       "      <td>0</td>\n",
       "      <td>0</td>\n",
       "      <td>0</td>\n",
       "      <td>0</td>\n",
       "      <td>0</td>\n",
       "      <td>0</td>\n",
       "    </tr>\n",
       "    <tr>\n",
       "      <th>abigail garnett</th>\n",
       "      <td>0</td>\n",
       "      <td>0</td>\n",
       "      <td>0</td>\n",
       "      <td>0</td>\n",
       "      <td>0</td>\n",
       "      <td>0</td>\n",
       "      <td>4</td>\n",
       "      <td>0</td>\n",
       "      <td>0</td>\n",
       "      <td>0</td>\n",
       "      <td>0</td>\n",
       "      <td>0</td>\n",
       "      <td>0</td>\n",
       "      <td>0</td>\n",
       "      <td>0</td>\n",
       "    </tr>\n",
       "    <tr>\n",
       "      <th>adam moerder</th>\n",
       "      <td>0</td>\n",
       "      <td>0</td>\n",
       "      <td>0</td>\n",
       "      <td>0</td>\n",
       "      <td>0</td>\n",
       "      <td>0</td>\n",
       "      <td>1</td>\n",
       "      <td>0</td>\n",
       "      <td>0</td>\n",
       "      <td>0</td>\n",
       "      <td>0</td>\n",
       "      <td>0</td>\n",
       "      <td>0</td>\n",
       "      <td>0</td>\n",
       "      <td>0</td>\n",
       "    </tr>\n",
       "    <tr>\n",
       "      <th>...</th>\n",
       "      <td>...</td>\n",
       "      <td>...</td>\n",
       "      <td>...</td>\n",
       "      <td>...</td>\n",
       "      <td>...</td>\n",
       "      <td>...</td>\n",
       "      <td>...</td>\n",
       "      <td>...</td>\n",
       "      <td>...</td>\n",
       "      <td>...</td>\n",
       "      <td>...</td>\n",
       "      <td>...</td>\n",
       "      <td>...</td>\n",
       "      <td>...</td>\n",
       "      <td>...</td>\n",
       "    </tr>\n",
       "    <tr>\n",
       "      <th>vish khanna</th>\n",
       "      <td>0</td>\n",
       "      <td>0</td>\n",
       "      <td>0</td>\n",
       "      <td>0</td>\n",
       "      <td>0</td>\n",
       "      <td>0</td>\n",
       "      <td>2</td>\n",
       "      <td>0</td>\n",
       "      <td>0</td>\n",
       "      <td>0</td>\n",
       "      <td>0</td>\n",
       "      <td>0</td>\n",
       "      <td>0</td>\n",
       "      <td>0</td>\n",
       "      <td>0</td>\n",
       "    </tr>\n",
       "    <tr>\n",
       "      <th>william bowers</th>\n",
       "      <td>0</td>\n",
       "      <td>0</td>\n",
       "      <td>0</td>\n",
       "      <td>0</td>\n",
       "      <td>0</td>\n",
       "      <td>0</td>\n",
       "      <td>159</td>\n",
       "      <td>0</td>\n",
       "      <td>0</td>\n",
       "      <td>0</td>\n",
       "      <td>0</td>\n",
       "      <td>0</td>\n",
       "      <td>0</td>\n",
       "      <td>0</td>\n",
       "      <td>0</td>\n",
       "    </tr>\n",
       "    <tr>\n",
       "      <th>winston cook-wilson</th>\n",
       "      <td>0</td>\n",
       "      <td>0</td>\n",
       "      <td>0</td>\n",
       "      <td>0</td>\n",
       "      <td>0</td>\n",
       "      <td>0</td>\n",
       "      <td>54</td>\n",
       "      <td>0</td>\n",
       "      <td>0</td>\n",
       "      <td>0</td>\n",
       "      <td>0</td>\n",
       "      <td>0</td>\n",
       "      <td>0</td>\n",
       "      <td>0</td>\n",
       "      <td>0</td>\n",
       "    </tr>\n",
       "    <tr>\n",
       "      <th>zach kelly</th>\n",
       "      <td>0</td>\n",
       "      <td>0</td>\n",
       "      <td>0</td>\n",
       "      <td>0</td>\n",
       "      <td>0</td>\n",
       "      <td>0</td>\n",
       "      <td>205</td>\n",
       "      <td>0</td>\n",
       "      <td>0</td>\n",
       "      <td>0</td>\n",
       "      <td>0</td>\n",
       "      <td>0</td>\n",
       "      <td>0</td>\n",
       "      <td>0</td>\n",
       "      <td>0</td>\n",
       "    </tr>\n",
       "    <tr>\n",
       "      <th>zoe camp</th>\n",
       "      <td>0</td>\n",
       "      <td>0</td>\n",
       "      <td>0</td>\n",
       "      <td>0</td>\n",
       "      <td>0</td>\n",
       "      <td>0</td>\n",
       "      <td>89</td>\n",
       "      <td>0</td>\n",
       "      <td>0</td>\n",
       "      <td>0</td>\n",
       "      <td>0</td>\n",
       "      <td>0</td>\n",
       "      <td>0</td>\n",
       "      <td>0</td>\n",
       "      <td>0</td>\n",
       "    </tr>\n",
       "  </tbody>\n",
       "</table>\n",
       "<p>249 rows × 15 columns</p>\n",
       "</div>"
      ],
      "text/plain": [
       "author_type          assistant editor  associate editor  \\\n",
       "author                                                    \n",
       "aaron leitko                        0                 1   \n",
       "abby garnett                        0                 0   \n",
       "abigail covington                   0                 0   \n",
       "abigail garnett                     0                 0   \n",
       "adam moerder                        0                 0   \n",
       "...                               ...               ...   \n",
       "vish khanna                         0                 0   \n",
       "william bowers                      0                 0   \n",
       "winston cook-wilson                 0                 0   \n",
       "zach kelly                          0                 0   \n",
       "zoe camp                            0                 0   \n",
       "\n",
       "author_type          associate features editor  associate reviews editor  \\\n",
       "author                                                                     \n",
       "aaron leitko                                 0                         0   \n",
       "abby garnett                                 0                         0   \n",
       "abigail covington                            0                         0   \n",
       "abigail garnett                              0                         0   \n",
       "adam moerder                                 0                         0   \n",
       "...                                        ...                       ...   \n",
       "vish khanna                                  0                         0   \n",
       "william bowers                               0                         0   \n",
       "winston cook-wilson                          0                         0   \n",
       "zach kelly                                   0                         0   \n",
       "zoe camp                                     0                         0   \n",
       "\n",
       "author_type          associate staff writer  contributing editor  contributor  \\\n",
       "author                                                                          \n",
       "aaron leitko                              0                    0          128   \n",
       "abby garnett                              0                    0            6   \n",
       "abigail covington                         0                    0            2   \n",
       "abigail garnett                           0                    0            4   \n",
       "adam moerder                              0                    0            1   \n",
       "...                                     ...                  ...          ...   \n",
       "vish khanna                               0                    0            2   \n",
       "william bowers                            0                    0          159   \n",
       "winston cook-wilson                       0                    0           54   \n",
       "zach kelly                                0                    0          205   \n",
       "zoe camp                                  0                    0           89   \n",
       "\n",
       "author_type          deputy news editor  editor-in-chief  executive editor  \\\n",
       "author                                                                       \n",
       "aaron leitko                          0                0                 0   \n",
       "abby garnett                          0                0                 0   \n",
       "abigail covington                     0                0                 0   \n",
       "abigail garnett                       0                0                 0   \n",
       "adam moerder                          0                0                 0   \n",
       "...                                 ...              ...               ...   \n",
       "vish khanna                           0                0                 0   \n",
       "william bowers                        0                0                 0   \n",
       "winston cook-wilson                   0                0                 0   \n",
       "zach kelly                            0                0                 0   \n",
       "zoe camp                              0                0                 0   \n",
       "\n",
       "author_type          managing editor  news director  senior editor  \\\n",
       "author                                                               \n",
       "aaron leitko                       0              0              0   \n",
       "abby garnett                       0              0              0   \n",
       "abigail covington                  0              0              0   \n",
       "abigail garnett                    0              0              0   \n",
       "adam moerder                       0              0              0   \n",
       "...                              ...            ...            ...   \n",
       "vish khanna                        0              0              0   \n",
       "william bowers                     0              0              0   \n",
       "winston cook-wilson                0              0              0   \n",
       "zach kelly                         0              0              0   \n",
       "zoe camp                           0              0              0   \n",
       "\n",
       "author_type          senior staff writer  tracks coordinator  \n",
       "author                                                        \n",
       "aaron leitko                           0                   0  \n",
       "abby garnett                           0                   0  \n",
       "abigail covington                      0                   0  \n",
       "abigail garnett                        0                   0  \n",
       "adam moerder                           0                   0  \n",
       "...                                  ...                 ...  \n",
       "vish khanna                            0                   0  \n",
       "william bowers                         0                   0  \n",
       "winston cook-wilson                    0                   0  \n",
       "zach kelly                             0                   0  \n",
       "zoe camp                               0                   0  \n",
       "\n",
       "[249 rows x 15 columns]"
      ]
     },
     "execution_count": 13,
     "metadata": {},
     "output_type": "execute_result"
    }
   ],
   "source": [
    "pd.crosstab(df['author'],df['author_type'])"
   ]
  },
  {
   "cell_type": "code",
   "execution_count": 14,
   "metadata": {},
   "outputs": [],
   "source": [
    "df['author_type']=df['author_type'].fillna(df['author_type'].mode()[0])"
   ]
  },
  {
   "cell_type": "code",
   "execution_count": 15,
   "metadata": {},
   "outputs": [],
   "source": [
    "df.dropna(inplace=True)"
   ]
  },
  {
   "cell_type": "code",
   "execution_count": 16,
   "metadata": {},
   "outputs": [
    {
     "name": "stdout",
     "output_type": "stream",
     "text": [
      "Size of dataframe after dropping null values: (22317, 11)\n"
     ]
    }
   ],
   "source": [
    "print('Size of dataframe after dropping null values:',df.shape)"
   ]
  },
  {
   "cell_type": "markdown",
   "metadata": {},
   "source": [
    "## Exploratory Data Analysis"
   ]
  },
  {
   "cell_type": "code",
   "execution_count": 17,
   "metadata": {},
   "outputs": [
    {
     "data": {
      "text/plain": [
       "<matplotlib.axes._subplots.AxesSubplot at 0x1e15c3e2b48>"
      ]
     },
     "execution_count": 17,
     "metadata": {},
     "output_type": "execute_result"
    },
    {
     "data": {
      "image/png": "[encoded data removed]",
      "text/plain": [
       "<Figure size 432x288 with 1 Axes>"
      ]
     },
     "metadata": {
      "needs_background": "light"
     },
     "output_type": "display_data"
    }
   ],
   "source": [
    "sns.boxplot(df['score'])"
   ]
  },
  {
   "cell_type": "markdown",
   "metadata": {},
   "source": [
    "The score is highly right skewed. The mean score is around 7. There are albums which got very low scores and very high scores"
   ]
  },
  {
   "cell_type": "code",
   "execution_count": 18,
   "metadata": {},
   "outputs": [
    {
     "name": "stdout",
     "output_type": "stream",
     "text": [
      "<class 'pandas.core.frame.DataFrame'>\n",
      "Int64Index: 22317 entries, 0 to 24907\n",
      "Data columns (total 11 columns):\n",
      "artist            22317 non-null object\n",
      "score             22317 non-null float64\n",
      "best_new_music    22317 non-null int64\n",
      "author            22317 non-null object\n",
      "author_type       22317 non-null object\n",
      "pub_weekday       22317 non-null int64\n",
      "pub_day           22317 non-null int64\n",
      "pub_month         22317 non-null int64\n",
      "pub_year          22317 non-null int64\n",
      "genre             22317 non-null object\n",
      "label             22317 non-null object\n",
      "dtypes: float64(1), int64(5), object(5)\n",
      "memory usage: 2.0+ MB\n"
     ]
    }
   ],
   "source": [
    "df.info()"
   ]
  },
  {
   "cell_type": "markdown",
   "metadata": {},
   "source": [
    "## EDA Observations"
   ]
  },
  {
   "cell_type": "markdown",
   "metadata": {},
   "source": [
    "1. Rock music videos are very high in number\n",
    "2. Author Type is mainly contributer, other values are less\n",
    "3. Since rock music videos are highest in number, best music videos are higher in rock genre\n",
    "4. But average score of each genre is not much different. So we need to find the significance of that variable\n",
    "5. When coming to author type, ass.reviews editor is having higher reviews compared to other types\n",
    "6. There are artists who got a score 10 and score 0.1\n",
    "7. In authors also, 2 authors (nelson george & maura johnson) got 10 score\n",
    "8. Even though the authors got 10 score, their albums are not selected as best music\n",
    "9. Day,Month and Year is not having any influence in score\n",
    "10. But in weekday score analysis, weekday 5(friday) published videos are having more score\n",
    "11. Avg score of best music albums is 8.5 and other one is 7\n",
    "12. Even though friday has more ratings compared to others, the artists who got 10 didn't release the their albums on friday\n",
    "13. The artists who got less than 3 score are releasing albums in week days\n",
    "14. Pop and Global Genre albums released on friday are having higher score"
   ]
  },
  {
   "cell_type": "code",
   "execution_count": 19,
   "metadata": {},
   "outputs": [
    {
     "data": {
      "text/plain": [
       "0    21026\n",
       "1     1291\n",
       "Name: best_new_music, dtype: int64"
      ]
     },
     "execution_count": 19,
     "metadata": {},
     "output_type": "execute_result"
    }
   ],
   "source": [
    "df['best_new_music'].value_counts()"
   ]
  },
  {
   "cell_type": "code",
   "execution_count": 20,
   "metadata": {},
   "outputs": [
    {
     "data": {
      "text/plain": [
       "['artist', 'author', 'author_type', 'genre', 'label']"
      ]
     },
     "execution_count": 20,
     "metadata": {},
     "output_type": "execute_result"
    }
   ],
   "source": [
    "cat_cols=list(df.select_dtypes(include=['object']).columns)\n",
    "cat_cols"
   ]
  },
  {
   "cell_type": "code",
   "execution_count": 21,
   "metadata": {},
   "outputs": [],
   "source": [
    "cols=['author_type','genre']\n",
    "df=pd.get_dummies(df,columns=cols,drop_first=True)"
   ]
  },
  {
   "cell_type": "code",
   "execution_count": 22,
   "metadata": {},
   "outputs": [],
   "source": [
    "from sklearn.preprocessing import LabelEncoder\n",
    "le=LabelEncoder()\n",
    "df['artist']=le.fit_transform(df['artist'])\n",
    "df['author']=le.fit_transform(df['author'])\n",
    "df['label']=le.fit_transform(df['label'])"
   ]
  },
  {
   "cell_type": "code",
   "execution_count": 23,
   "metadata": {},
   "outputs": [
    {
     "name": "stdout",
     "output_type": "stream",
     "text": [
      "<class 'pandas.core.frame.DataFrame'>\n",
      "Int64Index: 22317 entries, 0 to 24907\n",
      "Data columns (total 31 columns):\n",
      "artist                                   22317 non-null int32\n",
      "score                                    22317 non-null float64\n",
      "best_new_music                           22317 non-null int64\n",
      "author                                   22317 non-null int32\n",
      "pub_weekday                              22317 non-null int64\n",
      "pub_day                                  22317 non-null int64\n",
      "pub_month                                22317 non-null int64\n",
      "pub_year                                 22317 non-null int64\n",
      "label                                    22317 non-null int32\n",
      "author_type_associate editor             22317 non-null uint8\n",
      "author_type_associate features editor    22317 non-null uint8\n",
      "author_type_associate reviews editor     22317 non-null uint8\n",
      "author_type_associate staff writer       22317 non-null uint8\n",
      "author_type_contributing editor          22317 non-null uint8\n",
      "author_type_contributor                  22317 non-null uint8\n",
      "author_type_deputy news editor           22317 non-null uint8\n",
      "author_type_editor-in-chief              22317 non-null uint8\n",
      "author_type_executive editor             22317 non-null uint8\n",
      "author_type_managing editor              22317 non-null uint8\n",
      "author_type_news director                22317 non-null uint8\n",
      "author_type_senior editor                22317 non-null uint8\n",
      "author_type_senior staff writer          22317 non-null uint8\n",
      "author_type_tracks coordinator           22317 non-null uint8\n",
      "genre_experimental                       22317 non-null uint8\n",
      "genre_folk/country                       22317 non-null uint8\n",
      "genre_global                             22317 non-null uint8\n",
      "genre_jazz                               22317 non-null uint8\n",
      "genre_metal                              22317 non-null uint8\n",
      "genre_pop/r&b                            22317 non-null uint8\n",
      "genre_rap                                22317 non-null uint8\n",
      "genre_rock                               22317 non-null uint8\n",
      "dtypes: float64(1), int32(3), int64(5), uint8(22)\n",
      "memory usage: 1.9 MB\n"
     ]
    }
   ],
   "source": [
    "df.info()"
   ]
  },
  {
   "cell_type": "markdown",
   "metadata": {},
   "source": [
    "## Base Model"
   ]
  },
  {
   "cell_type": "code",
   "execution_count": 24,
   "metadata": {},
   "outputs": [],
   "source": [
    "Y=df['score']\n",
    "X=df.drop('score',axis=1)"
   ]
  },
  {
   "cell_type": "code",
   "execution_count": 25,
   "metadata": {},
   "outputs": [
    {
     "name": "stderr",
     "output_type": "stream",
     "text": [
      "C:\\Users\\Prinu Elsa Roy\\Anaconda3\\lib\\site-packages\\numpy\\core\\fromnumeric.py:2495: FutureWarning: Method .ptp is deprecated and will be removed in a future version. Use numpy.ptp instead.\n",
      "  return ptp(axis=axis, out=out, **kwargs)\n"
     ]
    },
    {
     "data": {
      "text/html": [
       "<table class=\"simpletable\">\n",
       "<caption>OLS Regression Results</caption>\n",
       "<tr>\n",
       "  <th>Dep. Variable:</th>          <td>score</td>      <th>  R-squared:         </th> <td>   0.118</td> \n",
       "</tr>\n",
       "<tr>\n",
       "  <th>Model:</th>                   <td>OLS</td>       <th>  Adj. R-squared:    </th> <td>   0.117</td> \n",
       "</tr>\n",
       "<tr>\n",
       "  <th>Method:</th>             <td>Least Squares</td>  <th>  F-statistic:       </th> <td>   99.36</td> \n",
       "</tr>\n",
       "<tr>\n",
       "  <th>Date:</th>             <td>Fri, 07 Feb 2020</td> <th>  Prob (F-statistic):</th>  <td>  0.00</td>  \n",
       "</tr>\n",
       "<tr>\n",
       "  <th>Time:</th>                 <td>15:23:50</td>     <th>  Log-Likelihood:    </th> <td> -36580.</td> \n",
       "</tr>\n",
       "<tr>\n",
       "  <th>No. Observations:</th>      <td> 22317</td>      <th>  AIC:               </th> <td>7.322e+04</td>\n",
       "</tr>\n",
       "<tr>\n",
       "  <th>Df Residuals:</th>          <td> 22286</td>      <th>  BIC:               </th> <td>7.347e+04</td>\n",
       "</tr>\n",
       "<tr>\n",
       "  <th>Df Model:</th>              <td>    30</td>      <th>                     </th>     <td> </td>    \n",
       "</tr>\n",
       "<tr>\n",
       "  <th>Covariance Type:</th>      <td>nonrobust</td>    <th>                     </th>     <td> </td>    \n",
       "</tr>\n",
       "</table>\n",
       "<table class=\"simpletable\">\n",
       "<tr>\n",
       "                    <td></td>                       <th>coef</th>     <th>std err</th>      <th>t</th>      <th>P>|t|</th>  <th>[0.025</th>    <th>0.975]</th>  \n",
       "</tr>\n",
       "<tr>\n",
       "  <th>const</th>                                 <td>    1.6309</td> <td>    3.906</td> <td>    0.418</td> <td> 0.676</td> <td>   -6.025</td> <td>    9.287</td>\n",
       "</tr>\n",
       "<tr>\n",
       "  <th>artist</th>                                <td>-3.089e-06</td> <td> 3.94e-06</td> <td>   -0.784</td> <td> 0.433</td> <td>-1.08e-05</td> <td> 4.63e-06</td>\n",
       "</tr>\n",
       "<tr>\n",
       "  <th>best_new_music</th>                        <td>    1.7706</td> <td>    0.036</td> <td>   48.606</td> <td> 0.000</td> <td>    1.699</td> <td>    1.842</td>\n",
       "</tr>\n",
       "<tr>\n",
       "  <th>author</th>                                <td>-5.558e-05</td> <td>  7.2e-05</td> <td>   -0.772</td> <td> 0.440</td> <td>   -0.000</td> <td> 8.56e-05</td>\n",
       "</tr>\n",
       "<tr>\n",
       "  <th>pub_weekday</th>                           <td>    0.0085</td> <td>    0.005</td> <td>    1.665</td> <td> 0.096</td> <td>   -0.002</td> <td>    0.018</td>\n",
       "</tr>\n",
       "<tr>\n",
       "  <th>pub_day</th>                               <td>    0.0004</td> <td>    0.001</td> <td>    0.387</td> <td> 0.699</td> <td>   -0.002</td> <td>    0.002</td>\n",
       "</tr>\n",
       "<tr>\n",
       "  <th>pub_month</th>                             <td>    0.0098</td> <td>    0.003</td> <td>    3.848</td> <td> 0.000</td> <td>    0.005</td> <td>    0.015</td>\n",
       "</tr>\n",
       "<tr>\n",
       "  <th>pub_year</th>                              <td>    0.0028</td> <td>    0.002</td> <td>    1.433</td> <td> 0.152</td> <td>   -0.001</td> <td>    0.007</td>\n",
       "</tr>\n",
       "<tr>\n",
       "  <th>label</th>                                 <td> 2.193e-05</td> <td> 8.92e-06</td> <td>    2.459</td> <td> 0.014</td> <td> 4.45e-06</td> <td> 3.94e-05</td>\n",
       "</tr>\n",
       "<tr>\n",
       "  <th>author_type_associate editor</th>          <td>   -0.5518</td> <td>    0.336</td> <td>   -1.643</td> <td> 0.100</td> <td>   -1.210</td> <td>    0.106</td>\n",
       "</tr>\n",
       "<tr>\n",
       "  <th>author_type_associate features editor</th> <td>   -0.9359</td> <td>    0.431</td> <td>   -2.172</td> <td> 0.030</td> <td>   -1.781</td> <td>   -0.091</td>\n",
       "</tr>\n",
       "<tr>\n",
       "  <th>author_type_associate reviews editor</th>  <td>    0.0283</td> <td>    0.338</td> <td>    0.084</td> <td> 0.933</td> <td>   -0.633</td> <td>    0.690</td>\n",
       "</tr>\n",
       "<tr>\n",
       "  <th>author_type_associate staff writer</th>    <td>   -0.4653</td> <td>    0.310</td> <td>   -1.502</td> <td> 0.133</td> <td>   -1.072</td> <td>    0.142</td>\n",
       "</tr>\n",
       "<tr>\n",
       "  <th>author_type_contributing editor</th>       <td>    0.0505</td> <td>    0.299</td> <td>    0.169</td> <td> 0.866</td> <td>   -0.535</td> <td>    0.636</td>\n",
       "</tr>\n",
       "<tr>\n",
       "  <th>author_type_contributor</th>               <td>   -0.4981</td> <td>    0.287</td> <td>   -1.736</td> <td> 0.083</td> <td>   -1.060</td> <td>    0.064</td>\n",
       "</tr>\n",
       "<tr>\n",
       "  <th>author_type_deputy news editor</th>        <td>   -0.4988</td> <td>    0.313</td> <td>   -1.594</td> <td> 0.111</td> <td>   -1.112</td> <td>    0.114</td>\n",
       "</tr>\n",
       "<tr>\n",
       "  <th>author_type_editor-in-chief</th>           <td>   -0.3656</td> <td>    0.309</td> <td>   -1.184</td> <td> 0.236</td> <td>   -0.971</td> <td>    0.239</td>\n",
       "</tr>\n",
       "<tr>\n",
       "  <th>author_type_executive editor</th>          <td>   -0.2205</td> <td>    0.291</td> <td>   -0.757</td> <td> 0.449</td> <td>   -0.792</td> <td>    0.351</td>\n",
       "</tr>\n",
       "<tr>\n",
       "  <th>author_type_managing editor</th>           <td>   -0.7816</td> <td>    0.775</td> <td>   -1.009</td> <td> 0.313</td> <td>   -2.301</td> <td>    0.737</td>\n",
       "</tr>\n",
       "<tr>\n",
       "  <th>author_type_news director</th>             <td>   -1.2019</td> <td>    0.687</td> <td>   -1.750</td> <td> 0.080</td> <td>   -2.548</td> <td>    0.144</td>\n",
       "</tr>\n",
       "<tr>\n",
       "  <th>author_type_senior editor</th>             <td>   -0.5708</td> <td>    0.291</td> <td>   -1.961</td> <td> 0.050</td> <td>   -1.141</td> <td>   -0.000</td>\n",
       "</tr>\n",
       "<tr>\n",
       "  <th>author_type_senior staff writer</th>       <td>   -0.8765</td> <td>    0.291</td> <td>   -3.009</td> <td> 0.003</td> <td>   -1.447</td> <td>   -0.306</td>\n",
       "</tr>\n",
       "<tr>\n",
       "  <th>author_type_tracks coordinator</th>        <td>   -0.7091</td> <td>    0.336</td> <td>   -2.113</td> <td> 0.035</td> <td>   -1.367</td> <td>   -0.051</td>\n",
       "</tr>\n",
       "<tr>\n",
       "  <th>genre_experimental</th>                    <td>    0.3907</td> <td>    0.034</td> <td>   11.383</td> <td> 0.000</td> <td>    0.323</td> <td>    0.458</td>\n",
       "</tr>\n",
       "<tr>\n",
       "  <th>genre_folk/country</th>                    <td>    0.3486</td> <td>    0.050</td> <td>    6.949</td> <td> 0.000</td> <td>    0.250</td> <td>    0.447</td>\n",
       "</tr>\n",
       "<tr>\n",
       "  <th>genre_global</th>                          <td>    0.4932</td> <td>    0.082</td> <td>    6.013</td> <td> 0.000</td> <td>    0.332</td> <td>    0.654</td>\n",
       "</tr>\n",
       "<tr>\n",
       "  <th>genre_jazz</th>                            <td>    0.4038</td> <td>    0.061</td> <td>    6.663</td> <td> 0.000</td> <td>    0.285</td> <td>    0.523</td>\n",
       "</tr>\n",
       "<tr>\n",
       "  <th>genre_metal</th>                           <td>    0.1110</td> <td>    0.046</td> <td>    2.424</td> <td> 0.015</td> <td>    0.021</td> <td>    0.201</td>\n",
       "</tr>\n",
       "<tr>\n",
       "  <th>genre_pop/r&b</th>                         <td>   -0.0131</td> <td>    0.037</td> <td>   -0.356</td> <td> 0.722</td> <td>   -0.085</td> <td>    0.059</td>\n",
       "</tr>\n",
       "<tr>\n",
       "  <th>genre_rap</th>                             <td>   -0.0195</td> <td>    0.036</td> <td>   -0.544</td> <td> 0.587</td> <td>   -0.090</td> <td>    0.051</td>\n",
       "</tr>\n",
       "<tr>\n",
       "  <th>genre_rock</th>                            <td>    0.0528</td> <td>    0.023</td> <td>    2.282</td> <td> 0.022</td> <td>    0.007</td> <td>    0.098</td>\n",
       "</tr>\n",
       "</table>\n",
       "<table class=\"simpletable\">\n",
       "<tr>\n",
       "  <th>Omnibus:</th>       <td>5459.024</td> <th>  Durbin-Watson:     </th> <td>   1.404</td> \n",
       "</tr>\n",
       "<tr>\n",
       "  <th>Prob(Omnibus):</th>  <td> 0.000</td>  <th>  Jarque-Bera (JB):  </th> <td>14581.991</td>\n",
       "</tr>\n",
       "<tr>\n",
       "  <th>Skew:</th>           <td>-1.314</td>  <th>  Prob(JB):          </th> <td>    0.00</td> \n",
       "</tr>\n",
       "<tr>\n",
       "  <th>Kurtosis:</th>       <td> 5.962</td>  <th>  Cond. No.          </th> <td>2.28e+06</td> \n",
       "</tr>\n",
       "</table><br/><br/>Warnings:<br/>[1] Standard Errors assume that the covariance matrix of the errors is correctly specified.<br/>[2] The condition number is large, 2.28e+06. This might indicate that there are<br/>strong multicollinearity or other numerical problems."
      ],
      "text/plain": [
       "<class 'statsmodels.iolib.summary.Summary'>\n",
       "\"\"\"\n",
       "                            OLS Regression Results                            \n",
       "==============================================================================\n",
       "Dep. Variable:                  score   R-squared:                       0.118\n",
       "Model:                            OLS   Adj. R-squared:                  0.117\n",
       "Method:                 Least Squares   F-statistic:                     99.36\n",
       "Date:                Fri, 07 Feb 2020   Prob (F-statistic):               0.00\n",
       "Time:                        15:23:50   Log-Likelihood:                -36580.\n",
       "No. Observations:               22317   AIC:                         7.322e+04\n",
       "Df Residuals:                   22286   BIC:                         7.347e+04\n",
       "Df Model:                          30                                         \n",
       "Covariance Type:            nonrobust                                         \n",
       "=========================================================================================================\n",
       "                                            coef    std err          t      P>|t|      [0.025      0.975]\n",
       "---------------------------------------------------------------------------------------------------------\n",
       "const                                     1.6309      3.906      0.418      0.676      -6.025       9.287\n",
       "artist                                -3.089e-06   3.94e-06     -0.784      0.433   -1.08e-05    4.63e-06\n",
       "best_new_music                            1.7706      0.036     48.606      0.000       1.699       1.842\n",
       "author                                -5.558e-05    7.2e-05     -0.772      0.440      -0.000    8.56e-05\n",
       "pub_weekday                               0.0085      0.005      1.665      0.096      -0.002       0.018\n",
       "pub_day                                   0.0004      0.001      0.387      0.699      -0.002       0.002\n",
       "pub_month                                 0.0098      0.003      3.848      0.000       0.005       0.015\n",
       "pub_year                                  0.0028      0.002      1.433      0.152      -0.001       0.007\n",
       "label                                  2.193e-05   8.92e-06      2.459      0.014    4.45e-06    3.94e-05\n",
       "author_type_associate editor             -0.5518      0.336     -1.643      0.100      -1.210       0.106\n",
       "author_type_associate features editor    -0.9359      0.431     -2.172      0.030      -1.781      -0.091\n",
       "author_type_associate reviews editor      0.0283      0.338      0.084      0.933      -0.633       0.690\n",
       "author_type_associate staff writer       -0.4653      0.310     -1.502      0.133      -1.072       0.142\n",
       "author_type_contributing editor           0.0505      0.299      0.169      0.866      -0.535       0.636\n",
       "author_type_contributor                  -0.4981      0.287     -1.736      0.083      -1.060       0.064\n",
       "author_type_deputy news editor           -0.4988      0.313     -1.594      0.111      -1.112       0.114\n",
       "author_type_editor-in-chief              -0.3656      0.309     -1.184      0.236      -0.971       0.239\n",
       "author_type_executive editor             -0.2205      0.291     -0.757      0.449      -0.792       0.351\n",
       "author_type_managing editor              -0.7816      0.775     -1.009      0.313      -2.301       0.737\n",
       "author_type_news director                -1.2019      0.687     -1.750      0.080      -2.548       0.144\n",
       "author_type_senior editor                -0.5708      0.291     -1.961      0.050      -1.141      -0.000\n",
       "author_type_senior staff writer          -0.8765      0.291     -3.009      0.003      -1.447      -0.306\n",
       "author_type_tracks coordinator           -0.7091      0.336     -2.113      0.035      -1.367      -0.051\n",
       "genre_experimental                        0.3907      0.034     11.383      0.000       0.323       0.458\n",
       "genre_folk/country                        0.3486      0.050      6.949      0.000       0.250       0.447\n",
       "genre_global                              0.4932      0.082      6.013      0.000       0.332       0.654\n",
       "genre_jazz                                0.4038      0.061      6.663      0.000       0.285       0.523\n",
       "genre_metal                               0.1110      0.046      2.424      0.015       0.021       0.201\n",
       "genre_pop/r&b                            -0.0131      0.037     -0.356      0.722      -0.085       0.059\n",
       "genre_rap                                -0.0195      0.036     -0.544      0.587      -0.090       0.051\n",
       "genre_rock                                0.0528      0.023      2.282      0.022       0.007       0.098\n",
       "==============================================================================\n",
       "Omnibus:                     5459.024   Durbin-Watson:                   1.404\n",
       "Prob(Omnibus):                  0.000   Jarque-Bera (JB):            14581.991\n",
       "Skew:                          -1.314   Prob(JB):                         0.00\n",
       "Kurtosis:                       5.962   Cond. No.                     2.28e+06\n",
       "==============================================================================\n",
       "\n",
       "Warnings:\n",
       "[1] Standard Errors assume that the covariance matrix of the errors is correctly specified.\n",
       "[2] The condition number is large, 2.28e+06. This might indicate that there are\n",
       "strong multicollinearity or other numerical problems.\n",
       "\"\"\""
      ]
     },
     "execution_count": 25,
     "metadata": {},
     "output_type": "execute_result"
    }
   ],
   "source": [
    "import statsmodels.api as sm\n",
    "xc=sm.add_constant(X)\n",
    "model=sm.OLS(Y,xc).fit()\n",
    "model.summary()"
   ]
  },
  {
   "cell_type": "markdown",
   "metadata": {},
   "source": [
    "## Improved Model"
   ]
  },
  {
   "cell_type": "code",
   "execution_count": 26,
   "metadata": {},
   "outputs": [
    {
     "data": {
      "text/plain": [
       "<matplotlib.axes._subplots.AxesSubplot at 0x1e15b40a408>"
      ]
     },
     "execution_count": 26,
     "metadata": {},
     "output_type": "execute_result"
    },
    {
     "data": {
      "image/png": "[encoded data removed]",
      "text/plain": [
       "<Figure size 432x288 with 1 Axes>"
      ]
     },
     "metadata": {
      "needs_background": "light"
     },
     "output_type": "display_data"
    }
   ],
   "source": [
    "sns.distplot(df['score'])"
   ]
  },
  {
   "cell_type": "code",
   "execution_count": 27,
   "metadata": {},
   "outputs": [],
   "source": [
    "q1=df['score'].quantile(0.25)\n",
    "q3=df['score'].quantile(0.75)\n",
    "iqr=q3-q1\n",
    "high=q3+(1.5*iqr)\n",
    "low=q1-(1.5*iqr)\n",
    "df.drop(df[df['score']>high].index,inplace=True)\n",
    "df.drop(df[df['score']<low].index,inplace=True)"
   ]
  },
  {
   "cell_type": "code",
   "execution_count": 28,
   "metadata": {},
   "outputs": [
    {
     "data": {
      "text/plain": [
       "<matplotlib.axes._subplots.AxesSubplot at 0x1e15b1555c8>"
      ]
     },
     "execution_count": 28,
     "metadata": {},
     "output_type": "execute_result"
    },
    {
     "data": {
      "image/png": "[encoded data removed]",
      "text/plain": [
       "<Figure size 432x288 with 1 Axes>"
      ]
     },
     "metadata": {
      "needs_background": "light"
     },
     "output_type": "display_data"
    }
   ],
   "source": [
    "sns.distplot(df['score'])"
   ]
  },
  {
   "cell_type": "code",
   "execution_count": 29,
   "metadata": {},
   "outputs": [],
   "source": [
    "Y=df['score']\n",
    "X=df.drop('score',axis=1)"
   ]
  },
  {
   "cell_type": "code",
   "execution_count": 30,
   "metadata": {},
   "outputs": [
    {
     "data": {
      "text/html": [
       "<table class=\"simpletable\">\n",
       "<caption>OLS Regression Results</caption>\n",
       "<tr>\n",
       "  <th>Dep. Variable:</th>          <td>score</td>      <th>  R-squared:         </th> <td>   0.156</td> \n",
       "</tr>\n",
       "<tr>\n",
       "  <th>Model:</th>                   <td>OLS</td>       <th>  Adj. R-squared:    </th> <td>   0.155</td> \n",
       "</tr>\n",
       "<tr>\n",
       "  <th>Method:</th>             <td>Least Squares</td>  <th>  F-statistic:       </th> <td>   130.6</td> \n",
       "</tr>\n",
       "<tr>\n",
       "  <th>Date:</th>             <td>Fri, 07 Feb 2020</td> <th>  Prob (F-statistic):</th>  <td>  0.00</td>  \n",
       "</tr>\n",
       "<tr>\n",
       "  <th>Time:</th>                 <td>15:23:51</td>     <th>  Log-Likelihood:    </th> <td> -28563.</td> \n",
       "</tr>\n",
       "<tr>\n",
       "  <th>No. Observations:</th>      <td> 21150</td>      <th>  AIC:               </th> <td>5.719e+04</td>\n",
       "</tr>\n",
       "<tr>\n",
       "  <th>Df Residuals:</th>          <td> 21119</td>      <th>  BIC:               </th> <td>5.744e+04</td>\n",
       "</tr>\n",
       "<tr>\n",
       "  <th>Df Model:</th>              <td>    30</td>      <th>                     </th>     <td> </td>    \n",
       "</tr>\n",
       "<tr>\n",
       "  <th>Covariance Type:</th>      <td>nonrobust</td>    <th>                     </th>     <td> </td>    \n",
       "</tr>\n",
       "</table>\n",
       "<table class=\"simpletable\">\n",
       "<tr>\n",
       "                    <td></td>                       <th>coef</th>     <th>std err</th>      <th>t</th>      <th>P>|t|</th>  <th>[0.025</th>    <th>0.975]</th>  \n",
       "</tr>\n",
       "<tr>\n",
       "  <th>const</th>                                 <td>   46.4209</td> <td>    3.011</td> <td>   15.419</td> <td> 0.000</td> <td>   40.520</td> <td>   52.322</td>\n",
       "</tr>\n",
       "<tr>\n",
       "  <th>artist</th>                                <td>-1.257e-06</td> <td> 3.04e-06</td> <td>   -0.414</td> <td> 0.679</td> <td>-7.21e-06</td> <td>  4.7e-06</td>\n",
       "</tr>\n",
       "<tr>\n",
       "  <th>best_new_music</th>                        <td>    1.5891</td> <td>    0.028</td> <td>   57.224</td> <td> 0.000</td> <td>    1.535</td> <td>    1.644</td>\n",
       "</tr>\n",
       "<tr>\n",
       "  <th>author</th>                                <td>-8.541e-05</td> <td> 5.55e-05</td> <td>   -1.539</td> <td> 0.124</td> <td>   -0.000</td> <td> 2.34e-05</td>\n",
       "</tr>\n",
       "<tr>\n",
       "  <th>pub_weekday</th>                           <td>    0.0114</td> <td>    0.004</td> <td>    2.893</td> <td> 0.004</td> <td>    0.004</td> <td>    0.019</td>\n",
       "</tr>\n",
       "<tr>\n",
       "  <th>pub_day</th>                               <td>    0.0003</td> <td>    0.001</td> <td>    0.469</td> <td> 0.639</td> <td>   -0.001</td> <td>    0.002</td>\n",
       "</tr>\n",
       "<tr>\n",
       "  <th>pub_month</th>                             <td>    0.0042</td> <td>    0.002</td> <td>    2.135</td> <td> 0.033</td> <td>    0.000</td> <td>    0.008</td>\n",
       "</tr>\n",
       "<tr>\n",
       "  <th>pub_year</th>                              <td>   -0.0194</td> <td>    0.001</td> <td>  -13.031</td> <td> 0.000</td> <td>   -0.022</td> <td>   -0.016</td>\n",
       "</tr>\n",
       "<tr>\n",
       "  <th>label</th>                                 <td> 1.236e-05</td> <td> 6.88e-06</td> <td>    1.798</td> <td> 0.072</td> <td>-1.11e-06</td> <td> 2.58e-05</td>\n",
       "</tr>\n",
       "<tr>\n",
       "  <th>author_type_associate editor</th>          <td>   -0.6705</td> <td>    0.252</td> <td>   -2.664</td> <td> 0.008</td> <td>   -1.164</td> <td>   -0.177</td>\n",
       "</tr>\n",
       "<tr>\n",
       "  <th>author_type_associate features editor</th> <td>   -0.6537</td> <td>    0.329</td> <td>   -1.985</td> <td> 0.047</td> <td>   -1.299</td> <td>   -0.008</td>\n",
       "</tr>\n",
       "<tr>\n",
       "  <th>author_type_associate reviews editor</th>  <td>    0.0558</td> <td>    0.253</td> <td>    0.221</td> <td> 0.825</td> <td>   -0.440</td> <td>    0.552</td>\n",
       "</tr>\n",
       "<tr>\n",
       "  <th>author_type_associate staff writer</th>    <td>   -0.4872</td> <td>    0.232</td> <td>   -2.099</td> <td> 0.036</td> <td>   -0.942</td> <td>   -0.032</td>\n",
       "</tr>\n",
       "<tr>\n",
       "  <th>author_type_contributing editor</th>       <td>    0.0167</td> <td>    0.224</td> <td>    0.075</td> <td> 0.941</td> <td>   -0.422</td> <td>    0.455</td>\n",
       "</tr>\n",
       "<tr>\n",
       "  <th>author_type_contributor</th>               <td>   -0.4956</td> <td>    0.215</td> <td>   -2.305</td> <td> 0.021</td> <td>   -0.917</td> <td>   -0.074</td>\n",
       "</tr>\n",
       "<tr>\n",
       "  <th>author_type_deputy news editor</th>        <td>   -0.5792</td> <td>    0.234</td> <td>   -2.471</td> <td> 0.013</td> <td>   -1.039</td> <td>   -0.120</td>\n",
       "</tr>\n",
       "<tr>\n",
       "  <th>author_type_editor-in-chief</th>           <td>   -0.4670</td> <td>    0.232</td> <td>   -2.010</td> <td> 0.044</td> <td>   -0.922</td> <td>   -0.012</td>\n",
       "</tr>\n",
       "<tr>\n",
       "  <th>author_type_executive editor</th>          <td>   -0.2989</td> <td>    0.219</td> <td>   -1.368</td> <td> 0.171</td> <td>   -0.727</td> <td>    0.129</td>\n",
       "</tr>\n",
       "<tr>\n",
       "  <th>author_type_managing editor</th>           <td>   -0.7403</td> <td>    0.581</td> <td>   -1.275</td> <td> 0.202</td> <td>   -1.879</td> <td>    0.398</td>\n",
       "</tr>\n",
       "<tr>\n",
       "  <th>author_type_news director</th>             <td>   -0.0058</td> <td>    0.581</td> <td>   -0.010</td> <td> 0.992</td> <td>   -1.145</td> <td>    1.134</td>\n",
       "</tr>\n",
       "<tr>\n",
       "  <th>author_type_senior editor</th>             <td>   -0.4963</td> <td>    0.218</td> <td>   -2.273</td> <td> 0.023</td> <td>   -0.924</td> <td>   -0.068</td>\n",
       "</tr>\n",
       "<tr>\n",
       "  <th>author_type_senior staff writer</th>       <td>   -0.7059</td> <td>    0.219</td> <td>   -3.228</td> <td> 0.001</td> <td>   -1.134</td> <td>   -0.277</td>\n",
       "</tr>\n",
       "<tr>\n",
       "  <th>author_type_tracks coordinator</th>        <td>   -0.4843</td> <td>    0.254</td> <td>   -1.909</td> <td> 0.056</td> <td>   -0.981</td> <td>    0.013</td>\n",
       "</tr>\n",
       "<tr>\n",
       "  <th>genre_experimental</th>                    <td>    0.2728</td> <td>    0.026</td> <td>   10.434</td> <td> 0.000</td> <td>    0.222</td> <td>    0.324</td>\n",
       "</tr>\n",
       "<tr>\n",
       "  <th>genre_folk/country</th>                    <td>    0.2317</td> <td>    0.038</td> <td>    6.075</td> <td> 0.000</td> <td>    0.157</td> <td>    0.306</td>\n",
       "</tr>\n",
       "<tr>\n",
       "  <th>genre_global</th>                          <td>    0.3552</td> <td>    0.062</td> <td>    5.736</td> <td> 0.000</td> <td>    0.234</td> <td>    0.477</td>\n",
       "</tr>\n",
       "<tr>\n",
       "  <th>genre_jazz</th>                            <td>    0.3449</td> <td>    0.047</td> <td>    7.390</td> <td> 0.000</td> <td>    0.253</td> <td>    0.436</td>\n",
       "</tr>\n",
       "<tr>\n",
       "  <th>genre_metal</th>                           <td>    0.1744</td> <td>    0.035</td> <td>    4.919</td> <td> 0.000</td> <td>    0.105</td> <td>    0.244</td>\n",
       "</tr>\n",
       "<tr>\n",
       "  <th>genre_pop/r&b</th>                         <td>   -0.0370</td> <td>    0.028</td> <td>   -1.308</td> <td> 0.191</td> <td>   -0.092</td> <td>    0.018</td>\n",
       "</tr>\n",
       "<tr>\n",
       "  <th>genre_rap</th>                             <td>    0.0157</td> <td>    0.028</td> <td>    0.566</td> <td> 0.571</td> <td>   -0.039</td> <td>    0.070</td>\n",
       "</tr>\n",
       "<tr>\n",
       "  <th>genre_rock</th>                            <td>    0.0340</td> <td>    0.018</td> <td>    1.904</td> <td> 0.057</td> <td>   -0.001</td> <td>    0.069</td>\n",
       "</tr>\n",
       "</table>\n",
       "<table class=\"simpletable\">\n",
       "<tr>\n",
       "  <th>Omnibus:</th>       <td>929.498</td> <th>  Durbin-Watson:     </th> <td>   1.448</td> \n",
       "</tr>\n",
       "<tr>\n",
       "  <th>Prob(Omnibus):</th> <td> 0.000</td>  <th>  Jarque-Bera (JB):  </th> <td>1055.264</td> \n",
       "</tr>\n",
       "<tr>\n",
       "  <th>Skew:</th>          <td>-0.542</td>  <th>  Prob(JB):          </th> <td>7.12e-230</td>\n",
       "</tr>\n",
       "<tr>\n",
       "  <th>Kurtosis:</th>      <td> 3.146</td>  <th>  Cond. No.          </th> <td>2.28e+06</td> \n",
       "</tr>\n",
       "</table><br/><br/>Warnings:<br/>[1] Standard Errors assume that the covariance matrix of the errors is correctly specified.<br/>[2] The condition number is large, 2.28e+06. This might indicate that there are<br/>strong multicollinearity or other numerical problems."
      ],
      "text/plain": [
       "<class 'statsmodels.iolib.summary.Summary'>\n",
       "\"\"\"\n",
       "                            OLS Regression Results                            \n",
       "==============================================================================\n",
       "Dep. Variable:                  score   R-squared:                       0.156\n",
       "Model:                            OLS   Adj. R-squared:                  0.155\n",
       "Method:                 Least Squares   F-statistic:                     130.6\n",
       "Date:                Fri, 07 Feb 2020   Prob (F-statistic):               0.00\n",
       "Time:                        15:23:51   Log-Likelihood:                -28563.\n",
       "No. Observations:               21150   AIC:                         5.719e+04\n",
       "Df Residuals:                   21119   BIC:                         5.744e+04\n",
       "Df Model:                          30                                         \n",
       "Covariance Type:            nonrobust                                         \n",
       "=========================================================================================================\n",
       "                                            coef    std err          t      P>|t|      [0.025      0.975]\n",
       "---------------------------------------------------------------------------------------------------------\n",
       "const                                    46.4209      3.011     15.419      0.000      40.520      52.322\n",
       "artist                                -1.257e-06   3.04e-06     -0.414      0.679   -7.21e-06     4.7e-06\n",
       "best_new_music                            1.5891      0.028     57.224      0.000       1.535       1.644\n",
       "author                                -8.541e-05   5.55e-05     -1.539      0.124      -0.000    2.34e-05\n",
       "pub_weekday                               0.0114      0.004      2.893      0.004       0.004       0.019\n",
       "pub_day                                   0.0003      0.001      0.469      0.639      -0.001       0.002\n",
       "pub_month                                 0.0042      0.002      2.135      0.033       0.000       0.008\n",
       "pub_year                                 -0.0194      0.001    -13.031      0.000      -0.022      -0.016\n",
       "label                                  1.236e-05   6.88e-06      1.798      0.072   -1.11e-06    2.58e-05\n",
       "author_type_associate editor             -0.6705      0.252     -2.664      0.008      -1.164      -0.177\n",
       "author_type_associate features editor    -0.6537      0.329     -1.985      0.047      -1.299      -0.008\n",
       "author_type_associate reviews editor      0.0558      0.253      0.221      0.825      -0.440       0.552\n",
       "author_type_associate staff writer       -0.4872      0.232     -2.099      0.036      -0.942      -0.032\n",
       "author_type_contributing editor           0.0167      0.224      0.075      0.941      -0.422       0.455\n",
       "author_type_contributor                  -0.4956      0.215     -2.305      0.021      -0.917      -0.074\n",
       "author_type_deputy news editor           -0.5792      0.234     -2.471      0.013      -1.039      -0.120\n",
       "author_type_editor-in-chief              -0.4670      0.232     -2.010      0.044      -0.922      -0.012\n",
       "author_type_executive editor             -0.2989      0.219     -1.368      0.171      -0.727       0.129\n",
       "author_type_managing editor              -0.7403      0.581     -1.275      0.202      -1.879       0.398\n",
       "author_type_news director                -0.0058      0.581     -0.010      0.992      -1.145       1.134\n",
       "author_type_senior editor                -0.4963      0.218     -2.273      0.023      -0.924      -0.068\n",
       "author_type_senior staff writer          -0.7059      0.219     -3.228      0.001      -1.134      -0.277\n",
       "author_type_tracks coordinator           -0.4843      0.254     -1.909      0.056      -0.981       0.013\n",
       "genre_experimental                        0.2728      0.026     10.434      0.000       0.222       0.324\n",
       "genre_folk/country                        0.2317      0.038      6.075      0.000       0.157       0.306\n",
       "genre_global                              0.3552      0.062      5.736      0.000       0.234       0.477\n",
       "genre_jazz                                0.3449      0.047      7.390      0.000       0.253       0.436\n",
       "genre_metal                               0.1744      0.035      4.919      0.000       0.105       0.244\n",
       "genre_pop/r&b                            -0.0370      0.028     -1.308      0.191      -0.092       0.018\n",
       "genre_rap                                 0.0157      0.028      0.566      0.571      -0.039       0.070\n",
       "genre_rock                                0.0340      0.018      1.904      0.057      -0.001       0.069\n",
       "==============================================================================\n",
       "Omnibus:                      929.498   Durbin-Watson:                   1.448\n",
       "Prob(Omnibus):                  0.000   Jarque-Bera (JB):             1055.264\n",
       "Skew:                          -0.542   Prob(JB):                    7.12e-230\n",
       "Kurtosis:                       3.146   Cond. No.                     2.28e+06\n",
       "==============================================================================\n",
       "\n",
       "Warnings:\n",
       "[1] Standard Errors assume that the covariance matrix of the errors is correctly specified.\n",
       "[2] The condition number is large, 2.28e+06. This might indicate that there are\n",
       "strong multicollinearity or other numerical problems.\n",
       "\"\"\""
      ]
     },
     "execution_count": 30,
     "metadata": {},
     "output_type": "execute_result"
    }
   ],
   "source": [
    "import statsmodels.api as sm\n",
    "xc=sm.add_constant(X)\n",
    "model=sm.OLS(Y,xc).fit()\n",
    "model.summary()"
   ]
  },
  {
   "cell_type": "code",
   "execution_count": 31,
   "metadata": {},
   "outputs": [
    {
     "data": {
      "text/plain": [
       "<matplotlib.axes._subplots.AxesSubplot at 0x1e15aa5ab48>"
      ]
     },
     "execution_count": 31,
     "metadata": {},
     "output_type": "execute_result"
    },
    {
     "data": {
      "image/png": "[encoded data removed]",
      "text/plain": [
       "<Figure size 432x288 with 1 Axes>"
      ]
     },
     "metadata": {
      "needs_background": "light"
     },
     "output_type": "display_data"
    }
   ],
   "source": [
    "residuals=model.resid\n",
    "sns.distplot(residuals)"
   ]
  },
  {
   "cell_type": "code",
   "execution_count": 32,
   "metadata": {},
   "outputs": [
    {
     "data": {
      "image/png": "[encoded data removed]",
      "text/plain": [
       "<Figure size 432x288 with 1 Axes>"
      ]
     },
     "metadata": {
      "needs_background": "light"
     },
     "output_type": "display_data"
    }
   ],
   "source": [
    "import scipy.stats as stats\n",
    "stats.probplot(residuals,plot=plt)\n",
    "plt.show()"
   ]
  },
  {
   "cell_type": "code",
   "execution_count": 33,
   "metadata": {},
   "outputs": [
    {
     "name": "stdout",
     "output_type": "stream",
     "text": [
      "(1055.264096684475, 0.0)\n"
     ]
    }
   ],
   "source": [
    "## Jarque-Berra Test\n",
    "print(stats.jarque_bera(residuals))  "
   ]
  },
  {
   "cell_type": "code",
   "execution_count": 34,
   "metadata": {},
   "outputs": [
    {
     "data": {
      "text/plain": [
       "1.2746176690946394e-12"
      ]
     },
     "execution_count": 34,
     "metadata": {},
     "output_type": "execute_result"
    }
   ],
   "source": [
    "np.mean(residuals)"
   ]
  },
  {
   "cell_type": "code",
   "execution_count": 35,
   "metadata": {},
   "outputs": [
    {
     "data": {
      "text/plain": [
       "-0.5422742049590972"
      ]
     },
     "execution_count": 35,
     "metadata": {},
     "output_type": "execute_result"
    }
   ],
   "source": [
    "residuals.skew()"
   ]
  },
  {
   "cell_type": "code",
   "execution_count": 36,
   "metadata": {},
   "outputs": [
    {
     "data": {
      "text/html": [
       "<div>\n",
       "<style scoped>\n",
       "    .dataframe tbody tr th:only-of-type {\n",
       "        vertical-align: middle;\n",
       "    }\n",
       "\n",
       "    .dataframe tbody tr th {\n",
       "        vertical-align: top;\n",
       "    }\n",
       "\n",
       "    .dataframe thead th {\n",
       "        text-align: right;\n",
       "    }\n",
       "</style>\n",
       "<table border=\"1\" class=\"dataframe\">\n",
       "  <thead>\n",
       "    <tr style=\"text-align: right;\">\n",
       "      <th></th>\n",
       "      <th>vif</th>\n",
       "    </tr>\n",
       "  </thead>\n",
       "  <tbody>\n",
       "    <tr>\n",
       "      <th>const</th>\n",
       "      <td>219489.546403</td>\n",
       "    </tr>\n",
       "    <tr>\n",
       "      <th>artist</th>\n",
       "      <td>1.007729</td>\n",
       "    </tr>\n",
       "    <tr>\n",
       "      <th>best_new_music</th>\n",
       "      <td>1.036114</td>\n",
       "    </tr>\n",
       "    <tr>\n",
       "      <th>author</th>\n",
       "      <td>1.049261</td>\n",
       "    </tr>\n",
       "    <tr>\n",
       "      <th>pub_weekday</th>\n",
       "      <td>1.002970</td>\n",
       "    </tr>\n",
       "    <tr>\n",
       "      <th>pub_day</th>\n",
       "      <td>1.010926</td>\n",
       "    </tr>\n",
       "    <tr>\n",
       "      <th>pub_month</th>\n",
       "      <td>1.015217</td>\n",
       "    </tr>\n",
       "    <tr>\n",
       "      <th>pub_year</th>\n",
       "      <td>1.119685</td>\n",
       "    </tr>\n",
       "    <tr>\n",
       "      <th>label</th>\n",
       "      <td>1.005181</td>\n",
       "    </tr>\n",
       "    <tr>\n",
       "      <th>author_type_associate editor</th>\n",
       "      <td>3.690040</td>\n",
       "    </tr>\n",
       "    <tr>\n",
       "      <th>author_type_associate features editor</th>\n",
       "      <td>1.736971</td>\n",
       "    </tr>\n",
       "    <tr>\n",
       "      <th>author_type_associate reviews editor</th>\n",
       "      <td>3.583096</td>\n",
       "    </tr>\n",
       "    <tr>\n",
       "      <th>author_type_associate staff writer</th>\n",
       "      <td>6.995005</td>\n",
       "    </tr>\n",
       "    <tr>\n",
       "      <th>author_type_contributing editor</th>\n",
       "      <td>12.817433</td>\n",
       "    </tr>\n",
       "    <tr>\n",
       "      <th>author_type_contributor</th>\n",
       "      <td>114.198841</td>\n",
       "    </tr>\n",
       "    <tr>\n",
       "      <th>author_type_deputy news editor</th>\n",
       "      <td>6.201022</td>\n",
       "    </tr>\n",
       "    <tr>\n",
       "      <th>author_type_editor-in-chief</th>\n",
       "      <td>7.312260</td>\n",
       "    </tr>\n",
       "    <tr>\n",
       "      <th>author_type_executive editor</th>\n",
       "      <td>31.048971</td>\n",
       "    </tr>\n",
       "    <tr>\n",
       "      <th>author_type_managing editor</th>\n",
       "      <td>1.158379</td>\n",
       "    </tr>\n",
       "    <tr>\n",
       "      <th>author_type_news director</th>\n",
       "      <td>1.160342</td>\n",
       "    </tr>\n",
       "    <tr>\n",
       "      <th>author_type_senior editor</th>\n",
       "      <td>30.581476</td>\n",
       "    </tr>\n",
       "    <tr>\n",
       "      <th>author_type_senior staff writer</th>\n",
       "      <td>28.440648</td>\n",
       "    </tr>\n",
       "    <tr>\n",
       "      <th>author_type_tracks coordinator</th>\n",
       "      <td>3.528370</td>\n",
       "    </tr>\n",
       "    <tr>\n",
       "      <th>genre_experimental</th>\n",
       "      <td>1.353900</td>\n",
       "    </tr>\n",
       "    <tr>\n",
       "      <th>genre_folk/country</th>\n",
       "      <td>1.152256</td>\n",
       "    </tr>\n",
       "    <tr>\n",
       "      <th>genre_global</th>\n",
       "      <td>1.050319</td>\n",
       "    </tr>\n",
       "    <tr>\n",
       "      <th>genre_jazz</th>\n",
       "      <td>1.093498</td>\n",
       "    </tr>\n",
       "    <tr>\n",
       "      <th>genre_metal</th>\n",
       "      <td>1.181967</td>\n",
       "    </tr>\n",
       "    <tr>\n",
       "      <th>genre_pop/r&amp;b</th>\n",
       "      <td>1.306237</td>\n",
       "    </tr>\n",
       "    <tr>\n",
       "      <th>genre_rap</th>\n",
       "      <td>1.382557</td>\n",
       "    </tr>\n",
       "    <tr>\n",
       "      <th>genre_rock</th>\n",
       "      <td>1.917106</td>\n",
       "    </tr>\n",
       "  </tbody>\n",
       "</table>\n",
       "</div>"
      ],
      "text/plain": [
       "                                                 vif\n",
       "const                                  219489.546403\n",
       "artist                                      1.007729\n",
       "best_new_music                              1.036114\n",
       "author                                      1.049261\n",
       "pub_weekday                                 1.002970\n",
       "pub_day                                     1.010926\n",
       "pub_month                                   1.015217\n",
       "pub_year                                    1.119685\n",
       "label                                       1.005181\n",
       "author_type_associate editor                3.690040\n",
       "author_type_associate features editor       1.736971\n",
       "author_type_associate reviews editor        3.583096\n",
       "author_type_associate staff writer          6.995005\n",
       "author_type_contributing editor            12.817433\n",
       "author_type_contributor                   114.198841\n",
       "author_type_deputy news editor              6.201022\n",
       "author_type_editor-in-chief                 7.312260\n",
       "author_type_executive editor               31.048971\n",
       "author_type_managing editor                 1.158379\n",
       "author_type_news director                   1.160342\n",
       "author_type_senior editor                  30.581476\n",
       "author_type_senior staff writer            28.440648\n",
       "author_type_tracks coordinator              3.528370\n",
       "genre_experimental                          1.353900\n",
       "genre_folk/country                          1.152256\n",
       "genre_global                                1.050319\n",
       "genre_jazz                                  1.093498\n",
       "genre_metal                                 1.181967\n",
       "genre_pop/r&b                               1.306237\n",
       "genre_rap                                   1.382557\n",
       "genre_rock                                  1.917106"
      ]
     },
     "execution_count": 36,
     "metadata": {},
     "output_type": "execute_result"
    }
   ],
   "source": [
    "from statsmodels.stats.outliers_influence import variance_inflation_factor\n",
    "vif=[variance_inflation_factor(xc.values,i) for i in range(xc.shape[1])]\n",
    "pd.DataFrame({'vif':vif},index=xc.columns)"
   ]
  },
  {
   "cell_type": "code",
   "execution_count": 37,
   "metadata": {},
   "outputs": [
    {
     "name": "stdout",
     "output_type": "stream",
     "text": [
      "['best_new_music', 'pub_weekday', 'pub_month', 'pub_year', 'author_type_associate editor', 'author_type_associate features editor', 'author_type_associate staff writer', 'author_type_contributor', 'author_type_deputy news editor', 'author_type_editor-in-chief', 'author_type_executive editor', 'author_type_senior editor', 'author_type_senior staff writer', 'author_type_tracks coordinator', 'genre_experimental', 'genre_folk/country', 'genre_global', 'genre_jazz', 'genre_metal', 'genre_rock']\n"
     ]
    }
   ],
   "source": [
    "# Backward Elimination\n",
    "cols=list(X.columns)\n",
    "pmax=1\n",
    "while len(cols)>0:\n",
    "    p=[]\n",
    "    C=X[cols]\n",
    "    xc=sm.add_constant(C)\n",
    "    model=sm.OLS(Y,xc).fit()\n",
    "    p=pd.Series(model.pvalues.values[1:],index=cols)\n",
    "    pmax=max(p)\n",
    "    feature_with_p_max=p.idxmax()\n",
    "    if pmax>0.05:\n",
    "        cols.remove(feature_with_p_max)\n",
    "    else:\n",
    "        break\n",
    "        \n",
    "selected_cols=cols\n",
    "print(selected_cols)"
   ]
  },
  {
   "cell_type": "markdown",
   "metadata": {},
   "source": [
    "## Improved Model-2"
   ]
  },
  {
   "cell_type": "code",
   "execution_count": 45,
   "metadata": {},
   "outputs": [],
   "source": [
    "X_final=df[cols]\n",
    "Y=df['score']"
   ]
  },
  {
   "cell_type": "code",
   "execution_count": 46,
   "metadata": {},
   "outputs": [],
   "source": [
    "from sklearn.model_selection import train_test_split\n",
    "from sklearn.linear_model import LinearRegression\n",
    "from sklearn.metrics import r2_score,mean_squared_error as mse\n",
    "Xtrain,Xtest,ytrain,ytest=train_test_split(X_final,Y,test_size=0.3,random_state=0)"
   ]
  },
  {
   "cell_type": "code",
   "execution_count": 47,
   "metadata": {},
   "outputs": [
    {
     "name": "stdout",
     "output_type": "stream",
     "text": [
      "R2 score of Train: 0.15677899813788476\n",
      "RMSE of Train: 0.9337260867646889\n"
     ]
    }
   ],
   "source": [
    "LR=LinearRegression()\n",
    "LR.fit(Xtrain,ytrain)\n",
    "y_pred_train=LR.predict(Xtrain)\n",
    "print('R2 score of Train:',r2_score(ytrain,y_pred_train))\n",
    "print('RMSE of Train:',np.sqrt(mse(ytrain,y_pred_train)))"
   ]
  },
  {
   "cell_type": "code",
   "execution_count": 48,
   "metadata": {},
   "outputs": [
    {
     "name": "stdout",
     "output_type": "stream",
     "text": [
      "R2 score of Test: 0.15312544450481558\n",
      "RMSE of Test: 0.9354918647024765\n"
     ]
    }
   ],
   "source": [
    "y_pred_test=LR.predict(Xtest)\n",
    "print('R2 score of Test:',r2_score(ytest,y_pred_test))\n",
    "print('RMSE of Test:',np.sqrt(mse(ytest,y_pred_test)))"
   ]
  },
  {
   "cell_type": "markdown",
   "metadata": {},
   "source": [
    "## Improved Model-3 (K-Fold)"
   ]
  },
  {
   "cell_type": "code",
   "execution_count": 49,
   "metadata": {},
   "outputs": [],
   "source": [
    "X_final=df[cols]\n",
    "Y=df['score']"
   ]
  },
  {
   "cell_type": "code",
   "execution_count": 50,
   "metadata": {},
   "outputs": [
    {
     "name": "stdout",
     "output_type": "stream",
     "text": [
      "[0.9287844846776903, 0.9299564016512178, 0.9439192062299511, 0.9503252330111669, 0.9221062535348953]\n"
     ]
    }
   ],
   "source": [
    "from sklearn.model_selection import KFold\n",
    "kf = KFold(n_splits=5,shuffle=True,random_state=0)\n",
    "for model,name in zip([LR],['MVLR']):\n",
    "    rmse=[]\n",
    "\n",
    "    for train, test in kf.split(X_final,Y):\n",
    "        Xtrain,Xtest=X_final.iloc[train,:],X_final.iloc[test,:]\n",
    "        Ytrain,Ytest=Y.iloc[train],Y.iloc[test]\n",
    "        model.fit(Xtrain,Ytrain)\n",
    "        Y_pred=model.predict(Xtest)\n",
    "        rmse.append(np.sqrt(mse(Ytest,Y_pred)))\n",
    "print(rmse)"
   ]
  },
  {
   "cell_type": "code",
   "execution_count": 51,
   "metadata": {},
   "outputs": [
    {
     "data": {
      "text/plain": [
       "(0.9350183158209843, 0.00013618313555114285)"
      ]
     },
     "execution_count": 51,
     "metadata": {},
     "output_type": "execute_result"
    }
   ],
   "source": [
    "np.mean(rmse),np.var(rmse,ddof=1)"
   ]
  },
  {
   "cell_type": "code",
   "execution_count": null,
   "metadata": {},
   "outputs": [],
   "source": []
  }
 ],
 "metadata": {
  "kernelspec": {
   "display_name": "Python 3",
   "language": "python",
   "name": "python3"
  },
  "language_info": {
   "codemirror_mode": {
    "name": "ipython",
    "version": 3
   },
   "file_extension": ".py",
   "mimetype": "text/x-python",
   "name": "python",
   "nbconvert_exporter": "python",
   "pygments_lexer": "ipython3",
   "version": "3.7.6"
  }
 },
 "nbformat": 4,
 "nbformat_minor": 2
}
