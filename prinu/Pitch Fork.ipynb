{
 "cells": [
  {
   "cell_type": "code",
   "execution_count": 2,
   "metadata": {},
   "outputs": [],
   "source": [
    "import numpy as np\n",
    "import pandas as pd\n",
    "import matplotlib.pyplot as plt\n",
    "%matplotlib inline\n",
    "import seaborn as sns\n",
    "import os\n",
    "import sqlite3"
   ]
  },
  {
   "cell_type": "markdown",
   "metadata": {},
   "source": [
    "## Reading Data"
   ]
  },
  {
   "cell_type": "code",
   "execution_count": 3,
   "metadata": {},
   "outputs": [],
   "source": [
    "os.chdir(r'../Data')"
   ]
  },
  {
   "cell_type": "code",
   "execution_count": 4,
   "metadata": {},
   "outputs": [],
   "source": [
    "conn=sqlite3.connect('./database.sqlite')"
   ]
  },
  {
   "cell_type": "code",
   "execution_count": 5,
   "metadata": {},
   "outputs": [
    {
     "data": {
      "text/html": [
       "<div>\n",
       "<style scoped>\n",
       "    .dataframe tbody tr th:only-of-type {\n",
       "        vertical-align: middle;\n",
       "    }\n",
       "\n",
       "    .dataframe tbody tr th {\n",
       "        vertical-align: top;\n",
       "    }\n",
       "\n",
       "    .dataframe thead th {\n",
       "        text-align: right;\n",
       "    }\n",
       "</style>\n",
       "<table border=\"1\" class=\"dataframe\">\n",
       "  <thead>\n",
       "    <tr style=\"text-align: right;\">\n",
       "      <th></th>\n",
       "      <th>reviewid</th>\n",
       "      <th>title</th>\n",
       "      <th>artist</th>\n",
       "      <th>url</th>\n",
       "      <th>score</th>\n",
       "      <th>best_new_music</th>\n",
       "      <th>author</th>\n",
       "      <th>author_type</th>\n",
       "      <th>pub_date</th>\n",
       "      <th>pub_weekday</th>\n",
       "      <th>pub_day</th>\n",
       "      <th>pub_month</th>\n",
       "      <th>pub_year</th>\n",
       "    </tr>\n",
       "  </thead>\n",
       "  <tbody>\n",
       "    <tr>\n",
       "      <th>0</th>\n",
       "      <td>22703</td>\n",
       "      <td>mezzanine</td>\n",
       "      <td>massive attack</td>\n",
       "      <td>http://pitchfork.com/reviews/albums/22703-mezz...</td>\n",
       "      <td>9.3</td>\n",
       "      <td>0</td>\n",
       "      <td>nate patrin</td>\n",
       "      <td>contributor</td>\n",
       "      <td>2017-01-08</td>\n",
       "      <td>6</td>\n",
       "      <td>8</td>\n",
       "      <td>1</td>\n",
       "      <td>2017</td>\n",
       "    </tr>\n",
       "    <tr>\n",
       "      <th>1</th>\n",
       "      <td>22721</td>\n",
       "      <td>prelapsarian</td>\n",
       "      <td>krallice</td>\n",
       "      <td>http://pitchfork.com/reviews/albums/22721-prel...</td>\n",
       "      <td>7.9</td>\n",
       "      <td>0</td>\n",
       "      <td>zoe camp</td>\n",
       "      <td>contributor</td>\n",
       "      <td>2017-01-07</td>\n",
       "      <td>5</td>\n",
       "      <td>7</td>\n",
       "      <td>1</td>\n",
       "      <td>2017</td>\n",
       "    </tr>\n",
       "    <tr>\n",
       "      <th>2</th>\n",
       "      <td>22659</td>\n",
       "      <td>all of them naturals</td>\n",
       "      <td>uranium club</td>\n",
       "      <td>http://pitchfork.com/reviews/albums/22659-all-...</td>\n",
       "      <td>7.3</td>\n",
       "      <td>0</td>\n",
       "      <td>david glickman</td>\n",
       "      <td>contributor</td>\n",
       "      <td>2017-01-07</td>\n",
       "      <td>5</td>\n",
       "      <td>7</td>\n",
       "      <td>1</td>\n",
       "      <td>2017</td>\n",
       "    </tr>\n",
       "    <tr>\n",
       "      <th>3</th>\n",
       "      <td>22661</td>\n",
       "      <td>first songs</td>\n",
       "      <td>kleenex, liliput</td>\n",
       "      <td>http://pitchfork.com/reviews/albums/22661-firs...</td>\n",
       "      <td>9.0</td>\n",
       "      <td>1</td>\n",
       "      <td>jenn pelly</td>\n",
       "      <td>associate reviews editor</td>\n",
       "      <td>2017-01-06</td>\n",
       "      <td>4</td>\n",
       "      <td>6</td>\n",
       "      <td>1</td>\n",
       "      <td>2017</td>\n",
       "    </tr>\n",
       "    <tr>\n",
       "      <th>4</th>\n",
       "      <td>22725</td>\n",
       "      <td>new start</td>\n",
       "      <td>taso</td>\n",
       "      <td>http://pitchfork.com/reviews/albums/22725-new-...</td>\n",
       "      <td>8.1</td>\n",
       "      <td>0</td>\n",
       "      <td>kevin lozano</td>\n",
       "      <td>tracks coordinator</td>\n",
       "      <td>2017-01-06</td>\n",
       "      <td>4</td>\n",
       "      <td>6</td>\n",
       "      <td>1</td>\n",
       "      <td>2017</td>\n",
       "    </tr>\n",
       "  </tbody>\n",
       "</table>\n",
       "</div>"
      ],
      "text/plain": [
       "   reviewid                 title            artist  \\\n",
       "0     22703             mezzanine    massive attack   \n",
       "1     22721          prelapsarian          krallice   \n",
       "2     22659  all of them naturals      uranium club   \n",
       "3     22661           first songs  kleenex, liliput   \n",
       "4     22725             new start              taso   \n",
       "\n",
       "                                                 url  score  best_new_music  \\\n",
       "0  http://pitchfork.com/reviews/albums/22703-mezz...    9.3               0   \n",
       "1  http://pitchfork.com/reviews/albums/22721-prel...    7.9               0   \n",
       "2  http://pitchfork.com/reviews/albums/22659-all-...    7.3               0   \n",
       "3  http://pitchfork.com/reviews/albums/22661-firs...    9.0               1   \n",
       "4  http://pitchfork.com/reviews/albums/22725-new-...    8.1               0   \n",
       "\n",
       "           author               author_type    pub_date  pub_weekday  pub_day  \\\n",
       "0     nate patrin               contributor  2017-01-08            6        8   \n",
       "1        zoe camp               contributor  2017-01-07            5        7   \n",
       "2  david glickman               contributor  2017-01-07            5        7   \n",
       "3      jenn pelly  associate reviews editor  2017-01-06            4        6   \n",
       "4    kevin lozano        tracks coordinator  2017-01-06            4        6   \n",
       "\n",
       "   pub_month  pub_year  \n",
       "0          1      2017  \n",
       "1          1      2017  \n",
       "2          1      2017  \n",
       "3          1      2017  \n",
       "4          1      2017  "
      ]
     },
     "execution_count": 5,
     "metadata": {},
     "output_type": "execute_result"
    }
   ],
   "source": [
    "pd.read_sql_query('select * from reviews',conn).head()"
   ]
  },
  {
   "cell_type": "code",
   "execution_count": 6,
   "metadata": {},
   "outputs": [
    {
     "data": {
      "text/html": [
       "<div>\n",
       "<style scoped>\n",
       "    .dataframe tbody tr th:only-of-type {\n",
       "        vertical-align: middle;\n",
       "    }\n",
       "\n",
       "    .dataframe tbody tr th {\n",
       "        vertical-align: top;\n",
       "    }\n",
       "\n",
       "    .dataframe thead th {\n",
       "        text-align: right;\n",
       "    }\n",
       "</style>\n",
       "<table border=\"1\" class=\"dataframe\">\n",
       "  <thead>\n",
       "    <tr style=\"text-align: right;\">\n",
       "      <th></th>\n",
       "      <th>reviewid</th>\n",
       "      <th>genre</th>\n",
       "    </tr>\n",
       "  </thead>\n",
       "  <tbody>\n",
       "    <tr>\n",
       "      <th>0</th>\n",
       "      <td>22703</td>\n",
       "      <td>electronic</td>\n",
       "    </tr>\n",
       "    <tr>\n",
       "      <th>1</th>\n",
       "      <td>22721</td>\n",
       "      <td>metal</td>\n",
       "    </tr>\n",
       "    <tr>\n",
       "      <th>2</th>\n",
       "      <td>22659</td>\n",
       "      <td>rock</td>\n",
       "    </tr>\n",
       "    <tr>\n",
       "      <th>3</th>\n",
       "      <td>22661</td>\n",
       "      <td>rock</td>\n",
       "    </tr>\n",
       "    <tr>\n",
       "      <th>4</th>\n",
       "      <td>22725</td>\n",
       "      <td>electronic</td>\n",
       "    </tr>\n",
       "  </tbody>\n",
       "</table>\n",
       "</div>"
      ],
      "text/plain": [
       "   reviewid       genre\n",
       "0     22703  electronic\n",
       "1     22721       metal\n",
       "2     22659        rock\n",
       "3     22661        rock\n",
       "4     22725  electronic"
      ]
     },
     "execution_count": 6,
     "metadata": {},
     "output_type": "execute_result"
    }
   ],
   "source": [
    "pd.read_sql_query('select * from genres',conn).head()"
   ]
  },
  {
   "cell_type": "code",
   "execution_count": 7,
   "metadata": {},
   "outputs": [
    {
     "data": {
      "text/html": [
       "<div>\n",
       "<style scoped>\n",
       "    .dataframe tbody tr th:only-of-type {\n",
       "        vertical-align: middle;\n",
       "    }\n",
       "\n",
       "    .dataframe tbody tr th {\n",
       "        vertical-align: top;\n",
       "    }\n",
       "\n",
       "    .dataframe thead th {\n",
       "        text-align: right;\n",
       "    }\n",
       "</style>\n",
       "<table border=\"1\" class=\"dataframe\">\n",
       "  <thead>\n",
       "    <tr style=\"text-align: right;\">\n",
       "      <th></th>\n",
       "      <th>reviewid</th>\n",
       "      <th>label</th>\n",
       "    </tr>\n",
       "  </thead>\n",
       "  <tbody>\n",
       "    <tr>\n",
       "      <th>0</th>\n",
       "      <td>22703</td>\n",
       "      <td>virgin</td>\n",
       "    </tr>\n",
       "    <tr>\n",
       "      <th>1</th>\n",
       "      <td>22721</td>\n",
       "      <td>hathenter</td>\n",
       "    </tr>\n",
       "    <tr>\n",
       "      <th>2</th>\n",
       "      <td>22659</td>\n",
       "      <td>static shock</td>\n",
       "    </tr>\n",
       "    <tr>\n",
       "      <th>3</th>\n",
       "      <td>22659</td>\n",
       "      <td>fashionable idiots</td>\n",
       "    </tr>\n",
       "    <tr>\n",
       "      <th>4</th>\n",
       "      <td>22661</td>\n",
       "      <td>kill rock stars</td>\n",
       "    </tr>\n",
       "  </tbody>\n",
       "</table>\n",
       "</div>"
      ],
      "text/plain": [
       "   reviewid               label\n",
       "0     22703              virgin\n",
       "1     22721           hathenter\n",
       "2     22659        static shock\n",
       "3     22659  fashionable idiots\n",
       "4     22661     kill rock stars"
      ]
     },
     "execution_count": 7,
     "metadata": {},
     "output_type": "execute_result"
    }
   ],
   "source": [
    "pd.read_sql_query('select * from labels',conn).head()"
   ]
  },
  {
   "cell_type": "code",
   "execution_count": 8,
   "metadata": {},
   "outputs": [],
   "source": [
    "df=pd.read_sql_query(\"select r.*,g.genre,l.label from reviews r left join genres g on r.reviewid=g.reviewid left join labels l on r.reviewid=l.reviewid\",conn)"
   ]
  },
  {
   "cell_type": "markdown",
   "metadata": {},
   "source": [
    "Combining reviews,genre and labels table"
   ]
  },
  {
   "cell_type": "markdown",
   "metadata": {},
   "source": [
    "## Final Data"
   ]
  },
  {
   "cell_type": "code",
   "execution_count": 9,
   "metadata": {},
   "outputs": [
    {
     "data": {
      "text/html": [
       "<div>\n",
       "<style scoped>\n",
       "    .dataframe tbody tr th:only-of-type {\n",
       "        vertical-align: middle;\n",
       "    }\n",
       "\n",
       "    .dataframe tbody tr th {\n",
       "        vertical-align: top;\n",
       "    }\n",
       "\n",
       "    .dataframe thead th {\n",
       "        text-align: right;\n",
       "    }\n",
       "</style>\n",
       "<table border=\"1\" class=\"dataframe\">\n",
       "  <thead>\n",
       "    <tr style=\"text-align: right;\">\n",
       "      <th></th>\n",
       "      <th>artist</th>\n",
       "      <th>score</th>\n",
       "      <th>best_new_music</th>\n",
       "      <th>author</th>\n",
       "      <th>author_type</th>\n",
       "      <th>pub_weekday</th>\n",
       "      <th>pub_day</th>\n",
       "      <th>pub_month</th>\n",
       "      <th>pub_year</th>\n",
       "      <th>genre</th>\n",
       "      <th>label</th>\n",
       "    </tr>\n",
       "  </thead>\n",
       "  <tbody>\n",
       "    <tr>\n",
       "      <th>0</th>\n",
       "      <td>massive attack</td>\n",
       "      <td>9.3</td>\n",
       "      <td>0</td>\n",
       "      <td>nate patrin</td>\n",
       "      <td>contributor</td>\n",
       "      <td>6</td>\n",
       "      <td>8</td>\n",
       "      <td>1</td>\n",
       "      <td>2017</td>\n",
       "      <td>electronic</td>\n",
       "      <td>virgin</td>\n",
       "    </tr>\n",
       "    <tr>\n",
       "      <th>1</th>\n",
       "      <td>krallice</td>\n",
       "      <td>7.9</td>\n",
       "      <td>0</td>\n",
       "      <td>zoe camp</td>\n",
       "      <td>contributor</td>\n",
       "      <td>5</td>\n",
       "      <td>7</td>\n",
       "      <td>1</td>\n",
       "      <td>2017</td>\n",
       "      <td>metal</td>\n",
       "      <td>hathenter</td>\n",
       "    </tr>\n",
       "    <tr>\n",
       "      <th>2</th>\n",
       "      <td>uranium club</td>\n",
       "      <td>7.3</td>\n",
       "      <td>0</td>\n",
       "      <td>david glickman</td>\n",
       "      <td>contributor</td>\n",
       "      <td>5</td>\n",
       "      <td>7</td>\n",
       "      <td>1</td>\n",
       "      <td>2017</td>\n",
       "      <td>rock</td>\n",
       "      <td>fashionable idiots</td>\n",
       "    </tr>\n",
       "    <tr>\n",
       "      <th>3</th>\n",
       "      <td>uranium club</td>\n",
       "      <td>7.3</td>\n",
       "      <td>0</td>\n",
       "      <td>david glickman</td>\n",
       "      <td>contributor</td>\n",
       "      <td>5</td>\n",
       "      <td>7</td>\n",
       "      <td>1</td>\n",
       "      <td>2017</td>\n",
       "      <td>rock</td>\n",
       "      <td>static shock</td>\n",
       "    </tr>\n",
       "    <tr>\n",
       "      <th>4</th>\n",
       "      <td>kleenex, liliput</td>\n",
       "      <td>9.0</td>\n",
       "      <td>1</td>\n",
       "      <td>jenn pelly</td>\n",
       "      <td>associate reviews editor</td>\n",
       "      <td>4</td>\n",
       "      <td>6</td>\n",
       "      <td>1</td>\n",
       "      <td>2017</td>\n",
       "      <td>rock</td>\n",
       "      <td>kill rock stars</td>\n",
       "    </tr>\n",
       "  </tbody>\n",
       "</table>\n",
       "</div>"
      ],
      "text/plain": [
       "             artist  score  best_new_music          author  \\\n",
       "0    massive attack    9.3               0     nate patrin   \n",
       "1          krallice    7.9               0        zoe camp   \n",
       "2      uranium club    7.3               0  david glickman   \n",
       "3      uranium club    7.3               0  david glickman   \n",
       "4  kleenex, liliput    9.0               1      jenn pelly   \n",
       "\n",
       "                author_type  pub_weekday  pub_day  pub_month  pub_year  \\\n",
       "0               contributor            6        8          1      2017   \n",
       "1               contributor            5        7          1      2017   \n",
       "2               contributor            5        7          1      2017   \n",
       "3               contributor            5        7          1      2017   \n",
       "4  associate reviews editor            4        6          1      2017   \n",
       "\n",
       "        genre               label  \n",
       "0  electronic              virgin  \n",
       "1       metal           hathenter  \n",
       "2        rock  fashionable idiots  \n",
       "3        rock        static shock  \n",
       "4        rock     kill rock stars  "
      ]
     },
     "execution_count": 9,
     "metadata": {},
     "output_type": "execute_result"
    }
   ],
   "source": [
    "df.drop(['reviewid','title','url','pub_date'],axis=1,inplace=True)\n",
    "df.head()"
   ]
  },
  {
   "cell_type": "markdown",
   "metadata": {},
   "source": [
    "Here we will try to predict the score of music albums."
   ]
  },
  {
   "cell_type": "code",
   "execution_count": 10,
   "metadata": {},
   "outputs": [],
   "source": [
    "df.to_csv('Pitchfork.csv') "
   ]
  },
  {
   "cell_type": "code",
   "execution_count": 11,
   "metadata": {},
   "outputs": [
    {
     "data": {
      "text/plain": [
       "(24909, 11)"
      ]
     },
     "execution_count": 11,
     "metadata": {},
     "output_type": "execute_result"
    }
   ],
   "source": [
    "df.shape"
   ]
  },
  {
   "cell_type": "code",
   "execution_count": 12,
   "metadata": {},
   "outputs": [
    {
     "name": "stdout",
     "output_type": "stream",
     "text": [
      "<class 'pandas.core.frame.DataFrame'>\n",
      "RangeIndex: 24909 entries, 0 to 24908\n",
      "Data columns (total 11 columns):\n",
      "artist            24909 non-null object\n",
      "score             24909 non-null float64\n",
      "best_new_music    24909 non-null int64\n",
      "author            24909 non-null object\n",
      "author_type       19487 non-null object\n",
      "pub_weekday       24909 non-null int64\n",
      "pub_day           24909 non-null int64\n",
      "pub_month         24909 non-null int64\n",
      "pub_year          24909 non-null int64\n",
      "genre             22356 non-null object\n",
      "label             24869 non-null object\n",
      "dtypes: float64(1), int64(5), object(5)\n",
      "memory usage: 2.1+ MB\n"
     ]
    }
   ],
   "source": [
    "df.info()"
   ]
  },
  {
   "cell_type": "markdown",
   "metadata": {},
   "source": [
    "## Missing Values"
   ]
  },
  {
   "cell_type": "code",
   "execution_count": 13,
   "metadata": {},
   "outputs": [
    {
     "data": {
      "text/plain": [
       "artist             0.000000\n",
       "score              0.000000\n",
       "best_new_music     0.000000\n",
       "author             0.000000\n",
       "author_type       21.767233\n",
       "pub_weekday        0.000000\n",
       "pub_day            0.000000\n",
       "pub_month          0.000000\n",
       "pub_year           0.000000\n",
       "genre             10.249307\n",
       "label              0.160585\n",
       "dtype: float64"
      ]
     },
     "execution_count": 13,
     "metadata": {},
     "output_type": "execute_result"
    }
   ],
   "source": [
    "(df.isnull().sum()/df.shape[0])*100"
   ]
  },
  {
   "cell_type": "code",
   "execution_count": 14,
   "metadata": {},
   "outputs": [
    {
     "data": {
      "text/html": [
       "<div>\n",
       "<style scoped>\n",
       "    .dataframe tbody tr th:only-of-type {\n",
       "        vertical-align: middle;\n",
       "    }\n",
       "\n",
       "    .dataframe tbody tr th {\n",
       "        vertical-align: top;\n",
       "    }\n",
       "\n",
       "    .dataframe thead th {\n",
       "        text-align: right;\n",
       "    }\n",
       "</style>\n",
       "<table border=\"1\" class=\"dataframe\">\n",
       "  <thead>\n",
       "    <tr style=\"text-align: right;\">\n",
       "      <th>author_type</th>\n",
       "      <th>assistant editor</th>\n",
       "      <th>associate editor</th>\n",
       "      <th>associate features editor</th>\n",
       "      <th>associate reviews editor</th>\n",
       "      <th>associate staff writer</th>\n",
       "      <th>contributing editor</th>\n",
       "      <th>contributor</th>\n",
       "      <th>deputy news editor</th>\n",
       "      <th>editor-in-chief</th>\n",
       "      <th>executive editor</th>\n",
       "      <th>managing editor</th>\n",
       "      <th>news director</th>\n",
       "      <th>senior editor</th>\n",
       "      <th>senior staff writer</th>\n",
       "      <th>tracks coordinator</th>\n",
       "    </tr>\n",
       "    <tr>\n",
       "      <th>author</th>\n",
       "      <th></th>\n",
       "      <th></th>\n",
       "      <th></th>\n",
       "      <th></th>\n",
       "      <th></th>\n",
       "      <th></th>\n",
       "      <th></th>\n",
       "      <th></th>\n",
       "      <th></th>\n",
       "      <th></th>\n",
       "      <th></th>\n",
       "      <th></th>\n",
       "      <th></th>\n",
       "      <th></th>\n",
       "      <th></th>\n",
       "    </tr>\n",
       "  </thead>\n",
       "  <tbody>\n",
       "    <tr>\n",
       "      <th>aaron leitko</th>\n",
       "      <td>0</td>\n",
       "      <td>1</td>\n",
       "      <td>0</td>\n",
       "      <td>0</td>\n",
       "      <td>0</td>\n",
       "      <td>0</td>\n",
       "      <td>128</td>\n",
       "      <td>0</td>\n",
       "      <td>0</td>\n",
       "      <td>0</td>\n",
       "      <td>0</td>\n",
       "      <td>0</td>\n",
       "      <td>0</td>\n",
       "      <td>0</td>\n",
       "      <td>0</td>\n",
       "    </tr>\n",
       "    <tr>\n",
       "      <th>abby garnett</th>\n",
       "      <td>0</td>\n",
       "      <td>0</td>\n",
       "      <td>0</td>\n",
       "      <td>0</td>\n",
       "      <td>0</td>\n",
       "      <td>0</td>\n",
       "      <td>6</td>\n",
       "      <td>0</td>\n",
       "      <td>0</td>\n",
       "      <td>0</td>\n",
       "      <td>0</td>\n",
       "      <td>0</td>\n",
       "      <td>0</td>\n",
       "      <td>0</td>\n",
       "      <td>0</td>\n",
       "    </tr>\n",
       "    <tr>\n",
       "      <th>abigail covington</th>\n",
       "      <td>0</td>\n",
       "      <td>0</td>\n",
       "      <td>0</td>\n",
       "      <td>0</td>\n",
       "      <td>0</td>\n",
       "      <td>0</td>\n",
       "      <td>2</td>\n",
       "      <td>0</td>\n",
       "      <td>0</td>\n",
       "      <td>0</td>\n",
       "      <td>0</td>\n",
       "      <td>0</td>\n",
       "      <td>0</td>\n",
       "      <td>0</td>\n",
       "      <td>0</td>\n",
       "    </tr>\n",
       "    <tr>\n",
       "      <th>abigail garnett</th>\n",
       "      <td>0</td>\n",
       "      <td>0</td>\n",
       "      <td>0</td>\n",
       "      <td>0</td>\n",
       "      <td>0</td>\n",
       "      <td>0</td>\n",
       "      <td>4</td>\n",
       "      <td>0</td>\n",
       "      <td>0</td>\n",
       "      <td>0</td>\n",
       "      <td>0</td>\n",
       "      <td>0</td>\n",
       "      <td>0</td>\n",
       "      <td>0</td>\n",
       "      <td>0</td>\n",
       "    </tr>\n",
       "    <tr>\n",
       "      <th>adam moerder</th>\n",
       "      <td>0</td>\n",
       "      <td>0</td>\n",
       "      <td>0</td>\n",
       "      <td>0</td>\n",
       "      <td>0</td>\n",
       "      <td>0</td>\n",
       "      <td>1</td>\n",
       "      <td>0</td>\n",
       "      <td>0</td>\n",
       "      <td>0</td>\n",
       "      <td>0</td>\n",
       "      <td>0</td>\n",
       "      <td>0</td>\n",
       "      <td>0</td>\n",
       "      <td>0</td>\n",
       "    </tr>\n",
       "    <tr>\n",
       "      <th>...</th>\n",
       "      <td>...</td>\n",
       "      <td>...</td>\n",
       "      <td>...</td>\n",
       "      <td>...</td>\n",
       "      <td>...</td>\n",
       "      <td>...</td>\n",
       "      <td>...</td>\n",
       "      <td>...</td>\n",
       "      <td>...</td>\n",
       "      <td>...</td>\n",
       "      <td>...</td>\n",
       "      <td>...</td>\n",
       "      <td>...</td>\n",
       "      <td>...</td>\n",
       "      <td>...</td>\n",
       "    </tr>\n",
       "    <tr>\n",
       "      <th>vish khanna</th>\n",
       "      <td>0</td>\n",
       "      <td>0</td>\n",
       "      <td>0</td>\n",
       "      <td>0</td>\n",
       "      <td>0</td>\n",
       "      <td>0</td>\n",
       "      <td>2</td>\n",
       "      <td>0</td>\n",
       "      <td>0</td>\n",
       "      <td>0</td>\n",
       "      <td>0</td>\n",
       "      <td>0</td>\n",
       "      <td>0</td>\n",
       "      <td>0</td>\n",
       "      <td>0</td>\n",
       "    </tr>\n",
       "    <tr>\n",
       "      <th>william bowers</th>\n",
       "      <td>0</td>\n",
       "      <td>0</td>\n",
       "      <td>0</td>\n",
       "      <td>0</td>\n",
       "      <td>0</td>\n",
       "      <td>0</td>\n",
       "      <td>159</td>\n",
       "      <td>0</td>\n",
       "      <td>0</td>\n",
       "      <td>0</td>\n",
       "      <td>0</td>\n",
       "      <td>0</td>\n",
       "      <td>0</td>\n",
       "      <td>0</td>\n",
       "      <td>0</td>\n",
       "    </tr>\n",
       "    <tr>\n",
       "      <th>winston cook-wilson</th>\n",
       "      <td>0</td>\n",
       "      <td>0</td>\n",
       "      <td>0</td>\n",
       "      <td>0</td>\n",
       "      <td>0</td>\n",
       "      <td>0</td>\n",
       "      <td>54</td>\n",
       "      <td>0</td>\n",
       "      <td>0</td>\n",
       "      <td>0</td>\n",
       "      <td>0</td>\n",
       "      <td>0</td>\n",
       "      <td>0</td>\n",
       "      <td>0</td>\n",
       "      <td>0</td>\n",
       "    </tr>\n",
       "    <tr>\n",
       "      <th>zach kelly</th>\n",
       "      <td>0</td>\n",
       "      <td>0</td>\n",
       "      <td>0</td>\n",
       "      <td>0</td>\n",
       "      <td>0</td>\n",
       "      <td>0</td>\n",
       "      <td>205</td>\n",
       "      <td>0</td>\n",
       "      <td>0</td>\n",
       "      <td>0</td>\n",
       "      <td>0</td>\n",
       "      <td>0</td>\n",
       "      <td>0</td>\n",
       "      <td>0</td>\n",
       "      <td>0</td>\n",
       "    </tr>\n",
       "    <tr>\n",
       "      <th>zoe camp</th>\n",
       "      <td>0</td>\n",
       "      <td>0</td>\n",
       "      <td>0</td>\n",
       "      <td>0</td>\n",
       "      <td>0</td>\n",
       "      <td>0</td>\n",
       "      <td>89</td>\n",
       "      <td>0</td>\n",
       "      <td>0</td>\n",
       "      <td>0</td>\n",
       "      <td>0</td>\n",
       "      <td>0</td>\n",
       "      <td>0</td>\n",
       "      <td>0</td>\n",
       "      <td>0</td>\n",
       "    </tr>\n",
       "  </tbody>\n",
       "</table>\n",
       "<p>249 rows × 15 columns</p>\n",
       "</div>"
      ],
      "text/plain": [
       "author_type          assistant editor  associate editor  \\\n",
       "author                                                    \n",
       "aaron leitko                        0                 1   \n",
       "abby garnett                        0                 0   \n",
       "abigail covington                   0                 0   \n",
       "abigail garnett                     0                 0   \n",
       "adam moerder                        0                 0   \n",
       "...                               ...               ...   \n",
       "vish khanna                         0                 0   \n",
       "william bowers                      0                 0   \n",
       "winston cook-wilson                 0                 0   \n",
       "zach kelly                          0                 0   \n",
       "zoe camp                            0                 0   \n",
       "\n",
       "author_type          associate features editor  associate reviews editor  \\\n",
       "author                                                                     \n",
       "aaron leitko                                 0                         0   \n",
       "abby garnett                                 0                         0   \n",
       "abigail covington                            0                         0   \n",
       "abigail garnett                              0                         0   \n",
       "adam moerder                                 0                         0   \n",
       "...                                        ...                       ...   \n",
       "vish khanna                                  0                         0   \n",
       "william bowers                               0                         0   \n",
       "winston cook-wilson                          0                         0   \n",
       "zach kelly                                   0                         0   \n",
       "zoe camp                                     0                         0   \n",
       "\n",
       "author_type          associate staff writer  contributing editor  contributor  \\\n",
       "author                                                                          \n",
       "aaron leitko                              0                    0          128   \n",
       "abby garnett                              0                    0            6   \n",
       "abigail covington                         0                    0            2   \n",
       "abigail garnett                           0                    0            4   \n",
       "adam moerder                              0                    0            1   \n",
       "...                                     ...                  ...          ...   \n",
       "vish khanna                               0                    0            2   \n",
       "william bowers                            0                    0          159   \n",
       "winston cook-wilson                       0                    0           54   \n",
       "zach kelly                                0                    0          205   \n",
       "zoe camp                                  0                    0           89   \n",
       "\n",
       "author_type          deputy news editor  editor-in-chief  executive editor  \\\n",
       "author                                                                       \n",
       "aaron leitko                          0                0                 0   \n",
       "abby garnett                          0                0                 0   \n",
       "abigail covington                     0                0                 0   \n",
       "abigail garnett                       0                0                 0   \n",
       "adam moerder                          0                0                 0   \n",
       "...                                 ...              ...               ...   \n",
       "vish khanna                           0                0                 0   \n",
       "william bowers                        0                0                 0   \n",
       "winston cook-wilson                   0                0                 0   \n",
       "zach kelly                            0                0                 0   \n",
       "zoe camp                              0                0                 0   \n",
       "\n",
       "author_type          managing editor  news director  senior editor  \\\n",
       "author                                                               \n",
       "aaron leitko                       0              0              0   \n",
       "abby garnett                       0              0              0   \n",
       "abigail covington                  0              0              0   \n",
       "abigail garnett                    0              0              0   \n",
       "adam moerder                       0              0              0   \n",
       "...                              ...            ...            ...   \n",
       "vish khanna                        0              0              0   \n",
       "william bowers                     0              0              0   \n",
       "winston cook-wilson                0              0              0   \n",
       "zach kelly                         0              0              0   \n",
       "zoe camp                           0              0              0   \n",
       "\n",
       "author_type          senior staff writer  tracks coordinator  \n",
       "author                                                        \n",
       "aaron leitko                           0                   0  \n",
       "abby garnett                           0                   0  \n",
       "abigail covington                      0                   0  \n",
       "abigail garnett                        0                   0  \n",
       "adam moerder                           0                   0  \n",
       "...                                  ...                 ...  \n",
       "vish khanna                            0                   0  \n",
       "william bowers                         0                   0  \n",
       "winston cook-wilson                    0                   0  \n",
       "zach kelly                             0                   0  \n",
       "zoe camp                               0                   0  \n",
       "\n",
       "[249 rows x 15 columns]"
      ]
     },
     "execution_count": 14,
     "metadata": {},
     "output_type": "execute_result"
    }
   ],
   "source": [
    "pd.crosstab(df['author'],df['author_type'])"
   ]
  },
  {
   "cell_type": "code",
   "execution_count": 15,
   "metadata": {},
   "outputs": [],
   "source": [
    "df['author_type']=df['author_type'].fillna(df['author_type'].mode()[0])"
   ]
  },
  {
   "cell_type": "code",
   "execution_count": 16,
   "metadata": {},
   "outputs": [],
   "source": [
    "df.dropna(inplace=True)"
   ]
  },
  {
   "cell_type": "code",
   "execution_count": 17,
   "metadata": {},
   "outputs": [
    {
     "name": "stdout",
     "output_type": "stream",
     "text": [
      "Size of dataframe after dropping null values: (22317, 11)\n"
     ]
    }
   ],
   "source": [
    "print('Size of dataframe after dropping null values:',df.shape)"
   ]
  },
  {
   "cell_type": "markdown",
   "metadata": {},
   "source": [
    "## Exploratory Data Analysis"
   ]
  },
  {
   "cell_type": "code",
   "execution_count": 18,
   "metadata": {},
   "outputs": [
    {
     "data": {
      "text/plain": [
<<<<<<< Updated upstream
       "<matplotlib.axes._subplots.AxesSubplot at 0x275dd8d6948>"
=======
       "<matplotlib.axes._subplots.AxesSubplot at 0x1a7713c91c8>"
>>>>>>> Stashed changes
      ]
     },
     "execution_count": 18,
     "metadata": {},
     "output_type": "execute_result"
    },
    {
     "data": {
      "image/png": "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\n",
      "text/plain": [
       "<Figure size 432x288 with 1 Axes>"
      ]
     },
     "metadata": {
      "needs_background": "light"
     },
     "output_type": "display_data"
    }
   ],
   "source": [
    "sns.boxplot(df['score'])"
   ]
  },
  {
   "cell_type": "markdown",
   "metadata": {},
   "source": [
    "The score is highly right skewed. The mean score is around 7. There are albums which got very low scores and very high scores"
   ]
  },
  {
   "cell_type": "code",
   "execution_count": 19,
   "metadata": {},
   "outputs": [
    {
     "name": "stdout",
     "output_type": "stream",
     "text": [
      "<class 'pandas.core.frame.DataFrame'>\n",
      "Int64Index: 22317 entries, 0 to 24907\n",
      "Data columns (total 11 columns):\n",
      "artist            22317 non-null object\n",
      "score             22317 non-null float64\n",
      "best_new_music    22317 non-null int64\n",
      "author            22317 non-null object\n",
      "author_type       22317 non-null object\n",
      "pub_weekday       22317 non-null int64\n",
      "pub_day           22317 non-null int64\n",
      "pub_month         22317 non-null int64\n",
      "pub_year          22317 non-null int64\n",
      "genre             22317 non-null object\n",
      "label             22317 non-null object\n",
      "dtypes: float64(1), int64(5), object(5)\n",
      "memory usage: 2.0+ MB\n"
     ]
    }
   ],
   "source": [
    "df.info()"
   ]
  },
  {
   "cell_type": "markdown",
   "metadata": {},
   "source": [
    "## EDA Observations"
   ]
  },
  {
   "cell_type": "markdown",
   "metadata": {},
   "source": [
    "1. Rock music videos are very high in number\n",
    "2. Author Type is mainly contributer, other values are less\n",
    "3. Since rock music videos are highest in number, best music videos are higher in rock genre\n",
    "4. But average score of each genre is not much different. So we need to find the significance of that variable\n",
    "5. When coming to author type, ass.reviews editor is having higher reviews compared to other types\n",
    "6. There are artists who got a score 10 and score 0.1\n",
    "7. In authors also, 2 authors (nelson george & maura johnson) got 10 score\n",
    "8. Even though the authors got 10 score, their albums are not selected as best music\n",
    "9. Day,Month and Year is not having any influence in score\n",
    "10. But in weekday score analysis, weekday 5(friday) published videos are having more score\n",
    "11. Avg score of best music albums is 8.5 and other one is 7\n",
    "12. Even though friday has more ratings compared to others, the artists who got 10 didn't release the their albums on friday\n",
    "13. The artists who got less than 3 score are releasing albums in week days\n",
    "14. Pop and Global Genre albums released on friday are having higher score"
   ]
  },
  {
   "cell_type": "code",
   "execution_count": 19,
   "metadata": {},
   "outputs": [
    {
     "data": {
      "text/plain": [
       "0    21026\n",
       "1     1291\n",
       "Name: best_new_music, dtype: int64"
      ]
     },
     "execution_count": 19,
     "metadata": {},
     "output_type": "execute_result"
    }
   ],
   "source": [
    "df['best_new_music'].value_counts()"
   ]
  },
  {
   "cell_type": "markdown",
   "metadata": {},
   "source": [
    "## Encoding"
   ]
  },
  {
   "cell_type": "code",
   "execution_count": 20,
   "metadata": {},
   "outputs": [
    {
     "data": {
      "text/plain": [
       "['artist', 'author', 'author_type', 'genre', 'label']"
      ]
     },
     "execution_count": 20,
     "metadata": {},
     "output_type": "execute_result"
    }
   ],
   "source": [
    "cat_cols=list(df.select_dtypes(include=['object']).columns)\n",
    "cat_cols"
   ]
  },
  {
   "cell_type": "code",
   "execution_count": 21,
   "metadata": {},
   "outputs": [],
   "source": [
    "cols=['author_type','genre']\n",
    "df=pd.get_dummies(df,columns=cols,drop_first=True)"
   ]
  },
  {
   "cell_type": "code",
   "execution_count": 22,
   "metadata": {},
   "outputs": [],
   "source": [
    "from sklearn.preprocessing import LabelEncoder\n",
    "le=LabelEncoder()\n",
    "df['artist']=le.fit_transform(df['artist'])\n",
    "df['author']=le.fit_transform(df['author'])\n",
    "df['label']=le.fit_transform(df['label'])"
   ]
  },
  {
   "cell_type": "code",
   "execution_count": 23,
   "metadata": {},
   "outputs": [
    {
     "name": "stdout",
     "output_type": "stream",
     "text": [
      "<class 'pandas.core.frame.DataFrame'>\n",
      "Int64Index: 22317 entries, 0 to 24907\n",
      "Data columns (total 31 columns):\n",
      "artist                                   22317 non-null int32\n",
      "score                                    22317 non-null float64\n",
      "best_new_music                           22317 non-null int64\n",
      "author                                   22317 non-null int32\n",
      "pub_weekday                              22317 non-null int64\n",
      "pub_day                                  22317 non-null int64\n",
      "pub_month                                22317 non-null int64\n",
      "pub_year                                 22317 non-null int64\n",
      "label                                    22317 non-null int32\n",
      "author_type_associate editor             22317 non-null uint8\n",
      "author_type_associate features editor    22317 non-null uint8\n",
      "author_type_associate reviews editor     22317 non-null uint8\n",
      "author_type_associate staff writer       22317 non-null uint8\n",
      "author_type_contributing editor          22317 non-null uint8\n",
      "author_type_contributor                  22317 non-null uint8\n",
      "author_type_deputy news editor           22317 non-null uint8\n",
      "author_type_editor-in-chief              22317 non-null uint8\n",
      "author_type_executive editor             22317 non-null uint8\n",
      "author_type_managing editor              22317 non-null uint8\n",
      "author_type_news director                22317 non-null uint8\n",
      "author_type_senior editor                22317 non-null uint8\n",
      "author_type_senior staff writer          22317 non-null uint8\n",
      "author_type_tracks coordinator           22317 non-null uint8\n",
      "genre_experimental                       22317 non-null uint8\n",
      "genre_folk/country                       22317 non-null uint8\n",
      "genre_global                             22317 non-null uint8\n",
      "genre_jazz                               22317 non-null uint8\n",
      "genre_metal                              22317 non-null uint8\n",
      "genre_pop/r&b                            22317 non-null uint8\n",
      "genre_rap                                22317 non-null uint8\n",
      "genre_rock                               22317 non-null uint8\n",
      "dtypes: float64(1), int32(3), int64(5), uint8(22)\n",
      "memory usage: 1.9 MB\n"
     ]
    }
   ],
   "source": [
    "df.info()"
   ]
  },
  {
   "cell_type": "markdown",
   "metadata": {},
   "source": [
    "## Base Model"
   ]
  },
  {
   "cell_type": "code",
   "execution_count": 24,
   "metadata": {},
   "outputs": [],
   "source": [
    "y=df['score']\n",
    "X=df.drop('score',axis=1)"
   ]
  },
  {
   "cell_type": "code",
   "execution_count": 25,
   "metadata": {},
   "outputs": [
    {
     "name": "stderr",
     "output_type": "stream",
     "text": [
      "C:\\Users\\Prinu Elsa Roy\\Anaconda3\\lib\\site-packages\\numpy\\core\\fromnumeric.py:2495: FutureWarning: Method .ptp is deprecated and will be removed in a future version. Use numpy.ptp instead.\n",
      "  return ptp(axis=axis, out=out, **kwargs)\n"
     ]
    }
   ],
   "source": [
    "import statsmodels.api as sm\n",
    "Xc=sm.add_constant(X)"
   ]
  },
  {
   "cell_type": "code",
   "execution_count": 26,
   "metadata": {},
   "outputs": [],
   "source": [
    "from sklearn.model_selection import train_test_split\n",
    "X_train, X_test, y_train, y_test = train_test_split(Xc, y, test_size=0.30, random_state=42)"
   ]
  },
  {
   "cell_type": "code",
   "execution_count": 27,
   "metadata": {},
   "outputs": [
    {
     "name": "stdout",
     "output_type": "stream",
     "text": [
      "                            OLS Regression Results                            \n",
      "==============================================================================\n",
      "Dep. Variable:                  score   R-squared:                       0.121\n",
      "Model:                            OLS   Adj. R-squared:                  0.119\n",
      "Method:                 Least Squares   F-statistic:                     71.29\n",
      "Date:                Fri, 07 Feb 2020   Prob (F-statistic):               0.00\n",
      "Time:                        14:21:45   Log-Likelihood:                -25676.\n",
      "No. Observations:               15621   AIC:                         5.141e+04\n",
      "Df Residuals:                   15590   BIC:                         5.165e+04\n",
      "Df Model:                          30                                         \n",
      "Covariance Type:            nonrobust                                         \n",
      "=========================================================================================================\n",
      "                                            coef    std err          t      P>|t|      [0.025      0.975]\n",
      "---------------------------------------------------------------------------------------------------------\n",
      "const                                     1.9759      4.679      0.422      0.673      -7.195      11.147\n",
      "artist                                -4.317e-06   4.73e-06     -0.914      0.361   -1.36e-05    4.95e-06\n",
      "best_new_music                            1.7952      0.044     40.895      0.000       1.709       1.881\n",
      "author                                -8.751e-05   8.67e-05     -1.010      0.313      -0.000    8.24e-05\n",
      "pub_weekday                               0.0088      0.006      1.445      0.148      -0.003       0.021\n",
      "pub_day                                   0.0003      0.001      0.249      0.803      -0.002       0.003\n",
      "pub_month                                 0.0123      0.003      4.001      0.000       0.006       0.018\n",
      "pub_year                                  0.0027      0.002      1.151      0.250      -0.002       0.007\n",
      "label                                  2.528e-05   1.07e-05      2.360      0.018    4.29e-06    4.63e-05\n",
      "author_type_associate editor             -0.6348      0.399     -1.592      0.111      -1.416       0.147\n",
      "author_type_associate features editor    -1.2606      0.483     -2.610      0.009      -2.207      -0.314\n",
      "author_type_associate reviews editor     -0.1949      0.405     -0.482      0.630      -0.988       0.598\n",
      "author_type_associate staff writer       -0.6698      0.365     -1.838      0.066      -1.384       0.045\n",
      "author_type_contributing editor          -0.0642      0.349     -0.184      0.854      -0.748       0.620\n",
      "author_type_contributor                  -0.6511      0.336     -1.938      0.053      -1.310       0.007\n",
      "author_type_deputy news editor           -0.6430      0.368     -1.748      0.081      -1.364       0.078\n",
      "author_type_editor-in-chief              -0.5235      0.364     -1.438      0.150      -1.237       0.190\n",
      "author_type_executive editor             -0.3548      0.342     -1.039      0.299      -1.024       0.315\n",
      "author_type_managing editor              -0.9245      0.798     -1.159      0.246      -2.488       0.639\n",
      "author_type_news director                -0.1662      0.949     -0.175      0.861      -2.026       1.693\n",
      "author_type_senior editor                -0.7517      0.341     -2.204      0.028      -1.420      -0.083\n",
      "author_type_senior staff writer          -0.9910      0.341     -2.904      0.004      -1.660      -0.322\n",
      "author_type_tracks coordinator           -0.9536      0.399     -2.393      0.017      -1.735      -0.172\n",
      "genre_experimental                        0.3711      0.041      9.072      0.000       0.291       0.451\n",
      "genre_folk/country                        0.3682      0.062      5.956      0.000       0.247       0.489\n",
      "genre_global                              0.5377      0.096      5.594      0.000       0.349       0.726\n",
      "genre_jazz                                0.3739      0.072      5.216      0.000       0.233       0.514\n",
      "genre_metal                               0.1064      0.055      1.930      0.054      -0.002       0.214\n",
      "genre_pop/r&b                            -0.0471      0.044     -1.062      0.288      -0.134       0.040\n",
      "genre_rap                                -0.0178      0.043     -0.415      0.678      -0.102       0.066\n",
      "genre_rock                                0.0515      0.028      1.848      0.065      -0.003       0.106\n",
      "==============================================================================\n",
      "Omnibus:                     3815.480   Durbin-Watson:                   2.005\n",
      "Prob(Omnibus):                  0.000   Jarque-Bera (JB):            10133.010\n",
      "Skew:                          -1.313   Prob(JB):                         0.00\n",
      "Kurtosis:                       5.945   Cond. No.                     2.27e+06\n",
      "==============================================================================\n",
      "\n",
      "Warnings:\n",
      "[1] Standard Errors assume that the covariance matrix of the errors is correctly specified.\n",
      "[2] The condition number is large, 2.27e+06. This might indicate that there are\n",
      "strong multicollinearity or other numerical problems.\n"
     ]
    }
   ],
   "source": [
    "lin_reg=sm.OLS(y_train,X_train)\n",
    "result=lin_reg.fit()\n",
    "print(result.summary())"
   ]
  },
  {
   "cell_type": "code",
   "execution_count": 28,
   "metadata": {},
   "outputs": [
    {
     "data": {
      "text/plain": [
       "<matplotlib.axes._subplots.AxesSubplot at 0x275dc83b948>"
      ]
     },
     "execution_count": 28,
     "metadata": {},
     "output_type": "execute_result"
    },
    {
     "data": {
      "image/png": "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\n",
      "text/plain": [
       "<Figure size 432x288 with 1 Axes>"
      ]
     },
     "metadata": {
      "needs_background": "light"
     },
     "output_type": "display_data"
    }
   ],
   "source": [
    "sns.distplot(result.resid)"
   ]
  },
  {
   "cell_type": "markdown",
   "metadata": {},
   "source": [
    "## Improved Model"
   ]
  },
  {
   "cell_type": "code",
   "execution_count": 29,
   "metadata": {},
   "outputs": [
    {
     "data": {
      "text/plain": [
       "<matplotlib.axes._subplots.AxesSubplot at 0x275dc87fa48>"
      ]
     },
     "execution_count": 29,
     "metadata": {},
     "output_type": "execute_result"
    },
    {
     "data": {
      "image/png": "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\n",
      "text/plain": [
       "<Figure size 432x288 with 1 Axes>"
      ]
     },
     "metadata": {
      "needs_background": "light"
     },
     "output_type": "display_data"
    }
   ],
   "source": [
    "sns.distplot(df['score'])"
   ]
  },
  {
   "cell_type": "code",
   "execution_count": 30,
   "metadata": {},
   "outputs": [],
   "source": [
    "q1=df['score'].quantile(0.25)\n",
    "q3=df['score'].quantile(0.75)\n",
    "iqr=q3-q1\n",
    "high=q3+(1.5*iqr)\n",
    "df.drop(df[df['score']>high].index,inplace=True)\n",
    "low=q1-(1.5*iqr)\n",
    "df.drop(df[df['score']<low].index,inplace=True)"
   ]
  },
  {
   "cell_type": "code",
   "execution_count": 31,
   "metadata": {},
   "outputs": [
    {
     "data": {
      "text/plain": [
       "<matplotlib.axes._subplots.AxesSubplot at 0x275dbe10cc8>"
      ]
     },
     "execution_count": 31,
     "metadata": {},
     "output_type": "execute_result"
    },
    {
     "data": {
      "image/png": "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\n",
      "text/plain": [
       "<Figure size 432x288 with 1 Axes>"
      ]
     },
     "metadata": {
      "needs_background": "light"
     },
     "output_type": "display_data"
    }
   ],
   "source": [
    "sns.distplot(df['score'])"
   ]
  },
  {
   "cell_type": "code",
   "execution_count": 32,
   "metadata": {},
   "outputs": [],
   "source": [
    "y=df['score']\n",
    "X=df.drop('score',axis=1)"
   ]
  },
  {
   "cell_type": "code",
   "execution_count": 33,
   "metadata": {},
   "outputs": [],
   "source": [
    "Xc=sm.add_constant(X)"
   ]
  },
  {
   "cell_type": "code",
   "execution_count": 34,
   "metadata": {},
   "outputs": [
    {
     "data": {
      "text/html": [
       "<table class=\"simpletable\">\n",
       "<caption>OLS Regression Results</caption>\n",
       "<tr>\n",
       "  <th>Dep. Variable:</th>          <td>score</td>      <th>  R-squared:         </th> <td>   0.156</td> \n",
       "</tr>\n",
       "<tr>\n",
       "  <th>Model:</th>                   <td>OLS</td>       <th>  Adj. R-squared:    </th> <td>   0.155</td> \n",
       "</tr>\n",
       "<tr>\n",
       "  <th>Method:</th>             <td>Least Squares</td>  <th>  F-statistic:       </th> <td>   130.6</td> \n",
       "</tr>\n",
       "<tr>\n",
       "  <th>Date:</th>             <td>Fri, 07 Feb 2020</td> <th>  Prob (F-statistic):</th>  <td>  0.00</td>  \n",
       "</tr>\n",
       "<tr>\n",
       "  <th>Time:</th>                 <td>14:21:46</td>     <th>  Log-Likelihood:    </th> <td> -28563.</td> \n",
       "</tr>\n",
       "<tr>\n",
       "  <th>No. Observations:</th>      <td> 21150</td>      <th>  AIC:               </th> <td>5.719e+04</td>\n",
       "</tr>\n",
       "<tr>\n",
       "  <th>Df Residuals:</th>          <td> 21119</td>      <th>  BIC:               </th> <td>5.744e+04</td>\n",
       "</tr>\n",
       "<tr>\n",
       "  <th>Df Model:</th>              <td>    30</td>      <th>                     </th>     <td> </td>    \n",
       "</tr>\n",
       "<tr>\n",
       "  <th>Covariance Type:</th>      <td>nonrobust</td>    <th>                     </th>     <td> </td>    \n",
       "</tr>\n",
       "</table>\n",
       "<table class=\"simpletable\">\n",
       "<tr>\n",
       "                    <td></td>                       <th>coef</th>     <th>std err</th>      <th>t</th>      <th>P>|t|</th>  <th>[0.025</th>    <th>0.975]</th>  \n",
       "</tr>\n",
       "<tr>\n",
       "  <th>const</th>                                 <td>   46.4209</td> <td>    3.011</td> <td>   15.419</td> <td> 0.000</td> <td>   40.520</td> <td>   52.322</td>\n",
       "</tr>\n",
       "<tr>\n",
       "  <th>artist</th>                                <td>-1.257e-06</td> <td> 3.04e-06</td> <td>   -0.414</td> <td> 0.679</td> <td>-7.21e-06</td> <td>  4.7e-06</td>\n",
       "</tr>\n",
       "<tr>\n",
       "  <th>best_new_music</th>                        <td>    1.5891</td> <td>    0.028</td> <td>   57.224</td> <td> 0.000</td> <td>    1.535</td> <td>    1.644</td>\n",
       "</tr>\n",
       "<tr>\n",
       "  <th>author</th>                                <td>-8.541e-05</td> <td> 5.55e-05</td> <td>   -1.539</td> <td> 0.124</td> <td>   -0.000</td> <td> 2.34e-05</td>\n",
       "</tr>\n",
       "<tr>\n",
       "  <th>pub_weekday</th>                           <td>    0.0114</td> <td>    0.004</td> <td>    2.893</td> <td> 0.004</td> <td>    0.004</td> <td>    0.019</td>\n",
       "</tr>\n",
       "<tr>\n",
       "  <th>pub_day</th>                               <td>    0.0003</td> <td>    0.001</td> <td>    0.469</td> <td> 0.639</td> <td>   -0.001</td> <td>    0.002</td>\n",
       "</tr>\n",
       "<tr>\n",
       "  <th>pub_month</th>                             <td>    0.0042</td> <td>    0.002</td> <td>    2.135</td> <td> 0.033</td> <td>    0.000</td> <td>    0.008</td>\n",
       "</tr>\n",
       "<tr>\n",
       "  <th>pub_year</th>                              <td>   -0.0194</td> <td>    0.001</td> <td>  -13.031</td> <td> 0.000</td> <td>   -0.022</td> <td>   -0.016</td>\n",
       "</tr>\n",
       "<tr>\n",
       "  <th>label</th>                                 <td> 1.236e-05</td> <td> 6.88e-06</td> <td>    1.798</td> <td> 0.072</td> <td>-1.11e-06</td> <td> 2.58e-05</td>\n",
       "</tr>\n",
       "<tr>\n",
       "  <th>author_type_associate editor</th>          <td>   -0.6705</td> <td>    0.252</td> <td>   -2.664</td> <td> 0.008</td> <td>   -1.164</td> <td>   -0.177</td>\n",
       "</tr>\n",
       "<tr>\n",
       "  <th>author_type_associate features editor</th> <td>   -0.6537</td> <td>    0.329</td> <td>   -1.985</td> <td> 0.047</td> <td>   -1.299</td> <td>   -0.008</td>\n",
       "</tr>\n",
       "<tr>\n",
       "  <th>author_type_associate reviews editor</th>  <td>    0.0558</td> <td>    0.253</td> <td>    0.221</td> <td> 0.825</td> <td>   -0.440</td> <td>    0.552</td>\n",
       "</tr>\n",
       "<tr>\n",
       "  <th>author_type_associate staff writer</th>    <td>   -0.4872</td> <td>    0.232</td> <td>   -2.099</td> <td> 0.036</td> <td>   -0.942</td> <td>   -0.032</td>\n",
       "</tr>\n",
       "<tr>\n",
       "  <th>author_type_contributing editor</th>       <td>    0.0167</td> <td>    0.224</td> <td>    0.075</td> <td> 0.941</td> <td>   -0.422</td> <td>    0.455</td>\n",
       "</tr>\n",
       "<tr>\n",
       "  <th>author_type_contributor</th>               <td>   -0.4956</td> <td>    0.215</td> <td>   -2.305</td> <td> 0.021</td> <td>   -0.917</td> <td>   -0.074</td>\n",
       "</tr>\n",
       "<tr>\n",
       "  <th>author_type_deputy news editor</th>        <td>   -0.5792</td> <td>    0.234</td> <td>   -2.471</td> <td> 0.013</td> <td>   -1.039</td> <td>   -0.120</td>\n",
       "</tr>\n",
       "<tr>\n",
       "  <th>author_type_editor-in-chief</th>           <td>   -0.4670</td> <td>    0.232</td> <td>   -2.010</td> <td> 0.044</td> <td>   -0.922</td> <td>   -0.012</td>\n",
       "</tr>\n",
       "<tr>\n",
       "  <th>author_type_executive editor</th>          <td>   -0.2989</td> <td>    0.219</td> <td>   -1.368</td> <td> 0.171</td> <td>   -0.727</td> <td>    0.129</td>\n",
       "</tr>\n",
       "<tr>\n",
       "  <th>author_type_managing editor</th>           <td>   -0.7403</td> <td>    0.581</td> <td>   -1.275</td> <td> 0.202</td> <td>   -1.879</td> <td>    0.398</td>\n",
       "</tr>\n",
       "<tr>\n",
       "  <th>author_type_news director</th>             <td>   -0.0058</td> <td>    0.581</td> <td>   -0.010</td> <td> 0.992</td> <td>   -1.145</td> <td>    1.134</td>\n",
       "</tr>\n",
       "<tr>\n",
       "  <th>author_type_senior editor</th>             <td>   -0.4963</td> <td>    0.218</td> <td>   -2.273</td> <td> 0.023</td> <td>   -0.924</td> <td>   -0.068</td>\n",
       "</tr>\n",
       "<tr>\n",
       "  <th>author_type_senior staff writer</th>       <td>   -0.7059</td> <td>    0.219</td> <td>   -3.228</td> <td> 0.001</td> <td>   -1.134</td> <td>   -0.277</td>\n",
       "</tr>\n",
       "<tr>\n",
       "  <th>author_type_tracks coordinator</th>        <td>   -0.4843</td> <td>    0.254</td> <td>   -1.909</td> <td> 0.056</td> <td>   -0.981</td> <td>    0.013</td>\n",
       "</tr>\n",
       "<tr>\n",
       "  <th>genre_experimental</th>                    <td>    0.2728</td> <td>    0.026</td> <td>   10.434</td> <td> 0.000</td> <td>    0.222</td> <td>    0.324</td>\n",
       "</tr>\n",
       "<tr>\n",
       "  <th>genre_folk/country</th>                    <td>    0.2317</td> <td>    0.038</td> <td>    6.075</td> <td> 0.000</td> <td>    0.157</td> <td>    0.306</td>\n",
       "</tr>\n",
       "<tr>\n",
       "  <th>genre_global</th>                          <td>    0.3552</td> <td>    0.062</td> <td>    5.736</td> <td> 0.000</td> <td>    0.234</td> <td>    0.477</td>\n",
       "</tr>\n",
       "<tr>\n",
       "  <th>genre_jazz</th>                            <td>    0.3449</td> <td>    0.047</td> <td>    7.390</td> <td> 0.000</td> <td>    0.253</td> <td>    0.436</td>\n",
       "</tr>\n",
       "<tr>\n",
       "  <th>genre_metal</th>                           <td>    0.1744</td> <td>    0.035</td> <td>    4.919</td> <td> 0.000</td> <td>    0.105</td> <td>    0.244</td>\n",
       "</tr>\n",
       "<tr>\n",
       "  <th>genre_pop/r&b</th>                         <td>   -0.0370</td> <td>    0.028</td> <td>   -1.308</td> <td> 0.191</td> <td>   -0.092</td> <td>    0.018</td>\n",
       "</tr>\n",
       "<tr>\n",
       "  <th>genre_rap</th>                             <td>    0.0157</td> <td>    0.028</td> <td>    0.566</td> <td> 0.571</td> <td>   -0.039</td> <td>    0.070</td>\n",
       "</tr>\n",
       "<tr>\n",
       "  <th>genre_rock</th>                            <td>    0.0340</td> <td>    0.018</td> <td>    1.904</td> <td> 0.057</td> <td>   -0.001</td> <td>    0.069</td>\n",
       "</tr>\n",
       "</table>\n",
       "<table class=\"simpletable\">\n",
       "<tr>\n",
       "  <th>Omnibus:</th>       <td>929.498</td> <th>  Durbin-Watson:     </th> <td>   1.448</td> \n",
       "</tr>\n",
       "<tr>\n",
       "  <th>Prob(Omnibus):</th> <td> 0.000</td>  <th>  Jarque-Bera (JB):  </th> <td>1055.264</td> \n",
       "</tr>\n",
       "<tr>\n",
       "  <th>Skew:</th>          <td>-0.542</td>  <th>  Prob(JB):          </th> <td>7.12e-230</td>\n",
       "</tr>\n",
       "<tr>\n",
       "  <th>Kurtosis:</th>      <td> 3.146</td>  <th>  Cond. No.          </th> <td>2.28e+06</td> \n",
       "</tr>\n",
       "</table><br/><br/>Warnings:<br/>[1] Standard Errors assume that the covariance matrix of the errors is correctly specified.<br/>[2] The condition number is large, 2.28e+06. This might indicate that there are<br/>strong multicollinearity or other numerical problems."
      ],
      "text/plain": [
       "<class 'statsmodels.iolib.summary.Summary'>\n",
       "\"\"\"\n",
       "                            OLS Regression Results                            \n",
       "==============================================================================\n",
       "Dep. Variable:                  score   R-squared:                       0.156\n",
       "Model:                            OLS   Adj. R-squared:                  0.155\n",
       "Method:                 Least Squares   F-statistic:                     130.6\n",
       "Date:                Fri, 07 Feb 2020   Prob (F-statistic):               0.00\n",
       "Time:                        14:21:46   Log-Likelihood:                -28563.\n",
       "No. Observations:               21150   AIC:                         5.719e+04\n",
       "Df Residuals:                   21119   BIC:                         5.744e+04\n",
       "Df Model:                          30                                         \n",
       "Covariance Type:            nonrobust                                         \n",
       "=========================================================================================================\n",
       "                                            coef    std err          t      P>|t|      [0.025      0.975]\n",
       "---------------------------------------------------------------------------------------------------------\n",
       "const                                    46.4209      3.011     15.419      0.000      40.520      52.322\n",
       "artist                                -1.257e-06   3.04e-06     -0.414      0.679   -7.21e-06     4.7e-06\n",
       "best_new_music                            1.5891      0.028     57.224      0.000       1.535       1.644\n",
       "author                                -8.541e-05   5.55e-05     -1.539      0.124      -0.000    2.34e-05\n",
       "pub_weekday                               0.0114      0.004      2.893      0.004       0.004       0.019\n",
       "pub_day                                   0.0003      0.001      0.469      0.639      -0.001       0.002\n",
       "pub_month                                 0.0042      0.002      2.135      0.033       0.000       0.008\n",
       "pub_year                                 -0.0194      0.001    -13.031      0.000      -0.022      -0.016\n",
       "label                                  1.236e-05   6.88e-06      1.798      0.072   -1.11e-06    2.58e-05\n",
       "author_type_associate editor             -0.6705      0.252     -2.664      0.008      -1.164      -0.177\n",
       "author_type_associate features editor    -0.6537      0.329     -1.985      0.047      -1.299      -0.008\n",
       "author_type_associate reviews editor      0.0558      0.253      0.221      0.825      -0.440       0.552\n",
       "author_type_associate staff writer       -0.4872      0.232     -2.099      0.036      -0.942      -0.032\n",
       "author_type_contributing editor           0.0167      0.224      0.075      0.941      -0.422       0.455\n",
       "author_type_contributor                  -0.4956      0.215     -2.305      0.021      -0.917      -0.074\n",
       "author_type_deputy news editor           -0.5792      0.234     -2.471      0.013      -1.039      -0.120\n",
       "author_type_editor-in-chief              -0.4670      0.232     -2.010      0.044      -0.922      -0.012\n",
       "author_type_executive editor             -0.2989      0.219     -1.368      0.171      -0.727       0.129\n",
       "author_type_managing editor              -0.7403      0.581     -1.275      0.202      -1.879       0.398\n",
       "author_type_news director                -0.0058      0.581     -0.010      0.992      -1.145       1.134\n",
       "author_type_senior editor                -0.4963      0.218     -2.273      0.023      -0.924      -0.068\n",
       "author_type_senior staff writer          -0.7059      0.219     -3.228      0.001      -1.134      -0.277\n",
       "author_type_tracks coordinator           -0.4843      0.254     -1.909      0.056      -0.981       0.013\n",
       "genre_experimental                        0.2728      0.026     10.434      0.000       0.222       0.324\n",
       "genre_folk/country                        0.2317      0.038      6.075      0.000       0.157       0.306\n",
       "genre_global                              0.3552      0.062      5.736      0.000       0.234       0.477\n",
       "genre_jazz                                0.3449      0.047      7.390      0.000       0.253       0.436\n",
       "genre_metal                               0.1744      0.035      4.919      0.000       0.105       0.244\n",
       "genre_pop/r&b                            -0.0370      0.028     -1.308      0.191      -0.092       0.018\n",
       "genre_rap                                 0.0157      0.028      0.566      0.571      -0.039       0.070\n",
       "genre_rock                                0.0340      0.018      1.904      0.057      -0.001       0.069\n",
       "==============================================================================\n",
       "Omnibus:                      929.498   Durbin-Watson:                   1.448\n",
       "Prob(Omnibus):                  0.000   Jarque-Bera (JB):             1055.264\n",
       "Skew:                          -0.542   Prob(JB):                    7.12e-230\n",
       "Kurtosis:                       3.146   Cond. No.                     2.28e+06\n",
       "==============================================================================\n",
       "\n",
       "Warnings:\n",
       "[1] Standard Errors assume that the covariance matrix of the errors is correctly specified.\n",
       "[2] The condition number is large, 2.28e+06. This might indicate that there are\n",
       "strong multicollinearity or other numerical problems.\n",
       "\"\"\""
      ]
     },
     "execution_count": 34,
     "metadata": {},
     "output_type": "execute_result"
    }
   ],
   "source": [
    "lin_reg=sm.OLS(y,Xc)\n",
    "result=lin_reg.fit()\n",
    "result.summary()"
   ]
  },
  {
   "cell_type": "code",
   "execution_count": 35,
   "metadata": {},
   "outputs": [
    {
     "data": {
      "text/plain": [
       "<matplotlib.axes._subplots.AxesSubplot at 0x275df2263c8>"
      ]
     },
     "execution_count": 35,
     "metadata": {},
     "output_type": "execute_result"
    },
    {
     "data": {
      "image/png": "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\n",
      "text/plain": [
       "<Figure size 432x288 with 1 Axes>"
      ]
     },
     "metadata": {
      "needs_background": "light"
     },
     "output_type": "display_data"
    }
   ],
   "source": [
    "sns.distplot(result.resid)"
   ]
  },
  {
   "cell_type": "code",
   "execution_count": 42,
   "metadata": {},
   "outputs": [
    {
     "name": "stdout",
     "output_type": "stream",
     "text": [
      "['best_new_music', 'pub_weekday', 'pub_month', 'pub_year', 'author_type_associate editor', 'author_type_associate features editor', 'author_type_associate staff writer', 'author_type_contributor', 'author_type_deputy news editor', 'author_type_editor-in-chief', 'author_type_executive editor', 'author_type_senior editor', 'author_type_senior staff writer', 'author_type_tracks coordinator', 'genre_experimental', 'genre_folk/country', 'genre_global', 'genre_jazz', 'genre_metal', 'genre_rock']\n"
     ]
    }
   ],
   "source": [
    "# Backward Elimination\n",
    "cols=list(X.columns)\n",
    "pmax=1\n",
    "while len(cols)>0:\n",
    "    p=[]\n",
    "    C=X[cols]\n",
    "    xc=sm.add_constant(C)\n",
    "    model=sm.OLS(y,xc).fit()\n",
    "    p=pd.Series(model.pvalues.values[1:],index=cols)\n",
    "    pmax=max(p)\n",
    "    feature_with_p_max=p.idxmax()\n",
    "    if pmax>0.05:\n",
    "        cols.remove(feature_with_p_max)\n",
    "    else:\n",
    "        break\n",
    "        \n",
    "selected_cols=cols\n",
    "print(selected_cols)"
   ]
  },
  {
   "cell_type": "markdown",
   "metadata": {},
   "source": [
    "## Machine Learning Model"
   ]
  },
  {
   "cell_type": "code",
   "execution_count": 43,
   "metadata": {},
   "outputs": [],
   "source": [
    "X_final=df[cols]\n",
    "Y=df['score']"
   ]
  },
  {
   "cell_type": "code",
   "execution_count": 44,
   "metadata": {},
   "outputs": [],
   "source": [
    "from sklearn.linear_model import LinearRegression\n",
    "from sklearn.model_selection import train_test_split"
   ]
  },
  {
   "cell_type": "code",
   "execution_count": 45,
   "metadata": {},
   "outputs": [],
   "source": [
    "Xtrain,Xtest,ytrain,ytest=train_test_split(X_final,Y,test_size=0.3,random_state=0)"
   ]
  },
  {
   "cell_type": "code",
   "execution_count": 46,
   "metadata": {},
   "outputs": [],
   "source": [
    "LR=LinearRegression()\n",
    "LR.fit(Xtrain,ytrain)\n",
    "y_pred=LR.predict(Xtest)"
   ]
  },
  {
   "cell_type": "code",
   "execution_count": 47,
   "metadata": {},
   "outputs": [
    {
     "data": {
      "text/plain": [
       "0.9354918647024765"
      ]
     },
     "execution_count": 47,
     "metadata": {},
     "output_type": "execute_result"
    }
   ],
   "source": [
    "from sklearn.metrics import mean_squared_error as mse\n",
    "rmse=np.sqrt(mse(ytest,y_pred))\n",
    "rmse"
   ]
  },
  {
   "cell_type": "code",
   "execution_count": null,
   "metadata": {},
   "outputs": [],
   "source": []
  }
 ],
 "metadata": {
  "kernelspec": {
   "display_name": "Python 3",
   "language": "python",
   "name": "python3"
  },
  "language_info": {
   "codemirror_mode": {
    "name": "ipython",
    "version": 3
   },
   "file_extension": ".py",
   "mimetype": "text/x-python",
   "name": "python",
   "nbconvert_exporter": "python",
   "pygments_lexer": "ipython3",
   "version": "3.7.6"
  }
 },
 "nbformat": 4,
 "nbformat_minor": 2
}
